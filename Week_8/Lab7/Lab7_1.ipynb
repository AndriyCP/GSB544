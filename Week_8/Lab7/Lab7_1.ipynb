{
 "cells": [
  {
   "cell_type": "raw",
   "metadata": {},
   "source": [
    "---\n",
    "title: \"544: Lab 7\"\n",
    "author: \"Andriy Uspishnyi\"\n",
    "output:\n",
    "  html_document:\n",
    "    theme: \"cosmo\" \n",
    "embed-resources: true\n",
    "---"
   ]
  },
  {
   "cell_type": "markdown",
   "metadata": {},
   "source": [
    "# GSB 544: Lab 7"
   ]
  },
  {
   "cell_type": "code",
   "execution_count": 350,
   "metadata": {
    "vscode": {
     "languageId": "python"
    }
   },
   "outputs": [],
   "source": [
    "import pandas as pd\n",
    "import numpy as np\n",
    "from sklearn.pipeline import Pipeline\n",
    "from sklearn.discriminant_analysis import LinearDiscriminantAnalysis\n",
    "from sklearn.svm import SVC\n",
    "from sklearn.compose import make_column_selector, ColumnTransformer\n",
    "from sklearn.preprocessing import StandardScaler, OneHotEncoder, PolynomialFeatures\n",
    "from sklearn.linear_model import LinearRegression, Ridge, Lasso, ElasticNet, LogisticRegression\n",
    "from sklearn.neighbors import KNeighborsClassifier, KNeighborsRegressor\n",
    "from sklearn.tree import DecisionTreeClassifier, DecisionTreeRegressor, plot_tree\n",
    "from sklearn.model_selection import train_test_split, StratifiedKFold, GridSearchCV, cross_val_score, cross_val_predict\n",
    "from sklearn.metrics import confusion_matrix, accuracy_score, classification_report, roc_auc_score, roc_curve, ConfusionMatrixDisplay, r2_score, mean_squared_error, recall_score, precision_score, cohen_kappa_score\n",
    "from plotnine import *"
   ]
  },
  {
   "cell_type": "code",
   "execution_count": 171,
   "metadata": {
    "vscode": {
     "languageId": "python"
    }
   },
   "outputs": [],
   "source": [
    "ha = pd.read_csv(\"https://www.dropbox.com/s/aohbr6yb9ifmc8w/heart_attack.csv?dl=1\")"
   ]
  },
  {
   "cell_type": "code",
   "execution_count": 172,
   "metadata": {
    "vscode": {
     "languageId": "python"
    }
   },
   "outputs": [],
   "source": [
    "ha = ha.dropna()"
   ]
  },
  {
   "cell_type": "code",
   "execution_count": 173,
   "metadata": {
    "vscode": {
     "languageId": "python"
    }
   },
   "outputs": [
    {
     "data": {
      "text/html": [
       "<div>\n",
       "<style scoped>\n",
       "    .dataframe tbody tr th:only-of-type {\n",
       "        vertical-align: middle;\n",
       "    }\n",
       "\n",
       "    .dataframe tbody tr th {\n",
       "        vertical-align: top;\n",
       "    }\n",
       "\n",
       "    .dataframe thead th {\n",
       "        text-align: right;\n",
       "    }\n",
       "</style>\n",
       "<table border=\"1\" class=\"dataframe\">\n",
       "  <thead>\n",
       "    <tr style=\"text-align: right;\">\n",
       "      <th></th>\n",
       "      <th>age</th>\n",
       "      <th>sex</th>\n",
       "      <th>cp</th>\n",
       "      <th>trtbps</th>\n",
       "      <th>chol</th>\n",
       "      <th>restecg</th>\n",
       "      <th>thalach</th>\n",
       "      <th>output</th>\n",
       "    </tr>\n",
       "  </thead>\n",
       "  <tbody>\n",
       "    <tr>\n",
       "      <th>0</th>\n",
       "      <td>63</td>\n",
       "      <td>1</td>\n",
       "      <td>3</td>\n",
       "      <td>145</td>\n",
       "      <td>233</td>\n",
       "      <td>0</td>\n",
       "      <td>150</td>\n",
       "      <td>1</td>\n",
       "    </tr>\n",
       "    <tr>\n",
       "      <th>1</th>\n",
       "      <td>37</td>\n",
       "      <td>1</td>\n",
       "      <td>2</td>\n",
       "      <td>130</td>\n",
       "      <td>250</td>\n",
       "      <td>1</td>\n",
       "      <td>187</td>\n",
       "      <td>1</td>\n",
       "    </tr>\n",
       "    <tr>\n",
       "      <th>2</th>\n",
       "      <td>56</td>\n",
       "      <td>1</td>\n",
       "      <td>1</td>\n",
       "      <td>120</td>\n",
       "      <td>236</td>\n",
       "      <td>1</td>\n",
       "      <td>178</td>\n",
       "      <td>1</td>\n",
       "    </tr>\n",
       "    <tr>\n",
       "      <th>3</th>\n",
       "      <td>57</td>\n",
       "      <td>0</td>\n",
       "      <td>0</td>\n",
       "      <td>120</td>\n",
       "      <td>354</td>\n",
       "      <td>1</td>\n",
       "      <td>163</td>\n",
       "      <td>1</td>\n",
       "    </tr>\n",
       "    <tr>\n",
       "      <th>4</th>\n",
       "      <td>57</td>\n",
       "      <td>1</td>\n",
       "      <td>0</td>\n",
       "      <td>140</td>\n",
       "      <td>192</td>\n",
       "      <td>1</td>\n",
       "      <td>148</td>\n",
       "      <td>1</td>\n",
       "    </tr>\n",
       "  </tbody>\n",
       "</table>\n",
       "</div>"
      ],
      "text/plain": [
       "   age  sex  cp  trtbps  chol  restecg  thalach  output\n",
       "0   63    1   3     145   233        0      150       1\n",
       "1   37    1   2     130   250        1      187       1\n",
       "2   56    1   1     120   236        1      178       1\n",
       "3   57    0   0     120   354        1      163       1\n",
       "4   57    1   0     140   192        1      148       1"
      ]
     },
     "execution_count": null,
     "metadata": {},
     "output_type": "execute_result"
    }
   ],
   "source": [
    "ha.head()"
   ]
  },
  {
   "cell_type": "code",
   "execution_count": 174,
   "metadata": {
    "vscode": {
     "languageId": "python"
    }
   },
   "outputs": [
    {
     "data": {
      "text/html": [
       "<div>\n",
       "<style scoped>\n",
       "    .dataframe tbody tr th:only-of-type {\n",
       "        vertical-align: middle;\n",
       "    }\n",
       "\n",
       "    .dataframe tbody tr th {\n",
       "        vertical-align: top;\n",
       "    }\n",
       "\n",
       "    .dataframe thead th {\n",
       "        text-align: right;\n",
       "    }\n",
       "</style>\n",
       "<table border=\"1\" class=\"dataframe\">\n",
       "  <thead>\n",
       "    <tr style=\"text-align: right;\">\n",
       "      <th></th>\n",
       "      <th>age</th>\n",
       "      <th>sex</th>\n",
       "      <th>cp</th>\n",
       "      <th>trtbps</th>\n",
       "      <th>chol</th>\n",
       "      <th>restecg</th>\n",
       "      <th>thalach</th>\n",
       "      <th>output</th>\n",
       "    </tr>\n",
       "  </thead>\n",
       "  <tbody>\n",
       "    <tr>\n",
       "      <th>count</th>\n",
       "      <td>273.000000</td>\n",
       "      <td>273.000000</td>\n",
       "      <td>273.000000</td>\n",
       "      <td>273.000000</td>\n",
       "      <td>273.000000</td>\n",
       "      <td>273.000000</td>\n",
       "      <td>273.000000</td>\n",
       "      <td>273.000000</td>\n",
       "    </tr>\n",
       "    <tr>\n",
       "      <th>mean</th>\n",
       "      <td>54.347985</td>\n",
       "      <td>0.673993</td>\n",
       "      <td>0.974359</td>\n",
       "      <td>132.098901</td>\n",
       "      <td>246.860806</td>\n",
       "      <td>0.538462</td>\n",
       "      <td>149.446886</td>\n",
       "      <td>0.534799</td>\n",
       "    </tr>\n",
       "    <tr>\n",
       "      <th>std</th>\n",
       "      <td>9.163134</td>\n",
       "      <td>0.469611</td>\n",
       "      <td>1.030456</td>\n",
       "      <td>17.700358</td>\n",
       "      <td>52.569726</td>\n",
       "      <td>0.528059</td>\n",
       "      <td>23.240707</td>\n",
       "      <td>0.499704</td>\n",
       "    </tr>\n",
       "    <tr>\n",
       "      <th>min</th>\n",
       "      <td>29.000000</td>\n",
       "      <td>0.000000</td>\n",
       "      <td>0.000000</td>\n",
       "      <td>94.000000</td>\n",
       "      <td>126.000000</td>\n",
       "      <td>0.000000</td>\n",
       "      <td>71.000000</td>\n",
       "      <td>0.000000</td>\n",
       "    </tr>\n",
       "    <tr>\n",
       "      <th>25%</th>\n",
       "      <td>47.000000</td>\n",
       "      <td>0.000000</td>\n",
       "      <td>0.000000</td>\n",
       "      <td>120.000000</td>\n",
       "      <td>211.000000</td>\n",
       "      <td>0.000000</td>\n",
       "      <td>133.000000</td>\n",
       "      <td>0.000000</td>\n",
       "    </tr>\n",
       "    <tr>\n",
       "      <th>50%</th>\n",
       "      <td>56.000000</td>\n",
       "      <td>1.000000</td>\n",
       "      <td>1.000000</td>\n",
       "      <td>130.000000</td>\n",
       "      <td>240.000000</td>\n",
       "      <td>1.000000</td>\n",
       "      <td>152.000000</td>\n",
       "      <td>1.000000</td>\n",
       "    </tr>\n",
       "    <tr>\n",
       "      <th>75%</th>\n",
       "      <td>61.000000</td>\n",
       "      <td>1.000000</td>\n",
       "      <td>2.000000</td>\n",
       "      <td>140.000000</td>\n",
       "      <td>275.000000</td>\n",
       "      <td>1.000000</td>\n",
       "      <td>166.000000</td>\n",
       "      <td>1.000000</td>\n",
       "    </tr>\n",
       "    <tr>\n",
       "      <th>max</th>\n",
       "      <td>77.000000</td>\n",
       "      <td>1.000000</td>\n",
       "      <td>3.000000</td>\n",
       "      <td>200.000000</td>\n",
       "      <td>564.000000</td>\n",
       "      <td>2.000000</td>\n",
       "      <td>202.000000</td>\n",
       "      <td>1.000000</td>\n",
       "    </tr>\n",
       "  </tbody>\n",
       "</table>\n",
       "</div>"
      ],
      "text/plain": [
       "              age         sex          cp      trtbps        chol     restecg     thalach      output\n",
       "count  273.000000  273.000000  273.000000  273.000000  273.000000  273.000000  273.000000  273.000000\n",
       "mean    54.347985    0.673993    0.974359  132.098901  246.860806    0.538462  149.446886    0.534799\n",
       "std      9.163134    0.469611    1.030456   17.700358   52.569726    0.528059   23.240707    0.499704\n",
       "min     29.000000    0.000000    0.000000   94.000000  126.000000    0.000000   71.000000    0.000000\n",
       "25%     47.000000    0.000000    0.000000  120.000000  211.000000    0.000000  133.000000    0.000000\n",
       "50%     56.000000    1.000000    1.000000  130.000000  240.000000    1.000000  152.000000    1.000000\n",
       "75%     61.000000    1.000000    2.000000  140.000000  275.000000    1.000000  166.000000    1.000000\n",
       "max     77.000000    1.000000    3.000000  200.000000  564.000000    2.000000  202.000000    1.000000"
      ]
     },
     "execution_count": null,
     "metadata": {},
     "output_type": "execute_result"
    }
   ],
   "source": [
    "ha.describe()"
   ]
  },
  {
   "cell_type": "code",
   "execution_count": 175,
   "metadata": {
    "vscode": {
     "languageId": "python"
    }
   },
   "outputs": [
    {
     "data": {
      "text/plain": [
       "<bound method DataFrame.info of      age  sex  cp  trtbps  chol  restecg  thalach  output\n",
       "0     63    1   3     145   233        0      150       1\n",
       "1     37    1   2     130   250        1      187       1\n",
       "2     56    1   1     120   236        1      178       1\n",
       "3     57    0   0     120   354        1      163       1\n",
       "4     57    1   0     140   192        1      148       1\n",
       "..   ...  ...  ..     ...   ...      ...      ...     ...\n",
       "268   59    1   0     164   176        0       90       0\n",
       "269   57    0   0     140   241        1      123       0\n",
       "270   45    1   3     110   264        1      132       0\n",
       "271   68    1   0     144   193        1      141       0\n",
       "272   57    0   1     130   236        0      174       0\n",
       "\n",
       "[273 rows x 8 columns]>"
      ]
     },
     "execution_count": null,
     "metadata": {},
     "output_type": "execute_result"
    }
   ],
   "source": [
    "ha.info"
   ]
  },
  {
   "cell_type": "markdown",
   "metadata": {},
   "source": [
    "Sex: Male = 1, Female = 0"
   ]
  },
  {
   "cell_type": "markdown",
   "metadata": {},
   "source": [
    "## Part One: Fitting Models"
   ]
  },
  {
   "cell_type": "markdown",
   "metadata": {},
   "source": [
    "### Variables selection - 'all available predictors'"
   ]
  },
  {
   "cell_type": "code",
   "execution_count": 351,
   "metadata": {
    "vscode": {
     "languageId": "python"
    }
   },
   "outputs": [],
   "source": [
    "X = ha.drop(columns='output')\n",
    "y = ha['output']"
   ]
  },
  {
   "cell_type": "markdown",
   "metadata": {},
   "source": [
    "### KNN 1"
   ]
  },
  {
   "cell_type": "code",
   "execution_count": 202,
   "metadata": {
    "vscode": {
     "languageId": "python"
    }
   },
   "outputs": [],
   "source": [
    "# KNN pipeline\n",
    "\n",
    "ct = ColumnTransformer(\n",
    "  [\n",
    "    (\"dummify\",\n",
    "    OneHotEncoder(sparse_output = False, handle_unknown='ignore', drop=\"first\"),\n",
    "    make_column_selector(dtype_include=object)),\n",
    "    (\"standardize\",\n",
    "    StandardScaler(),\n",
    "    make_column_selector(dtype_include=np.number))\n",
    "  ],\n",
    "  remainder = \"passthrough\"\n",
    ").set_output(transform=\"pandas\")\n",
    "\n",
    "knn_pipe = Pipeline(\n",
    "  [(\"preprocessing\", ct),\n",
    "  (\"knn\", KNeighborsClassifier())]\n",
    ").set_output(transform=\"pandas\")"
   ]
  },
  {
   "cell_type": "code",
   "execution_count": 203,
   "metadata": {
    "vscode": {
     "languageId": "python"
    }
   },
   "outputs": [],
   "source": [
    "# tunning parameters\n",
    "param_grid = {\n",
    "    'knn__n_neighbors': range(1, 60)\n",
    "}"
   ]
  },
  {
   "cell_type": "code",
   "execution_count": 204,
   "metadata": {
    "vscode": {
     "languageId": "python"
    }
   },
   "outputs": [
    {
     "name": "stdout",
     "output_type": "stream",
     "text": [
      "Best parameters:  {'knn__n_neighbors': 54}\n",
      "Best cross-validation score:  0.850684350132626\n",
      "Best parameters:  {'knn__n_neighbors': 54}\n",
      "Best cross-validation score:  0.850684350132626\n"
     ]
    }
   ],
   "source": [
    "gsvc = GridSearchCV(knn_pipe, param_grid, cv=5, scoring='roc_auc')\n",
    "gsvc.fit(X, y)\n",
    "\n",
    "print(\"Best parameters: \", gsvc.best_params_)\n",
    "print(\"Best cross-validation score: \", gsvc.best_score_)"
   ]
  },
  {
   "cell_type": "markdown",
   "metadata": {},
   "source": [
    "In this KNN model tuning based on ROC AUC score, n_neighbors = 54 yields the highest score of 0.85. In previous tuning with smaller ranges eg. 1-36, the best n=32 with a slightly lower 0.844 score. \n"
   ]
  },
  {
   "cell_type": "code",
   "execution_count": 205,
   "metadata": {
    "vscode": {
     "languageId": "python"
    }
   },
   "outputs": [
    {
     "name": "stdout",
     "output_type": "stream",
     "text": [
      "Accuracy score:  0.7728937728937729\n",
      "ROC AUC score:  0.7692266206450222\n",
      "Classification Report:\n",
      "               precision    recall  f1-score   support\n",
      "\n",
      "           0       0.78      0.72      0.75       127\n",
      "           1       0.77      0.82      0.79       146\n",
      "\n",
      "    accuracy                           0.77       273\n",
      "   macro avg       0.77      0.77      0.77       273\n",
      "weighted avg       0.77      0.77      0.77       273\n",
      "\n",
      "Accuracy score:  0.7728937728937729\n",
      "ROC AUC score:  0.7692266206450222\n",
      "Classification Report:\n",
      "               precision    recall  f1-score   support\n",
      "\n",
      "           0       0.78      0.72      0.75       127\n",
      "           1       0.77      0.82      0.79       146\n",
      "\n",
      "    accuracy                           0.77       273\n",
      "   macro avg       0.77      0.77      0.77       273\n",
      "weighted avg       0.77      0.77      0.77       273\n",
      "\n"
     ]
    }
   ],
   "source": [
    "# y_pred with best knn cross_val_predict\n",
    "best_knn = gsvc.best_estimator_\n",
    "y_pred = cross_val_predict(best_knn, X, y, cv=5)\n",
    "cm_best_knn = confusion_matrix(y, y_pred)\n",
    "\n",
    "y_pred1_knn = cross_val_predict(best_knn, X, y, cv=5)\n",
    "\n",
    "# scores\n",
    "print(\"Accuracy score: \", accuracy_score(y, y_pred))\n",
    "print(\"ROC AUC score: \", roc_auc_score(y, y_pred))\n",
    "print(\"Classification Report:\\n\", classification_report(y, y_pred))"
   ]
  },
  {
   "cell_type": "code",
   "execution_count": 206,
   "metadata": {
    "vscode": {
     "languageId": "python"
    }
   },
   "outputs": [
    {
     "data": {
      "text/plain": [
       "<sklearn.metrics._plot.confusion_matrix.ConfusionMatrixDisplay at 0x16e577ce0>"
      ]
     },
     "execution_count": null,
     "metadata": {},
     "output_type": "execute_result"
    },
    {
     "data": {
      "image/png": "[encoded data removed]",
      "text/plain": [
       "<Figure size 640x480 with 2 Axes>"
      ]
     },
     "metadata": {},
     "output_type": "display_data"
    }
   ],
   "source": [
    "# Best KNN confustion matrix\n",
    "\n",
    "labels = ha['output'].unique()\n",
    "ConfusionMatrixDisplay(cm_best_knn, display_labels = labels).plot()"
   ]
  },
  {
   "cell_type": "code",
   "execution_count": 265,
   "metadata": {
    "vscode": {
     "languageId": "python"
    }
   },
   "outputs": [
    {
     "data": {
      "text/plain": [
       "0.850684350132626"
      ]
     },
     "execution_count": null,
     "metadata": {},
     "output_type": "execute_result"
    }
   ],
   "source": [
    "# cross-validated roc auc\n",
    "knn_rocauc = cross_val_score(best_knn, X, y, cv=5, scoring=\"roc_auc\")\n",
    "knn_rocauc.mean()"
   ]
  },
  {
   "cell_type": "code",
   "execution_count": 266,
   "metadata": {
    "vscode": {
     "languageId": "python"
    }
   },
   "outputs": [
    {
     "data": {
      "text/plain": [
       "0.7725925925925925"
      ]
     },
     "execution_count": null,
     "metadata": {},
     "output_type": "execute_result"
    }
   ],
   "source": [
    "# cross-validated accuracy\n",
    "knn_acc = cross_val_score(best_knn, X, y, cv=5, scoring=\"accuracy\")\n",
    "knn_acc.mean()"
   ]
  },
  {
   "cell_type": "code",
   "execution_count": 267,
   "metadata": {
    "vscode": {
     "languageId": "python"
    }
   },
   "outputs": [
    {
     "data": {
      "text/plain": [
       "0.8213793103448277"
      ]
     },
     "execution_count": null,
     "metadata": {},
     "output_type": "execute_result"
    }
   ],
   "source": [
    "# tpr - recall\n",
    "knn_tpr = cross_val_score(best_knn, X, y, cv=5, scoring=\"recall\")\n",
    "knn_tpr.mean()"
   ]
  },
  {
   "cell_type": "code",
   "execution_count": 268,
   "metadata": {
    "vscode": {
     "languageId": "python"
    }
   },
   "outputs": [
    {
     "data": {
      "text/plain": [
       "0.7697703633424695"
      ]
     },
     "execution_count": null,
     "metadata": {},
     "output_type": "execute_result"
    }
   ],
   "source": [
    "# ppv - precision\n",
    "knn_ppv = cross_val_score(best_knn, X, y, cv=5, scoring=\"precision\")\n",
    "knn_ppv.mean()"
   ]
  },
  {
   "cell_type": "code",
   "execution_count": 303,
   "metadata": {
    "vscode": {
     "languageId": "python"
    }
   },
   "outputs": [
    {
     "data": {
      "text/plain": [
       "0.821917808219178"
      ]
     },
     "execution_count": null,
     "metadata": {},
     "output_type": "execute_result"
    }
   ],
   "source": [
    "# tnr - specificity\n",
    "knn_tn = cm_best_knn[1,1]\n",
    "knn_fp = cm_best_knn[1,0]\n",
    "knn_tnr = knn_tn / (knn_tn + knn_fp)\n",
    "knn_tnr"
   ]
  },
  {
   "cell_type": "code",
   "execution_count": 346,
   "metadata": {
    "vscode": {
     "languageId": "python"
    }
   },
   "outputs": [],
   "source": [
    "# store values for further comparison summary\n",
    "\n",
    "knn1_roc_auc = cross_val_score(best_knn, X, y, cv=5, scoring=\"roc_auc\").mean()\n",
    "knn1_precision = cross_val_score(best_knn, X, y, cv=5, scoring=\"precision\").mean()\n",
    "knn1_recall = cross_val_score(best_knn, X, y, cv=5, scoring=\"recall\").mean()"
   ]
  },
  {
   "cell_type": "markdown",
   "metadata": {},
   "source": [
    "### Logistic Regression 1"
   ]
  },
  {
   "cell_type": "code",
   "execution_count": 236,
   "metadata": {
    "vscode": {
     "languageId": "python"
    }
   },
   "outputs": [],
   "source": [
    "# LogReg pipe\n",
    "\n",
    "logreg_pipe = Pipeline([\n",
    "    ('preprocessing', ct),\n",
    "    ('logreg', LogisticRegression())\n",
    "]).set_output(transform=\"pandas\")"
   ]
  },
  {
   "cell_type": "code",
   "execution_count": 237,
   "metadata": {
    "vscode": {
     "languageId": "python"
    }
   },
   "outputs": [],
   "source": [
    "# tunning parameters # assisted by ChatGPT\n",
    "param_grid = {\n",
    "    'logreg__penalty': ['l1', 'l2', 'elasticnet'],  # Regularization type\n",
    "    'logreg__C': [0.01, 0.1, 1, 10, 100],          # Regularization strength\n",
    "    'logreg__solver': ['liblinear', 'saga'],       # Optimization algorithm\n",
    "    'logreg__l1_ratio': [0.5]                      # ElasticNet mixing (only for 'elasticnet')\n",
    "}"
   ]
  },
  {
   "cell_type": "code",
   "execution_count": 238,
   "metadata": {
    "vscode": {
     "languageId": "python"
    }
   },
   "outputs": [
    {
     "name": "stderr",
     "output_type": "stream",
     "text": [
      "/opt/anaconda3/lib/python3.12/site-packages/sklearn/linear_model/_logistic.py:1175: UserWarning: l1_ratio parameter is only used when penalty is 'elasticnet'. Got (penalty=l1)\n",
      "/opt/anaconda3/lib/python3.12/site-packages/sklearn/linear_model/_logistic.py:1175: UserWarning: l1_ratio parameter is only used when penalty is 'elasticnet'. Got (penalty=l1)\n",
      "/opt/anaconda3/lib/python3.12/site-packages/sklearn/linear_model/_logistic.py:1175: UserWarning: l1_ratio parameter is only used when penalty is 'elasticnet'. Got (penalty=l1)\n",
      "/opt/anaconda3/lib/python3.12/site-packages/sklearn/linear_model/_logistic.py:1175: UserWarning: l1_ratio parameter is only used when penalty is 'elasticnet'. Got (penalty=l1)\n",
      "/opt/anaconda3/lib/python3.12/site-packages/sklearn/linear_model/_logistic.py:1175: UserWarning: l1_ratio parameter is only used when penalty is 'elasticnet'. Got (penalty=l1)\n",
      "/opt/anaconda3/lib/python3.12/site-packages/sklearn/linear_model/_logistic.py:1175: UserWarning: l1_ratio parameter is only used when penalty is 'elasticnet'. Got (penalty=l1)\n",
      "/opt/anaconda3/lib/python3.12/site-packages/sklearn/linear_model/_logistic.py:1175: UserWarning: l1_ratio parameter is only used when penalty is 'elasticnet'. Got (penalty=l1)\n",
      "/opt/anaconda3/lib/python3.12/site-packages/sklearn/linear_model/_logistic.py:1175: UserWarning: l1_ratio parameter is only used when penalty is 'elasticnet'. Got (penalty=l1)\n",
      "/opt/anaconda3/lib/python3.12/site-packages/sklearn/linear_model/_logistic.py:1175: UserWarning: l1_ratio parameter is only used when penalty is 'elasticnet'. Got (penalty=l1)\n",
      "/opt/anaconda3/lib/python3.12/site-packages/sklearn/linear_model/_logistic.py:1175: UserWarning: l1_ratio parameter is only used when penalty is 'elasticnet'. Got (penalty=l1)\n",
      "/opt/anaconda3/lib/python3.12/site-packages/sklearn/linear_model/_logistic.py:1175: UserWarning: l1_ratio parameter is only used when penalty is 'elasticnet'. Got (penalty=l2)\n",
      "/opt/anaconda3/lib/python3.12/site-packages/sklearn/linear_model/_logistic.py:1175: UserWarning: l1_ratio parameter is only used when penalty is 'elasticnet'. Got (penalty=l2)\n",
      "/opt/anaconda3/lib/python3.12/site-packages/sklearn/linear_model/_logistic.py:1175: UserWarning: l1_ratio parameter is only used when penalty is 'elasticnet'. Got (penalty=l2)\n",
      "/opt/anaconda3/lib/python3.12/site-packages/sklearn/linear_model/_logistic.py:1175: UserWarning: l1_ratio parameter is only used when penalty is 'elasticnet'. Got (penalty=l2)\n",
      "/opt/anaconda3/lib/python3.12/site-packages/sklearn/linear_model/_logistic.py:1175: UserWarning: l1_ratio parameter is only used when penalty is 'elasticnet'. Got (penalty=l2)\n",
      "/opt/anaconda3/lib/python3.12/site-packages/sklearn/linear_model/_logistic.py:1175: UserWarning: l1_ratio parameter is only used when penalty is 'elasticnet'. Got (penalty=l2)\n",
      "/opt/anaconda3/lib/python3.12/site-packages/sklearn/linear_model/_logistic.py:1175: UserWarning: l1_ratio parameter is only used when penalty is 'elasticnet'. Got (penalty=l2)\n",
      "/opt/anaconda3/lib/python3.12/site-packages/sklearn/linear_model/_logistic.py:1175: UserWarning: l1_ratio parameter is only used when penalty is 'elasticnet'. Got (penalty=l2)\n",
      "/opt/anaconda3/lib/python3.12/site-packages/sklearn/linear_model/_logistic.py:1175: UserWarning: l1_ratio parameter is only used when penalty is 'elasticnet'. Got (penalty=l2)\n",
      "/opt/anaconda3/lib/python3.12/site-packages/sklearn/linear_model/_logistic.py:1175: UserWarning: l1_ratio parameter is only used when penalty is 'elasticnet'. Got (penalty=l2)\n",
      "/opt/anaconda3/lib/python3.12/site-packages/sklearn/linear_model/_logistic.py:1175: UserWarning: l1_ratio parameter is only used when penalty is 'elasticnet'. Got (penalty=l1)\n",
      "/opt/anaconda3/lib/python3.12/site-packages/sklearn/linear_model/_logistic.py:1175: UserWarning: l1_ratio parameter is only used when penalty is 'elasticnet'. Got (penalty=l1)\n",
      "/opt/anaconda3/lib/python3.12/site-packages/sklearn/linear_model/_logistic.py:1175: UserWarning: l1_ratio parameter is only used when penalty is 'elasticnet'. Got (penalty=l1)\n",
      "/opt/anaconda3/lib/python3.12/site-packages/sklearn/linear_model/_logistic.py:1175: UserWarning: l1_ratio parameter is only used when penalty is 'elasticnet'. Got (penalty=l1)\n",
      "/opt/anaconda3/lib/python3.12/site-packages/sklearn/linear_model/_logistic.py:1175: UserWarning: l1_ratio parameter is only used when penalty is 'elasticnet'. Got (penalty=l1)\n",
      "/opt/anaconda3/lib/python3.12/site-packages/sklearn/linear_model/_logistic.py:1175: UserWarning: l1_ratio parameter is only used when penalty is 'elasticnet'. Got (penalty=l1)\n",
      "/opt/anaconda3/lib/python3.12/site-packages/sklearn/linear_model/_logistic.py:1175: UserWarning: l1_ratio parameter is only used when penalty is 'elasticnet'. Got (penalty=l1)\n",
      "/opt/anaconda3/lib/python3.12/site-packages/sklearn/linear_model/_logistic.py:1175: UserWarning: l1_ratio parameter is only used when penalty is 'elasticnet'. Got (penalty=l1)\n",
      "/opt/anaconda3/lib/python3.12/site-packages/sklearn/linear_model/_logistic.py:1175: UserWarning: l1_ratio parameter is only used when penalty is 'elasticnet'. Got (penalty=l1)\n",
      "/opt/anaconda3/lib/python3.12/site-packages/sklearn/linear_model/_logistic.py:1175: UserWarning: l1_ratio parameter is only used when penalty is 'elasticnet'. Got (penalty=l1)\n",
      "/opt/anaconda3/lib/python3.12/site-packages/sklearn/linear_model/_logistic.py:1175: UserWarning: l1_ratio parameter is only used when penalty is 'elasticnet'. Got (penalty=l2)\n",
      "/opt/anaconda3/lib/python3.12/site-packages/sklearn/linear_model/_logistic.py:1175: UserWarning: l1_ratio parameter is only used when penalty is 'elasticnet'. Got (penalty=l2)\n",
      "/opt/anaconda3/lib/python3.12/site-packages/sklearn/linear_model/_logistic.py:1175: UserWarning: l1_ratio parameter is only used when penalty is 'elasticnet'. Got (penalty=l2)\n",
      "/opt/anaconda3/lib/python3.12/site-packages/sklearn/linear_model/_logistic.py:1175: UserWarning: l1_ratio parameter is only used when penalty is 'elasticnet'. Got (penalty=l2)\n",
      "/opt/anaconda3/lib/python3.12/site-packages/sklearn/linear_model/_logistic.py:1175: UserWarning: l1_ratio parameter is only used when penalty is 'elasticnet'. Got (penalty=l2)\n",
      "/opt/anaconda3/lib/python3.12/site-packages/sklearn/linear_model/_logistic.py:1175: UserWarning: l1_ratio parameter is only used when penalty is 'elasticnet'. Got (penalty=l2)\n",
      "/opt/anaconda3/lib/python3.12/site-packages/sklearn/linear_model/_logistic.py:1175: UserWarning: l1_ratio parameter is only used when penalty is 'elasticnet'. Got (penalty=l2)\n",
      "/opt/anaconda3/lib/python3.12/site-packages/sklearn/linear_model/_logistic.py:1175: UserWarning: l1_ratio parameter is only used when penalty is 'elasticnet'. Got (penalty=l2)\n",
      "/opt/anaconda3/lib/python3.12/site-packages/sklearn/linear_model/_logistic.py:1175: UserWarning: l1_ratio parameter is only used when penalty is 'elasticnet'. Got (penalty=l2)\n",
      "/opt/anaconda3/lib/python3.12/site-packages/sklearn/linear_model/_logistic.py:1175: UserWarning: l1_ratio parameter is only used when penalty is 'elasticnet'. Got (penalty=l2)\n",
      "/opt/anaconda3/lib/python3.12/site-packages/sklearn/linear_model/_logistic.py:1175: UserWarning: l1_ratio parameter is only used when penalty is 'elasticnet'. Got (penalty=l1)\n",
      "/opt/anaconda3/lib/python3.12/site-packages/sklearn/linear_model/_logistic.py:1175: UserWarning: l1_ratio parameter is only used when penalty is 'elasticnet'. Got (penalty=l1)\n",
      "/opt/anaconda3/lib/python3.12/site-packages/sklearn/linear_model/_logistic.py:1175: UserWarning: l1_ratio parameter is only used when penalty is 'elasticnet'. Got (penalty=l1)\n",
      "/opt/anaconda3/lib/python3.12/site-packages/sklearn/linear_model/_logistic.py:1175: UserWarning: l1_ratio parameter is only used when penalty is 'elasticnet'. Got (penalty=l1)\n",
      "/opt/anaconda3/lib/python3.12/site-packages/sklearn/linear_model/_logistic.py:1175: UserWarning: l1_ratio parameter is only used when penalty is 'elasticnet'. Got (penalty=l1)\n",
      "/opt/anaconda3/lib/python3.12/site-packages/sklearn/linear_model/_logistic.py:1175: UserWarning: l1_ratio parameter is only used when penalty is 'elasticnet'. Got (penalty=l1)\n",
      "/opt/anaconda3/lib/python3.12/site-packages/sklearn/linear_model/_logistic.py:1175: UserWarning: l1_ratio parameter is only used when penalty is 'elasticnet'. Got (penalty=l1)\n",
      "/opt/anaconda3/lib/python3.12/site-packages/sklearn/linear_model/_logistic.py:1175: UserWarning: l1_ratio parameter is only used when penalty is 'elasticnet'. Got (penalty=l1)\n",
      "/opt/anaconda3/lib/python3.12/site-packages/sklearn/linear_model/_logistic.py:1175: UserWarning: l1_ratio parameter is only used when penalty is 'elasticnet'. Got (penalty=l1)\n",
      "/opt/anaconda3/lib/python3.12/site-packages/sklearn/linear_model/_logistic.py:1175: UserWarning: l1_ratio parameter is only used when penalty is 'elasticnet'. Got (penalty=l1)\n",
      "/opt/anaconda3/lib/python3.12/site-packages/sklearn/linear_model/_logistic.py:1175: UserWarning: l1_ratio parameter is only used when penalty is 'elasticnet'. Got (penalty=l2)\n",
      "/opt/anaconda3/lib/python3.12/site-packages/sklearn/linear_model/_logistic.py:1175: UserWarning: l1_ratio parameter is only used when penalty is 'elasticnet'. Got (penalty=l2)\n",
      "/opt/anaconda3/lib/python3.12/site-packages/sklearn/linear_model/_logistic.py:1175: UserWarning: l1_ratio parameter is only used when penalty is 'elasticnet'. Got (penalty=l2)\n",
      "/opt/anaconda3/lib/python3.12/site-packages/sklearn/linear_model/_logistic.py:1175: UserWarning: l1_ratio parameter is only used when penalty is 'elasticnet'. Got (penalty=l2)\n",
      "/opt/anaconda3/lib/python3.12/site-packages/sklearn/linear_model/_logistic.py:1175: UserWarning: l1_ratio parameter is only used when penalty is 'elasticnet'. Got (penalty=l2)\n",
      "/opt/anaconda3/lib/python3.12/site-packages/sklearn/linear_model/_logistic.py:1175: UserWarning: l1_ratio parameter is only used when penalty is 'elasticnet'. Got (penalty=l2)\n",
      "/opt/anaconda3/lib/python3.12/site-packages/sklearn/linear_model/_logistic.py:1175: UserWarning: l1_ratio parameter is only used when penalty is 'elasticnet'. Got (penalty=l2)\n",
      "/opt/anaconda3/lib/python3.12/site-packages/sklearn/linear_model/_logistic.py:1175: UserWarning: l1_ratio parameter is only used when penalty is 'elasticnet'. Got (penalty=l2)\n",
      "/opt/anaconda3/lib/python3.12/site-packages/sklearn/linear_model/_logistic.py:1175: UserWarning: l1_ratio parameter is only used when penalty is 'elasticnet'. Got (penalty=l2)\n",
      "/opt/anaconda3/lib/python3.12/site-packages/sklearn/linear_model/_logistic.py:1175: UserWarning: l1_ratio parameter is only used when penalty is 'elasticnet'. Got (penalty=l2)\n"
     ]
    },
    {
     "name": "stdout",
     "output_type": "stream",
     "text": [
      "Best parameters:  {'logreg__C': 1, 'logreg__l1_ratio': 0.5, 'logreg__penalty': 'l1', 'logreg__solver': 'liblinear'}\n",
      "Best cross-validation score:  0.8562518125552607\n",
      "Best parameters:  {'logreg__C': 1, 'logreg__l1_ratio': 0.5, 'logreg__penalty': 'l1', 'logreg__solver': 'liblinear'}\n",
      "Best cross-validation score:  0.8562518125552607\n"
     ]
    },
    {
     "name": "stderr",
     "output_type": "stream",
     "text": [
      "/opt/anaconda3/lib/python3.12/site-packages/sklearn/linear_model/_logistic.py:1175: UserWarning: l1_ratio parameter is only used when penalty is 'elasticnet'. Got (penalty=l1)\n",
      "/opt/anaconda3/lib/python3.12/site-packages/sklearn/linear_model/_logistic.py:1175: UserWarning: l1_ratio parameter is only used when penalty is 'elasticnet'. Got (penalty=l1)\n",
      "/opt/anaconda3/lib/python3.12/site-packages/sklearn/linear_model/_logistic.py:1175: UserWarning: l1_ratio parameter is only used when penalty is 'elasticnet'. Got (penalty=l1)\n",
      "/opt/anaconda3/lib/python3.12/site-packages/sklearn/linear_model/_logistic.py:1175: UserWarning: l1_ratio parameter is only used when penalty is 'elasticnet'. Got (penalty=l1)\n",
      "/opt/anaconda3/lib/python3.12/site-packages/sklearn/linear_model/_logistic.py:1175: UserWarning: l1_ratio parameter is only used when penalty is 'elasticnet'. Got (penalty=l1)\n",
      "/opt/anaconda3/lib/python3.12/site-packages/sklearn/linear_model/_logistic.py:1175: UserWarning: l1_ratio parameter is only used when penalty is 'elasticnet'. Got (penalty=l1)\n",
      "/opt/anaconda3/lib/python3.12/site-packages/sklearn/linear_model/_logistic.py:1175: UserWarning: l1_ratio parameter is only used when penalty is 'elasticnet'. Got (penalty=l1)\n",
      "/opt/anaconda3/lib/python3.12/site-packages/sklearn/linear_model/_logistic.py:1175: UserWarning: l1_ratio parameter is only used when penalty is 'elasticnet'. Got (penalty=l1)\n",
      "/opt/anaconda3/lib/python3.12/site-packages/sklearn/linear_model/_logistic.py:1175: UserWarning: l1_ratio parameter is only used when penalty is 'elasticnet'. Got (penalty=l1)\n",
      "/opt/anaconda3/lib/python3.12/site-packages/sklearn/linear_model/_logistic.py:1175: UserWarning: l1_ratio parameter is only used when penalty is 'elasticnet'. Got (penalty=l1)\n",
      "/opt/anaconda3/lib/python3.12/site-packages/sklearn/linear_model/_logistic.py:1175: UserWarning: l1_ratio parameter is only used when penalty is 'elasticnet'. Got (penalty=l2)\n",
      "/opt/anaconda3/lib/python3.12/site-packages/sklearn/linear_model/_logistic.py:1175: UserWarning: l1_ratio parameter is only used when penalty is 'elasticnet'. Got (penalty=l2)\n",
      "/opt/anaconda3/lib/python3.12/site-packages/sklearn/linear_model/_logistic.py:1175: UserWarning: l1_ratio parameter is only used when penalty is 'elasticnet'. Got (penalty=l2)\n",
      "/opt/anaconda3/lib/python3.12/site-packages/sklearn/linear_model/_logistic.py:1175: UserWarning: l1_ratio parameter is only used when penalty is 'elasticnet'. Got (penalty=l2)\n",
      "/opt/anaconda3/lib/python3.12/site-packages/sklearn/linear_model/_logistic.py:1175: UserWarning: l1_ratio parameter is only used when penalty is 'elasticnet'. Got (penalty=l2)\n",
      "/opt/anaconda3/lib/python3.12/site-packages/sklearn/linear_model/_logistic.py:1175: UserWarning: l1_ratio parameter is only used when penalty is 'elasticnet'. Got (penalty=l2)\n",
      "/opt/anaconda3/lib/python3.12/site-packages/sklearn/linear_model/_logistic.py:1175: UserWarning: l1_ratio parameter is only used when penalty is 'elasticnet'. Got (penalty=l2)\n",
      "/opt/anaconda3/lib/python3.12/site-packages/sklearn/linear_model/_logistic.py:1175: UserWarning: l1_ratio parameter is only used when penalty is 'elasticnet'. Got (penalty=l2)\n",
      "/opt/anaconda3/lib/python3.12/site-packages/sklearn/linear_model/_logistic.py:1175: UserWarning: l1_ratio parameter is only used when penalty is 'elasticnet'. Got (penalty=l2)\n",
      "/opt/anaconda3/lib/python3.12/site-packages/sklearn/linear_model/_logistic.py:1175: UserWarning: l1_ratio parameter is only used when penalty is 'elasticnet'. Got (penalty=l2)\n",
      "/opt/anaconda3/lib/python3.12/site-packages/sklearn/linear_model/_logistic.py:1175: UserWarning: l1_ratio parameter is only used when penalty is 'elasticnet'. Got (penalty=l1)\n",
      "/opt/anaconda3/lib/python3.12/site-packages/sklearn/linear_model/_logistic.py:1175: UserWarning: l1_ratio parameter is only used when penalty is 'elasticnet'. Got (penalty=l1)\n",
      "/opt/anaconda3/lib/python3.12/site-packages/sklearn/linear_model/_logistic.py:1175: UserWarning: l1_ratio parameter is only used when penalty is 'elasticnet'. Got (penalty=l1)\n",
      "/opt/anaconda3/lib/python3.12/site-packages/sklearn/linear_model/_logistic.py:1175: UserWarning: l1_ratio parameter is only used when penalty is 'elasticnet'. Got (penalty=l1)\n",
      "/opt/anaconda3/lib/python3.12/site-packages/sklearn/linear_model/_logistic.py:1175: UserWarning: l1_ratio parameter is only used when penalty is 'elasticnet'. Got (penalty=l1)\n",
      "/opt/anaconda3/lib/python3.12/site-packages/sklearn/linear_model/_logistic.py:1175: UserWarning: l1_ratio parameter is only used when penalty is 'elasticnet'. Got (penalty=l1)\n",
      "/opt/anaconda3/lib/python3.12/site-packages/sklearn/linear_model/_logistic.py:1175: UserWarning: l1_ratio parameter is only used when penalty is 'elasticnet'. Got (penalty=l1)\n",
      "/opt/anaconda3/lib/python3.12/site-packages/sklearn/linear_model/_logistic.py:1175: UserWarning: l1_ratio parameter is only used when penalty is 'elasticnet'. Got (penalty=l1)\n",
      "/opt/anaconda3/lib/python3.12/site-packages/sklearn/linear_model/_logistic.py:1175: UserWarning: l1_ratio parameter is only used when penalty is 'elasticnet'. Got (penalty=l1)\n",
      "/opt/anaconda3/lib/python3.12/site-packages/sklearn/linear_model/_logistic.py:1175: UserWarning: l1_ratio parameter is only used when penalty is 'elasticnet'. Got (penalty=l1)\n",
      "/opt/anaconda3/lib/python3.12/site-packages/sklearn/linear_model/_logistic.py:1175: UserWarning: l1_ratio parameter is only used when penalty is 'elasticnet'. Got (penalty=l2)\n",
      "/opt/anaconda3/lib/python3.12/site-packages/sklearn/linear_model/_logistic.py:1175: UserWarning: l1_ratio parameter is only used when penalty is 'elasticnet'. Got (penalty=l2)\n",
      "/opt/anaconda3/lib/python3.12/site-packages/sklearn/linear_model/_logistic.py:1175: UserWarning: l1_ratio parameter is only used when penalty is 'elasticnet'. Got (penalty=l2)\n",
      "/opt/anaconda3/lib/python3.12/site-packages/sklearn/linear_model/_logistic.py:1175: UserWarning: l1_ratio parameter is only used when penalty is 'elasticnet'. Got (penalty=l2)\n",
      "/opt/anaconda3/lib/python3.12/site-packages/sklearn/linear_model/_logistic.py:1175: UserWarning: l1_ratio parameter is only used when penalty is 'elasticnet'. Got (penalty=l2)\n",
      "/opt/anaconda3/lib/python3.12/site-packages/sklearn/linear_model/_logistic.py:1175: UserWarning: l1_ratio parameter is only used when penalty is 'elasticnet'. Got (penalty=l2)\n",
      "/opt/anaconda3/lib/python3.12/site-packages/sklearn/linear_model/_logistic.py:1175: UserWarning: l1_ratio parameter is only used when penalty is 'elasticnet'. Got (penalty=l2)\n",
      "/opt/anaconda3/lib/python3.12/site-packages/sklearn/linear_model/_logistic.py:1175: UserWarning: l1_ratio parameter is only used when penalty is 'elasticnet'. Got (penalty=l2)\n",
      "/opt/anaconda3/lib/python3.12/site-packages/sklearn/linear_model/_logistic.py:1175: UserWarning: l1_ratio parameter is only used when penalty is 'elasticnet'. Got (penalty=l2)\n",
      "/opt/anaconda3/lib/python3.12/site-packages/sklearn/linear_model/_logistic.py:1175: UserWarning: l1_ratio parameter is only used when penalty is 'elasticnet'. Got (penalty=l2)\n",
      "/opt/anaconda3/lib/python3.12/site-packages/sklearn/model_selection/_validation.py:547: FitFailedWarning: \n",
      "25 fits failed out of a total of 150.\n",
      "The score on these train-test partitions for these parameters will be set to nan.\n",
      "If these failures are not expected, you can try to debug them by setting error_score='raise'.\n",
      "\n",
      "Below are more details about the failures:\n",
      "--------------------------------------------------------------------------------\n",
      "25 fits failed with the following error:\n",
      "Traceback (most recent call last):\n",
      "  File \"/opt/anaconda3/lib/python3.12/site-packages/sklearn/model_selection/_validation.py\", line 895, in _fit_and_score\n",
      "    estimator.fit(X_train, y_train, **fit_params)\n",
      "  File \"/opt/anaconda3/lib/python3.12/site-packages/sklearn/base.py\", line 1474, in wrapper\n",
      "    return fit_method(estimator, *args, **kwargs)\n",
      "           ^^^^^^^^^^^^^^^^^^^^^^^^^^^^^^^^^^^^^^\n",
      "  File \"/opt/anaconda3/lib/python3.12/site-packages/sklearn/pipeline.py\", line 475, in fit\n",
      "    self._final_estimator.fit(Xt, y, **last_step_params[\"fit\"])\n",
      "  File \"/opt/anaconda3/lib/python3.12/site-packages/sklearn/base.py\", line 1474, in wrapper\n",
      "    return fit_method(estimator, *args, **kwargs)\n",
      "           ^^^^^^^^^^^^^^^^^^^^^^^^^^^^^^^^^^^^^^\n",
      "  File \"/opt/anaconda3/lib/python3.12/site-packages/sklearn/linear_model/_logistic.py\", line 1172, in fit\n",
      "    solver = _check_solver(self.solver, self.penalty, self.dual)\n",
      "             ^^^^^^^^^^^^^^^^^^^^^^^^^^^^^^^^^^^^^^^^^^^^^^^^^^^\n",
      "  File \"/opt/anaconda3/lib/python3.12/site-packages/sklearn/linear_model/_logistic.py\", line 75, in _check_solver\n",
      "    raise ValueError(\n",
      "ValueError: Only 'saga' solver supports elasticnet penalty, got solver=liblinear.\n",
      "\n",
      "/opt/anaconda3/lib/python3.12/site-packages/sklearn/model_selection/_search.py:1051: UserWarning: One or more of the test scores are non-finite: [0.5        0.5        0.85464332 0.85464332        nan 0.52965517 0.84492308 0.84357418 0.85332485 0.85332485        nan 0.85010221 0.85625181 0.85598515 0.85332555 0.85332555        nan 0.85383908 0.85383625 0.85383625 0.85276322 0.85276322        nan\n",
      " 0.85329514 0.85329514 0.85329514 0.85302847 0.85302847        nan 0.85329514]\n",
      "/opt/anaconda3/lib/python3.12/site-packages/sklearn/linear_model/_logistic.py:1175: UserWarning: l1_ratio parameter is only used when penalty is 'elasticnet'. Got (penalty=l1)\n"
     ]
    }
   ],
   "source": [
    "gsvc = GridSearchCV(logreg_pipe, param_grid, cv=5, scoring='roc_auc')\n",
    "gsvc.fit(X, y)\n",
    "\n",
    "print(\"Best parameters: \", gsvc.best_params_)\n",
    "print(\"Best cross-validation score: \", gsvc.best_score_)"
   ]
  },
  {
   "cell_type": "markdown",
   "metadata": {},
   "source": [
    "In this LogReg model tuning based on ROC AUC score, best parameters are:\n",
    "- Best parameters: 'logreg__C': 1, 'logreg__l1_ratio': 0.5, 'logreg__penalty': 'l1', 'logreg__solver': 'liblinear'\n",
    "- Best cross-validation score:  0.8562518125552607"
   ]
  },
  {
   "cell_type": "code",
   "execution_count": 239,
   "metadata": {
    "vscode": {
     "languageId": "python"
    }
   },
   "outputs": [
    {
     "name": "stdout",
     "output_type": "stream",
     "text": [
      "Accuracy score:  0.7838827838827839\n",
      "ROC AUC score:  0.7820623449466078\n",
      "Classification Report:\n",
      "               precision    recall  f1-score   support\n",
      "\n",
      "           0       0.77      0.76      0.76       127\n",
      "           1       0.79      0.81      0.80       146\n",
      "\n",
      "    accuracy                           0.78       273\n",
      "   macro avg       0.78      0.78      0.78       273\n",
      "weighted avg       0.78      0.78      0.78       273\n",
      "\n",
      "Accuracy score:  0.7838827838827839\n",
      "ROC AUC score:  0.7820623449466078\n",
      "Classification Report:\n",
      "               precision    recall  f1-score   support\n",
      "\n",
      "           0       0.77      0.76      0.76       127\n",
      "           1       0.79      0.81      0.80       146\n",
      "\n",
      "    accuracy                           0.78       273\n",
      "   macro avg       0.78      0.78      0.78       273\n",
      "weighted avg       0.78      0.78      0.78       273\n",
      "\n"
     ]
    },
    {
     "name": "stderr",
     "output_type": "stream",
     "text": [
      "/opt/anaconda3/lib/python3.12/site-packages/sklearn/linear_model/_logistic.py:1175: UserWarning: l1_ratio parameter is only used when penalty is 'elasticnet'. Got (penalty=l1)\n",
      "/opt/anaconda3/lib/python3.12/site-packages/sklearn/linear_model/_logistic.py:1175: UserWarning: l1_ratio parameter is only used when penalty is 'elasticnet'. Got (penalty=l1)\n",
      "/opt/anaconda3/lib/python3.12/site-packages/sklearn/linear_model/_logistic.py:1175: UserWarning: l1_ratio parameter is only used when penalty is 'elasticnet'. Got (penalty=l1)\n",
      "/opt/anaconda3/lib/python3.12/site-packages/sklearn/linear_model/_logistic.py:1175: UserWarning: l1_ratio parameter is only used when penalty is 'elasticnet'. Got (penalty=l1)\n",
      "/opt/anaconda3/lib/python3.12/site-packages/sklearn/linear_model/_logistic.py:1175: UserWarning: l1_ratio parameter is only used when penalty is 'elasticnet'. Got (penalty=l1)\n"
     ]
    }
   ],
   "source": [
    "# y_pred with best logreg cross_val_predict\n",
    "best_logreg = gsvc.best_estimator_\n",
    "y_pred = cross_val_predict(best_logreg, X, y, cv=5)\n",
    "cm_best_logreg = confusion_matrix(y, y_pred)\n",
    "\n",
    "# scores\n",
    "print(\"Accuracy score: \", accuracy_score(y, y_pred))\n",
    "print(\"ROC AUC score: \", roc_auc_score(y, y_pred))\n",
    "print(\"Classification Report:\\n\", classification_report(y, y_pred))"
   ]
  },
  {
   "cell_type": "code",
   "execution_count": 240,
   "metadata": {
    "vscode": {
     "languageId": "python"
    }
   },
   "outputs": [
    {
     "data": {
      "text/plain": [
       "<sklearn.metrics._plot.confusion_matrix.ConfusionMatrixDisplay at 0x16e662330>"
      ]
     },
     "execution_count": null,
     "metadata": {},
     "output_type": "execute_result"
    },
    {
     "data": {
      "image/png": "[encoded data removed]",
      "text/plain": [
       "<Figure size 640x480 with 2 Axes>"
      ]
     },
     "metadata": {},
     "output_type": "display_data"
    }
   ],
   "source": [
    "# Best LogReg confustion matrix\n",
    "\n",
    "labels = ha['output'].unique()\n",
    "ConfusionMatrixDisplay(cm_best_logreg, display_labels = labels).plot()"
   ]
  },
  {
   "cell_type": "code",
   "execution_count": 271,
   "metadata": {
    "vscode": {
     "languageId": "python"
    }
   },
   "outputs": [
    {
     "name": "stderr",
     "output_type": "stream",
     "text": [
      "/opt/anaconda3/lib/python3.12/site-packages/sklearn/linear_model/_logistic.py:1175: UserWarning: l1_ratio parameter is only used when penalty is 'elasticnet'. Got (penalty=l1)\n",
      "/opt/anaconda3/lib/python3.12/site-packages/sklearn/linear_model/_logistic.py:1175: UserWarning: l1_ratio parameter is only used when penalty is 'elasticnet'. Got (penalty=l1)\n",
      "/opt/anaconda3/lib/python3.12/site-packages/sklearn/linear_model/_logistic.py:1175: UserWarning: l1_ratio parameter is only used when penalty is 'elasticnet'. Got (penalty=l1)\n",
      "/opt/anaconda3/lib/python3.12/site-packages/sklearn/linear_model/_logistic.py:1175: UserWarning: l1_ratio parameter is only used when penalty is 'elasticnet'. Got (penalty=l1)\n",
      "/opt/anaconda3/lib/python3.12/site-packages/sklearn/linear_model/_logistic.py:1175: UserWarning: l1_ratio parameter is only used when penalty is 'elasticnet'. Got (penalty=l1)\n"
     ]
    },
    {
     "data": {
      "text/plain": [
       "0.8562518125552607"
      ]
     },
     "execution_count": null,
     "metadata": {},
     "output_type": "execute_result"
    }
   ],
   "source": [
    "# cross-validated roc auc\n",
    "logreg_rocauc = cross_val_score(best_logreg, X, y, cv=5, scoring=\"roc_auc\")\n",
    "logreg_rocauc.mean()"
   ]
  },
  {
   "cell_type": "code",
   "execution_count": 272,
   "metadata": {
    "vscode": {
     "languageId": "python"
    }
   },
   "outputs": [
    {
     "name": "stderr",
     "output_type": "stream",
     "text": [
      "/opt/anaconda3/lib/python3.12/site-packages/sklearn/linear_model/_logistic.py:1175: UserWarning: l1_ratio parameter is only used when penalty is 'elasticnet'. Got (penalty=l1)\n",
      "/opt/anaconda3/lib/python3.12/site-packages/sklearn/linear_model/_logistic.py:1175: UserWarning: l1_ratio parameter is only used when penalty is 'elasticnet'. Got (penalty=l1)\n",
      "/opt/anaconda3/lib/python3.12/site-packages/sklearn/linear_model/_logistic.py:1175: UserWarning: l1_ratio parameter is only used when penalty is 'elasticnet'. Got (penalty=l1)\n",
      "/opt/anaconda3/lib/python3.12/site-packages/sklearn/linear_model/_logistic.py:1175: UserWarning: l1_ratio parameter is only used when penalty is 'elasticnet'. Got (penalty=l1)\n",
      "/opt/anaconda3/lib/python3.12/site-packages/sklearn/linear_model/_logistic.py:1175: UserWarning: l1_ratio parameter is only used when penalty is 'elasticnet'. Got (penalty=l1)\n"
     ]
    },
    {
     "data": {
      "text/plain": [
       "0.7837710437710438"
      ]
     },
     "execution_count": null,
     "metadata": {},
     "output_type": "execute_result"
    }
   ],
   "source": [
    "# cross-validated accuracy\n",
    "logreg_acc = cross_val_score(best_logreg, X, y, cv=5, scoring=\"accuracy\")\n",
    "logreg_acc.mean()"
   ]
  },
  {
   "cell_type": "code",
   "execution_count": 273,
   "metadata": {
    "vscode": {
     "languageId": "python"
    }
   },
   "outputs": [
    {
     "name": "stderr",
     "output_type": "stream",
     "text": [
      "/opt/anaconda3/lib/python3.12/site-packages/sklearn/linear_model/_logistic.py:1175: UserWarning: l1_ratio parameter is only used when penalty is 'elasticnet'. Got (penalty=l1)\n",
      "/opt/anaconda3/lib/python3.12/site-packages/sklearn/linear_model/_logistic.py:1175: UserWarning: l1_ratio parameter is only used when penalty is 'elasticnet'. Got (penalty=l1)\n",
      "/opt/anaconda3/lib/python3.12/site-packages/sklearn/linear_model/_logistic.py:1175: UserWarning: l1_ratio parameter is only used when penalty is 'elasticnet'. Got (penalty=l1)\n",
      "/opt/anaconda3/lib/python3.12/site-packages/sklearn/linear_model/_logistic.py:1175: UserWarning: l1_ratio parameter is only used when penalty is 'elasticnet'. Got (penalty=l1)\n",
      "/opt/anaconda3/lib/python3.12/site-packages/sklearn/linear_model/_logistic.py:1175: UserWarning: l1_ratio parameter is only used when penalty is 'elasticnet'. Got (penalty=l1)\n"
     ]
    },
    {
     "data": {
      "text/plain": [
       "0.8082758620689656"
      ]
     },
     "execution_count": null,
     "metadata": {},
     "output_type": "execute_result"
    }
   ],
   "source": [
    "# tpr - recall\n",
    "logreg_tpr = cross_val_score(best_logreg, X, y, cv=5, scoring=\"recall\")\n",
    "logreg_tpr.mean()"
   ]
  },
  {
   "cell_type": "code",
   "execution_count": 274,
   "metadata": {
    "vscode": {
     "languageId": "python"
    }
   },
   "outputs": [
    {
     "name": "stderr",
     "output_type": "stream",
     "text": [
      "/opt/anaconda3/lib/python3.12/site-packages/sklearn/linear_model/_logistic.py:1175: UserWarning: l1_ratio parameter is only used when penalty is 'elasticnet'. Got (penalty=l1)\n",
      "/opt/anaconda3/lib/python3.12/site-packages/sklearn/linear_model/_logistic.py:1175: UserWarning: l1_ratio parameter is only used when penalty is 'elasticnet'. Got (penalty=l1)\n",
      "/opt/anaconda3/lib/python3.12/site-packages/sklearn/linear_model/_logistic.py:1175: UserWarning: l1_ratio parameter is only used when penalty is 'elasticnet'. Got (penalty=l1)\n",
      "/opt/anaconda3/lib/python3.12/site-packages/sklearn/linear_model/_logistic.py:1175: UserWarning: l1_ratio parameter is only used when penalty is 'elasticnet'. Got (penalty=l1)\n",
      "/opt/anaconda3/lib/python3.12/site-packages/sklearn/linear_model/_logistic.py:1175: UserWarning: l1_ratio parameter is only used when penalty is 'elasticnet'. Got (penalty=l1)\n"
     ]
    },
    {
     "data": {
      "text/plain": [
       "0.7953886051842114"
      ]
     },
     "execution_count": null,
     "metadata": {},
     "output_type": "execute_result"
    }
   ],
   "source": [
    "# ppv - precision\n",
    "logreg_ppv = cross_val_score(best_logreg, X, y, cv=5, scoring=\"precision\")\n",
    "logreg_ppv.mean()"
   ]
  },
  {
   "cell_type": "code",
   "execution_count": 302,
   "metadata": {
    "vscode": {
     "languageId": "python"
    }
   },
   "outputs": [
    {
     "data": {
      "text/plain": [
       "0.8082191780821918"
      ]
     },
     "execution_count": null,
     "metadata": {},
     "output_type": "execute_result"
    }
   ],
   "source": [
    "# tnr - specificity\n",
    "logreg_tn = cm_best_logreg[1,1]\n",
    "logreg_fp = cm_best_logreg[1,0]\n",
    "logreg_tnr = logreg_tn / (logreg_tn + logreg_fp)\n",
    "logreg_tnr"
   ]
  },
  {
   "cell_type": "code",
   "execution_count": 347,
   "metadata": {
    "vscode": {
     "languageId": "python"
    }
   },
   "outputs": [
    {
     "name": "stderr",
     "output_type": "stream",
     "text": [
      "/opt/anaconda3/lib/python3.12/site-packages/sklearn/linear_model/_logistic.py:1175: UserWarning: l1_ratio parameter is only used when penalty is 'elasticnet'. Got (penalty=l1)\n",
      "/opt/anaconda3/lib/python3.12/site-packages/sklearn/linear_model/_logistic.py:1175: UserWarning: l1_ratio parameter is only used when penalty is 'elasticnet'. Got (penalty=l1)\n",
      "/opt/anaconda3/lib/python3.12/site-packages/sklearn/linear_model/_logistic.py:1175: UserWarning: l1_ratio parameter is only used when penalty is 'elasticnet'. Got (penalty=l1)\n",
      "/opt/anaconda3/lib/python3.12/site-packages/sklearn/linear_model/_logistic.py:1175: UserWarning: l1_ratio parameter is only used when penalty is 'elasticnet'. Got (penalty=l1)\n",
      "/opt/anaconda3/lib/python3.12/site-packages/sklearn/linear_model/_logistic.py:1175: UserWarning: l1_ratio parameter is only used when penalty is 'elasticnet'. Got (penalty=l1)\n",
      "/opt/anaconda3/lib/python3.12/site-packages/sklearn/linear_model/_logistic.py:1175: UserWarning: l1_ratio parameter is only used when penalty is 'elasticnet'. Got (penalty=l1)\n",
      "/opt/anaconda3/lib/python3.12/site-packages/sklearn/linear_model/_logistic.py:1175: UserWarning: l1_ratio parameter is only used when penalty is 'elasticnet'. Got (penalty=l1)\n",
      "/opt/anaconda3/lib/python3.12/site-packages/sklearn/linear_model/_logistic.py:1175: UserWarning: l1_ratio parameter is only used when penalty is 'elasticnet'. Got (penalty=l1)\n",
      "/opt/anaconda3/lib/python3.12/site-packages/sklearn/linear_model/_logistic.py:1175: UserWarning: l1_ratio parameter is only used when penalty is 'elasticnet'. Got (penalty=l1)\n",
      "/opt/anaconda3/lib/python3.12/site-packages/sklearn/linear_model/_logistic.py:1175: UserWarning: l1_ratio parameter is only used when penalty is 'elasticnet'. Got (penalty=l1)\n",
      "/opt/anaconda3/lib/python3.12/site-packages/sklearn/linear_model/_logistic.py:1175: UserWarning: l1_ratio parameter is only used when penalty is 'elasticnet'. Got (penalty=l1)\n",
      "/opt/anaconda3/lib/python3.12/site-packages/sklearn/linear_model/_logistic.py:1175: UserWarning: l1_ratio parameter is only used when penalty is 'elasticnet'. Got (penalty=l1)\n",
      "/opt/anaconda3/lib/python3.12/site-packages/sklearn/linear_model/_logistic.py:1175: UserWarning: l1_ratio parameter is only used when penalty is 'elasticnet'. Got (penalty=l1)\n",
      "/opt/anaconda3/lib/python3.12/site-packages/sklearn/linear_model/_logistic.py:1175: UserWarning: l1_ratio parameter is only used when penalty is 'elasticnet'. Got (penalty=l1)\n",
      "/opt/anaconda3/lib/python3.12/site-packages/sklearn/linear_model/_logistic.py:1175: UserWarning: l1_ratio parameter is only used when penalty is 'elasticnet'. Got (penalty=l1)\n"
     ]
    }
   ],
   "source": [
    "# store values for further comparison summary\n",
    "\n",
    "logreg1_roc_auc = cross_val_score(best_logreg, X, y, cv=5, scoring=\"roc_auc\").mean()\n",
    "logreg1_precision = cross_val_score(best_logreg, X, y, cv=5, scoring=\"precision\").mean()\n",
    "logreg1_recall = cross_val_score(best_logreg, X, y, cv=5, scoring=\"recall\").mean()"
   ]
  },
  {
   "cell_type": "code",
   "execution_count": 276,
   "metadata": {
    "vscode": {
     "languageId": "python"
    }
   },
   "outputs": [
    {
     "data": {
      "text/html": [
       "<div>\n",
       "<style scoped>\n",
       "    .dataframe tbody tr th:only-of-type {\n",
       "        vertical-align: middle;\n",
       "    }\n",
       "\n",
       "    .dataframe tbody tr th {\n",
       "        vertical-align: top;\n",
       "    }\n",
       "\n",
       "    .dataframe thead th {\n",
       "        text-align: right;\n",
       "    }\n",
       "</style>\n",
       "<table border=\"1\" class=\"dataframe\">\n",
       "  <thead>\n",
       "    <tr style=\"text-align: right;\">\n",
       "      <th></th>\n",
       "      <th>Variable</th>\n",
       "      <th>Coef_LogReg</th>\n",
       "    </tr>\n",
       "  </thead>\n",
       "  <tbody>\n",
       "    <tr>\n",
       "      <th>6</th>\n",
       "      <td>thalach</td>\n",
       "      <td>0.874019</td>\n",
       "    </tr>\n",
       "    <tr>\n",
       "      <th>2</th>\n",
       "      <td>cp</td>\n",
       "      <td>0.850121</td>\n",
       "    </tr>\n",
       "    <tr>\n",
       "      <th>5</th>\n",
       "      <td>restecg</td>\n",
       "      <td>0.151691</td>\n",
       "    </tr>\n",
       "    <tr>\n",
       "      <th>0</th>\n",
       "      <td>age</td>\n",
       "      <td>-0.224697</td>\n",
       "    </tr>\n",
       "    <tr>\n",
       "      <th>4</th>\n",
       "      <td>chol</td>\n",
       "      <td>-0.249709</td>\n",
       "    </tr>\n",
       "    <tr>\n",
       "      <th>3</th>\n",
       "      <td>trtbps</td>\n",
       "      <td>-0.372789</td>\n",
       "    </tr>\n",
       "    <tr>\n",
       "      <th>1</th>\n",
       "      <td>sex</td>\n",
       "      <td>-0.938172</td>\n",
       "    </tr>\n",
       "  </tbody>\n",
       "</table>\n",
       "</div>"
      ],
      "text/plain": [
       "  Variable  Coef_LogReg\n",
       "6  thalach     0.874019\n",
       "2       cp     0.850121\n",
       "5  restecg     0.151691\n",
       "0      age    -0.224697\n",
       "4     chol    -0.249709\n",
       "3   trtbps    -0.372789\n",
       "1      sex    -0.938172"
      ]
     },
     "execution_count": null,
     "metadata": {},
     "output_type": "execute_result"
    }
   ],
   "source": [
    "# extract coefficients into a dataframe\n",
    "\n",
    "columns_to_extract = X.head().columns.tolist()  # list of columns from 'X head'\n",
    "beta_headers = [col for col in columns_to_extract if col != X.head().index.name] # Ensures index column is skipped\n",
    "\n",
    "coef_df_LogReg = pd.DataFrame({'Variable': beta_headers, 'Coef_LogReg': best_logreg.named_steps['logreg'].coef_.flatten()})\n",
    "coef_df_LogReg.sort_values(by=['Coef_LogReg'], ascending=False)"
   ]
  },
  {
   "cell_type": "markdown",
   "metadata": {},
   "source": [
    "### Coefficients interpretation - LogReg\n",
    "Based on the estimated coefficients in this Logistic Regression model, 'thalach' variable (maximum heart rate achieved during exercise) and 'cp' chest pain type have the highset impact on the 'output' variable (ie. 1 standardized unit increase in either of these two variables contributes to an increase in value of 'output = 1' log-odds prediction). Interestingly, cholesterol level 'chol' is negatively associated with the 'output' variable in this regularized LogisticRegression model, although 'chol' level is commonly associated with as a heart-health risk factor. Also, 'sex' (1 = male) with a negative coefficient - decreases the log-odds of output value '1' in this model."
   ]
  },
  {
   "cell_type": "markdown",
   "metadata": {},
   "source": [
    "### Decision Tree 1"
   ]
  },
  {
   "cell_type": "code",
   "execution_count": 251,
   "metadata": {
    "vscode": {
     "languageId": "python"
    }
   },
   "outputs": [],
   "source": [
    "# DecisionTree pipe\n",
    "\n",
    "ct = ColumnTransformer(\n",
    "  [\n",
    "    (\"dummify\",\n",
    "    OneHotEncoder(sparse_output = False, handle_unknown='ignore', drop=\"first\"),\n",
    "    make_column_selector(dtype_include=object))\n",
    "   # (\"standardize\", # comment out standardzization for easier interpretation further\n",
    "   # StandardScaler(),\n",
    "   # make_column_selector(dtype_include=np.number))\n",
    "  ],\n",
    "  remainder = \"passthrough\"\n",
    ").set_output(transform=\"pandas\")\n",
    "\n",
    "tree_pipe = Pipeline(\n",
    "  [(\"preprocessing\", ct),\n",
    "  (\"tree\", DecisionTreeClassifier())]\n",
    ").set_output(transform=\"pandas\")"
   ]
  },
  {
   "cell_type": "code",
   "execution_count": 252,
   "metadata": {
    "vscode": {
     "languageId": "python"
    }
   },
   "outputs": [
    {
     "name": "stdout",
     "output_type": "stream",
     "text": [
      "Best parameters:  {'tree__ccp_alpha': 0.0, 'tree__max_depth': 3, 'tree__min_impurity_decrease': 0.0, 'tree__min_samples_leaf': 8}\n",
      "Best cross-validation score:  0.820613969938108\n",
      "Best parameters:  {'tree__ccp_alpha': 0.0, 'tree__max_depth': 3, 'tree__min_impurity_decrease': 0.0, 'tree__min_samples_leaf': 8}\n",
      "Best cross-validation score:  0.820613969938108\n"
     ]
    }
   ],
   "source": [
    "# tunning decision tree model with multiple parameters # note: params suggested by ChatGPT\n",
    "\n",
    "param_grid = {\n",
    "    'tree__min_samples_leaf': [1, 2, 3, 5, 8, 10, 12],\n",
    "    'tree__max_depth': [2, 3, 4, 5, 6],\n",
    "    'tree__ccp_alpha': [0.0, 0.01, 0.02, 0.05, 0.10],\n",
    "    'tree__min_impurity_decrease': [0.0, 0.01, 0.05]\n",
    "}\n",
    "\n",
    "gsvc = GridSearchCV(tree_pipe, param_grid, cv=5, scoring='roc_auc')\n",
    "gsvc.fit(X, y)\n",
    "\n",
    "\n",
    "print(\"Best parameters: \", gsvc.best_params_)\n",
    "print(\"Best cross-validation score: \", gsvc.best_score_)"
   ]
  },
  {
   "cell_type": "markdown",
   "metadata": {},
   "source": [
    "Best parameters:  'tree__ccp_alpha': 0.0, 'tree__max_depth': 3, 'tree__min_impurity_decrease': 0.0, 'tree__min_samples_leaf': 8\n",
    "\n",
    "Best cross-validation score:  0.820613969938108"
   ]
  },
  {
   "cell_type": "code",
   "execution_count": 253,
   "metadata": {
    "vscode": {
     "languageId": "python"
    }
   },
   "outputs": [
    {
     "name": "stdout",
     "output_type": "stream",
     "text": [
      "Accuracy score:  0.7692307692307693\n",
      "ROC AUC score:  0.7699007658289289\n",
      "Classification Report:\n",
      "               precision    recall  f1-score   support\n",
      "\n",
      "           0       0.74      0.78      0.76       127\n",
      "           1       0.80      0.76      0.78       146\n",
      "\n",
      "    accuracy                           0.77       273\n",
      "   macro avg       0.77      0.77      0.77       273\n",
      "weighted avg       0.77      0.77      0.77       273\n",
      "\n",
      "Accuracy score:  0.7692307692307693\n",
      "ROC AUC score:  0.7699007658289289\n",
      "Classification Report:\n",
      "               precision    recall  f1-score   support\n",
      "\n",
      "           0       0.74      0.78      0.76       127\n",
      "           1       0.80      0.76      0.78       146\n",
      "\n",
      "    accuracy                           0.77       273\n",
      "   macro avg       0.77      0.77      0.77       273\n",
      "weighted avg       0.77      0.77      0.77       273\n",
      "\n"
     ]
    }
   ],
   "source": [
    "# y_pred with best dt cross_val_predict\n",
    "best_tree = gsvc.best_estimator_\n",
    "y_pred = cross_val_predict(best_tree, X, y, cv=5)\n",
    "cm_best_tree = confusion_matrix(y, y_pred)\n",
    "\n",
    "# scores\n",
    "print(\"Accuracy score: \", accuracy_score(y, y_pred))\n",
    "print(\"ROC AUC score: \", roc_auc_score(y, y_pred))\n",
    "print(\"Classification Report:\\n\", classification_report(y, y_pred))"
   ]
  },
  {
   "cell_type": "code",
   "execution_count": 254,
   "metadata": {
    "vscode": {
     "languageId": "python"
    }
   },
   "outputs": [
    {
     "data": {
      "text/plain": [
       "<sklearn.metrics._plot.confusion_matrix.ConfusionMatrixDisplay at 0x16e300830>"
      ]
     },
     "execution_count": null,
     "metadata": {},
     "output_type": "execute_result"
    },
    {
     "data": {
      "image/png": "[encoded data removed]",
      "text/plain": [
       "<Figure size 640x480 with 2 Axes>"
      ]
     },
     "metadata": {},
     "output_type": "display_data"
    }
   ],
   "source": [
    "# Best Decisin Tree confustion matrix\n",
    "\n",
    "labels = ha['output'].unique()\n",
    "ConfusionMatrixDisplay(cm_best_tree, display_labels = labels).plot()"
   ]
  },
  {
   "cell_type": "code",
   "execution_count": 277,
   "metadata": {
    "vscode": {
     "languageId": "python"
    }
   },
   "outputs": [
    {
     "data": {
      "text/plain": [
       "0.820613969938108"
      ]
     },
     "execution_count": null,
     "metadata": {},
     "output_type": "execute_result"
    }
   ],
   "source": [
    "# cross-validated roc auc\n",
    "tree_rocauc = cross_val_score(best_tree, X, y, cv=5, scoring=\"roc_auc\")\n",
    "tree_rocauc.mean()"
   ]
  },
  {
   "cell_type": "code",
   "execution_count": 278,
   "metadata": {
    "vscode": {
     "languageId": "python"
    }
   },
   "outputs": [
    {
     "data": {
      "text/plain": [
       "0.7690909090909092"
      ]
     },
     "execution_count": null,
     "metadata": {},
     "output_type": "execute_result"
    }
   ],
   "source": [
    "# cross-validated accuracy\n",
    "tree_acc = cross_val_score(best_tree, X, y, cv=5, scoring=\"accuracy\")\n",
    "tree_acc.mean()"
   ]
  },
  {
   "cell_type": "code",
   "execution_count": 279,
   "metadata": {
    "vscode": {
     "languageId": "python"
    }
   },
   "outputs": [
    {
     "data": {
      "text/plain": [
       "0.7604597701149425"
      ]
     },
     "execution_count": null,
     "metadata": {},
     "output_type": "execute_result"
    }
   ],
   "source": [
    "# tpr - recall\n",
    "tree_tpr = cross_val_score(best_tree, X, y, cv=5, scoring=\"recall\")\n",
    "tree_tpr.mean()"
   ]
  },
  {
   "cell_type": "code",
   "execution_count": 280,
   "metadata": {
    "vscode": {
     "languageId": "python"
    }
   },
   "outputs": [
    {
     "data": {
      "text/plain": [
       "0.7986013986013987"
      ]
     },
     "execution_count": null,
     "metadata": {},
     "output_type": "execute_result"
    }
   ],
   "source": [
    "# ppv - precision\n",
    "tree_ppv = cross_val_score(best_tree, X, y, cv=5, scoring=\"precision\")\n",
    "tree_ppv.mean()"
   ]
  },
  {
   "cell_type": "code",
   "execution_count": 304,
   "metadata": {
    "vscode": {
     "languageId": "python"
    }
   },
   "outputs": [
    {
     "data": {
      "text/plain": [
       "0.7602739726027398"
      ]
     },
     "execution_count": null,
     "metadata": {},
     "output_type": "execute_result"
    }
   ],
   "source": [
    "# tnr - specificity\n",
    "tree_tn = cm_best_tree[1,1]\n",
    "tree_fp = cm_best_tree[1,0]\n",
    "tree_tnr = tree_tn / (tree_tn + tree_fp)\n",
    "tree_tnr"
   ]
  },
  {
   "cell_type": "code",
   "execution_count": 348,
   "metadata": {
    "vscode": {
     "languageId": "python"
    }
   },
   "outputs": [],
   "source": [
    "# store values for further comparison summary\n",
    "\n",
    "tree1_roc_auc = cross_val_score(best_tree, X, y, cv=5, scoring=\"roc_auc\").mean()\n",
    "tree1_precision = cross_val_score(best_tree, X, y, cv=5, scoring=\"precision\").mean()\n",
    "tree1_recall = cross_val_score(best_tree, X, y, cv=5, scoring=\"recall\").mean()"
   ]
  },
  {
   "cell_type": "code",
   "execution_count": 282,
   "metadata": {
    "vscode": {
     "languageId": "python"
    }
   },
   "outputs": [
    {
     "data": {
      "image/png": "[encoded data removed]",
      "text/plain": [
       "<Figure size 1200x800 with 1 Axes>"
      ]
     },
     "metadata": {},
     "output_type": "display_data"
    }
   ],
   "source": [
    "# EXTRA - Decision Tree Visualization # Assissted by ChatGPT\n",
    "\n",
    "import matplotlib.pyplot as plt\n",
    "b_tree = best_tree.named_steps['tree']\n",
    "\n",
    "plt.figure(figsize=(12,8))\n",
    "plot_tree(\n",
    "    b_tree,\n",
    "    feature_names = X.columns,\n",
    "    class_names=[str(cls) for cls in sorted(y.unique())],\n",
    "    filled=True,\n",
    "    rounded=True,\n",
    "    fontsize=10\n",
    "\n",
    ")\n",
    "plt.title(\"Decision Tree Visualization\", fontsize=16)\n",
    "plt.show()"
   ]
  },
  {
   "cell_type": "markdown",
   "metadata": {},
   "source": [
    "In the above 'decision tree' plot, we can see how the 'best' Decision Tree model classifies observations based on key 'predictor' variables to decrease impurity and the associated 'gini' impurity index at each step. Also, we can see how the sample is divided and which class is assigned as 'dominant'. Also, interesting to observe how the 'leading' predictor variable changes from step to step."
   ]
  },
  {
   "cell_type": "markdown",
   "metadata": {},
   "source": [
    "### Summary of 1A models:\n"
   ]
  },
  {
   "cell_type": "code",
   "execution_count": 290,
   "metadata": {
    "vscode": {
     "languageId": "python"
    }
   },
   "outputs": [
    {
     "data": {
      "text/html": [
       "<div>\n",
       "<style scoped>\n",
       "    .dataframe tbody tr th:only-of-type {\n",
       "        vertical-align: middle;\n",
       "    }\n",
       "\n",
       "    .dataframe tbody tr th {\n",
       "        vertical-align: top;\n",
       "    }\n",
       "\n",
       "    .dataframe thead th {\n",
       "        text-align: right;\n",
       "    }\n",
       "</style>\n",
       "<table border=\"1\" class=\"dataframe\">\n",
       "  <thead>\n",
       "    <tr style=\"text-align: right;\">\n",
       "      <th></th>\n",
       "      <th>Model</th>\n",
       "      <th>ROC AUC score</th>\n",
       "    </tr>\n",
       "  </thead>\n",
       "  <tbody>\n",
       "    <tr>\n",
       "      <th>1</th>\n",
       "      <td>LogReg</td>\n",
       "      <td>0.856252</td>\n",
       "    </tr>\n",
       "    <tr>\n",
       "      <th>0</th>\n",
       "      <td>KNN</td>\n",
       "      <td>0.850684</td>\n",
       "    </tr>\n",
       "    <tr>\n",
       "      <th>2</th>\n",
       "      <td>DecisionTree</td>\n",
       "      <td>0.820614</td>\n",
       "    </tr>\n",
       "  </tbody>\n",
       "</table>\n",
       "</div>"
      ],
      "text/plain": [
       "          Model  ROC AUC score\n",
       "1        LogReg       0.856252\n",
       "0           KNN       0.850684\n",
       "2  DecisionTree       0.820614"
      ]
     },
     "execution_count": null,
     "metadata": {},
     "output_type": "execute_result"
    }
   ],
   "source": [
    "df_models_rocauc = pd.DataFrame({\n",
    "    'Model': ['KNN', 'LogReg', 'DecisionTree'],\n",
    "    'ROC AUC score': [knn_rocauc.mean(), logreg_rocauc.mean(), tree_rocauc.mean()]\n",
    "    })\n",
    "\n",
    "df_models_rocauc.sort_values('ROC AUC score', ascending=False)"
   ]
  },
  {
   "cell_type": "markdown",
   "metadata": {},
   "source": [
    "With this variables selection (all 'non-output' predictors) and tuning of the models, LogisticRegression yields the highest ROC AUC score of 0.856, KNN is sligthly lower (0.85) and DecisionTree (while arguably the most transparent in to interpret) has the lowest ROC AUC score of 0.82.\n",
    "\n",
    "In terms of best predictors, the results are somewhat mixed between the Logistic Regression and Decision Tree models, however 'cp' (chest pain type) and 'thalach' (maximum heart rate achieved during exercise) appear to be the most important predictors to hear attack risk 'output'."
   ]
  },
  {
   "cell_type": "markdown",
   "metadata": {},
   "source": [
    "### Note on other selection of predictor variables:\n",
    "With the copy of the all above code for pipelines and cross-validate scores, tried manually running the above models on different sets of predictor variables in a separate notebook copy (to avoid clutter in this final version), from minimal X = ['cp', 'thalach', 'sex'] to more expansive or logical eg. + 'chol', 'age', etc. However, in most cases the overal scores for the models were lower, except for a few cases, where KNN model benefited from a narrower set of 'predictors' eg.['cp', 'thalach', 'sex'] and the best range of neigbors decreased to eg. n=28, yielding a slightly higher ROC score: 0.863, although in other models the ROC scores dropped significantly eg. LogReg: 0.838603, which didn't seem like an overeall better choice to reduce the amount of predictors with a relatively small dataset like this.\n",
    "\n",
    "Finally, I also tried verifying the optimal set of predictors with 'Lasso' regression, however the outcome was that 'all predictors' available are the best selection. See a simpified version of the code in the APPENDIX section. Therefore, I proceed with 'all available' predictors for further models analysis."
   ]
  },
  {
   "cell_type": "markdown",
   "metadata": {},
   "source": [
    "### ROC Curve"
   ]
  },
  {
   "cell_type": "code",
   "execution_count": 285,
   "metadata": {
    "vscode": {
     "languageId": "python"
    }
   },
   "outputs": [
    {
     "name": "stderr",
     "output_type": "stream",
     "text": [
      "/opt/anaconda3/lib/python3.12/site-packages/sklearn/linear_model/_logistic.py:1175: UserWarning: l1_ratio parameter is only used when penalty is 'elasticnet'. Got (penalty=l1)\n",
      "/opt/anaconda3/lib/python3.12/site-packages/sklearn/linear_model/_logistic.py:1175: UserWarning: l1_ratio parameter is only used when penalty is 'elasticnet'. Got (penalty=l1)\n",
      "/opt/anaconda3/lib/python3.12/site-packages/sklearn/linear_model/_logistic.py:1175: UserWarning: l1_ratio parameter is only used when penalty is 'elasticnet'. Got (penalty=l1)\n",
      "/opt/anaconda3/lib/python3.12/site-packages/sklearn/linear_model/_logistic.py:1175: UserWarning: l1_ratio parameter is only used when penalty is 'elasticnet'. Got (penalty=l1)\n",
      "/opt/anaconda3/lib/python3.12/site-packages/sklearn/linear_model/_logistic.py:1175: UserWarning: l1_ratio parameter is only used when penalty is 'elasticnet'. Got (penalty=l1)\n",
      "<positron-console-cell-285>:21: UserWarning: color is redundantly defined by the 'color' keyword argument and the fmt string \"k--\" (-> color='k'). The keyword argument will take precedence.\n"
     ]
    },
    {
     "data": {
      "image/png": "[encoded data removed]",
      "text/plain": [
       "<Figure size 800x600 with 1 Axes>"
      ]
     },
     "metadata": {},
     "output_type": "display_data"
    }
   ],
   "source": [
    "# ROC plot - three models # assissted by ChatGPT\n",
    "\n",
    "y_1 = (y == 1)\n",
    "y_pred_knn = cross_val_predict(best_knn, X, y_1, cv=5)\n",
    "y_pred_logreg = cross_val_predict(best_logreg, X, y_1, cv=5)\n",
    "y_pred_tree = cross_val_predict(best_tree, X, y_1, cv=5)\n",
    "\n",
    "\n",
    "fpr_knn, tpr_knn, _ = roc_curve(y_1, y_pred_knn)\n",
    "fpr_logreg, tpr_logreg, _ = roc_curve(y_1, y_pred_logreg)\n",
    "fpr_tree, tpr_tree, _ = roc_curve(y_1, y_pred_tree)\n",
    "\n",
    "\n",
    "# ROC Plot - Option 1: direct plot with pyplot\n",
    "import matplotlib.pyplot as plt\n",
    "\n",
    "plt.figure(figsize=(8, 6))\n",
    "plt.plot(fpr_knn, tpr_knn, label=f\"KNN\")\n",
    "plt.plot(fpr_logreg, tpr_logreg, label=f\"LogReg\")\n",
    "plt.plot(fpr_tree, tpr_tree, label=f\"Tree\")\n",
    "plt.plot([0, 1], [0, 1], 'k--', label=\"Random Chance\", color = 'red')\n",
    "plt.xlabel(\"False Positive Rate\")\n",
    "plt.ylabel(\"True Positive Rate\")\n",
    "plt.title(\"Three Models ROC Curves\")\n",
    "plt.legend(loc=\"best\")\n",
    "plt.grid()\n",
    "plt.show()"
   ]
  },
  {
   "cell_type": "code",
   "execution_count": 287,
   "metadata": {
    "vscode": {
     "languageId": "python"
    }
   },
   "outputs": [],
   "source": [
    "# Plot - Option 2: # Assisted by ChatGPT\n",
    "# df for plotnine plot\n",
    "roc_df_knn = pd.DataFrame({'FPR': fpr_knn, 'TPR': tpr_knn, 'Model': 'KNN'})\n",
    "roc_df_logreg = pd.DataFrame({'FPR': fpr_logreg, 'TPR': tpr_logreg, 'Model': 'LogReg'})\n",
    "roc_df_tree = pd.DataFrame({'FPR': fpr_tree, 'TPR': tpr_tree, 'Model': 'Tree'})\n",
    "\n",
    "roc_df = pd.concat([roc_df_knn, roc_df_logreg, roc_df_tree], ignore_index=True)"
   ]
  },
  {
   "cell_type": "code",
   "execution_count": 288,
   "metadata": {
    "vscode": {
     "languageId": "python"
    }
   },
   "outputs": [
    {
     "data": {
      "image/png": "[encoded data removed]"
     },
     "metadata": {},
     "output_type": "display_data"
    }
   ],
   "source": [
    "(ggplot(roc_df, aes(x='FPR', y='TPR', color='Model'))\n",
    "    + geom_line(size=1.2, alpha = 0.8)  # Draw ROC curves\n",
    "    + geom_abline(linetype='dashed', color='grey')  # Random chance line\n",
    "    + labs(\n",
    "        title=\"ROC Curves for Three Models\",\n",
    "        x=\"False Positive Rate (FPR)\",\n",
    "        y=\"True Positive Rate (TPR)\",\n",
    "        color=\"Model\"\n",
    "    )\n",
    "    + theme_minimal()\n",
    ")"
   ]
  },
  {
   "cell_type": "markdown",
   "metadata": {},
   "source": [
    "## Part Two: Metrics"
   ]
  },
  {
   "cell_type": "markdown",
   "metadata": {},
   "source": [
    "TPR, PPV and TNR metrics were already estimated in the previous part. Assuming 'class A' refers to output = '1'."
   ]
  },
  {
   "cell_type": "code",
   "execution_count": 309,
   "metadata": {
    "vscode": {
     "languageId": "python"
    }
   },
   "outputs": [
    {
     "data": {
      "text/html": [
       "<div>\n",
       "<style scoped>\n",
       "    .dataframe tbody tr th:only-of-type {\n",
       "        vertical-align: middle;\n",
       "    }\n",
       "\n",
       "    .dataframe tbody tr th {\n",
       "        vertical-align: top;\n",
       "    }\n",
       "\n",
       "    .dataframe thead th {\n",
       "        text-align: right;\n",
       "    }\n",
       "</style>\n",
       "<table border=\"1\" class=\"dataframe\">\n",
       "  <thead>\n",
       "    <tr style=\"text-align: right;\">\n",
       "      <th></th>\n",
       "      <th>Model</th>\n",
       "      <th>Recall score</th>\n",
       "    </tr>\n",
       "  </thead>\n",
       "  <tbody>\n",
       "    <tr>\n",
       "      <th>0</th>\n",
       "      <td>KNN</td>\n",
       "      <td>0.821379</td>\n",
       "    </tr>\n",
       "    <tr>\n",
       "      <th>1</th>\n",
       "      <td>LogReg</td>\n",
       "      <td>0.808276</td>\n",
       "    </tr>\n",
       "    <tr>\n",
       "      <th>2</th>\n",
       "      <td>DecisionTree</td>\n",
       "      <td>0.760460</td>\n",
       "    </tr>\n",
       "  </tbody>\n",
       "</table>\n",
       "</div>"
      ],
      "text/plain": [
       "          Model  Recall score\n",
       "0           KNN      0.821379\n",
       "1        LogReg      0.808276\n",
       "2  DecisionTree      0.760460"
      ]
     },
     "execution_count": null,
     "metadata": {},
     "output_type": "execute_result"
    }
   ],
   "source": [
    "# True Positive Rate\n",
    "\n",
    "df_models_tpr = pd.DataFrame({\n",
    "    'Model': ['KNN', 'LogReg', 'DecisionTree'],\n",
    "    'Recall score': [knn_tpr.mean(), logreg_tpr.mean(), tree_tpr.mean()]\n",
    "    })\n",
    "\n",
    "df_models_tpr.sort_values('Recall score', ascending=False)"
   ]
  },
  {
   "cell_type": "code",
   "execution_count": 310,
   "metadata": {
    "vscode": {
     "languageId": "python"
    }
   },
   "outputs": [
    {
     "data": {
      "text/html": [
       "<div>\n",
       "<style scoped>\n",
       "    .dataframe tbody tr th:only-of-type {\n",
       "        vertical-align: middle;\n",
       "    }\n",
       "\n",
       "    .dataframe tbody tr th {\n",
       "        vertical-align: top;\n",
       "    }\n",
       "\n",
       "    .dataframe thead th {\n",
       "        text-align: right;\n",
       "    }\n",
       "</style>\n",
       "<table border=\"1\" class=\"dataframe\">\n",
       "  <thead>\n",
       "    <tr style=\"text-align: right;\">\n",
       "      <th></th>\n",
       "      <th>Model</th>\n",
       "      <th>Precision score</th>\n",
       "    </tr>\n",
       "  </thead>\n",
       "  <tbody>\n",
       "    <tr>\n",
       "      <th>2</th>\n",
       "      <td>DecisionTree</td>\n",
       "      <td>0.798601</td>\n",
       "    </tr>\n",
       "    <tr>\n",
       "      <th>1</th>\n",
       "      <td>LogReg</td>\n",
       "      <td>0.795389</td>\n",
       "    </tr>\n",
       "    <tr>\n",
       "      <th>0</th>\n",
       "      <td>KNN</td>\n",
       "      <td>0.769770</td>\n",
       "    </tr>\n",
       "  </tbody>\n",
       "</table>\n",
       "</div>"
      ],
      "text/plain": [
       "          Model  Precision score\n",
       "2  DecisionTree         0.798601\n",
       "1        LogReg         0.795389\n",
       "0           KNN         0.769770"
      ]
     },
     "execution_count": null,
     "metadata": {},
     "output_type": "execute_result"
    }
   ],
   "source": [
    "# Precision\n",
    "\n",
    "df_models_ppv = pd.DataFrame({\n",
    "    'Model': ['KNN', 'LogReg', 'DecisionTree'],\n",
    "    'Precision score': [knn_ppv.mean(), logreg_ppv.mean(), tree_ppv.mean()]\n",
    "    })\n",
    "\n",
    "df_models_ppv.sort_values('Precision score', ascending=False)"
   ]
  },
  {
   "cell_type": "code",
   "execution_count": 311,
   "metadata": {
    "vscode": {
     "languageId": "python"
    }
   },
   "outputs": [
    {
     "data": {
      "text/html": [
       "<div>\n",
       "<style scoped>\n",
       "    .dataframe tbody tr th:only-of-type {\n",
       "        vertical-align: middle;\n",
       "    }\n",
       "\n",
       "    .dataframe tbody tr th {\n",
       "        vertical-align: top;\n",
       "    }\n",
       "\n",
       "    .dataframe thead th {\n",
       "        text-align: right;\n",
       "    }\n",
       "</style>\n",
       "<table border=\"1\" class=\"dataframe\">\n",
       "  <thead>\n",
       "    <tr style=\"text-align: right;\">\n",
       "      <th></th>\n",
       "      <th>Model</th>\n",
       "      <th>Specificity score</th>\n",
       "    </tr>\n",
       "  </thead>\n",
       "  <tbody>\n",
       "    <tr>\n",
       "      <th>0</th>\n",
       "      <td>KNN</td>\n",
       "      <td>0.821918</td>\n",
       "    </tr>\n",
       "    <tr>\n",
       "      <th>1</th>\n",
       "      <td>LogReg</td>\n",
       "      <td>0.808219</td>\n",
       "    </tr>\n",
       "    <tr>\n",
       "      <th>2</th>\n",
       "      <td>DecisionTree</td>\n",
       "      <td>0.760274</td>\n",
       "    </tr>\n",
       "  </tbody>\n",
       "</table>\n",
       "</div>"
      ],
      "text/plain": [
       "          Model  Specificity score\n",
       "0           KNN           0.821918\n",
       "1        LogReg           0.808219\n",
       "2  DecisionTree           0.760274"
      ]
     },
     "execution_count": null,
     "metadata": {},
     "output_type": "execute_result"
    }
   ],
   "source": [
    "# True Negative Rate\n",
    "\n",
    "df_models_tnr = pd.DataFrame({\n",
    "    'Model': ['KNN', 'LogReg', 'DecisionTree'],\n",
    "    'Specificity score': [knn_tnr, logreg_tnr, tree_tnr]\n",
    "    })\n",
    "\n",
    "df_models_tnr.sort_values('Specificity score', ascending=False)"
   ]
  },
  {
   "cell_type": "markdown",
   "metadata": {},
   "source": [
    "KNN has the highest TPR (Recall) and TNR (Specificity) scores of all models, while Decision Tree and Logistic Regression have the highest Precision score."
   ]
  },
  {
   "cell_type": "markdown",
   "metadata": {},
   "source": [
    "## Part Three: Discussion"
   ]
  },
  {
   "cell_type": "markdown",
   "metadata": {},
   "source": [
    "Q1: \n",
    "For this risk-averse scenario (avoiding mislabelling a 'true positive' outcomes as 'negative'), the suggestion is to look at the model with the highest Recall 'TPR' score (ie. a model where the 'false negative' portion of the denominator in the 'Recall equation' is the lowest). In this case KNN model has the highest TPR score and can be recommended for this client case. The client can then expect that following this model will correctly classify (predict) at least 82% of the future (true positive) observations. Ie. the risk of mis-classifying 'at-risk' observations as 'no risk' will be minimized to 18%, comapred to other models."
   ]
  },
  {
   "cell_type": "markdown",
   "metadata": {},
   "source": [
    "Q2: In this scenario, the client can use the metric that focuses on proper classification of 'true positives' and minimize the share of 'false positives', such as 'Precision score'. Based on this metric, DecisionTree and LogReg models hold the highest scores. However, considering another alternative metric 'specificity' or TNR that also can reflect the minimized 'false positive' share in the denominator, LogisticRegression has the second lowest TNR and therefore holds a better balance compared to DecisionTree. Hence, 'Logistic Regression' can be a preferred model in this case, and the client can expect that the rate of predicted 'false positives' by this model will be minimized to approx. 20%."
   ]
  },
  {
   "cell_type": "markdown",
   "metadata": {},
   "source": [
    "Q3: In this case it's best to look at the model where a. the 'precision' of classification is high (ie. 'false positive' observations are minimized) and the model and it's coefficients are easy to interpret. Both 'Logistic Regression' and 'Decision Tree' models provide insight on coefficients or key 'influence' metrics and both have the highest 'precision' score approx 0.79, meaning that share of misclassified 'false positive' observations is minimized to approx 20%. \n",
    "Considering that 'Decision Tree' can be easier to follow step-by-step and provide more insight, this can be a preferred model for this case, also having the highest Precision score. However, a LogisticRegression model can also provide more 'high' level or generalized with the estimated coefficients (although don't conclude a direct causality), that can be used for additional insight."
   ]
  },
  {
   "cell_type": "markdown",
   "metadata": {},
   "source": [
    "Q4: In this scenario, the key metrics to consider are related to ability to correctly identify a 'true' outcome out and minimize 'false' negatives/positives. Therefore both 'Recall' and 'Specificity' can be good metrics to analyze. Based on these two metrics, KNN model has the highest score and will be best at predicting the outcomes, with lowest expected 'mis-classification' in the denominator/s. An F-1 score can also be a good alternative metric as it's easier to standardize and compare eg. for doctors with different numbers of observations."
   ]
  },
  {
   "cell_type": "markdown",
   "metadata": {},
   "source": [
    "## Part Four: Validation"
   ]
  },
  {
   "cell_type": "code",
   "execution_count": 307,
   "metadata": {
    "vscode": {
     "languageId": "python"
    }
   },
   "outputs": [],
   "source": [
    "# data\n",
    "ha_validation = pd.read_csv(\"https://www.dropbox.com/s/jkwqdiyx6o6oad0/heart_attack_validation.csv?dl=1\").dropna()"
   ]
  },
  {
   "cell_type": "code",
   "execution_count": 312,
   "metadata": {
    "vscode": {
     "languageId": "python"
    }
   },
   "outputs": [],
   "source": [
    "# variables\n",
    "X = ha_validation.drop(columns='output')\n",
    "y = ha_validation['output']"
   ]
  },
  {
   "cell_type": "markdown",
   "metadata": {},
   "source": [
    "### KNN 2"
   ]
  },
  {
   "cell_type": "code",
   "execution_count": 322,
   "metadata": {
    "vscode": {
     "languageId": "python"
    }
   },
   "outputs": [],
   "source": [
    "# prediction\n",
    "y_pred2_knn = best_knn.predict(X)"
   ]
  },
  {
   "cell_type": "code",
   "execution_count": 329,
   "metadata": {
    "vscode": {
     "languageId": "python"
    }
   },
   "outputs": [
    {
     "data": {
      "text/plain": [
       "<sklearn.metrics._plot.confusion_matrix.ConfusionMatrixDisplay at 0x153d78890>"
      ]
     },
     "execution_count": null,
     "metadata": {},
     "output_type": "execute_result"
    },
    {
     "data": {
      "image/png": "[encoded data removed]",
      "text/plain": [
       "<Figure size 640x480 with 2 Axes>"
      ]
     },
     "metadata": {},
     "output_type": "display_data"
    }
   ],
   "source": [
    "# confusion matrix\n",
    "cm_knn_2 = confusion_matrix(y, y_pred2_knn)\n",
    "labels = ha_validation['output'].unique()\n",
    "ConfusionMatrixDisplay(cm_knn_2, display_labels = labels).plot()"
   ]
  },
  {
   "cell_type": "code",
   "execution_count": 335,
   "metadata": {
    "vscode": {
     "languageId": "python"
    }
   },
   "outputs": [
    {
     "name": "stdout",
     "output_type": "stream",
     "text": [
      "ROC AUC score:  0.8755980861244018\n",
      "Precision score:  0.9411764705882353\n",
      "Recall score:  0.8421052631578947\n",
      "Classification Report:\n",
      "               precision    recall  f1-score   support\n",
      "\n",
      "           0       0.77      0.91      0.83        11\n",
      "           1       0.94      0.84      0.89        19\n",
      "\n",
      "    accuracy                           0.87        30\n",
      "   macro avg       0.86      0.88      0.86        30\n",
      "weighted avg       0.88      0.87      0.87        30\n",
      "\n",
      "ROC AUC score:  0.8755980861244018\n",
      "Precision score:  0.9411764705882353\n",
      "Recall score:  0.8421052631578947\n",
      "Classification Report:\n",
      "               precision    recall  f1-score   support\n",
      "\n",
      "           0       0.77      0.91      0.83        11\n",
      "           1       0.94      0.84      0.89        19\n",
      "\n",
      "    accuracy                           0.87        30\n",
      "   macro avg       0.86      0.88      0.86        30\n",
      "weighted avg       0.88      0.87      0.87        30\n",
      "\n"
     ]
    }
   ],
   "source": [
    "# scores and classification report\n",
    "print(\"ROC AUC score: \", roc_auc_score(y, y_pred2_knn))\n",
    "print(\"Precision score: \", precision_score(y, y_pred2_knn))\n",
    "print(\"Recall score: \", recall_score(y, y_pred2_knn))\n",
    "print(\"Classification Report:\\n\", classification_report(y, y_pred2_knn))"
   ]
  },
  {
   "cell_type": "code",
   "execution_count": 336,
   "metadata": {
    "vscode": {
     "languageId": "python"
    }
   },
   "outputs": [],
   "source": [
    "# store values for further comparison summary\n",
    "knn2_roc_auc = roc_auc_score(y, y_pred2_knn)\n",
    "knn2_precision = precision_score(y, y_pred2_knn)\n",
    "knn2_recall = recall_score(y, y_pred2_knn)"
   ]
  },
  {
   "cell_type": "markdown",
   "metadata": {},
   "source": [
    "### Logistic Regression 2"
   ]
  },
  {
   "cell_type": "code",
   "execution_count": 337,
   "metadata": {
    "vscode": {
     "languageId": "python"
    }
   },
   "outputs": [],
   "source": [
    "# prediction\n",
    "y_pred2_logreg = best_logreg.predict(X)"
   ]
  },
  {
   "cell_type": "code",
   "execution_count": 338,
   "metadata": {
    "vscode": {
     "languageId": "python"
    }
   },
   "outputs": [
    {
     "data": {
      "text/plain": [
       "<sklearn.metrics._plot.confusion_matrix.ConfusionMatrixDisplay at 0x328119f70>"
      ]
     },
     "execution_count": null,
     "metadata": {},
     "output_type": "execute_result"
    },
    {
     "data": {
      "image/png": "[encoded data removed]",
      "text/plain": [
       "<Figure size 640x480 with 2 Axes>"
      ]
     },
     "metadata": {},
     "output_type": "display_data"
    }
   ],
   "source": [
    "# confusion matrix\n",
    "cm_logreg_2 = confusion_matrix(y, y_pred2_logreg)\n",
    "labels = ha_validation['output'].unique()\n",
    "ConfusionMatrixDisplay(cm_logreg_2, display_labels = labels).plot()"
   ]
  },
  {
   "cell_type": "code",
   "execution_count": 339,
   "metadata": {
    "vscode": {
     "languageId": "python"
    }
   },
   "outputs": [
    {
     "name": "stdout",
     "output_type": "stream",
     "text": [
      "ROC AUC score:  0.8038277511961722\n",
      "Precision score:  0.8823529411764706\n",
      "Recall score:  0.7894736842105263\n",
      "Classification Report:\n",
      "               precision    recall  f1-score   support\n",
      "\n",
      "           0       0.69      0.82      0.75        11\n",
      "           1       0.88      0.79      0.83        19\n",
      "\n",
      "    accuracy                           0.80        30\n",
      "   macro avg       0.79      0.80      0.79        30\n",
      "weighted avg       0.81      0.80      0.80        30\n",
      "\n",
      "ROC AUC score:  0.8038277511961722\n",
      "Precision score:  0.8823529411764706\n",
      "Recall score:  0.7894736842105263\n",
      "Classification Report:\n",
      "               precision    recall  f1-score   support\n",
      "\n",
      "           0       0.69      0.82      0.75        11\n",
      "           1       0.88      0.79      0.83        19\n",
      "\n",
      "    accuracy                           0.80        30\n",
      "   macro avg       0.79      0.80      0.79        30\n",
      "weighted avg       0.81      0.80      0.80        30\n",
      "\n"
     ]
    }
   ],
   "source": [
    "# scores and classification report\n",
    "print(\"ROC AUC score: \", roc_auc_score(y, y_pred2_logreg))\n",
    "print(\"Precision score: \", precision_score(y, y_pred2_logreg))\n",
    "print(\"Recall score: \", recall_score(y, y_pred2_logreg))\n",
    "print(\"Classification Report:\\n\", classification_report(y, y_pred2_logreg))"
   ]
  },
  {
   "cell_type": "code",
   "execution_count": 340,
   "metadata": {
    "vscode": {
     "languageId": "python"
    }
   },
   "outputs": [],
   "source": [
    "# store values for further comparison summary\n",
    "logreg2_roc_auc = roc_auc_score(y, y_pred2_logreg)\n",
    "logreg2_precision = precision_score(y, y_pred2_logreg)\n",
    "logreg2_recall = recall_score(y, y_pred2_logreg)"
   ]
  },
  {
   "cell_type": "markdown",
   "metadata": {},
   "source": [
    "### Decision Tree 2"
   ]
  },
  {
   "cell_type": "code",
   "execution_count": 341,
   "metadata": {
    "vscode": {
     "languageId": "python"
    }
   },
   "outputs": [],
   "source": [
    "# prediction\n",
    "y_pred2_tree = best_tree.predict(X)"
   ]
  },
  {
   "cell_type": "code",
   "execution_count": 342,
   "metadata": {
    "vscode": {
     "languageId": "python"
    }
   },
   "outputs": [
    {
     "data": {
      "text/plain": [
       "<sklearn.metrics._plot.confusion_matrix.ConfusionMatrixDisplay at 0x3281007d0>"
      ]
     },
     "execution_count": null,
     "metadata": {},
     "output_type": "execute_result"
    },
    {
     "data": {
      "image/png": "[encoded data removed]",
      "text/plain": [
       "<Figure size 640x480 with 2 Axes>"
      ]
     },
     "metadata": {},
     "output_type": "display_data"
    }
   ],
   "source": [
    "# confusion matrix\n",
    "cm_tree_2 = confusion_matrix(y, y_pred2_tree)\n",
    "labels = ha_validation['output'].unique()\n",
    "ConfusionMatrixDisplay(cm_tree_2, display_labels = labels).plot()"
   ]
  },
  {
   "cell_type": "code",
   "execution_count": 343,
   "metadata": {
    "vscode": {
     "languageId": "python"
    }
   },
   "outputs": [
    {
     "name": "stdout",
     "output_type": "stream",
     "text": [
      "ROC AUC score:  0.7248803827751196\n",
      "Precision score:  0.8571428571428571\n",
      "Recall score:  0.631578947368421\n",
      "Classification Report:\n",
      "               precision    recall  f1-score   support\n",
      "\n",
      "           0       0.56      0.82      0.67        11\n",
      "           1       0.86      0.63      0.73        19\n",
      "\n",
      "    accuracy                           0.70        30\n",
      "   macro avg       0.71      0.72      0.70        30\n",
      "weighted avg       0.75      0.70      0.71        30\n",
      "\n",
      "ROC AUC score:  0.7248803827751196\n",
      "Precision score:  0.8571428571428571\n",
      "Recall score:  0.631578947368421\n",
      "Classification Report:\n",
      "               precision    recall  f1-score   support\n",
      "\n",
      "           0       0.56      0.82      0.67        11\n",
      "           1       0.86      0.63      0.73        19\n",
      "\n",
      "    accuracy                           0.70        30\n",
      "   macro avg       0.71      0.72      0.70        30\n",
      "weighted avg       0.75      0.70      0.71        30\n",
      "\n"
     ]
    }
   ],
   "source": [
    "# scores and classification report\n",
    "print(\"ROC AUC score: \", roc_auc_score(y, y_pred2_tree))\n",
    "print(\"Precision score: \", precision_score(y, y_pred2_tree))\n",
    "print(\"Recall score: \", recall_score(y, y_pred2_tree))\n",
    "print(\"Classification Report:\\n\", classification_report(y, y_pred2_tree))"
   ]
  },
  {
   "cell_type": "code",
   "execution_count": 344,
   "metadata": {
    "vscode": {
     "languageId": "python"
    }
   },
   "outputs": [],
   "source": [
    "# store values for further comparison summary\n",
    "tree2_roc_auc = roc_auc_score(y, y_pred2_tree)\n",
    "tree2_precision = precision_score(y, y_pred2_tree)\n",
    "tree2_recall = recall_score(y, y_pred2_tree)"
   ]
  },
  {
   "cell_type": "code",
   "execution_count": 349,
   "metadata": {
    "vscode": {
     "languageId": "python"
    }
   },
   "outputs": [
    {
     "data": {
      "text/html": [
       "<div>\n",
       "<style scoped>\n",
       "    .dataframe tbody tr th:only-of-type {\n",
       "        vertical-align: middle;\n",
       "    }\n",
       "\n",
       "    .dataframe tbody tr th {\n",
       "        vertical-align: top;\n",
       "    }\n",
       "\n",
       "    .dataframe thead th {\n",
       "        text-align: right;\n",
       "    }\n",
       "</style>\n",
       "<table border=\"1\" class=\"dataframe\">\n",
       "  <thead>\n",
       "    <tr style=\"text-align: right;\">\n",
       "      <th></th>\n",
       "      <th>Model</th>\n",
       "      <th>ROC AUC</th>\n",
       "      <th>Precision</th>\n",
       "      <th>Recall</th>\n",
       "    </tr>\n",
       "  </thead>\n",
       "  <tbody>\n",
       "    <tr>\n",
       "      <th>0</th>\n",
       "      <td>KNN 1</td>\n",
       "      <td>0.850684</td>\n",
       "      <td>0.769770</td>\n",
       "      <td>0.821379</td>\n",
       "    </tr>\n",
       "    <tr>\n",
       "      <th>1</th>\n",
       "      <td>KNN 2</td>\n",
       "      <td>0.875598</td>\n",
       "      <td>0.941176</td>\n",
       "      <td>0.842105</td>\n",
       "    </tr>\n",
       "    <tr>\n",
       "      <th>2</th>\n",
       "      <td>LogReg 1</td>\n",
       "      <td>0.856252</td>\n",
       "      <td>0.795389</td>\n",
       "      <td>0.808276</td>\n",
       "    </tr>\n",
       "    <tr>\n",
       "      <th>3</th>\n",
       "      <td>LogReg 2</td>\n",
       "      <td>0.803828</td>\n",
       "      <td>0.882353</td>\n",
       "      <td>0.789474</td>\n",
       "    </tr>\n",
       "    <tr>\n",
       "      <th>4</th>\n",
       "      <td>DecisionTree 1</td>\n",
       "      <td>0.820614</td>\n",
       "      <td>0.798601</td>\n",
       "      <td>0.760460</td>\n",
       "    </tr>\n",
       "    <tr>\n",
       "      <th>5</th>\n",
       "      <td>DecisionTree 2</td>\n",
       "      <td>0.724880</td>\n",
       "      <td>0.857143</td>\n",
       "      <td>0.631579</td>\n",
       "    </tr>\n",
       "  </tbody>\n",
       "</table>\n",
       "</div>"
      ],
      "text/plain": [
       "            Model   ROC AUC  Precision    Recall\n",
       "0           KNN 1  0.850684   0.769770  0.821379\n",
       "1           KNN 2  0.875598   0.941176  0.842105\n",
       "2        LogReg 1  0.856252   0.795389  0.808276\n",
       "3        LogReg 2  0.803828   0.882353  0.789474\n",
       "4  DecisionTree 1  0.820614   0.798601  0.760460\n",
       "5  DecisionTree 2  0.724880   0.857143  0.631579"
      ]
     },
     "execution_count": null,
     "metadata": {},
     "output_type": "execute_result"
    }
   ],
   "source": [
    "# compare results in a dataframe\n",
    "\n",
    "df_all_models = pd.DataFrame({\n",
    "    'Model': ['KNN 1', 'KNN 2', 'LogReg 1', 'LogReg 2', 'DecisionTree 1', 'DecisionTree 2'],\n",
    "    'ROC AUC': [knn1_roc_auc, knn2_roc_auc, logreg1_roc_auc, logreg2_roc_auc, tree1_roc_auc, tree2_roc_auc],\n",
    "    'Precision': [knn1_precision, knn2_precision, logreg1_precision, logreg2_precision, tree1_precision, tree2_precision],\n",
    "    'Recall': [knn1_recall, knn2_recall, logreg1_recall, logreg2_recall, tree1_recall, tree2_recall]\n",
    "    })\n",
    "df_all_models"
   ]
  },
  {
   "cell_type": "markdown",
   "metadata": {},
   "source": [
    "As we can see, KNN is the only model from which prediction on the validation dataset outperfomed the intitial cross-validated dataset across all three metrics 'ROC AUC', 'Precision' and 'Recall'.\n",
    "Logistic Regression had comparable scores between 1 and 2 on Recall, a lower ROC but a substantially higher Precision score on validation data 2.\n",
    "As for the Decision Tree model, the validation data 2 prediction scores on ROC AUC and Recall were substantially lower than with the cross-validated data 1. The precision score increased in the validation data set.\n",
    "\n",
    "Overall, KNN appears to be 'the best' predictive model in this case."
   ]
  },
  {
   "cell_type": "markdown",
   "metadata": {},
   "source": [
    "## Part Five: Cohen’s Kappa"
   ]
  },
  {
   "cell_type": "code",
   "execution_count": 352,
   "metadata": {
    "vscode": {
     "languageId": "python"
    }
   },
   "outputs": [
    {
     "name": "stderr",
     "output_type": "stream",
     "text": [
      "/opt/anaconda3/lib/python3.12/site-packages/sklearn/linear_model/_logistic.py:1175: UserWarning: l1_ratio parameter is only used when penalty is 'elasticnet'. Got (penalty=l1)\n",
      "/opt/anaconda3/lib/python3.12/site-packages/sklearn/linear_model/_logistic.py:1175: UserWarning: l1_ratio parameter is only used when penalty is 'elasticnet'. Got (penalty=l1)\n",
      "/opt/anaconda3/lib/python3.12/site-packages/sklearn/linear_model/_logistic.py:1175: UserWarning: l1_ratio parameter is only used when penalty is 'elasticnet'. Got (penalty=l1)\n",
      "/opt/anaconda3/lib/python3.12/site-packages/sklearn/linear_model/_logistic.py:1175: UserWarning: l1_ratio parameter is only used when penalty is 'elasticnet'. Got (penalty=l1)\n",
      "/opt/anaconda3/lib/python3.12/site-packages/sklearn/linear_model/_logistic.py:1175: UserWarning: l1_ratio parameter is only used when penalty is 'elasticnet'. Got (penalty=l1)\n"
     ]
    }
   ],
   "source": [
    "y_pred1_knn = cross_val_predict(best_knn, X, y, cv=5)\n",
    "y_pred1_logreg = cross_val_predict(best_logreg, X, y, cv=5)\n",
    "y_pred1_tree = cross_val_predict(best_tree, X, y, cv=5)"
   ]
  },
  {
   "cell_type": "code",
   "execution_count": 355,
   "metadata": {
    "vscode": {
     "languageId": "python"
    }
   },
   "outputs": [],
   "source": [
    "knn1_kappa = cohen_kappa_score(y, y_pred1_knn)\n",
    "logreg1_kappa = cohen_kappa_score(y, y_pred1_logreg)\n",
    "tree1_kappa = cohen_kappa_score(y, y_pred1_tree)"
   ]
  },
  {
   "cell_type": "code",
   "execution_count": 357,
   "metadata": {
    "vscode": {
     "languageId": "python"
    }
   },
   "outputs": [
    {
     "data": {
      "text/html": [
       "<div>\n",
       "<style scoped>\n",
       "    .dataframe tbody tr th:only-of-type {\n",
       "        vertical-align: middle;\n",
       "    }\n",
       "\n",
       "    .dataframe tbody tr th {\n",
       "        vertical-align: top;\n",
       "    }\n",
       "\n",
       "    .dataframe thead th {\n",
       "        text-align: right;\n",
       "    }\n",
       "</style>\n",
       "<table border=\"1\" class=\"dataframe\">\n",
       "  <thead>\n",
       "    <tr style=\"text-align: right;\">\n",
       "      <th></th>\n",
       "      <th>Model</th>\n",
       "      <th>Cohen Kappa</th>\n",
       "    </tr>\n",
       "  </thead>\n",
       "  <tbody>\n",
       "    <tr>\n",
       "      <th>0</th>\n",
       "      <td>KNN 1</td>\n",
       "      <td>0.541226</td>\n",
       "    </tr>\n",
       "    <tr>\n",
       "      <th>1</th>\n",
       "      <td>LogReg 1</td>\n",
       "      <td>0.564993</td>\n",
       "    </tr>\n",
       "    <tr>\n",
       "      <th>2</th>\n",
       "      <td>DecisionTree 1</td>\n",
       "      <td>0.537872</td>\n",
       "    </tr>\n",
       "  </tbody>\n",
       "</table>\n",
       "</div>"
      ],
      "text/plain": [
       "            Model  Cohen Kappa\n",
       "0           KNN 1     0.541226\n",
       "1        LogReg 1     0.564993\n",
       "2  DecisionTree 1     0.537872"
      ]
     },
     "execution_count": null,
     "metadata": {},
     "output_type": "execute_result"
    }
   ],
   "source": [
    "df_kappa_1 = pd.DataFrame({\n",
    "    'Model': ['KNN 1', 'LogReg 1', 'DecisionTree 1'],\n",
    "    'Cohen Kappa': [knn1_kappa, logreg1_kappa, tree1_kappa]\n",
    "    })\n",
    "df_kappa_1"
   ]
  },
  {
   "cell_type": "markdown",
   "metadata": {},
   "source": [
    "When analyzing the results of the models from 'Part One' based on Cohen's Kappa, a 'Logistic Regression' has a slightly higher score than 'KNN' and 'Decision Tree' (implying that Logistic Regression model may be better at generalizating and provide more accurate predictions), however the difference in scores between the models are fairly minor <5%. All of the models fall under 'Moderate Agreement' range [0.41-0.60] and neither are performing exceptionally well when compared by this metric.\n",
    "\n",
    "The above results are somewhat consistent with prior findings, when comparing between 'KNN' and 'LogReg' switching between first and runner-up on certain metrics scores, although this metric shows that both models are not as predictive validity is not as strong as measured by other metrics earlier. It may be good to include Cohen Kappa when comapring and choosing between either of these models for specific use-case scenario and also during the process alongside other metrics such as 'ROC AUC', 'precision' and 'recall'."
   ]
  },
  {
   "cell_type": "markdown",
   "metadata": {},
   "source": [
    "## APPENDIX"
   ]
  },
  {
   "cell_type": "markdown",
   "metadata": {},
   "source": [
    "## 1. Variables selection with Lasso regression"
   ]
  },
  {
   "cell_type": "code",
   "execution_count": 164,
   "metadata": {
    "vscode": {
     "languageId": "python"
    }
   },
   "outputs": [
    {
     "name": "stdout",
     "output_type": "stream",
     "text": [
      "Best C: 0.5689866029018293\n",
      "Selected features: Index(['age', 'sex', 'cp', 'trtbps', 'chol', 'restecg', 'thalach'], dtype='object')\n",
      "Best C: 0.5689866029018293\n",
      "Selected features: Index(['age', 'sex', 'cp', 'trtbps', 'chol', 'restecg', 'thalach'], dtype='object')\n"
     ]
    }
   ],
   "source": [
    "# Verifying best predictor variables selection with Lasso regression # Assisted by ChatGPT\n",
    "# Lasso pipeline\n",
    "\n",
    "lasso_pipeline = Pipeline(\n",
    "    [(\"preprocessing\", ct),\n",
    "    (\"lasso\", Lasso())]\n",
    ").set_output(transform=\"pandas\")\n",
    "\n",
    "\n",
    "param_grid = {'C': np.logspace(-4, 4, 50)}  # Test C values on a log scale \n",
    "gsvc = GridSearchCV(lasso, param_grid, cv=5, scoring='roc_auc')\n",
    "gsvc.fit(X, y)\n",
    "\n",
    "# Best regularization parameter\n",
    "print(\"Best C:\", gsvc.best_params_['C'])\n",
    "\n",
    "# Fit Lasso with the best C\n",
    "best_lasso = gsvc.best_estimator_\n",
    "fitted_lasso = best_lasso.fit(X, y)\n",
    "\n",
    "# Extract selected features\n",
    "selected_features = X.columns[best_lasso.coef_[0] != 0]\n",
    "print(\"Selected features:\", selected_features)"
   ]
  },
  {
   "cell_type": "code",
   "execution_count": 51,
   "metadata": {
    "vscode": {
     "languageId": "python"
    }
   },
   "outputs": [
    {
     "data": {
      "text/html": [
       "<div>\n",
       "<style scoped>\n",
       "    .dataframe tbody tr th:only-of-type {\n",
       "        vertical-align: middle;\n",
       "    }\n",
       "\n",
       "    .dataframe tbody tr th {\n",
       "        vertical-align: top;\n",
       "    }\n",
       "\n",
       "    .dataframe thead th {\n",
       "        text-align: right;\n",
       "    }\n",
       "</style>\n",
       "<table border=\"1\" class=\"dataframe\">\n",
       "  <thead>\n",
       "    <tr style=\"text-align: right;\">\n",
       "      <th></th>\n",
       "      <th>Variable</th>\n",
       "      <th>Coef_Lasso</th>\n",
       "    </tr>\n",
       "  </thead>\n",
       "  <tbody>\n",
       "    <tr>\n",
       "      <th>2</th>\n",
       "      <td>cp</td>\n",
       "      <td>0.147389</td>\n",
       "    </tr>\n",
       "    <tr>\n",
       "      <th>6</th>\n",
       "      <td>thalach</td>\n",
       "      <td>0.127908</td>\n",
       "    </tr>\n",
       "    <tr>\n",
       "      <th>5</th>\n",
       "      <td>restecg</td>\n",
       "      <td>0.020977</td>\n",
       "    </tr>\n",
       "    <tr>\n",
       "      <th>4</th>\n",
       "      <td>chol</td>\n",
       "      <td>-0.026699</td>\n",
       "    </tr>\n",
       "    <tr>\n",
       "      <th>0</th>\n",
       "      <td>age</td>\n",
       "      <td>-0.034514</td>\n",
       "    </tr>\n",
       "    <tr>\n",
       "      <th>3</th>\n",
       "      <td>trtbps</td>\n",
       "      <td>-0.049645</td>\n",
       "    </tr>\n",
       "    <tr>\n",
       "      <th>1</th>\n",
       "      <td>sex</td>\n",
       "      <td>-0.137539</td>\n",
       "    </tr>\n",
       "  </tbody>\n",
       "</table>\n",
       "</div>"
      ],
      "text/plain": [
       "  Variable  Coef_Lasso\n",
       "2       cp    0.147389\n",
       "6  thalach    0.127908\n",
       "5  restecg    0.020977\n",
       "4     chol   -0.026699\n",
       "0      age   -0.034514\n",
       "3   trtbps   -0.049645\n",
       "1      sex   -0.137539"
      ]
     },
     "execution_count": null,
     "metadata": {},
     "output_type": "execute_result"
    }
   ],
   "source": [
    "# df of coefficients # note: output from another 'messy' Lasso model\n",
    "\n",
    "coef_df_Lasso = pd.DataFrame({'Variable': beta_headers, 'Coef_Lasso': lasso_fitted.named_steps['lasso_regression'].coef_})\n",
    "coef_df_Lasso.sort_values(by=['Coef_Lasso'], ascending=False)"
   ]
  }
 ],
 "metadata": {
  "language_info": {
   "name": "raw"
  }
 },
 "nbformat": 4,
 "nbformat_minor": 2
}
