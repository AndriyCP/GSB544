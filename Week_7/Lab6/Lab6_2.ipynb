{
 "cells": [
  {
   "cell_type": "raw",
   "metadata": {},
   "source": [
    "---\n",
    "title: \"544: Lab 6 - Variable Selection and Regularization\"\n",
    "author: \"Andriy Uspishnyi\"\n",
    "date: \"2024-11-11\"\n",
    "output: \n",
    "  html_document:\n",
    "    theme: \"cosmo\" \n",
    "embed-resources: true\n",
    "---"
   ]
  },
  {
   "cell_type": "code",
   "execution_count": 104,
   "metadata": {
    "vscode": {
     "languageId": "python"
    }
   },
   "outputs": [],
   "source": [
    "# install packages and libraries\n",
    "\n",
    "import pandas as pd\n",
    "import numpy as np\n",
    "from sklearn.pipeline import Pipeline\n",
    "from sklearn.compose import make_column_selector, ColumnTransformer\n",
    "from sklearn.preprocessing import StandardScaler, OneHotEncoder, PolynomialFeatures\n",
    "from sklearn.linear_model import LinearRegression, Ridge, Lasso, ElasticNet \n",
    "from sklearn.model_selection import train_test_split, cross_val_score, GridSearchCV\n",
    "from sklearn.metrics import r2_score, mean_squared_error"
   ]
  },
  {
   "cell_type": "code",
   "execution_count": 105,
   "metadata": {
    "vscode": {
     "languageId": "python"
    }
   },
   "outputs": [
    {
     "data": {
      "text/html": [
       "<div>\n",
       "<style scoped>\n",
       "    .dataframe tbody tr th:only-of-type {\n",
       "        vertical-align: middle;\n",
       "    }\n",
       "\n",
       "    .dataframe tbody tr th {\n",
       "        vertical-align: top;\n",
       "    }\n",
       "\n",
       "    .dataframe thead th {\n",
       "        text-align: right;\n",
       "    }\n",
       "</style>\n",
       "<table border=\"1\" class=\"dataframe\">\n",
       "  <thead>\n",
       "    <tr style=\"text-align: right;\">\n",
       "      <th></th>\n",
       "      <th>AtBat</th>\n",
       "      <th>Hits</th>\n",
       "      <th>HmRun</th>\n",
       "      <th>Runs</th>\n",
       "      <th>RBI</th>\n",
       "      <th>Walks</th>\n",
       "      <th>Years</th>\n",
       "      <th>CAtBat</th>\n",
       "      <th>CHits</th>\n",
       "      <th>CHmRun</th>\n",
       "      <th>CRuns</th>\n",
       "      <th>CRBI</th>\n",
       "      <th>CWalks</th>\n",
       "      <th>League</th>\n",
       "      <th>Division</th>\n",
       "      <th>PutOuts</th>\n",
       "      <th>Assists</th>\n",
       "      <th>Errors</th>\n",
       "      <th>Salary</th>\n",
       "      <th>NewLeague</th>\n",
       "    </tr>\n",
       "  </thead>\n",
       "  <tbody>\n",
       "    <tr>\n",
       "      <th>0</th>\n",
       "      <td>293</td>\n",
       "      <td>66</td>\n",
       "      <td>1</td>\n",
       "      <td>30</td>\n",
       "      <td>29</td>\n",
       "      <td>14</td>\n",
       "      <td>1</td>\n",
       "      <td>293</td>\n",
       "      <td>66</td>\n",
       "      <td>1</td>\n",
       "      <td>30</td>\n",
       "      <td>29</td>\n",
       "      <td>14</td>\n",
       "      <td>A</td>\n",
       "      <td>E</td>\n",
       "      <td>446</td>\n",
       "      <td>33</td>\n",
       "      <td>20</td>\n",
       "      <td>NaN</td>\n",
       "      <td>A</td>\n",
       "    </tr>\n",
       "    <tr>\n",
       "      <th>1</th>\n",
       "      <td>315</td>\n",
       "      <td>81</td>\n",
       "      <td>7</td>\n",
       "      <td>24</td>\n",
       "      <td>38</td>\n",
       "      <td>39</td>\n",
       "      <td>14</td>\n",
       "      <td>3449</td>\n",
       "      <td>835</td>\n",
       "      <td>69</td>\n",
       "      <td>321</td>\n",
       "      <td>414</td>\n",
       "      <td>375</td>\n",
       "      <td>N</td>\n",
       "      <td>W</td>\n",
       "      <td>632</td>\n",
       "      <td>43</td>\n",
       "      <td>10</td>\n",
       "      <td>475.0</td>\n",
       "      <td>N</td>\n",
       "    </tr>\n",
       "    <tr>\n",
       "      <th>2</th>\n",
       "      <td>479</td>\n",
       "      <td>130</td>\n",
       "      <td>18</td>\n",
       "      <td>66</td>\n",
       "      <td>72</td>\n",
       "      <td>76</td>\n",
       "      <td>3</td>\n",
       "      <td>1624</td>\n",
       "      <td>457</td>\n",
       "      <td>63</td>\n",
       "      <td>224</td>\n",
       "      <td>266</td>\n",
       "      <td>263</td>\n",
       "      <td>A</td>\n",
       "      <td>W</td>\n",
       "      <td>880</td>\n",
       "      <td>82</td>\n",
       "      <td>14</td>\n",
       "      <td>480.0</td>\n",
       "      <td>A</td>\n",
       "    </tr>\n",
       "    <tr>\n",
       "      <th>3</th>\n",
       "      <td>496</td>\n",
       "      <td>141</td>\n",
       "      <td>20</td>\n",
       "      <td>65</td>\n",
       "      <td>78</td>\n",
       "      <td>37</td>\n",
       "      <td>11</td>\n",
       "      <td>5628</td>\n",
       "      <td>1575</td>\n",
       "      <td>225</td>\n",
       "      <td>828</td>\n",
       "      <td>838</td>\n",
       "      <td>354</td>\n",
       "      <td>N</td>\n",
       "      <td>E</td>\n",
       "      <td>200</td>\n",
       "      <td>11</td>\n",
       "      <td>3</td>\n",
       "      <td>500.0</td>\n",
       "      <td>N</td>\n",
       "    </tr>\n",
       "    <tr>\n",
       "      <th>4</th>\n",
       "      <td>321</td>\n",
       "      <td>87</td>\n",
       "      <td>10</td>\n",
       "      <td>39</td>\n",
       "      <td>42</td>\n",
       "      <td>30</td>\n",
       "      <td>2</td>\n",
       "      <td>396</td>\n",
       "      <td>101</td>\n",
       "      <td>12</td>\n",
       "      <td>48</td>\n",
       "      <td>46</td>\n",
       "      <td>33</td>\n",
       "      <td>N</td>\n",
       "      <td>E</td>\n",
       "      <td>805</td>\n",
       "      <td>40</td>\n",
       "      <td>4</td>\n",
       "      <td>91.5</td>\n",
       "      <td>N</td>\n",
       "    </tr>\n",
       "  </tbody>\n",
       "</table>\n",
       "</div>"
      ],
      "text/plain": [
       "   AtBat  Hits  HmRun  Runs  RBI  Walks  Years  CAtBat  CHits  CHmRun  CRuns  CRBI  CWalks League Division  PutOuts  Assists  Errors  Salary NewLeague\n",
       "0    293    66      1    30   29     14      1     293     66       1     30    29      14      A        E      446       33      20     NaN         A\n",
       "1    315    81      7    24   38     39     14    3449    835      69    321   414     375      N        W      632       43      10   475.0         N\n",
       "2    479   130     18    66   72     76      3    1624    457      63    224   266     263      A        W      880       82      14   480.0         A\n",
       "3    496   141     20    65   78     37     11    5628   1575     225    828   838     354      N        E      200       11       3   500.0         N\n",
       "4    321    87     10    39   42     30      2     396    101      12     48    46      33      N        E      805       40       4    91.5         N"
      ]
     },
     "execution_count": null,
     "metadata": {},
     "output_type": "execute_result"
    }
   ],
   "source": [
    "# Read the data\n",
    "bbp = pd.read_csv(\"/Users/andriy/Desktop/GSB544_ML/Week_7/Lab6/Hitters.csv\")\n",
    "\n",
    "bbp.head()\n"
   ]
  },
  {
   "cell_type": "markdown",
   "metadata": {},
   "source": [
    "Categorical variables for dummification:\n",
    "'League'\n",
    "'Division'\n",
    "'NewLeague'"
   ]
  },
  {
   "cell_type": "code",
   "execution_count": 106,
   "metadata": {
    "vscode": {
     "languageId": "python"
    }
   },
   "outputs": [],
   "source": [
    "check_cols = bbp.isna().sum()"
   ]
  },
  {
   "cell_type": "markdown",
   "metadata": {},
   "source": [
    "NA values appear in Salary column, which is a target variable. Therefore, dropna should fix the issue."
   ]
  },
  {
   "cell_type": "code",
   "execution_count": 319,
   "metadata": {
    "vscode": {
     "languageId": "python"
    }
   },
   "outputs": [],
   "source": [
    "# Drop other NAs\n",
    "bbp = bbp.dropna()"
   ]
  },
  {
   "cell_type": "code",
   "execution_count": 6,
   "metadata": {
    "vscode": {
     "languageId": "python"
    }
   },
   "outputs": [
    {
     "data": {
      "text/plain": [
       "263"
      ]
     },
     "execution_count": null,
     "metadata": {},
     "output_type": "execute_result"
    }
   ],
   "source": [
    "len(bbp) \n",
    "# 263 rows without na "
   ]
  },
  {
   "cell_type": "code",
   "execution_count": 108,
   "metadata": {
    "vscode": {
     "languageId": "python"
    }
   },
   "outputs": [
    {
     "name": "stdout",
     "output_type": "stream",
     "text": [
      "<class 'pandas.core.frame.DataFrame'>\n",
      "Index: 263 entries, 1 to 321\n",
      "Data columns (total 20 columns):\n",
      " #   Column     Non-Null Count  Dtype  \n",
      "---  ------     --------------  -----  \n",
      " 0   AtBat      263 non-null    int64  \n",
      " 1   Hits       263 non-null    int64  \n",
      " 2   HmRun      263 non-null    int64  \n",
      " 3   Runs       263 non-null    int64  \n",
      " 4   RBI        263 non-null    int64  \n",
      " 5   Walks      263 non-null    int64  \n",
      " 6   Years      263 non-null    int64  \n",
      " 7   CAtBat     263 non-null    int64  \n",
      " 8   CHits      263 non-null    int64  \n",
      " 9   CHmRun     263 non-null    int64  \n",
      " 10  CRuns      263 non-null    int64  \n",
      " 11  CRBI       263 non-null    int64  \n",
      " 12  CWalks     263 non-null    int64  \n",
      " 13  League     263 non-null    object \n",
      " 14  Division   263 non-null    object \n",
      " 15  PutOuts    263 non-null    int64  \n",
      " 16  Assists    263 non-null    int64  \n",
      " 17  Errors     263 non-null    int64  \n",
      " 18  Salary     263 non-null    float64\n",
      " 19  NewLeague  263 non-null    object \n",
      "dtypes: float64(1), int64(16), object(3)\n",
      "memory usage: 43.1+ KB\n",
      "<class 'pandas.core.frame.DataFrame'>\n",
      "Index: 263 entries, 1 to 321\n",
      "Data columns (total 20 columns):\n",
      " #   Column     Non-Null Count  Dtype  \n",
      "---  ------     --------------  -----  \n",
      " 0   AtBat      263 non-null    int64  \n",
      " 1   Hits       263 non-null    int64  \n",
      " 2   HmRun      263 non-null    int64  \n",
      " 3   Runs       263 non-null    int64  \n",
      " 4   RBI        263 non-null    int64  \n",
      " 5   Walks      263 non-null    int64  \n",
      " 6   Years      263 non-null    int64  \n",
      " 7   CAtBat     263 non-null    int64  \n",
      " 8   CHits      263 non-null    int64  \n",
      " 9   CHmRun     263 non-null    int64  \n",
      " 10  CRuns      263 non-null    int64  \n",
      " 11  CRBI       263 non-null    int64  \n",
      " 12  CWalks     263 non-null    int64  \n",
      " 13  League     263 non-null    object \n",
      " 14  Division   263 non-null    object \n",
      " 15  PutOuts    263 non-null    int64  \n",
      " 16  Assists    263 non-null    int64  \n",
      " 17  Errors     263 non-null    int64  \n",
      " 18  Salary     263 non-null    float64\n",
      " 19  NewLeague  263 non-null    object \n",
      "dtypes: float64(1), int64(16), object(3)\n",
      "memory usage: 43.1+ KB\n"
     ]
    }
   ],
   "source": [
    "bbp.info()"
   ]
  },
  {
   "cell_type": "markdown",
   "metadata": {},
   "source": [
    "# Part I: Different Model Specs"
   ]
  },
  {
   "cell_type": "code",
   "execution_count": 109,
   "metadata": {
    "vscode": {
     "languageId": "python"
    }
   },
   "outputs": [],
   "source": [
    "# Select variables\n",
    "X = bbp.drop([\"Salary\"], axis = 1)\n",
    "y = bbp[\"Salary\"]"
   ]
  },
  {
   "cell_type": "markdown",
   "metadata": {},
   "source": [
    "## A. Regression without regularization\n"
   ]
  },
  {
   "cell_type": "code",
   "execution_count": 207,
   "metadata": {
    "vscode": {
     "languageId": "python"
    }
   },
   "outputs": [],
   "source": [
    "# 1. Set up the pipeline\n",
    "\n",
    "ct = ColumnTransformer(\n",
    "  [\n",
    "    (\"dummify\", \n",
    "    OneHotEncoder(sparse_output = False, handle_unknown='ignore', drop=\"first\"), ## use drop=\"first\" to holdout one of the dummy variable columns as reference\n",
    "    make_column_selector(dtype_include=object)),\n",
    "    (\"standardize\", \n",
    "    StandardScaler(), \n",
    "    make_column_selector(dtype_include=np.number))\n",
    "  ],\n",
    "  remainder = \"passthrough\"\n",
    ").set_output(transform=\"pandas\")\n",
    "\n",
    "lr_pipeline_1 = Pipeline(\n",
    "  [(\"preprocessing\", ct),\n",
    "  (\"linear_regression\", LinearRegression())]\n",
    ").set_output(transform=\"pandas\")"
   ]
  },
  {
   "cell_type": "code",
   "execution_count": 111,
   "metadata": {
    "vscode": {
     "languageId": "python"
    }
   },
   "outputs": [],
   "source": [
    "X_head = ct.fit_transform(X).head()"
   ]
  },
  {
   "cell_type": "code",
   "execution_count": 112,
   "metadata": {
    "vscode": {
     "languageId": "python"
    }
   },
   "outputs": [
    {
     "data": {
      "text/html": [
       "<div>\n",
       "<style scoped>\n",
       "    .dataframe tbody tr th:only-of-type {\n",
       "        vertical-align: middle;\n",
       "    }\n",
       "\n",
       "    .dataframe tbody tr th {\n",
       "        vertical-align: top;\n",
       "    }\n",
       "\n",
       "    .dataframe thead th {\n",
       "        text-align: right;\n",
       "    }\n",
       "</style>\n",
       "<table border=\"1\" class=\"dataframe\">\n",
       "  <thead>\n",
       "    <tr style=\"text-align: right;\">\n",
       "      <th></th>\n",
       "      <th>dummify__League_N</th>\n",
       "      <th>dummify__Division_W</th>\n",
       "      <th>dummify__NewLeague_N</th>\n",
       "      <th>standardize__AtBat</th>\n",
       "      <th>standardize__Hits</th>\n",
       "      <th>standardize__HmRun</th>\n",
       "      <th>standardize__Runs</th>\n",
       "      <th>standardize__RBI</th>\n",
       "      <th>standardize__Walks</th>\n",
       "      <th>standardize__Years</th>\n",
       "      <th>standardize__CAtBat</th>\n",
       "      <th>standardize__CHits</th>\n",
       "      <th>standardize__CHmRun</th>\n",
       "      <th>standardize__CRuns</th>\n",
       "      <th>standardize__CRBI</th>\n",
       "      <th>standardize__CWalks</th>\n",
       "      <th>standardize__PutOuts</th>\n",
       "      <th>standardize__Assists</th>\n",
       "      <th>standardize__Errors</th>\n",
       "    </tr>\n",
       "  </thead>\n",
       "  <tbody>\n",
       "    <tr>\n",
       "      <th>1</th>\n",
       "      <td>1.0</td>\n",
       "      <td>1.0</td>\n",
       "      <td>1.0</td>\n",
       "      <td>-0.602900</td>\n",
       "      <td>-0.595675</td>\n",
       "      <td>-0.528551</td>\n",
       "      <td>-1.206112</td>\n",
       "      <td>-0.522063</td>\n",
       "      <td>-0.097527</td>\n",
       "      <td>1.397893</td>\n",
       "      <td>0.346791</td>\n",
       "      <td>0.174373</td>\n",
       "      <td>-0.002920</td>\n",
       "      <td>-0.121671</td>\n",
       "      <td>0.258966</td>\n",
       "      <td>0.435334</td>\n",
       "      <td>1.221499</td>\n",
       "      <td>-0.523191</td>\n",
       "      <td>0.213352</td>\n",
       "    </tr>\n",
       "    <tr>\n",
       "      <th>2</th>\n",
       "      <td>0.0</td>\n",
       "      <td>1.0</td>\n",
       "      <td>0.0</td>\n",
       "      <td>0.512542</td>\n",
       "      <td>0.492260</td>\n",
       "      <td>0.729966</td>\n",
       "      <td>0.441515</td>\n",
       "      <td>0.794060</td>\n",
       "      <td>1.609373</td>\n",
       "      <td>-0.901200</td>\n",
       "      <td>-0.452865</td>\n",
       "      <td>-0.409892</td>\n",
       "      <td>-0.076054</td>\n",
       "      <td>-0.415105</td>\n",
       "      <td>-0.199590</td>\n",
       "      <td>0.010373</td>\n",
       "      <td>2.109109</td>\n",
       "      <td>-0.253863</td>\n",
       "      <td>0.819964</td>\n",
       "    </tr>\n",
       "    <tr>\n",
       "      <th>3</th>\n",
       "      <td>1.0</td>\n",
       "      <td>0.0</td>\n",
       "      <td>1.0</td>\n",
       "      <td>0.628167</td>\n",
       "      <td>0.736490</td>\n",
       "      <td>0.958788</td>\n",
       "      <td>0.402286</td>\n",
       "      <td>1.026317</td>\n",
       "      <td>-0.189792</td>\n",
       "      <td>0.770868</td>\n",
       "      <td>1.301558</td>\n",
       "      <td>1.318174</td>\n",
       "      <td>1.898565</td>\n",
       "      <td>1.412051</td>\n",
       "      <td>1.572666</td>\n",
       "      <td>0.355654</td>\n",
       "      <td>-0.324661</td>\n",
       "      <td>-0.744179</td>\n",
       "      <td>-0.848219</td>\n",
       "    </tr>\n",
       "    <tr>\n",
       "      <th>4</th>\n",
       "      <td>1.0</td>\n",
       "      <td>0.0</td>\n",
       "      <td>1.0</td>\n",
       "      <td>-0.562092</td>\n",
       "      <td>-0.462459</td>\n",
       "      <td>-0.185319</td>\n",
       "      <td>-0.617673</td>\n",
       "      <td>-0.367225</td>\n",
       "      <td>-0.512719</td>\n",
       "      <td>-1.110209</td>\n",
       "      <td>-0.990935</td>\n",
       "      <td>-0.960153</td>\n",
       "      <td>-0.697693</td>\n",
       "      <td>-0.947521</td>\n",
       "      <td>-0.881228</td>\n",
       "      <td>-0.862315</td>\n",
       "      <td>1.840678</td>\n",
       "      <td>-0.543909</td>\n",
       "      <td>-0.696566</td>\n",
       "    </tr>\n",
       "    <tr>\n",
       "      <th>5</th>\n",
       "      <td>0.0</td>\n",
       "      <td>1.0</td>\n",
       "      <td>0.0</td>\n",
       "      <td>1.294712</td>\n",
       "      <td>1.358167</td>\n",
       "      <td>-0.871783</td>\n",
       "      <td>0.755349</td>\n",
       "      <td>-0.018840</td>\n",
       "      <td>-0.282057</td>\n",
       "      <td>0.770868</td>\n",
       "      <td>0.766993</td>\n",
       "      <td>0.634985</td>\n",
       "      <td>-0.612370</td>\n",
       "      <td>0.422846</td>\n",
       "      <td>0.017294</td>\n",
       "      <td>-0.251434</td>\n",
       "      <td>-0.031177</td>\n",
       "      <td>2.087225</td>\n",
       "      <td>2.488147</td>\n",
       "    </tr>\n",
       "  </tbody>\n",
       "</table>\n",
       "</div>"
      ],
      "text/plain": [
       "   dummify__League_N  dummify__Division_W  dummify__NewLeague_N  standardize__AtBat  standardize__Hits  standardize__HmRun  standardize__Runs  ...  standardize__CHmRun  standardize__CRuns  standardize__CRBI  standardize__CWalks  standardize__PutOuts  standardize__Assists  standardize__Errors\n",
       "1                1.0                  1.0                   1.0           -0.602900          -0.595675           -0.528551          -1.206112  ...            -0.002920           -0.121671           0.258966             0.435334              1.221499             -0.523191             0.213352\n",
       "2                0.0                  1.0                   0.0            0.512542           0.492260            0.729966           0.441515  ...            -0.076054           -0.415105          -0.199590             0.010373              2.109109             -0.253863             0.819964\n",
       "3                1.0                  0.0                   1.0            0.628167           0.736490            0.958788           0.402286  ...             1.898565            1.412051           1.572666             0.355654             -0.324661             -0.744179            -0.848219\n",
       "4                1.0                  0.0                   1.0           -0.562092          -0.462459           -0.185319          -0.617673  ...            -0.697693           -0.947521          -0.881228            -0.862315              1.840678             -0.543909            -0.696566\n",
       "5                0.0                  1.0                   0.0            1.294712           1.358167           -0.871783           0.755349  ...            -0.612370            0.422846           0.017294            -0.251434             -0.031177              2.087225             2.488147\n",
       "\n",
       "[5 rows x 19 columns]"
      ]
     },
     "execution_count": null,
     "metadata": {},
     "output_type": "execute_result"
    }
   ],
   "source": [
    "X_head"
   ]
  },
  {
   "cell_type": "code",
   "execution_count": 113,
   "metadata": {
    "vscode": {
     "languageId": "python"
    }
   },
   "outputs": [
    {
     "data": {
      "text/plain": [
       "array([  62.59942304, -116.84924564,  -24.76232511, -291.0945557 ,  337.83047948,   37.85383676,  -60.57247861,  -26.99498379,  135.07389695,  -16.69335888, -391.03865466,   86.68761664,  -14.18172332,  480.74713477,  260.68988581, -213.89225864,   78.76129639,   53.73248973,\n",
       "        -22.16086217])"
      ]
     },
     "execution_count": null,
     "metadata": {},
     "output_type": "execute_result"
    }
   ],
   "source": [
    "# 2. fit the pipeline on whole dataset\n",
    "\n",
    "lr_fitted = lr_pipeline_1.fit(X, y)\n",
    "\n",
    "lr_fitted.named_steps['linear_regression'].coef_"
   ]
  },
  {
   "cell_type": "code",
   "execution_count": 114,
   "metadata": {
    "vscode": {
     "languageId": "python"
    }
   },
   "outputs": [],
   "source": [
    "# create dataframe with betas and header # assisted by ChatGPT\n",
    "\n",
    "columns_to_extract = X_head.columns.tolist()  # list of columns from 'X head'\n",
    "beta_headers = [col for col in columns_to_extract if col != X_head.index.name] # Ensures index column is skipped"
   ]
  },
  {
   "cell_type": "code",
   "execution_count": 105,
   "metadata": {
    "vscode": {
     "languageId": "python"
    }
   },
   "outputs": [],
   "source": [
    "# len(beta_headers)"
   ]
  },
  {
   "cell_type": "code",
   "execution_count": 43,
   "metadata": {
    "vscode": {
     "languageId": "python"
    }
   },
   "outputs": [],
   "source": [
    "# beta_headers"
   ]
  },
  {
   "cell_type": "code",
   "execution_count": 35,
   "metadata": {
    "vscode": {
     "languageId": "python"
    }
   },
   "outputs": [],
   "source": [
    "# len(lr_fitted.named_steps['linear_regression'].coef_)"
   ]
  },
  {
   "cell_type": "code",
   "execution_count": 115,
   "metadata": {
    "vscode": {
     "languageId": "python"
    }
   },
   "outputs": [],
   "source": [
    "# Merging the lists into a DataFrame\n",
    "coef_df_LR = pd.DataFrame({'Variable': beta_headers, 'Coef_LR': lr_fitted.named_steps['linear_regression'].coef_})"
   ]
  },
  {
   "cell_type": "code",
   "execution_count": 116,
   "metadata": {
    "vscode": {
     "languageId": "python"
    }
   },
   "outputs": [
    {
     "data": {
      "text/html": [
       "<div>\n",
       "<style scoped>\n",
       "    .dataframe tbody tr th:only-of-type {\n",
       "        vertical-align: middle;\n",
       "    }\n",
       "\n",
       "    .dataframe tbody tr th {\n",
       "        vertical-align: top;\n",
       "    }\n",
       "\n",
       "    .dataframe thead th {\n",
       "        text-align: right;\n",
       "    }\n",
       "</style>\n",
       "<table border=\"1\" class=\"dataframe\">\n",
       "  <thead>\n",
       "    <tr style=\"text-align: right;\">\n",
       "      <th></th>\n",
       "      <th>Variable</th>\n",
       "      <th>Coef_LR</th>\n",
       "    </tr>\n",
       "  </thead>\n",
       "  <tbody>\n",
       "    <tr>\n",
       "      <th>13</th>\n",
       "      <td>standardize__CRuns</td>\n",
       "      <td>480.747135</td>\n",
       "    </tr>\n",
       "    <tr>\n",
       "      <th>4</th>\n",
       "      <td>standardize__Hits</td>\n",
       "      <td>337.830479</td>\n",
       "    </tr>\n",
       "    <tr>\n",
       "      <th>14</th>\n",
       "      <td>standardize__CRBI</td>\n",
       "      <td>260.689886</td>\n",
       "    </tr>\n",
       "    <tr>\n",
       "      <th>8</th>\n",
       "      <td>standardize__Walks</td>\n",
       "      <td>135.073897</td>\n",
       "    </tr>\n",
       "    <tr>\n",
       "      <th>11</th>\n",
       "      <td>standardize__CHits</td>\n",
       "      <td>86.687617</td>\n",
       "    </tr>\n",
       "    <tr>\n",
       "      <th>16</th>\n",
       "      <td>standardize__PutOuts</td>\n",
       "      <td>78.761296</td>\n",
       "    </tr>\n",
       "    <tr>\n",
       "      <th>0</th>\n",
       "      <td>dummify__League_N</td>\n",
       "      <td>62.599423</td>\n",
       "    </tr>\n",
       "    <tr>\n",
       "      <th>17</th>\n",
       "      <td>standardize__Assists</td>\n",
       "      <td>53.732490</td>\n",
       "    </tr>\n",
       "    <tr>\n",
       "      <th>5</th>\n",
       "      <td>standardize__HmRun</td>\n",
       "      <td>37.853837</td>\n",
       "    </tr>\n",
       "    <tr>\n",
       "      <th>12</th>\n",
       "      <td>standardize__CHmRun</td>\n",
       "      <td>-14.181723</td>\n",
       "    </tr>\n",
       "    <tr>\n",
       "      <th>9</th>\n",
       "      <td>standardize__Years</td>\n",
       "      <td>-16.693359</td>\n",
       "    </tr>\n",
       "    <tr>\n",
       "      <th>18</th>\n",
       "      <td>standardize__Errors</td>\n",
       "      <td>-22.160862</td>\n",
       "    </tr>\n",
       "    <tr>\n",
       "      <th>2</th>\n",
       "      <td>dummify__NewLeague_N</td>\n",
       "      <td>-24.762325</td>\n",
       "    </tr>\n",
       "    <tr>\n",
       "      <th>7</th>\n",
       "      <td>standardize__RBI</td>\n",
       "      <td>-26.994984</td>\n",
       "    </tr>\n",
       "    <tr>\n",
       "      <th>6</th>\n",
       "      <td>standardize__Runs</td>\n",
       "      <td>-60.572479</td>\n",
       "    </tr>\n",
       "    <tr>\n",
       "      <th>1</th>\n",
       "      <td>dummify__Division_W</td>\n",
       "      <td>-116.849246</td>\n",
       "    </tr>\n",
       "    <tr>\n",
       "      <th>15</th>\n",
       "      <td>standardize__CWalks</td>\n",
       "      <td>-213.892259</td>\n",
       "    </tr>\n",
       "    <tr>\n",
       "      <th>3</th>\n",
       "      <td>standardize__AtBat</td>\n",
       "      <td>-291.094556</td>\n",
       "    </tr>\n",
       "    <tr>\n",
       "      <th>10</th>\n",
       "      <td>standardize__CAtBat</td>\n",
       "      <td>-391.038655</td>\n",
       "    </tr>\n",
       "  </tbody>\n",
       "</table>\n",
       "</div>"
      ],
      "text/plain": [
       "                Variable     Coef_LR\n",
       "13    standardize__CRuns  480.747135\n",
       "4      standardize__Hits  337.830479\n",
       "14     standardize__CRBI  260.689886\n",
       "8     standardize__Walks  135.073897\n",
       "11    standardize__CHits   86.687617\n",
       "16  standardize__PutOuts   78.761296\n",
       "0      dummify__League_N   62.599423\n",
       "17  standardize__Assists   53.732490\n",
       "5     standardize__HmRun   37.853837\n",
       "12   standardize__CHmRun  -14.181723\n",
       "9     standardize__Years  -16.693359\n",
       "18   standardize__Errors  -22.160862\n",
       "2   dummify__NewLeague_N  -24.762325\n",
       "7       standardize__RBI  -26.994984\n",
       "6      standardize__Runs  -60.572479\n",
       "1    dummify__Division_W -116.849246\n",
       "15   standardize__CWalks -213.892259\n",
       "3     standardize__AtBat -291.094556\n",
       "10   standardize__CAtBat -391.038655"
      ]
     },
     "execution_count": null,
     "metadata": {},
     "output_type": "execute_result"
    }
   ],
   "source": [
    "coef_df_LR.sort_values(by=['Coef_LR'], ascending=False)"
   ]
  },
  {
   "cell_type": "markdown",
   "metadata": {},
   "source": [
    "Based on this model output, the following are the top 5 predictor variables with\n",
    "\n",
    "The highest betas:\n",
    "CRuns, Hits, CRBI, Walks, CHits\n",
    "\n",
    "The lowest betas:\n",
    "CAtBat, AtBat, CWalks, Division_W, Runs"
   ]
  },
  {
   "cell_type": "code",
   "execution_count": 117,
   "metadata": {
    "vscode": {
     "languageId": "python"
    }
   },
   "outputs": [
    {
     "name": "stdout",
     "output_type": "stream",
     "text": [
      "OLR CV mean R-squared score: 0.3434950217881679\n",
      "OLR CV mean MSE score: 121136.31031816879\n",
      "OLR CV mean R-squared score: 0.3434950217881679\n",
      "OLR CV mean MSE score: 121136.31031816879\n"
     ]
    }
   ],
   "source": [
    "# 3. use cross-validation to estimate MSE\n",
    "\n",
    "lr_cv_scores = cross_val_score(lr_pipeline_1, X, y, cv = 5, scoring = 'r2')\n",
    "lr_mse_scores = cross_val_score(lr_pipeline_1, X, y, cv = 5, scoring = ('neg_mean_squared_error'))*(-1)\n",
    "print (\"OLR CV mean R-squared score:\", np.mean(lr_cv_scores))\n",
    "print (\"OLR CV mean MSE score:\", np.mean(lr_mse_scores))"
   ]
  },
  {
   "cell_type": "markdown",
   "metadata": {},
   "source": [
    "MSE score based on cross-validation (5-fold): 121136.3103181687. R-squared is 0.343."
   ]
  },
  {
   "cell_type": "markdown",
   "metadata": {},
   "source": [
    "## B. Ridge regression"
   ]
  },
  {
   "cell_type": "code",
   "execution_count": 118,
   "metadata": {
    "vscode": {
     "languageId": "python"
    }
   },
   "outputs": [
    {
     "data": {
      "text/plain": [
       "{'mean_fit_time': array([0.00834441, 0.0030056 , 0.00309525, 0.00323486, 0.00293021, 0.00274782, 0.00296707, 0.00286412, 0.00290828, 0.00282345, 0.00282693, 0.00281458, 0.00302062]),\n",
       " 'std_fit_time': array([7.95565317e-03, 4.24135183e-04, 3.98395679e-04, 6.89070793e-04, 3.18962409e-04, 8.79299098e-05, 3.32705910e-04, 3.13483642e-04, 2.82986499e-04, 2.81967871e-04, 3.05691150e-04, 1.44426364e-04, 4.56709881e-04]),\n",
       " 'mean_score_time': array([0.00313258, 0.00161958, 0.00172849, 0.00192728, 0.0015851 , 0.00166121, 0.00168023, 0.0015429 , 0.0017271 , 0.00156302, 0.00170794, 0.00171723, 0.00162501]),\n",
       " 'std_score_time': array([1.11543644e-03, 5.00345119e-05, 2.46823893e-04, 3.54421695e-04, 9.00076840e-05, 2.48021594e-04, 2.59374808e-04, 2.13608145e-05, 2.09414752e-04, 6.22398356e-05, 2.55704547e-04, 2.94960636e-04, 1.26393998e-04]),\n",
       " 'param_ridge_regression__alpha': masked_array(data=[0.01, 0.1, 10.0, 12.0, 15.0, 20.0, 30.0, 40.0, 80.0, 200.0, 300.0, 400.0, 500.0],\n",
       "              mask=[False, False, False, False, False, False, False, False, False, False, False, False, False],\n",
       "        fill_value=1e+20),\n",
       " 'params': [{'ridge_regression__alpha': 0.01},\n",
       "  {'ridge_regression__alpha': 0.1},\n",
       "  {'ridge_regression__alpha': 10},\n",
       "  {'ridge_regression__alpha': 12},\n",
       "  {'ridge_regression__alpha': 15},\n",
       "  {'ridge_regression__alpha': 20},\n",
       "  {'ridge_regression__alpha': 30},\n",
       "  {'ridge_regression__alpha': 40},\n",
       "  {'ridge_regression__alpha': 80},\n",
       "  {'ridge_regression__alpha': 200},\n",
       "  {'ridge_regression__alpha': 300},\n",
       "  {'ridge_regression__alpha': 400},\n",
       "  {'ridge_regression__alpha': 500}],\n",
       " 'split0_test_score': array([0.29955264, 0.29825503, 0.38001079, 0.3920679 , 0.40710154, 0.42645811, 0.45272759, 0.47016377, 0.50721802, 0.54438152, 0.55389847, 0.55571539, 0.55297785]),\n",
       " 'split1_test_score': array([0.57090428, 0.57065657, 0.50585225, 0.500118  , 0.49309253, 0.48414213, 0.47191695, 0.4635494 , 0.44384888, 0.41400354, 0.39608178, 0.38010455, 0.36525714]),\n",
       " 'split2_test_score': array([0.64495878, 0.64615791, 0.64695495, 0.64352917, 0.63868445, 0.63144578, 0.61950237, 0.60987627, 0.58278714, 0.53663998, 0.51054029, 0.4888403 , 0.46973944]),\n",
       " 'split3_test_score': array([-0.01706929, -0.00489694,  0.03831688,  0.03964067,  0.04112513,  0.04284656,  0.045057  ,  0.04666521,  0.05224346,  0.06958251,  0.08247491,  0.09313063,  0.10170106]),\n",
       " 'split4_test_score': array([0.22211788, 0.22863248, 0.28382501, 0.28582054, 0.28869194, 0.29334569, 0.30207425, 0.30977097, 0.33149427, 0.35688206, 0.36187178, 0.36133106, 0.35795537]),\n",
       " 'mean_test_score': array([0.34409286, 0.34776101, 0.37099198, 0.37223526, 0.37373912, 0.37564765, 0.37825563, 0.38000513, 0.38351835, 0.38429792, 0.38097345, 0.37582439, 0.36952617]),\n",
       " 'std_test_score': array([0.2405259 , 0.23653043, 0.20624984, 0.20417364, 0.20170246, 0.19865327, 0.19459879, 0.19183186, 0.18498594, 0.17292467, 0.16515758, 0.15828929, 0.15203922]),\n",
       " 'rank_test_score': array([13, 12, 10,  9,  8,  7,  5,  4,  2,  1,  3,  6, 11], dtype=int32)}"
      ]
     },
     "execution_count": null,
     "metadata": {},
     "output_type": "execute_result"
    }
   ],
   "source": [
    "# create a pipeline for Ridge regression and tune lambda with cross-validation\n",
    "\n",
    "ridge_pipeline_1 = Pipeline(\n",
    "    [(\"preprocessing\", ct),\n",
    "    (\"ridge_regression\", Ridge())]\n",
    ").set_output(transform=\"pandas\")\n",
    "\n",
    "degrees = {'ridge_regression__alpha': [0.01, 0.1, 10, 12, 15, 20, 30, 40, 80, 200, 300, 400, 500]}\n",
    "\n",
    "gscv = GridSearchCV(ridge_pipeline_1, degrees, cv = 5, scoring='r2')\n",
    "\n",
    "gscv_fitted = gscv.fit(X, y)\n",
    "gscv_fitted.cv_results_"
   ]
  },
  {
   "cell_type": "code",
   "execution_count": 119,
   "metadata": {
    "vscode": {
     "languageId": "python"
    }
   },
   "outputs": [],
   "source": [
    "ridge_scores_1_df = pd.DataFrame(data = {\"degrees\": [0.01, 0.1, 10, 12, 15, 20, 30, 40, 80, 200, 300, 400, 500], \"scores_Ridge\": gscv_fitted.cv_results_['mean_test_score']})"
   ]
  },
  {
   "cell_type": "code",
   "execution_count": 120,
   "metadata": {
    "vscode": {
     "languageId": "python"
    }
   },
   "outputs": [
    {
     "data": {
      "text/html": [
       "<div>\n",
       "<style scoped>\n",
       "    .dataframe tbody tr th:only-of-type {\n",
       "        vertical-align: middle;\n",
       "    }\n",
       "\n",
       "    .dataframe tbody tr th {\n",
       "        vertical-align: top;\n",
       "    }\n",
       "\n",
       "    .dataframe thead th {\n",
       "        text-align: right;\n",
       "    }\n",
       "</style>\n",
       "<table border=\"1\" class=\"dataframe\">\n",
       "  <thead>\n",
       "    <tr style=\"text-align: right;\">\n",
       "      <th></th>\n",
       "      <th>degrees</th>\n",
       "      <th>scores_Ridge</th>\n",
       "    </tr>\n",
       "  </thead>\n",
       "  <tbody>\n",
       "    <tr>\n",
       "      <th>9</th>\n",
       "      <td>200.00</td>\n",
       "      <td>0.384298</td>\n",
       "    </tr>\n",
       "    <tr>\n",
       "      <th>8</th>\n",
       "      <td>80.00</td>\n",
       "      <td>0.383518</td>\n",
       "    </tr>\n",
       "    <tr>\n",
       "      <th>10</th>\n",
       "      <td>300.00</td>\n",
       "      <td>0.380973</td>\n",
       "    </tr>\n",
       "    <tr>\n",
       "      <th>7</th>\n",
       "      <td>40.00</td>\n",
       "      <td>0.380005</td>\n",
       "    </tr>\n",
       "    <tr>\n",
       "      <th>6</th>\n",
       "      <td>30.00</td>\n",
       "      <td>0.378256</td>\n",
       "    </tr>\n",
       "    <tr>\n",
       "      <th>11</th>\n",
       "      <td>400.00</td>\n",
       "      <td>0.375824</td>\n",
       "    </tr>\n",
       "    <tr>\n",
       "      <th>5</th>\n",
       "      <td>20.00</td>\n",
       "      <td>0.375648</td>\n",
       "    </tr>\n",
       "    <tr>\n",
       "      <th>4</th>\n",
       "      <td>15.00</td>\n",
       "      <td>0.373739</td>\n",
       "    </tr>\n",
       "    <tr>\n",
       "      <th>3</th>\n",
       "      <td>12.00</td>\n",
       "      <td>0.372235</td>\n",
       "    </tr>\n",
       "    <tr>\n",
       "      <th>2</th>\n",
       "      <td>10.00</td>\n",
       "      <td>0.370992</td>\n",
       "    </tr>\n",
       "    <tr>\n",
       "      <th>12</th>\n",
       "      <td>500.00</td>\n",
       "      <td>0.369526</td>\n",
       "    </tr>\n",
       "    <tr>\n",
       "      <th>1</th>\n",
       "      <td>0.10</td>\n",
       "      <td>0.347761</td>\n",
       "    </tr>\n",
       "    <tr>\n",
       "      <th>0</th>\n",
       "      <td>0.01</td>\n",
       "      <td>0.344093</td>\n",
       "    </tr>\n",
       "  </tbody>\n",
       "</table>\n",
       "</div>"
      ],
      "text/plain": [
       "    degrees  scores_Ridge\n",
       "9    200.00      0.384298\n",
       "8     80.00      0.383518\n",
       "10   300.00      0.380973\n",
       "7     40.00      0.380005\n",
       "6     30.00      0.378256\n",
       "11   400.00      0.375824\n",
       "5     20.00      0.375648\n",
       "4     15.00      0.373739\n",
       "3     12.00      0.372235\n",
       "2     10.00      0.370992\n",
       "12   500.00      0.369526\n",
       "1      0.10      0.347761\n",
       "0      0.01      0.344093"
      ]
     },
     "execution_count": null,
     "metadata": {},
     "output_type": "execute_result"
    }
   ],
   "source": [
    "ridge_scores_1_df.sort_values(by=['scores_Ridge'], ascending=False)"
   ]
  },
  {
   "cell_type": "markdown",
   "metadata": {},
   "source": [
    "Based on different degrees in tunning, lamda = 200 in Ridge regression yields the highest R-sqaured score for this model."
   ]
  },
  {
   "cell_type": "code",
   "execution_count": 121,
   "metadata": {
    "vscode": {
     "languageId": "python"
    }
   },
   "outputs": [
    {
     "data": {
      "text/plain": [
       "array([  9.93667803, -33.68964736,   6.45216506,  11.41326592,  38.26237745,   4.80170835,  27.43018771,  23.25680815,  35.2579734 ,   7.15940027,  25.82303926,  36.62687579,  32.55984813,  37.60037546,  38.34652764,  15.13804223,  46.00941963,   4.29511667,  -8.45517812])"
      ]
     },
     "execution_count": null,
     "metadata": {},
     "output_type": "execute_result"
    }
   ],
   "source": [
    "# fit the pipeline with the highest lambda (200) on full dataset\n",
    "ridge_pipeline_1.set_params(ridge_regression__alpha=200)\n",
    "ridge_fitted = ridge_pipeline_1.fit(X, y)\n",
    "ridge_fitted.named_steps['ridge_regression'].coef_"
   ]
  },
  {
   "cell_type": "code",
   "execution_count": 119,
   "metadata": {
    "vscode": {
     "languageId": "python"
    }
   },
   "outputs": [],
   "source": [
    "# len(ridge_fitted.named_steps['ridge_regression'].coef_)"
   ]
  },
  {
   "cell_type": "code",
   "execution_count": 122,
   "metadata": {
    "vscode": {
     "languageId": "python"
    }
   },
   "outputs": [
    {
     "data": {
      "text/html": [
       "<div>\n",
       "<style scoped>\n",
       "    .dataframe tbody tr th:only-of-type {\n",
       "        vertical-align: middle;\n",
       "    }\n",
       "\n",
       "    .dataframe tbody tr th {\n",
       "        vertical-align: top;\n",
       "    }\n",
       "\n",
       "    .dataframe thead th {\n",
       "        text-align: right;\n",
       "    }\n",
       "</style>\n",
       "<table border=\"1\" class=\"dataframe\">\n",
       "  <thead>\n",
       "    <tr style=\"text-align: right;\">\n",
       "      <th></th>\n",
       "      <th>Variable</th>\n",
       "      <th>Coef_Ridge</th>\n",
       "    </tr>\n",
       "  </thead>\n",
       "  <tbody>\n",
       "    <tr>\n",
       "      <th>16</th>\n",
       "      <td>standardize__PutOuts</td>\n",
       "      <td>46.009420</td>\n",
       "    </tr>\n",
       "    <tr>\n",
       "      <th>14</th>\n",
       "      <td>standardize__CRBI</td>\n",
       "      <td>38.346528</td>\n",
       "    </tr>\n",
       "    <tr>\n",
       "      <th>4</th>\n",
       "      <td>standardize__Hits</td>\n",
       "      <td>38.262377</td>\n",
       "    </tr>\n",
       "    <tr>\n",
       "      <th>13</th>\n",
       "      <td>standardize__CRuns</td>\n",
       "      <td>37.600375</td>\n",
       "    </tr>\n",
       "    <tr>\n",
       "      <th>11</th>\n",
       "      <td>standardize__CHits</td>\n",
       "      <td>36.626876</td>\n",
       "    </tr>\n",
       "    <tr>\n",
       "      <th>8</th>\n",
       "      <td>standardize__Walks</td>\n",
       "      <td>35.257973</td>\n",
       "    </tr>\n",
       "    <tr>\n",
       "      <th>12</th>\n",
       "      <td>standardize__CHmRun</td>\n",
       "      <td>32.559848</td>\n",
       "    </tr>\n",
       "    <tr>\n",
       "      <th>6</th>\n",
       "      <td>standardize__Runs</td>\n",
       "      <td>27.430188</td>\n",
       "    </tr>\n",
       "    <tr>\n",
       "      <th>10</th>\n",
       "      <td>standardize__CAtBat</td>\n",
       "      <td>25.823039</td>\n",
       "    </tr>\n",
       "    <tr>\n",
       "      <th>7</th>\n",
       "      <td>standardize__RBI</td>\n",
       "      <td>23.256808</td>\n",
       "    </tr>\n",
       "    <tr>\n",
       "      <th>15</th>\n",
       "      <td>standardize__CWalks</td>\n",
       "      <td>15.138042</td>\n",
       "    </tr>\n",
       "    <tr>\n",
       "      <th>3</th>\n",
       "      <td>standardize__AtBat</td>\n",
       "      <td>11.413266</td>\n",
       "    </tr>\n",
       "    <tr>\n",
       "      <th>0</th>\n",
       "      <td>dummify__League_N</td>\n",
       "      <td>9.936678</td>\n",
       "    </tr>\n",
       "    <tr>\n",
       "      <th>9</th>\n",
       "      <td>standardize__Years</td>\n",
       "      <td>7.159400</td>\n",
       "    </tr>\n",
       "    <tr>\n",
       "      <th>2</th>\n",
       "      <td>dummify__NewLeague_N</td>\n",
       "      <td>6.452165</td>\n",
       "    </tr>\n",
       "    <tr>\n",
       "      <th>5</th>\n",
       "      <td>standardize__HmRun</td>\n",
       "      <td>4.801708</td>\n",
       "    </tr>\n",
       "    <tr>\n",
       "      <th>17</th>\n",
       "      <td>standardize__Assists</td>\n",
       "      <td>4.295117</td>\n",
       "    </tr>\n",
       "    <tr>\n",
       "      <th>18</th>\n",
       "      <td>standardize__Errors</td>\n",
       "      <td>-8.455178</td>\n",
       "    </tr>\n",
       "    <tr>\n",
       "      <th>1</th>\n",
       "      <td>dummify__Division_W</td>\n",
       "      <td>-33.689647</td>\n",
       "    </tr>\n",
       "  </tbody>\n",
       "</table>\n",
       "</div>"
      ],
      "text/plain": [
       "                Variable  Coef_Ridge\n",
       "16  standardize__PutOuts   46.009420\n",
       "14     standardize__CRBI   38.346528\n",
       "4      standardize__Hits   38.262377\n",
       "13    standardize__CRuns   37.600375\n",
       "11    standardize__CHits   36.626876\n",
       "8     standardize__Walks   35.257973\n",
       "12   standardize__CHmRun   32.559848\n",
       "6      standardize__Runs   27.430188\n",
       "10   standardize__CAtBat   25.823039\n",
       "7       standardize__RBI   23.256808\n",
       "15   standardize__CWalks   15.138042\n",
       "3     standardize__AtBat   11.413266\n",
       "0      dummify__League_N    9.936678\n",
       "9     standardize__Years    7.159400\n",
       "2   dummify__NewLeague_N    6.452165\n",
       "5     standardize__HmRun    4.801708\n",
       "17  standardize__Assists    4.295117\n",
       "18   standardize__Errors   -8.455178\n",
       "1    dummify__Division_W  -33.689647"
      ]
     },
     "execution_count": null,
     "metadata": {},
     "output_type": "execute_result"
    }
   ],
   "source": [
    "# turn coefficients to a dataframe\n",
    "\n",
    "coef_df_Ridge = pd.DataFrame({'Variable': beta_headers, 'Coef_Ridge': ridge_fitted.named_steps['ridge_regression'].coef_})\n",
    "coef_df_Ridge.sort_values(by=['Coef_Ridge'], ascending=False)"
   ]
  },
  {
   "cell_type": "markdown",
   "metadata": {},
   "source": [
    "According to this model output for Ridge regression with tuned 'lamda'=200, the following are the top 5 predictor variables with\n",
    "\n",
    "The highest betas:\n",
    "PutOuts, CRBI, Hits, CRuns\n",
    "\n",
    "The lowest betas:\n",
    "Division_W, Errors, Assists, HmRun, NewLeague_N\n",
    "\n",
    "The range of coefficients values in Ridge are more narrow than in LR, also less negative coefficients. Surprisingly HmRun has 4th lowest coefficient in Ridge, while its 9th highest in LR (which makes a bit more sense intuitively)."
   ]
  },
  {
   "cell_type": "code",
   "execution_count": 123,
   "metadata": {
    "vscode": {
     "languageId": "python"
    }
   },
   "outputs": [
    {
     "data": {
      "text/plain": [
       "np.float64(110391.53707120112)"
      ]
     },
     "execution_count": null,
     "metadata": {},
     "output_type": "execute_result"
    }
   ],
   "source": [
    "# MSE\n",
    "\n",
    "y_pred = ridge_fitted.predict(X)\n",
    "MSE_Ridge_1 = mean_squared_error(y, y_pred)\n",
    "MSE_Ridge_1"
   ]
  },
  {
   "cell_type": "code",
   "execution_count": 124,
   "metadata": {
    "vscode": {
     "languageId": "python"
    }
   },
   "outputs": [
    {
     "data": {
      "text/plain": [
       "0.4554865463570007"
      ]
     },
     "execution_count": null,
     "metadata": {},
     "output_type": "execute_result"
    }
   ],
   "source": [
    "# R-squared\n",
    "Rsq_Ridge_1 = r2_score(y, y_pred)\n",
    "Rsq_Ridge_1"
   ]
  },
  {
   "cell_type": "markdown",
   "metadata": {},
   "source": [
    "The MSE of this Ridge model prediction is 110391.53 and R-squared is 0.455 on full data or 0.384 when tuning for best lambda."
   ]
  },
  {
   "cell_type": "markdown",
   "metadata": {},
   "source": [
    "## C. Lasso regression"
   ]
  },
  {
   "cell_type": "code",
   "execution_count": 125,
   "metadata": {
    "vscode": {
     "languageId": "python"
    }
   },
   "outputs": [
    {
     "name": "stderr",
     "output_type": "stream",
     "text": [
      "/Library/Frameworks/Python.framework/Versions/3.12/lib/python3.12/site-packages/sklearn/linear_model/_coordinate_descent.py:697: ConvergenceWarning: Objective did not converge. You might want to increase the number of iterations, check the scale of the features or consider increasing regularisation. Duality gap: 6.594e+06, tolerance: 4.708e+03\n",
      "  model = cd_fast.enet_coordinate_descent(\n",
      "/Library/Frameworks/Python.framework/Versions/3.12/lib/python3.12/site-packages/sklearn/linear_model/_coordinate_descent.py:697: ConvergenceWarning: Objective did not converge. You might want to increase the number of iterations, check the scale of the features or consider increasing regularisation. Duality gap: 7.059e+06, tolerance: 3.606e+03\n",
      "  model = cd_fast.enet_coordinate_descent(\n",
      "/Library/Frameworks/Python.framework/Versions/3.12/lib/python3.12/site-packages/sklearn/linear_model/_coordinate_descent.py:697: ConvergenceWarning: Objective did not converge. You might want to increase the number of iterations, check the scale of the features or consider increasing regularisation. Duality gap: 8.591e+06, tolerance: 4.137e+03\n",
      "  model = cd_fast.enet_coordinate_descent(\n",
      "/Library/Frameworks/Python.framework/Versions/3.12/lib/python3.12/site-packages/sklearn/linear_model/_coordinate_descent.py:697: ConvergenceWarning: Objective did not converge. You might want to increase the number of iterations, check the scale of the features or consider increasing regularisation. Duality gap: 4.471e+05, tolerance: 4.281e+03\n",
      "  model = cd_fast.enet_coordinate_descent(\n",
      "/Library/Frameworks/Python.framework/Versions/3.12/lib/python3.12/site-packages/sklearn/linear_model/_coordinate_descent.py:697: ConvergenceWarning: Objective did not converge. You might want to increase the number of iterations, check the scale of the features or consider increasing regularisation. Duality gap: 8.066e+06, tolerance: 4.558e+03\n",
      "  model = cd_fast.enet_coordinate_descent(\n",
      "/Library/Frameworks/Python.framework/Versions/3.12/lib/python3.12/site-packages/sklearn/linear_model/_coordinate_descent.py:697: ConvergenceWarning: Objective did not converge. You might want to increase the number of iterations, check the scale of the features or consider increasing regularisation. Duality gap: 4.923e+04, tolerance: 4.708e+03\n",
      "  model = cd_fast.enet_coordinate_descent(\n",
      "/Library/Frameworks/Python.framework/Versions/3.12/lib/python3.12/site-packages/sklearn/linear_model/_coordinate_descent.py:697: ConvergenceWarning: Objective did not converge. You might want to increase the number of iterations, check the scale of the features or consider increasing regularisation. Duality gap: 2.726e+05, tolerance: 3.606e+03\n",
      "  model = cd_fast.enet_coordinate_descent(\n",
      "/Library/Frameworks/Python.framework/Versions/3.12/lib/python3.12/site-packages/sklearn/linear_model/_coordinate_descent.py:697: ConvergenceWarning: Objective did not converge. You might want to increase the number of iterations, check the scale of the features or consider increasing regularisation. Duality gap: 2.158e+05, tolerance: 4.137e+03\n",
      "  model = cd_fast.enet_coordinate_descent(\n",
      "/Library/Frameworks/Python.framework/Versions/3.12/lib/python3.12/site-packages/sklearn/linear_model/_coordinate_descent.py:697: ConvergenceWarning: Objective did not converge. You might want to increase the number of iterations, check the scale of the features or consider increasing regularisation. Duality gap: 2.929e+04, tolerance: 4.281e+03\n",
      "  model = cd_fast.enet_coordinate_descent(\n",
      "/Library/Frameworks/Python.framework/Versions/3.12/lib/python3.12/site-packages/sklearn/linear_model/_coordinate_descent.py:697: ConvergenceWarning: Objective did not converge. You might want to increase the number of iterations, check the scale of the features or consider increasing regularisation. Duality gap: 4.282e+05, tolerance: 4.558e+03\n",
      "  model = cd_fast.enet_coordinate_descent(\n"
     ]
    },
    {
     "data": {
      "text/plain": [
       "{'mean_fit_time': array([0.01012149, 0.00560174, 0.00325847, 0.00310278, 0.00293126, 0.00290689, 0.00318189, 0.00305882, 0.00310788, 0.00271688, 0.00286493, 0.0026866 , 0.00281267]),\n",
       " 'std_fit_time': array([5.86690072e-03, 2.03020811e-04, 2.75541663e-04, 9.71166410e-05, 1.00658686e-04, 7.11503678e-05, 2.68668581e-04, 3.13684511e-04, 5.55381873e-04, 6.54448533e-05, 1.17354904e-04, 3.76760502e-05, 2.80186990e-04]),\n",
       " 'mean_score_time': array([0.0025115 , 0.00170979, 0.00171971, 0.00156975, 0.00152731, 0.00155063, 0.0016427 , 0.00169601, 0.00159488, 0.00154967, 0.00162129, 0.00153708, 0.00158391]),\n",
       " 'std_score_time': array([7.47412806e-04, 1.31769926e-04, 1.73328897e-04, 2.19531602e-05, 7.83813544e-06, 3.35221609e-05, 1.39688223e-04, 1.72964396e-04, 1.34730978e-04, 3.78169446e-05, 1.50341727e-04, 1.21831661e-05, 6.84905829e-05]),\n",
       " 'param_lasso_regression__alpha': masked_array(data=[0.01, 0.1, 10.0, 12.0, 15.0, 20.0, 30.0, 40.0, 80.0, 200.0, 300.0, 400.0, 500.0],\n",
       "              mask=[False, False, False, False, False, False, False, False, False, False, False, False, False],\n",
       "        fill_value=1e+20),\n",
       " 'params': [{'lasso_regression__alpha': 0.01},\n",
       "  {'lasso_regression__alpha': 0.1},\n",
       "  {'lasso_regression__alpha': 10},\n",
       "  {'lasso_regression__alpha': 12},\n",
       "  {'lasso_regression__alpha': 15},\n",
       "  {'lasso_regression__alpha': 20},\n",
       "  {'lasso_regression__alpha': 30},\n",
       "  {'lasso_regression__alpha': 40},\n",
       "  {'lasso_regression__alpha': 80},\n",
       "  {'lasso_regression__alpha': 200},\n",
       "  {'lasso_regression__alpha': 300},\n",
       "  {'lasso_regression__alpha': 400},\n",
       "  {'lasso_regression__alpha': 500}],\n",
       " 'split0_test_score': array([ 0.30025068,  0.30022378,  0.4487187 ,  0.46832278,  0.48165667,  0.49812811,  0.52458407,  0.54467582,  0.53152286,  0.12837834, -0.09969416, -0.09969416, -0.09969416]),\n",
       " 'split1_test_score': array([ 0.57205955,  0.57164537,  0.4629298 ,  0.45862592,  0.45087652,  0.43637689,  0.40477112,  0.38192821,  0.26974466, -0.00655625, -0.09434666, -0.09434666, -0.09434666]),\n",
       " 'split2_test_score': array([ 0.64479951,  0.64568677,  0.60315333,  0.5971774 ,  0.58687226,  0.56803724,  0.5245941 ,  0.49647482,  0.39186822,  0.08384882, -0.00115599, -0.00115599, -0.00115599]),\n",
       " 'split3_test_score': array([-0.01853374, -0.0148965 ,  0.03873142,  0.04061251,  0.04293624,  0.04548331,  0.04413191,  0.05709032,  0.09170585,  0.07182465, -0.00647822, -0.00647822, -0.00647822]),\n",
       " 'split4_test_score': array([ 0.22339562,  0.22754412,  0.29407962,  0.30672076,  0.31956249,  0.33781332,  0.34955137,  0.35149372,  0.35410732,  0.13429774, -0.01434855, -0.01434855, -0.01434855]),\n",
       " 'mean_test_score': array([ 0.34439433,  0.34604071,  0.36952257,  0.37429187,  0.37638084,  0.37716777,  0.36952652,  0.36633258,  0.32778978,  0.08235866, -0.04320472, -0.04320472, -0.04320472]),\n",
       " 'std_test_score': array([0.24098998, 0.23962534, 0.19219505, 0.19054646, 0.18727139, 0.1822809 , 0.17641521, 0.17019842, 0.14519689, 0.05066464, 0.04417276, 0.04417276, 0.04417276]),\n",
       " 'rank_test_score': array([ 8,  7,  5,  3,  2,  1,  4,  6,  9, 10, 11, 11, 11], dtype=int32)}"
      ]
     },
     "execution_count": null,
     "metadata": {},
     "output_type": "execute_result"
    }
   ],
   "source": [
    "# create a pipeline for Ridge regression and tune lambda with cross-validation\n",
    "\n",
    "lasso_pipeline_1 = Pipeline(\n",
    "    [(\"preprocessing\", ct),\n",
    "    (\"lasso_regression\", Lasso())]\n",
    ").set_output(transform=\"pandas\")\n",
    "\n",
    "degrees = {'lasso_regression__alpha': [0.01, 0.1, 10, 12, 15, 20, 30, 40, 80, 200, 300, 400, 500]}\n",
    "\n",
    "gscv = GridSearchCV(lasso_pipeline_1, degrees, cv = 5, scoring='r2')\n",
    "\n",
    "gscv_fitted = gscv.fit(X, y)\n",
    "gscv_fitted.cv_results_"
   ]
  },
  {
   "cell_type": "code",
   "execution_count": 126,
   "metadata": {
    "vscode": {
     "languageId": "python"
    }
   },
   "outputs": [],
   "source": [
    "lasso_scores_1_df = pd.DataFrame(data = {\"degrees\": [0.01, 0.1, 10, 12, 15, 20, 30, 40, 80, 200, 300, 400, 500], \"scores_Lasso\": gscv_fitted.cv_results_['mean_test_score']})"
   ]
  },
  {
   "cell_type": "code",
   "execution_count": 127,
   "metadata": {
    "vscode": {
     "languageId": "python"
    }
   },
   "outputs": [
    {
     "data": {
      "text/html": [
       "<div>\n",
       "<style scoped>\n",
       "    .dataframe tbody tr th:only-of-type {\n",
       "        vertical-align: middle;\n",
       "    }\n",
       "\n",
       "    .dataframe tbody tr th {\n",
       "        vertical-align: top;\n",
       "    }\n",
       "\n",
       "    .dataframe thead th {\n",
       "        text-align: right;\n",
       "    }\n",
       "</style>\n",
       "<table border=\"1\" class=\"dataframe\">\n",
       "  <thead>\n",
       "    <tr style=\"text-align: right;\">\n",
       "      <th></th>\n",
       "      <th>degrees</th>\n",
       "      <th>scores_Lasso</th>\n",
       "    </tr>\n",
       "  </thead>\n",
       "  <tbody>\n",
       "    <tr>\n",
       "      <th>5</th>\n",
       "      <td>20.00</td>\n",
       "      <td>0.377168</td>\n",
       "    </tr>\n",
       "    <tr>\n",
       "      <th>4</th>\n",
       "      <td>15.00</td>\n",
       "      <td>0.376381</td>\n",
       "    </tr>\n",
       "    <tr>\n",
       "      <th>3</th>\n",
       "      <td>12.00</td>\n",
       "      <td>0.374292</td>\n",
       "    </tr>\n",
       "    <tr>\n",
       "      <th>6</th>\n",
       "      <td>30.00</td>\n",
       "      <td>0.369527</td>\n",
       "    </tr>\n",
       "    <tr>\n",
       "      <th>2</th>\n",
       "      <td>10.00</td>\n",
       "      <td>0.369523</td>\n",
       "    </tr>\n",
       "    <tr>\n",
       "      <th>7</th>\n",
       "      <td>40.00</td>\n",
       "      <td>0.366333</td>\n",
       "    </tr>\n",
       "    <tr>\n",
       "      <th>1</th>\n",
       "      <td>0.10</td>\n",
       "      <td>0.346041</td>\n",
       "    </tr>\n",
       "    <tr>\n",
       "      <th>0</th>\n",
       "      <td>0.01</td>\n",
       "      <td>0.344394</td>\n",
       "    </tr>\n",
       "    <tr>\n",
       "      <th>8</th>\n",
       "      <td>80.00</td>\n",
       "      <td>0.327790</td>\n",
       "    </tr>\n",
       "    <tr>\n",
       "      <th>9</th>\n",
       "      <td>200.00</td>\n",
       "      <td>0.082359</td>\n",
       "    </tr>\n",
       "    <tr>\n",
       "      <th>10</th>\n",
       "      <td>300.00</td>\n",
       "      <td>-0.043205</td>\n",
       "    </tr>\n",
       "    <tr>\n",
       "      <th>11</th>\n",
       "      <td>400.00</td>\n",
       "      <td>-0.043205</td>\n",
       "    </tr>\n",
       "    <tr>\n",
       "      <th>12</th>\n",
       "      <td>500.00</td>\n",
       "      <td>-0.043205</td>\n",
       "    </tr>\n",
       "  </tbody>\n",
       "</table>\n",
       "</div>"
      ],
      "text/plain": [
       "    degrees  scores_Lasso\n",
       "5     20.00      0.377168\n",
       "4     15.00      0.376381\n",
       "3     12.00      0.374292\n",
       "6     30.00      0.369527\n",
       "2     10.00      0.369523\n",
       "7     40.00      0.366333\n",
       "1      0.10      0.346041\n",
       "0      0.01      0.344394\n",
       "8     80.00      0.327790\n",
       "9    200.00      0.082359\n",
       "10   300.00     -0.043205\n",
       "11   400.00     -0.043205\n",
       "12   500.00     -0.043205"
      ]
     },
     "execution_count": null,
     "metadata": {},
     "output_type": "execute_result"
    }
   ],
   "source": [
    "lasso_scores_1_df.sort_values(by=['scores_Lasso'], ascending=False)"
   ]
  },
  {
   "cell_type": "markdown",
   "metadata": {},
   "source": [
    "Based on different degrees in tunning, lamda = 20 in Lasso regression yields the highest R-sqaured score for this model."
   ]
  },
  {
   "cell_type": "code",
   "execution_count": 129,
   "metadata": {
    "vscode": {
     "languageId": "python"
    }
   },
   "outputs": [
    {
     "data": {
      "text/plain": [
       "array([  0.        , -57.18082557,   0.        ,   0.        ,  84.02579041,   0.        ,   0.        ,   0.        ,  47.90533684,  -0.        ,   0.        ,   0.        ,   0.        ,  71.2459134 , 128.20172096,   0.        ,  59.49673719,  -0.        ,  -0.        ])"
      ]
     },
     "execution_count": null,
     "metadata": {},
     "output_type": "execute_result"
    }
   ],
   "source": [
    "# fit the pipeline with the highest lambda (200) on full dataset\n",
    "lasso_pipeline_1.set_params(lasso_regression__alpha=20)\n",
    "lasso_fitted = lasso_pipeline_1.fit(X, y)\n",
    "lasso_fitted.named_steps['lasso_regression'].coef_"
   ]
  },
  {
   "cell_type": "code",
   "execution_count": 160,
   "metadata": {
    "vscode": {
     "languageId": "python"
    }
   },
   "outputs": [],
   "source": [
    "# len(lasso_fitted.named_steps['lasso_regression'].coef_)"
   ]
  },
  {
   "cell_type": "code",
   "execution_count": 130,
   "metadata": {
    "vscode": {
     "languageId": "python"
    }
   },
   "outputs": [
    {
     "data": {
      "text/html": [
       "<div>\n",
       "<style scoped>\n",
       "    .dataframe tbody tr th:only-of-type {\n",
       "        vertical-align: middle;\n",
       "    }\n",
       "\n",
       "    .dataframe tbody tr th {\n",
       "        vertical-align: top;\n",
       "    }\n",
       "\n",
       "    .dataframe thead th {\n",
       "        text-align: right;\n",
       "    }\n",
       "</style>\n",
       "<table border=\"1\" class=\"dataframe\">\n",
       "  <thead>\n",
       "    <tr style=\"text-align: right;\">\n",
       "      <th></th>\n",
       "      <th>Variable</th>\n",
       "      <th>Coef_Lasso</th>\n",
       "    </tr>\n",
       "  </thead>\n",
       "  <tbody>\n",
       "    <tr>\n",
       "      <th>14</th>\n",
       "      <td>standardize__CRBI</td>\n",
       "      <td>128.201721</td>\n",
       "    </tr>\n",
       "    <tr>\n",
       "      <th>4</th>\n",
       "      <td>standardize__Hits</td>\n",
       "      <td>84.025790</td>\n",
       "    </tr>\n",
       "    <tr>\n",
       "      <th>13</th>\n",
       "      <td>standardize__CRuns</td>\n",
       "      <td>71.245913</td>\n",
       "    </tr>\n",
       "    <tr>\n",
       "      <th>16</th>\n",
       "      <td>standardize__PutOuts</td>\n",
       "      <td>59.496737</td>\n",
       "    </tr>\n",
       "    <tr>\n",
       "      <th>8</th>\n",
       "      <td>standardize__Walks</td>\n",
       "      <td>47.905337</td>\n",
       "    </tr>\n",
       "    <tr>\n",
       "      <th>0</th>\n",
       "      <td>dummify__League_N</td>\n",
       "      <td>0.000000</td>\n",
       "    </tr>\n",
       "    <tr>\n",
       "      <th>11</th>\n",
       "      <td>standardize__CHits</td>\n",
       "      <td>0.000000</td>\n",
       "    </tr>\n",
       "    <tr>\n",
       "      <th>17</th>\n",
       "      <td>standardize__Assists</td>\n",
       "      <td>-0.000000</td>\n",
       "    </tr>\n",
       "    <tr>\n",
       "      <th>15</th>\n",
       "      <td>standardize__CWalks</td>\n",
       "      <td>0.000000</td>\n",
       "    </tr>\n",
       "    <tr>\n",
       "      <th>12</th>\n",
       "      <td>standardize__CHmRun</td>\n",
       "      <td>0.000000</td>\n",
       "    </tr>\n",
       "    <tr>\n",
       "      <th>9</th>\n",
       "      <td>standardize__Years</td>\n",
       "      <td>-0.000000</td>\n",
       "    </tr>\n",
       "    <tr>\n",
       "      <th>10</th>\n",
       "      <td>standardize__CAtBat</td>\n",
       "      <td>0.000000</td>\n",
       "    </tr>\n",
       "    <tr>\n",
       "      <th>7</th>\n",
       "      <td>standardize__RBI</td>\n",
       "      <td>0.000000</td>\n",
       "    </tr>\n",
       "    <tr>\n",
       "      <th>6</th>\n",
       "      <td>standardize__Runs</td>\n",
       "      <td>0.000000</td>\n",
       "    </tr>\n",
       "    <tr>\n",
       "      <th>5</th>\n",
       "      <td>standardize__HmRun</td>\n",
       "      <td>0.000000</td>\n",
       "    </tr>\n",
       "    <tr>\n",
       "      <th>3</th>\n",
       "      <td>standardize__AtBat</td>\n",
       "      <td>0.000000</td>\n",
       "    </tr>\n",
       "    <tr>\n",
       "      <th>2</th>\n",
       "      <td>dummify__NewLeague_N</td>\n",
       "      <td>0.000000</td>\n",
       "    </tr>\n",
       "    <tr>\n",
       "      <th>18</th>\n",
       "      <td>standardize__Errors</td>\n",
       "      <td>-0.000000</td>\n",
       "    </tr>\n",
       "    <tr>\n",
       "      <th>1</th>\n",
       "      <td>dummify__Division_W</td>\n",
       "      <td>-57.180826</td>\n",
       "    </tr>\n",
       "  </tbody>\n",
       "</table>\n",
       "</div>"
      ],
      "text/plain": [
       "                Variable  Coef_Lasso\n",
       "14     standardize__CRBI  128.201721\n",
       "4      standardize__Hits   84.025790\n",
       "13    standardize__CRuns   71.245913\n",
       "16  standardize__PutOuts   59.496737\n",
       "8     standardize__Walks   47.905337\n",
       "0      dummify__League_N    0.000000\n",
       "11    standardize__CHits    0.000000\n",
       "17  standardize__Assists   -0.000000\n",
       "15   standardize__CWalks    0.000000\n",
       "12   standardize__CHmRun    0.000000\n",
       "9     standardize__Years   -0.000000\n",
       "10   standardize__CAtBat    0.000000\n",
       "7       standardize__RBI    0.000000\n",
       "6      standardize__Runs    0.000000\n",
       "5     standardize__HmRun    0.000000\n",
       "3     standardize__AtBat    0.000000\n",
       "2   dummify__NewLeague_N    0.000000\n",
       "18   standardize__Errors   -0.000000\n",
       "1    dummify__Division_W  -57.180826"
      ]
     },
     "execution_count": null,
     "metadata": {},
     "output_type": "execute_result"
    }
   ],
   "source": [
    "# turn coefficients to a dataframe\n",
    "\n",
    "coef_df_Lasso = pd.DataFrame({'Variable': beta_headers, 'Coef_Lasso': lasso_fitted.named_steps['lasso_regression'].coef_})\n",
    "coef_df_Lasso.sort_values(by=['Coef_Lasso'], ascending=False)"
   ]
  },
  {
   "cell_type": "markdown",
   "metadata": {},
   "source": [
    "According to this model output for Lasso regression with 'lamda'=20, the following are the top 5 predictor variables with\n",
    "\n",
    "The highest betas:\n",
    "CRBI (Number of runs batted in during his career), Hits, CRuns, PutOuts, Walks. From an intuitive perspective it makes sense that this variables have some of the highest betas, however it may be surprising to see that some of the variables had 0 coefficients eg. HmRun, CHmRun or Years.\n",
    "\n",
    "The lowest betas:\n",
    "Division_W, all variables betas are 0.\n",
    "\n",
    "The range of coefficients values in this Lasso model are more narrow than in LR but wider than in Ridge, also less majority of coefficients are 0."
   ]
  },
  {
   "cell_type": "code",
   "execution_count": 131,
   "metadata": {
    "vscode": {
     "languageId": "python"
    }
   },
   "outputs": [
    {
     "data": {
      "text/plain": [
       "np.float64(106297.82456925086)"
      ]
     },
     "execution_count": null,
     "metadata": {},
     "output_type": "execute_result"
    }
   ],
   "source": [
    "# MSE\n",
    "\n",
    "y_pred = lasso_fitted.predict(X)\n",
    "MSE_Lasso_1 = mean_squared_error(y, y_pred)\n",
    "MSE_Lasso_1"
   ]
  },
  {
   "cell_type": "code",
   "execution_count": 132,
   "metadata": {
    "vscode": {
     "languageId": "python"
    }
   },
   "outputs": [
    {
     "data": {
      "text/plain": [
       "0.4756790501647946"
      ]
     },
     "execution_count": null,
     "metadata": {},
     "output_type": "execute_result"
    }
   ],
   "source": [
    "# R-squared\n",
    "Rsq_Lasso_1 = r2_score(y, y_pred)\n",
    "Rsq_Lasso_1"
   ]
  },
  {
   "cell_type": "markdown",
   "metadata": {},
   "source": [
    "The MSE of this Lasso model prediction is 106297. This is by -3.8% lower than the MSE of Ridge regression model. The R-squared is 0.475 on full data or 0.377 when tuning for best lambda."
   ]
  },
  {
   "cell_type": "markdown",
   "metadata": {},
   "source": [
    "## D. Elastic Net"
   ]
  },
  {
   "cell_type": "code",
   "execution_count": 133,
   "metadata": {
    "vscode": {
     "languageId": "python"
    }
   },
   "outputs": [
    {
     "name": "stderr",
     "output_type": "stream",
     "text": [
      "/Library/Frameworks/Python.framework/Versions/3.12/lib/python3.12/site-packages/sklearn/linear_model/_coordinate_descent.py:697: ConvergenceWarning: Objective did not converge. You might want to increase the number of iterations, check the scale of the features or consider increasing regularisation. Duality gap: 4.565e+03, tolerance: 4.137e+03\n",
      "  model = cd_fast.enet_coordinate_descent(\n",
      "/Library/Frameworks/Python.framework/Versions/3.12/lib/python3.12/site-packages/sklearn/linear_model/_coordinate_descent.py:697: ConvergenceWarning: Objective did not converge. You might want to increase the number of iterations, check the scale of the features or consider increasing regularisation. Duality gap: 1.307e+05, tolerance: 4.708e+03\n",
      "  model = cd_fast.enet_coordinate_descent(\n",
      "/Library/Frameworks/Python.framework/Versions/3.12/lib/python3.12/site-packages/sklearn/linear_model/_coordinate_descent.py:697: ConvergenceWarning: Objective did not converge. You might want to increase the number of iterations, check the scale of the features or consider increasing regularisation. Duality gap: 1.662e+04, tolerance: 3.606e+03\n",
      "  model = cd_fast.enet_coordinate_descent(\n",
      "/Library/Frameworks/Python.framework/Versions/3.12/lib/python3.12/site-packages/sklearn/linear_model/_coordinate_descent.py:697: ConvergenceWarning: Objective did not converge. You might want to increase the number of iterations, check the scale of the features or consider increasing regularisation. Duality gap: 3.260e+05, tolerance: 4.137e+03\n",
      "  model = cd_fast.enet_coordinate_descent(\n",
      "/Library/Frameworks/Python.framework/Versions/3.12/lib/python3.12/site-packages/sklearn/linear_model/_coordinate_descent.py:697: ConvergenceWarning: Objective did not converge. You might want to increase the number of iterations, check the scale of the features or consider increasing regularisation. Duality gap: 3.591e+04, tolerance: 4.281e+03\n",
      "  model = cd_fast.enet_coordinate_descent(\n",
      "/Library/Frameworks/Python.framework/Versions/3.12/lib/python3.12/site-packages/sklearn/linear_model/_coordinate_descent.py:697: ConvergenceWarning: Objective did not converge. You might want to increase the number of iterations, check the scale of the features or consider increasing regularisation. Duality gap: 2.994e+04, tolerance: 4.558e+03\n",
      "  model = cd_fast.enet_coordinate_descent(\n",
      "/Library/Frameworks/Python.framework/Versions/3.12/lib/python3.12/site-packages/sklearn/linear_model/_coordinate_descent.py:697: ConvergenceWarning: Objective did not converge. You might want to increase the number of iterations, check the scale of the features or consider increasing regularisation. Duality gap: 3.129e+05, tolerance: 4.708e+03\n",
      "  model = cd_fast.enet_coordinate_descent(\n",
      "/Library/Frameworks/Python.framework/Versions/3.12/lib/python3.12/site-packages/sklearn/linear_model/_coordinate_descent.py:697: ConvergenceWarning: Objective did not converge. You might want to increase the number of iterations, check the scale of the features or consider increasing regularisation. Duality gap: 5.651e+04, tolerance: 3.606e+03\n",
      "  model = cd_fast.enet_coordinate_descent(\n",
      "/Library/Frameworks/Python.framework/Versions/3.12/lib/python3.12/site-packages/sklearn/linear_model/_coordinate_descent.py:697: ConvergenceWarning: Objective did not converge. You might want to increase the number of iterations, check the scale of the features or consider increasing regularisation. Duality gap: 9.771e+05, tolerance: 4.137e+03\n",
      "  model = cd_fast.enet_coordinate_descent(\n",
      "/Library/Frameworks/Python.framework/Versions/3.12/lib/python3.12/site-packages/sklearn/linear_model/_coordinate_descent.py:697: ConvergenceWarning: Objective did not converge. You might want to increase the number of iterations, check the scale of the features or consider increasing regularisation. Duality gap: 3.618e+04, tolerance: 4.281e+03\n",
      "  model = cd_fast.enet_coordinate_descent(\n",
      "/Library/Frameworks/Python.framework/Versions/3.12/lib/python3.12/site-packages/sklearn/linear_model/_coordinate_descent.py:697: ConvergenceWarning: Objective did not converge. You might want to increase the number of iterations, check the scale of the features or consider increasing regularisation. Duality gap: 4.941e+04, tolerance: 4.558e+03\n",
      "  model = cd_fast.enet_coordinate_descent(\n"
     ]
    },
    {
     "data": {
      "text/plain": [
       "{'mean_fit_time': array([0.00991287, 0.0057344 , 0.00535278, 0.00522337, 0.00516706, 0.00523081, 0.00554261, 0.0056324 , 0.00448785, 0.00449305, 0.00486336, 0.0050982 , 0.00488691, 0.00446677, 0.00520358, 0.00555654, 0.0034862 , 0.00321651, 0.0031167 , 0.00344319, 0.00344214, 0.00342927, 0.00354147,\n",
       "        0.00363955, 0.00279036, 0.00272121, 0.00277104, 0.00266042, 0.0026969 , 0.00274949, 0.00274878, 0.00280576, 0.00274053, 0.0027936 , 0.00295835, 0.00295343, 0.00324574, 0.00326285, 0.00348587, 0.00328579, 0.00349398, 0.00331993, 0.00361228, 0.00352674, 0.00339293, 0.00302677,\n",
       "        0.00278106, 0.00320482, 0.00282187, 0.00278101, 0.00271683, 0.00273356, 0.00279751, 0.00273623, 0.00270057, 0.00272741, 0.00269399, 0.00279474, 0.00273323, 0.00271244, 0.00267038, 0.00288568, 0.00268502, 0.00274615, 0.00266905, 0.00271645, 0.00280018, 0.00272245, 0.00266261,\n",
       "        0.00269179, 0.00275445, 0.00284491, 0.00268373, 0.00274129, 0.00284958, 0.00272403, 0.0027205 , 0.00270386, 0.00274782, 0.00300283, 0.00280814, 0.0028667 , 0.00282636, 0.00302343, 0.00286179, 0.00286012, 0.00276895, 0.00286226]),\n",
       " 'std_fit_time': array([4.10789000e-03, 1.72697977e-04, 1.51218919e-04, 3.55110067e-04, 4.03383815e-04, 1.90550990e-04, 2.56743048e-05, 1.58733855e-04, 1.54765329e-04, 2.03489295e-04, 5.82284158e-04, 5.40638521e-04, 4.08396409e-04, 1.61051918e-04, 3.58592880e-04, 1.74087715e-04, 1.52194320e-04,\n",
       "        1.54475223e-04, 6.05770142e-05, 6.15802567e-04, 2.67520800e-04, 2.02153065e-04, 1.62939729e-04, 1.75058124e-04, 7.62490200e-05, 8.26318485e-05, 7.64107704e-05, 2.04865803e-05, 4.34104127e-05, 9.80157772e-05, 9.40929608e-05, 1.46917343e-04, 8.45443980e-05, 1.19636001e-04,\n",
       "        3.65173882e-04, 1.43639277e-04, 3.76841139e-04, 4.12119231e-04, 6.47510754e-04, 2.10986223e-04, 4.23562812e-04, 3.10866868e-04, 2.88109928e-04, 3.39016646e-04, 4.16095082e-04, 1.53518862e-04, 6.70270235e-05, 5.78504492e-04, 9.86917459e-05, 9.18712638e-05, 9.09946489e-05,\n",
       "        2.92665385e-05, 1.88828032e-04, 6.91386913e-05, 5.46372992e-05, 9.79029949e-05, 6.84925747e-05, 1.37197246e-04, 8.92265407e-05, 2.28779492e-05, 1.90398396e-05, 2.44712049e-04, 4.20151175e-05, 9.72349656e-05, 1.99329339e-05, 4.91439859e-05, 9.84314100e-05, 5.94540410e-05,\n",
       "        5.06151806e-05, 4.90781967e-05, 1.37847594e-04, 1.45848001e-04, 4.05907473e-05, 7.79673811e-05, 2.73411000e-04, 5.70751571e-05, 1.10462763e-04, 4.58516555e-05, 9.69385901e-05, 2.61477316e-04, 4.20091642e-05, 1.57639105e-04, 1.07843299e-04, 3.12497566e-04, 2.26911137e-04,\n",
       "        2.04585448e-04, 3.80814705e-05, 1.25726994e-04]),\n",
       " 'mean_score_time': array([0.00297728, 0.00190639, 0.00160398, 0.00164347, 0.00169306, 0.00164733, 0.00157857, 0.00161791, 0.0015708 , 0.00163097, 0.00194087, 0.00194697, 0.00179753, 0.00171018, 0.0017004 , 0.00175261, 0.0016109 , 0.00160789, 0.00151691, 0.00164742, 0.00169826, 0.00158396, 0.00164604,\n",
       "        0.00162969, 0.00158486, 0.00154595, 0.00154557, 0.00153356, 0.00153742, 0.00161552, 0.00154796, 0.00155845, 0.00155263, 0.00163002, 0.00171089, 0.00181875, 0.00179577, 0.00185699, 0.00190539, 0.00201182, 0.00209708, 0.00191116, 0.00188069, 0.00225863, 0.00187969, 0.00168257,\n",
       "        0.00157642, 0.00168662, 0.001756  , 0.00156112, 0.00156956, 0.00156107, 0.00156488, 0.00156264, 0.001542  , 0.00154576, 0.00153685, 0.00156965, 0.00154095, 0.00154738, 0.00154757, 0.00157771, 0.00154395, 0.00156398, 0.00155711, 0.00157123, 0.00165048, 0.00153837, 0.00155001,\n",
       "        0.00152721, 0.00161867, 0.00160618, 0.00154114, 0.00157475, 0.00159268, 0.00154724, 0.00154691, 0.00154572, 0.00156355, 0.0016614 , 0.00161495, 0.001648  , 0.00163765, 0.00162396, 0.00160108, 0.00165377, 0.00160422, 0.00174184]),\n",
       " 'std_score_time': array([7.93445076e-04, 2.78732101e-04, 3.84889414e-05, 1.33363639e-04, 2.28073082e-04, 1.08517766e-04, 2.63441202e-05, 7.54658642e-05, 3.44356332e-05, 7.24080640e-05, 5.36101140e-04, 4.17481359e-04, 1.19907964e-04, 1.64078273e-04, 1.03473773e-04, 1.43108277e-04, 4.57109043e-05,\n",
       "        7.33514433e-05, 1.43246517e-05, 9.07283914e-05, 9.05233619e-05, 5.04892873e-05, 7.29965895e-05, 6.05396557e-05, 5.49461673e-05, 2.39315254e-05, 2.97542566e-05, 2.81573856e-05, 1.82439916e-05, 7.93983269e-05, 4.70142093e-05, 3.58946594e-05, 1.96543693e-05, 1.17320102e-04,\n",
       "        1.27134033e-04, 3.31432101e-04, 2.33184828e-04, 3.87477575e-04, 2.69219548e-04, 4.01003533e-04, 2.94556999e-04, 1.89166595e-04, 8.60426722e-05, 3.73498714e-04, 1.55933260e-04, 8.73606017e-05, 5.12667585e-05, 2.01032442e-04, 3.45953110e-04, 4.45380711e-05, 4.66161430e-05,\n",
       "        3.36677426e-05, 4.66030205e-05, 7.41400362e-05, 1.92057080e-05, 4.01100838e-05, 2.23371617e-05, 4.52873816e-05, 3.82271758e-05, 3.08729138e-05, 2.57262375e-05, 6.66132465e-05, 4.55082052e-05, 5.92463981e-05, 5.45662993e-05, 3.27022696e-05, 1.38712134e-04, 2.33375622e-05,\n",
       "        4.89053172e-05, 2.08599771e-05, 9.33072241e-05, 3.08412288e-05, 2.35216573e-05, 4.01583524e-05, 5.04928448e-05, 2.74455307e-05, 3.32880153e-05, 2.48721662e-05, 2.60018389e-05, 1.18829752e-04, 9.68709210e-05, 1.08685447e-04, 1.24288079e-04, 6.27867259e-05, 6.60956505e-05,\n",
       "        1.18987984e-04, 7.72290149e-05, 1.48495804e-04]),\n",
       " 'param_elasticnet_regression__alpha': masked_array(data=[0.01, 0.01, 0.01, 0.01, 0.01, 0.01, 0.01, 0.01, 0.02, 0.02, 0.02, 0.02, 0.02, 0.02, 0.02, 0.02, 0.1, 0.1, 0.1, 0.1, 0.1, 0.1, 0.1, 0.1, 10.0, 10.0, 10.0, 10.0, 10.0, 10.0, 10.0, 10.0, 12.0, 12.0, 12.0, 12.0, 12.0, 12.0, 12.0, 12.0, 15.0, 15.0, 15.0, 15.0, 15.0, 15.0,\n",
       "                    15.0, 15.0, 20.0, 20.0, 20.0, 20.0, 20.0, 20.0, 20.0, 20.0, 30.0, 30.0, 30.0, 30.0, 30.0, 30.0, 30.0, 30.0, 40.0, 40.0, 40.0, 40.0, 40.0, 40.0, 40.0, 40.0, 80.0, 80.0, 80.0, 80.0, 80.0, 80.0, 80.0, 80.0, 200.0, 200.0, 200.0, 200.0, 200.0, 200.0, 200.0, 200.0],\n",
       "              mask=[False, False, False, False, False, False, False, False, False, False, False, False, False, False, False, False, False, False, False, False, False, False, False, False, False, False, False, False, False, False, False, False, False, False, False, False, False, False,\n",
       "                    False, False, False, False, False, False, False, False, False, False, False, False, False, False, False, False, False, False, False, False, False, False, False, False, False, False, False, False, False, False, False, False, False, False, False, False, False, False,\n",
       "                    False, False, False, False, False, False, False, False, False, False, False, False],\n",
       "        fill_value=1e+20),\n",
       " 'param_elasticnet_regression__l1_ratio': masked_array(data=[0.01, 0.1, 0.15, 0.2, 0.3, 0.5, 0.7, 0.8, 0.01, 0.1, 0.15, 0.2, 0.3, 0.5, 0.7, 0.8, 0.01, 0.1, 0.15, 0.2, 0.3, 0.5, 0.7, 0.8, 0.01, 0.1, 0.15, 0.2, 0.3, 0.5, 0.7, 0.8, 0.01, 0.1, 0.15, 0.2, 0.3, 0.5, 0.7, 0.8, 0.01, 0.1, 0.15, 0.2, 0.3, 0.5, 0.7, 0.8, 0.01, 0.1, 0.15,\n",
       "                    0.2, 0.3, 0.5, 0.7, 0.8, 0.01, 0.1, 0.15, 0.2, 0.3, 0.5, 0.7, 0.8, 0.01, 0.1, 0.15, 0.2, 0.3, 0.5, 0.7, 0.8, 0.01, 0.1, 0.15, 0.2, 0.3, 0.5, 0.7, 0.8, 0.01, 0.1, 0.15, 0.2, 0.3, 0.5, 0.7, 0.8],\n",
       "              mask=[False, False, False, False, False, False, False, False, False, False, False, False, False, False, False, False, False, False, False, False, False, False, False, False, False, False, False, False, False, False, False, False, False, False, False, False, False, False,\n",
       "                    False, False, False, False, False, False, False, False, False, False, False, False, False, False, False, False, False, False, False, False, False, False, False, False, False, False, False, False, False, False, False, False, False, False, False, False, False, False,\n",
       "                    False, False, False, False, False, False, False, False, False, False, False, False],\n",
       "        fill_value=1e+20),\n",
       " 'params': [{'elasticnet_regression__alpha': 0.01,\n",
       "   'elasticnet_regression__l1_ratio': 0.01},\n",
       "  {'elasticnet_regression__alpha': 0.01,\n",
       "   'elasticnet_regression__l1_ratio': 0.1},\n",
       "  {'elasticnet_regression__alpha': 0.01,\n",
       "   'elasticnet_regression__l1_ratio': 0.15},\n",
       "  {'elasticnet_regression__alpha': 0.01,\n",
       "   'elasticnet_regression__l1_ratio': 0.2},\n",
       "  {'elasticnet_regression__alpha': 0.01,\n",
       "   'elasticnet_regression__l1_ratio': 0.3},\n",
       "  {'elasticnet_regression__alpha': 0.01,\n",
       "   'elasticnet_regression__l1_ratio': 0.5},\n",
       "  {'elasticnet_regression__alpha': 0.01,\n",
       "   'elasticnet_regression__l1_ratio': 0.7},\n",
       "  {'elasticnet_regression__alpha': 0.01,\n",
       "   'elasticnet_regression__l1_ratio': 0.8},\n",
       "  {'elasticnet_regression__alpha': 0.02,\n",
       "   'elasticnet_regression__l1_ratio': 0.01},\n",
       "  {'elasticnet_regression__alpha': 0.02,\n",
       "   'elasticnet_regression__l1_ratio': 0.1},\n",
       "  {'elasticnet_regression__alpha': 0.02,\n",
       "   'elasticnet_regression__l1_ratio': 0.15},\n",
       "  {'elasticnet_regression__alpha': 0.02,\n",
       "   'elasticnet_regression__l1_ratio': 0.2},\n",
       "  {'elasticnet_regression__alpha': 0.02,\n",
       "   'elasticnet_regression__l1_ratio': 0.3},\n",
       "  {'elasticnet_regression__alpha': 0.02,\n",
       "   'elasticnet_regression__l1_ratio': 0.5},\n",
       "  {'elasticnet_regression__alpha': 0.02,\n",
       "   'elasticnet_regression__l1_ratio': 0.7},\n",
       "  {'elasticnet_regression__alpha': 0.02,\n",
       "   'elasticnet_regression__l1_ratio': 0.8},\n",
       "  {'elasticnet_regression__alpha': 0.1,\n",
       "   'elasticnet_regression__l1_ratio': 0.01},\n",
       "  {'elasticnet_regression__alpha': 0.1,\n",
       "   'elasticnet_regression__l1_ratio': 0.1},\n",
       "  {'elasticnet_regression__alpha': 0.1,\n",
       "   'elasticnet_regression__l1_ratio': 0.15},\n",
       "  {'elasticnet_regression__alpha': 0.1,\n",
       "   'elasticnet_regression__l1_ratio': 0.2},\n",
       "  {'elasticnet_regression__alpha': 0.1,\n",
       "   'elasticnet_regression__l1_ratio': 0.3},\n",
       "  {'elasticnet_regression__alpha': 0.1,\n",
       "   'elasticnet_regression__l1_ratio': 0.5},\n",
       "  {'elasticnet_regression__alpha': 0.1,\n",
       "   'elasticnet_regression__l1_ratio': 0.7},\n",
       "  {'elasticnet_regression__alpha': 0.1,\n",
       "   'elasticnet_regression__l1_ratio': 0.8},\n",
       "  {'elasticnet_regression__alpha': 10,\n",
       "   'elasticnet_regression__l1_ratio': 0.01},\n",
       "  {'elasticnet_regression__alpha': 10, 'elasticnet_regression__l1_ratio': 0.1},\n",
       "  {'elasticnet_regression__alpha': 10,\n",
       "   'elasticnet_regression__l1_ratio': 0.15},\n",
       "  {'elasticnet_regression__alpha': 10, 'elasticnet_regression__l1_ratio': 0.2},\n",
       "  {'elasticnet_regression__alpha': 10, 'elasticnet_regression__l1_ratio': 0.3},\n",
       "  {'elasticnet_regression__alpha': 10, 'elasticnet_regression__l1_ratio': 0.5},\n",
       "  {'elasticnet_regression__alpha': 10, 'elasticnet_regression__l1_ratio': 0.7},\n",
       "  {'elasticnet_regression__alpha': 10, 'elasticnet_regression__l1_ratio': 0.8},\n",
       "  {'elasticnet_regression__alpha': 12,\n",
       "   'elasticnet_regression__l1_ratio': 0.01},\n",
       "  {'elasticnet_regression__alpha': 12, 'elasticnet_regression__l1_ratio': 0.1},\n",
       "  {'elasticnet_regression__alpha': 12,\n",
       "   'elasticnet_regression__l1_ratio': 0.15},\n",
       "  {'elasticnet_regression__alpha': 12, 'elasticnet_regression__l1_ratio': 0.2},\n",
       "  {'elasticnet_regression__alpha': 12, 'elasticnet_regression__l1_ratio': 0.3},\n",
       "  {'elasticnet_regression__alpha': 12, 'elasticnet_regression__l1_ratio': 0.5},\n",
       "  {'elasticnet_regression__alpha': 12, 'elasticnet_regression__l1_ratio': 0.7},\n",
       "  {'elasticnet_regression__alpha': 12, 'elasticnet_regression__l1_ratio': 0.8},\n",
       "  {'elasticnet_regression__alpha': 15,\n",
       "   'elasticnet_regression__l1_ratio': 0.01},\n",
       "  {'elasticnet_regression__alpha': 15, 'elasticnet_regression__l1_ratio': 0.1},\n",
       "  {'elasticnet_regression__alpha': 15,\n",
       "   'elasticnet_regression__l1_ratio': 0.15},\n",
       "  {'elasticnet_regression__alpha': 15, 'elasticnet_regression__l1_ratio': 0.2},\n",
       "  {'elasticnet_regression__alpha': 15, 'elasticnet_regression__l1_ratio': 0.3},\n",
       "  {'elasticnet_regression__alpha': 15, 'elasticnet_regression__l1_ratio': 0.5},\n",
       "  {'elasticnet_regression__alpha': 15, 'elasticnet_regression__l1_ratio': 0.7},\n",
       "  {'elasticnet_regression__alpha': 15, 'elasticnet_regression__l1_ratio': 0.8},\n",
       "  {'elasticnet_regression__alpha': 20,\n",
       "   'elasticnet_regression__l1_ratio': 0.01},\n",
       "  {'elasticnet_regression__alpha': 20, 'elasticnet_regression__l1_ratio': 0.1},\n",
       "  {'elasticnet_regression__alpha': 20,\n",
       "   'elasticnet_regression__l1_ratio': 0.15},\n",
       "  {'elasticnet_regression__alpha': 20, 'elasticnet_regression__l1_ratio': 0.2},\n",
       "  {'elasticnet_regression__alpha': 20, 'elasticnet_regression__l1_ratio': 0.3},\n",
       "  {'elasticnet_regression__alpha': 20, 'elasticnet_regression__l1_ratio': 0.5},\n",
       "  {'elasticnet_regression__alpha': 20, 'elasticnet_regression__l1_ratio': 0.7},\n",
       "  {'elasticnet_regression__alpha': 20, 'elasticnet_regression__l1_ratio': 0.8},\n",
       "  {'elasticnet_regression__alpha': 30,\n",
       "   'elasticnet_regression__l1_ratio': 0.01},\n",
       "  {'elasticnet_regression__alpha': 30, 'elasticnet_regression__l1_ratio': 0.1},\n",
       "  {'elasticnet_regression__alpha': 30,\n",
       "   'elasticnet_regression__l1_ratio': 0.15},\n",
       "  {'elasticnet_regression__alpha': 30, 'elasticnet_regression__l1_ratio': 0.2},\n",
       "  {'elasticnet_regression__alpha': 30, 'elasticnet_regression__l1_ratio': 0.3},\n",
       "  {'elasticnet_regression__alpha': 30, 'elasticnet_regression__l1_ratio': 0.5},\n",
       "  {'elasticnet_regression__alpha': 30, 'elasticnet_regression__l1_ratio': 0.7},\n",
       "  {'elasticnet_regression__alpha': 30, 'elasticnet_regression__l1_ratio': 0.8},\n",
       "  {'elasticnet_regression__alpha': 40,\n",
       "   'elasticnet_regression__l1_ratio': 0.01},\n",
       "  {'elasticnet_regression__alpha': 40, 'elasticnet_regression__l1_ratio': 0.1},\n",
       "  {'elasticnet_regression__alpha': 40,\n",
       "   'elasticnet_regression__l1_ratio': 0.15},\n",
       "  {'elasticnet_regression__alpha': 40, 'elasticnet_regression__l1_ratio': 0.2},\n",
       "  {'elasticnet_regression__alpha': 40, 'elasticnet_regression__l1_ratio': 0.3},\n",
       "  {'elasticnet_regression__alpha': 40, 'elasticnet_regression__l1_ratio': 0.5},\n",
       "  {'elasticnet_regression__alpha': 40, 'elasticnet_regression__l1_ratio': 0.7},\n",
       "  {'elasticnet_regression__alpha': 40, 'elasticnet_regression__l1_ratio': 0.8},\n",
       "  {'elasticnet_regression__alpha': 80,\n",
       "   'elasticnet_regression__l1_ratio': 0.01},\n",
       "  {'elasticnet_regression__alpha': 80, 'elasticnet_regression__l1_ratio': 0.1},\n",
       "  {'elasticnet_regression__alpha': 80,\n",
       "   'elasticnet_regression__l1_ratio': 0.15},\n",
       "  {'elasticnet_regression__alpha': 80, 'elasticnet_regression__l1_ratio': 0.2},\n",
       "  {'elasticnet_regression__alpha': 80, 'elasticnet_regression__l1_ratio': 0.3},\n",
       "  {'elasticnet_regression__alpha': 80, 'elasticnet_regression__l1_ratio': 0.5},\n",
       "  {'elasticnet_regression__alpha': 80, 'elasticnet_regression__l1_ratio': 0.7},\n",
       "  {'elasticnet_regression__alpha': 80, 'elasticnet_regression__l1_ratio': 0.8},\n",
       "  {'elasticnet_regression__alpha': 200,\n",
       "   'elasticnet_regression__l1_ratio': 0.01},\n",
       "  {'elasticnet_regression__alpha': 200,\n",
       "   'elasticnet_regression__l1_ratio': 0.1},\n",
       "  {'elasticnet_regression__alpha': 200,\n",
       "   'elasticnet_regression__l1_ratio': 0.15},\n",
       "  {'elasticnet_regression__alpha': 200,\n",
       "   'elasticnet_regression__l1_ratio': 0.2},\n",
       "  {'elasticnet_regression__alpha': 200,\n",
       "   'elasticnet_regression__l1_ratio': 0.3},\n",
       "  {'elasticnet_regression__alpha': 200,\n",
       "   'elasticnet_regression__l1_ratio': 0.5},\n",
       "  {'elasticnet_regression__alpha': 200,\n",
       "   'elasticnet_regression__l1_ratio': 0.7},\n",
       "  {'elasticnet_regression__alpha': 200,\n",
       "   'elasticnet_regression__l1_ratio': 0.8}],\n",
       " 'split0_test_score': array([ 0.30733874,  0.30531482,  0.30422092,  0.3031552 ,  0.30114035,  0.2977371 ,  0.29588205,  0.29599659,  0.33054881,  0.32646233,  0.32415107,  0.32181487,  0.3170883 ,  0.30769528,  0.29941585,  0.29665862,  0.42904338,  0.42278101,  0.41899585,  0.41497323,  0.40609058,\n",
       "         0.38390336,  0.353063  ,  0.33186611,  0.39716864,  0.41394937,  0.42368025,  0.43372245,  0.45460963,  0.49861221,  0.53996803,  0.55362651,  0.36042369,  0.37821534,  0.38869667,  0.39959988,  0.42268656,  0.4736203 ,  0.52667821,  0.54823699,  0.31320719,  0.33153489,\n",
       "         0.34248135,  0.3539985 ,  0.3788714 ,  0.43662555,  0.50360919,  0.53593836,  0.25152656,  0.26937724,  0.2802039 ,  0.29174567,  0.317241  ,  0.380003  ,  0.46203108,  0.50862591,  0.16935175,  0.18473092,  0.19422695,  0.20450697,  0.22780744,  0.28909522,  0.38157989,\n",
       "         0.44510567,  0.11782777,  0.13067742,  0.1386974 ,  0.14744736,  0.1674993 ,  0.22253046,  0.31328473,  0.38308806,  0.02293413,  0.02932414,  0.03331702,  0.03772241,  0.04813814,  0.07897885,  0.13875769,  0.19580404, -0.04692186, -0.04677421, -0.04671211, -0.04664282,\n",
       "        -0.0464693 , -0.04590452, -0.04471585, -0.0422863 ]),\n",
       " 'split1_test_score': array([ 0.54767143,  0.54947798,  0.55051709,  0.55158458,  0.55380288,  0.55862039,  0.56398289,  0.56688652,  0.53165239,  0.53410471,  0.53553599,  0.5370207 ,  0.54016913,  0.54730981,  0.55596048,  0.56104114,  0.48294903,  0.48581563,  0.48754708,  0.48939185,  0.49348046,\n",
       "         0.50380155,  0.51911598,  0.53026234,  0.20736218,  0.21941226,  0.22655945,  0.23405766,  0.25020393,  0.28789031,  0.33451446,  0.36213354,  0.18140083,  0.19349848,  0.20073413,  0.20837618,  0.22501279,  0.26477648,  0.31585148,  0.34695861,  0.149637  ,  0.16142955,\n",
       "         0.16855888,  0.17614604,  0.19287227,  0.23411177,  0.28986481,  0.32531813,  0.11006127,  0.12092362,  0.12756929,  0.13471011,  0.15070909,  0.1917629 ,  0.25134302,  0.29189694,  0.05968716,  0.0684851 ,  0.07394696,  0.07988586,  0.09345677,  0.1301992 ,  0.18921162,\n",
       "         0.23382751,  0.02910233,  0.03617246,  0.04059639,  0.04543734,  0.05665096,  0.08803958,  0.14183838,  0.18585679, -0.02572264, -0.02263705, -0.02067956, -0.01850802, -0.01336526,  0.0018312 ,  0.03176832,  0.06079527, -0.06510213, -0.06556236, -0.06586772, -0.06622064,\n",
       "        -0.06702636, -0.06940856, -0.07210793, -0.07209784]),\n",
       " 'split2_test_score': array([0.65654772, 0.65624141, 0.6560333 , 0.65579534, 0.65521997, 0.65358815, 0.65111354, 0.64948153, 0.65636777, 0.65670549, 0.65685254, 0.65696521, 0.65706486, 0.65656435, 0.65449447, 0.65249048, 0.63038483, 0.63290349, 0.63435885, 0.6358584 , 0.63899761, 0.64580558, 0.65304553,\n",
       "        0.65605079, 0.29442633, 0.30697996, 0.31447762, 0.3223829 , 0.33955299, 0.3805756 , 0.43416741, 0.46844741, 0.26785199, 0.28030103, 0.28778689, 0.29572924, 0.31313955, 0.35562878, 0.41284835, 0.45011855, 0.23577857, 0.24777026, 0.25504436, 0.26281173, 0.2800502 , 0.32328311,\n",
       "        0.38407243, 0.42499293, 0.19636181, 0.20727915, 0.21397446, 0.22118962, 0.23742998, 0.27966941, 0.34286377, 0.38783608, 0.14688264, 0.15564957, 0.16109793, 0.16703327, 0.18065022, 0.21785686, 0.27881904, 0.32648038, 0.11714814, 0.12418865, 0.12859865, 0.13343521, 0.14466985,\n",
       "        0.17631604, 0.23147414, 0.27774428, 0.06431709, 0.067488  , 0.06950462, 0.07174617, 0.07705876, 0.09303081, 0.12479962, 0.15600686, 0.02667896, 0.02647595, 0.02634665, 0.02623525, 0.02599464, 0.02523367, 0.02499052, 0.02492402]),\n",
       " 'split3_test_score': array([0.02439409, 0.02354613, 0.02304133, 0.02250871, 0.02134127, 0.0184294 , 0.01388735, 0.01000913, 0.03079446, 0.02991268, 0.02938326, 0.02882207, 0.02759052, 0.02453616, 0.02008895, 0.01657761, 0.04309286, 0.04256083, 0.0422335 , 0.04187958, 0.04106935, 0.03889893, 0.03472782,\n",
       "        0.03115201, 0.12255945, 0.12450009, 0.12545664, 0.12629692, 0.12747144, 0.12618908, 0.11545579, 0.1030585 , 0.11764037, 0.12041958, 0.12190706, 0.12332921, 0.12583698, 0.12798822, 0.1213376 , 0.11052492, 0.10952683, 0.11312278, 0.11514866, 0.11717856, 0.12113876, 0.12742233,\n",
       "        0.12666086, 0.11887297, 0.09661699, 0.1008434 , 0.1033195 , 0.10588523, 0.11122084, 0.12205812, 0.12944084, 0.12709545, 0.07634135, 0.080651  , 0.08326454, 0.08604642, 0.09213336, 0.10673221, 0.1235775 , 0.12965477, 0.06220312, 0.06612957, 0.06855129, 0.07115109, 0.07698556,\n",
       "        0.09189613, 0.11231643, 0.12382585, 0.0338488 , 0.03619787, 0.03766571, 0.03926231, 0.04279589, 0.0529099 , 0.07147904, 0.08766384, 0.01135086, 0.01176196, 0.01191697, 0.0120903 , 0.01253175, 0.01393762, 0.0169863 , 0.02042327]),\n",
       " 'split4_test_score': array([0.26605898, 0.26462976, 0.26375844, 0.26282457, 0.26073646, 0.25542881, 0.24766221, 0.24210704, 0.27520965, 0.27413655, 0.27346703, 0.27273531, 0.27104565, 0.26635186, 0.25846912, 0.25207337, 0.29416048, 0.29245588, 0.29150167, 0.2905426 , 0.28861318, 0.28467798, 0.28000652,\n",
       "        0.27615973, 0.25839387, 0.26828535, 0.27407036, 0.28006917, 0.29272004, 0.3204206 , 0.34883687, 0.36043133, 0.23740794, 0.24772035, 0.25381907, 0.26019851, 0.27385335, 0.30492123, 0.33956758, 0.35590746, 0.21084755, 0.22130204, 0.22756825, 0.23418997, 0.24860448, 0.28278204,\n",
       "        0.32449216, 0.3468797 , 0.17661877, 0.18667981, 0.19279488, 0.19933226, 0.21384813, 0.24998877, 0.29894706, 0.32894151, 0.13154072, 0.14014877, 0.14547067, 0.15124066, 0.16436665, 0.19903326, 0.25255828, 0.29093053, 0.10346461, 0.11066905, 0.1151681 , 0.12008611, 0.13138054,\n",
       "        0.16244577, 0.21441827, 0.25554152, 0.0519872 , 0.05568406, 0.05802459, 0.0605745 , 0.06660585, 0.08447755, 0.1185066 , 0.15113507, 0.01419879, 0.01454784, 0.01474402, 0.01496378, 0.01534102, 0.01652397, 0.0191003 , 0.02211702]),\n",
       " 'mean_test_score': array([ 0.36040219,  0.35984202,  0.35951422,  0.35917368,  0.35844819,  0.35676077,  0.35450561,  0.35289616,  0.36491461,  0.36426435,  0.36387798,  0.36347163,  0.36259169,  0.36049149,  0.35768577,  0.35576824,  0.37592612,  0.37530337,  0.37492739,  0.37452913,  0.37365024,\n",
       "         0.37141748,  0.36799177,  0.36509819,  0.25598209,  0.26662541,  0.27284886,  0.27930582,  0.29291161,  0.32273756,  0.35458851,  0.36953946,  0.23294496,  0.24403096,  0.25058876,  0.2574466 ,  0.27210585,  0.305387  ,  0.34325664,  0.3623493 ,  0.20379943,  0.2150319 ,\n",
       "         0.2217603 ,  0.22886496,  0.24430742,  0.28084496,  0.32573989,  0.35040042,  0.16623708,  0.17702064,  0.18357241,  0.19057258,  0.20608981,  0.24469644,  0.29692515,  0.32887918,  0.11676072,  0.12593307,  0.13160141,  0.13774263,  0.15168289,  0.18858335,  0.24514927,\n",
       "         0.28519977,  0.08594919,  0.09356743,  0.09832237,  0.10351142,  0.11543724,  0.1482456 ,  0.20266639,  0.2452113 ,  0.02947291,  0.0332114 ,  0.03556648,  0.03815947,  0.04424668,  0.06224566,  0.09706225,  0.13028102, -0.01195907, -0.01191017, -0.01191444, -0.01191482,\n",
       "        -0.01192565, -0.01192356, -0.01114933, -0.00938397]),\n",
       " 'std_test_score': array([0.2224364 , 0.22313579, 0.223538  , 0.22395128, 0.22481539, 0.22674827, 0.22922916, 0.23101431, 0.21615304, 0.21712237, 0.21768769, 0.21827343, 0.21951092, 0.22229526, 0.22566311, 0.22780602, 0.19823631, 0.19920151, 0.19978738, 0.20041538, 0.20182281, 0.20545685, 0.2112455 ,\n",
       "        0.21562332, 0.0911953 , 0.09567056, 0.09833792, 0.10115318, 0.10725307, 0.12176053, 0.14022758, 0.15153926, 0.08178165, 0.08621819, 0.08889589, 0.09173448, 0.09795275, 0.11308973, 0.13304074, 0.14556893, 0.07051708, 0.0747566 , 0.07734542, 0.08011526, 0.08627812, 0.10177901,\n",
       "        0.12325682, 0.13728426, 0.05708284, 0.06080866, 0.06312506, 0.06563946, 0.07136404, 0.08648826, 0.10909   , 0.12479516, 0.04191112, 0.04448163, 0.04614076, 0.04799483, 0.05240488, 0.06508009, 0.08684535, 0.10405785, 0.03490515, 0.03648094, 0.03754778, 0.03878224, 0.04184149,\n",
       "        0.05159043, 0.07080618, 0.08767268, 0.03107881, 0.03105796, 0.03107812, 0.0311227 , 0.03134629, 0.03304253, 0.03971279, 0.0490601 , 0.03678876, 0.03695389, 0.03705227, 0.03717335, 0.03744045, 0.0382569 , 0.03963686, 0.04018312]),\n",
       " 'rank_test_score': array([17, 18, 19, 20, 21, 23, 26, 27, 10, 11, 12, 13, 14, 16, 22, 24,  1,  2,  3,  4,  5,  6,  8,  9, 43, 41, 39, 38, 35, 32, 25,  7, 50, 49, 44, 42, 40, 33, 29, 15, 55, 53, 52, 51, 48, 37, 31, 28, 61, 60, 59, 57, 54, 47, 34, 30, 68, 67, 65, 64, 62, 58, 46, 36, 74, 73, 71, 70, 69, 63,\n",
       "        56, 45, 80, 79, 78, 77, 76, 75, 72, 66, 88, 83, 84, 85, 87, 86, 82, 81], dtype=int32)}"
      ]
     },
     "execution_count": null,
     "metadata": {},
     "output_type": "execute_result"
    }
   ],
   "source": [
    "# create a pipeline for Ridge regression and tune lambda with cross-validation\n",
    "\n",
    "elasticnet_pipeline_1 = Pipeline(\n",
    "    [(\"preprocessing\", ct),\n",
    "    (\"elasticnet_regression\", ElasticNet())]\n",
    ")\n",
    "\n",
    "degrees = {\n",
    "    'elasticnet_regression__alpha': [0.01, 0.02, 0.1, 10, 12, 15, 20, 30, 40, 80, 200],\n",
    "    'elasticnet_regression__l1_ratio': [0.01, 0.1, 0.15, 0.2, 0.3, 0.5, 0.7, 0.8]\n",
    "}\n",
    "\n",
    "gscv = GridSearchCV(elasticnet_pipeline_1, degrees, cv = 5, scoring='r2')\n",
    "\n",
    "gscv_fitted = gscv.fit(X, y)\n",
    "gscv_fitted.cv_results_"
   ]
  },
  {
   "cell_type": "code",
   "execution_count": 134,
   "metadata": {
    "vscode": {
     "languageId": "python"
    }
   },
   "outputs": [
    {
     "data": {
      "text/html": [
       "<div>\n",
       "<style scoped>\n",
       "    .dataframe tbody tr th:only-of-type {\n",
       "        vertical-align: middle;\n",
       "    }\n",
       "\n",
       "    .dataframe tbody tr th {\n",
       "        vertical-align: top;\n",
       "    }\n",
       "\n",
       "    .dataframe thead th {\n",
       "        text-align: right;\n",
       "    }\n",
       "</style>\n",
       "<table border=\"1\" class=\"dataframe\">\n",
       "  <thead>\n",
       "    <tr style=\"text-align: right;\">\n",
       "      <th></th>\n",
       "      <th>degrees_lambda</th>\n",
       "      <th>degrees_alpha</th>\n",
       "      <th>scores_ElasticNet</th>\n",
       "    </tr>\n",
       "  </thead>\n",
       "  <tbody>\n",
       "    <tr>\n",
       "      <th>16</th>\n",
       "      <td>0.1</td>\n",
       "      <td>0.01</td>\n",
       "      <td>0.375926</td>\n",
       "    </tr>\n",
       "    <tr>\n",
       "      <th>17</th>\n",
       "      <td>0.1</td>\n",
       "      <td>0.10</td>\n",
       "      <td>0.375303</td>\n",
       "    </tr>\n",
       "    <tr>\n",
       "      <th>18</th>\n",
       "      <td>0.1</td>\n",
       "      <td>0.15</td>\n",
       "      <td>0.374927</td>\n",
       "    </tr>\n",
       "    <tr>\n",
       "      <th>19</th>\n",
       "      <td>0.1</td>\n",
       "      <td>0.20</td>\n",
       "      <td>0.374529</td>\n",
       "    </tr>\n",
       "    <tr>\n",
       "      <th>20</th>\n",
       "      <td>0.1</td>\n",
       "      <td>0.30</td>\n",
       "      <td>0.373650</td>\n",
       "    </tr>\n",
       "  </tbody>\n",
       "</table>\n",
       "</div>"
      ],
      "text/plain": [
       "    degrees_lambda  degrees_alpha  scores_ElasticNet\n",
       "16             0.1           0.01           0.375926\n",
       "17             0.1           0.10           0.375303\n",
       "18             0.1           0.15           0.374927\n",
       "19             0.1           0.20           0.374529\n",
       "20             0.1           0.30           0.373650"
      ]
     },
     "execution_count": null,
     "metadata": {},
     "output_type": "execute_result"
    }
   ],
   "source": [
    "alphas = gscv_fitted.cv_results_['param_elasticnet_regression__alpha'].data\n",
    "l1_ratios = gscv_fitted.cv_results_['param_elasticnet_regression__l1_ratio'].data\n",
    "mean_scores = gscv_fitted.cv_results_['mean_test_score']\n",
    "\n",
    "elasticnet_scores_df = pd.DataFrame({\n",
    "    \"degrees_lambda\": alphas, \n",
    "    \"degrees_alpha\": l1_ratios,\n",
    "    \"scores_ElasticNet\": mean_scores\n",
    "    })\n",
    "\n",
    "elasticnet_scores_df.sort_values(by='scores_ElasticNet', ascending=False).head()"
   ]
  },
  {
   "cell_type": "markdown",
   "metadata": {},
   "source": [
    "Based on different degrees in tunning, lambda = 0.1 and alpha = 0.01 in Elastic Net regression yields the highest R-sqaured score for this model."
   ]
  },
  {
   "cell_type": "code",
   "execution_count": 135,
   "metadata": {
    "vscode": {
     "languageId": "python"
    }
   },
   "outputs": [
    {
     "data": {
      "text/plain": [
       "array([ 28.57370253, -93.52899097,   2.9763194 , -61.58449938,  93.77037343, -13.13940914,  30.70637806,  22.60247941,  60.69400055, -31.65717284,  10.6266831 ,  70.76094692,  51.90633684,  76.34149071,  71.95240841, -42.60901653,  70.99938787,  18.88668801, -21.80227611])"
      ]
     },
     "execution_count": null,
     "metadata": {},
     "output_type": "execute_result"
    }
   ],
   "source": [
    "# fit the pipeline with the highest hyperparameters on full dataset\n",
    "elasticnet_pipeline_1.set_params(elasticnet_regression__alpha=0.1)\n",
    "elasticnet_pipeline_1.set_params(elasticnet_regression__l1_ratio=0.01)\n",
    "elasticnet_fitted = elasticnet_pipeline_1.fit(X, y)\n",
    "elasticnet_fitted.named_steps['elasticnet_regression'].coef_"
   ]
  },
  {
   "cell_type": "code",
   "execution_count": 168,
   "metadata": {
    "vscode": {
     "languageId": "python"
    }
   },
   "outputs": [],
   "source": [
    "# len(elasticnet_fitted.named_steps['elasticnet_regression'].coef_)"
   ]
  },
  {
   "cell_type": "code",
   "execution_count": 136,
   "metadata": {
    "vscode": {
     "languageId": "python"
    }
   },
   "outputs": [
    {
     "data": {
      "text/html": [
       "<div>\n",
       "<style scoped>\n",
       "    .dataframe tbody tr th:only-of-type {\n",
       "        vertical-align: middle;\n",
       "    }\n",
       "\n",
       "    .dataframe tbody tr th {\n",
       "        vertical-align: top;\n",
       "    }\n",
       "\n",
       "    .dataframe thead th {\n",
       "        text-align: right;\n",
       "    }\n",
       "</style>\n",
       "<table border=\"1\" class=\"dataframe\">\n",
       "  <thead>\n",
       "    <tr style=\"text-align: right;\">\n",
       "      <th></th>\n",
       "      <th>Variable</th>\n",
       "      <th>Coef_ElasticNet</th>\n",
       "    </tr>\n",
       "  </thead>\n",
       "  <tbody>\n",
       "    <tr>\n",
       "      <th>4</th>\n",
       "      <td>standardize__Hits</td>\n",
       "      <td>93.770373</td>\n",
       "    </tr>\n",
       "    <tr>\n",
       "      <th>13</th>\n",
       "      <td>standardize__CRuns</td>\n",
       "      <td>76.341491</td>\n",
       "    </tr>\n",
       "    <tr>\n",
       "      <th>14</th>\n",
       "      <td>standardize__CRBI</td>\n",
       "      <td>71.952408</td>\n",
       "    </tr>\n",
       "    <tr>\n",
       "      <th>16</th>\n",
       "      <td>standardize__PutOuts</td>\n",
       "      <td>70.999388</td>\n",
       "    </tr>\n",
       "    <tr>\n",
       "      <th>11</th>\n",
       "      <td>standardize__CHits</td>\n",
       "      <td>70.760947</td>\n",
       "    </tr>\n",
       "    <tr>\n",
       "      <th>8</th>\n",
       "      <td>standardize__Walks</td>\n",
       "      <td>60.694001</td>\n",
       "    </tr>\n",
       "    <tr>\n",
       "      <th>12</th>\n",
       "      <td>standardize__CHmRun</td>\n",
       "      <td>51.906337</td>\n",
       "    </tr>\n",
       "    <tr>\n",
       "      <th>6</th>\n",
       "      <td>standardize__Runs</td>\n",
       "      <td>30.706378</td>\n",
       "    </tr>\n",
       "    <tr>\n",
       "      <th>0</th>\n",
       "      <td>dummify__League_N</td>\n",
       "      <td>28.573703</td>\n",
       "    </tr>\n",
       "    <tr>\n",
       "      <th>7</th>\n",
       "      <td>standardize__RBI</td>\n",
       "      <td>22.602479</td>\n",
       "    </tr>\n",
       "    <tr>\n",
       "      <th>17</th>\n",
       "      <td>standardize__Assists</td>\n",
       "      <td>18.886688</td>\n",
       "    </tr>\n",
       "    <tr>\n",
       "      <th>10</th>\n",
       "      <td>standardize__CAtBat</td>\n",
       "      <td>10.626683</td>\n",
       "    </tr>\n",
       "    <tr>\n",
       "      <th>2</th>\n",
       "      <td>dummify__NewLeague_N</td>\n",
       "      <td>2.976319</td>\n",
       "    </tr>\n",
       "    <tr>\n",
       "      <th>5</th>\n",
       "      <td>standardize__HmRun</td>\n",
       "      <td>-13.139409</td>\n",
       "    </tr>\n",
       "    <tr>\n",
       "      <th>18</th>\n",
       "      <td>standardize__Errors</td>\n",
       "      <td>-21.802276</td>\n",
       "    </tr>\n",
       "    <tr>\n",
       "      <th>9</th>\n",
       "      <td>standardize__Years</td>\n",
       "      <td>-31.657173</td>\n",
       "    </tr>\n",
       "    <tr>\n",
       "      <th>15</th>\n",
       "      <td>standardize__CWalks</td>\n",
       "      <td>-42.609017</td>\n",
       "    </tr>\n",
       "    <tr>\n",
       "      <th>3</th>\n",
       "      <td>standardize__AtBat</td>\n",
       "      <td>-61.584499</td>\n",
       "    </tr>\n",
       "    <tr>\n",
       "      <th>1</th>\n",
       "      <td>dummify__Division_W</td>\n",
       "      <td>-93.528991</td>\n",
       "    </tr>\n",
       "  </tbody>\n",
       "</table>\n",
       "</div>"
      ],
      "text/plain": [
       "                Variable  Coef_ElasticNet\n",
       "4      standardize__Hits        93.770373\n",
       "13    standardize__CRuns        76.341491\n",
       "14     standardize__CRBI        71.952408\n",
       "16  standardize__PutOuts        70.999388\n",
       "11    standardize__CHits        70.760947\n",
       "8     standardize__Walks        60.694001\n",
       "12   standardize__CHmRun        51.906337\n",
       "6      standardize__Runs        30.706378\n",
       "0      dummify__League_N        28.573703\n",
       "7       standardize__RBI        22.602479\n",
       "17  standardize__Assists        18.886688\n",
       "10   standardize__CAtBat        10.626683\n",
       "2   dummify__NewLeague_N         2.976319\n",
       "5     standardize__HmRun       -13.139409\n",
       "18   standardize__Errors       -21.802276\n",
       "9     standardize__Years       -31.657173\n",
       "15   standardize__CWalks       -42.609017\n",
       "3     standardize__AtBat       -61.584499\n",
       "1    dummify__Division_W       -93.528991"
      ]
     },
     "execution_count": null,
     "metadata": {},
     "output_type": "execute_result"
    }
   ],
   "source": [
    "# turn coefficients to a dataframe\n",
    "\n",
    "coef_df_Elasticnet = pd.DataFrame({'Variable': beta_headers, 'Coef_ElasticNet': elasticnet_fitted.named_steps['elasticnet_regression'].coef_})\n",
    "coef_df_Elasticnet.sort_values(by=['Coef_ElasticNet'], ascending=False)"
   ]
  },
  {
   "cell_type": "markdown",
   "metadata": {},
   "source": [
    "According to this model output for Elastic Net regression with 'lambda' = 0.1 and 'alpha' = 0.01, the following are the top 5 predictor variables with\n",
    "\n",
    "The highest betas:\n",
    "Hits, CRuns, CRBIm PutOuts, CHits. From an intuitive perspective it also makes sense that this variables have some of the highest betas.\n",
    "\n",
    "The lowest betas:\n",
    "Division_W, AtBat, CWalks, Years, Errors.\n",
    "It is surprising to see HmRun with 6th lowest and negative coef.\n",
    "\n",
    "The range of coefficients values in this Elastic Net model are more equally ranged around 0 with highest and lowest Betas of equivalent values on the opposite sides."
   ]
  },
  {
   "cell_type": "code",
   "execution_count": 137,
   "metadata": {
    "vscode": {
     "languageId": "python"
    }
   },
   "outputs": [
    {
     "data": {
      "text/plain": [
       "np.float64(100526.0956012104)"
      ]
     },
     "execution_count": null,
     "metadata": {},
     "output_type": "execute_result"
    }
   ],
   "source": [
    "# MSE\n",
    "\n",
    "y_pred = elasticnet_fitted.predict(X)\n",
    "MSE_ElasticNet_1 = mean_squared_error(y, y_pred)\n",
    "MSE_ElasticNet_1"
   ]
  },
  {
   "cell_type": "code",
   "execution_count": 138,
   "metadata": {
    "vscode": {
     "languageId": "python"
    }
   },
   "outputs": [
    {
     "data": {
      "text/plain": [
       "0.5041484795908202"
      ]
     },
     "execution_count": null,
     "metadata": {},
     "output_type": "execute_result"
    }
   ],
   "source": [
    "# R-squared\n",
    "Rsq_ElNet_1 = r2_score(y, y_pred)\n",
    "Rsq_ElNet_1"
   ]
  },
  {
   "cell_type": "markdown",
   "metadata": {},
   "source": [
    "The MSE of this Elastic Net model prediction is 100526. This is by -5.7% lower than the MSE of Lasso regression model. The R-squared is 0.50 on full data or 0.375 when tunning for best lambda and alpha."
   ]
  },
  {
   "cell_type": "markdown",
   "metadata": {},
   "source": [
    "# Part II. Variable Selection"
   ]
  },
  {
   "cell_type": "markdown",
   "metadata": {},
   "source": [
    "Based on the above results, decide on:\n",
    "\n",
    " - Which numeric variable is most important: 'Hits'\n",
    "   ['standardize__Hits']\n",
    "\n",
    " - Which five numeric variables are most important: 'Hits', 'CRuns', 'CRBI', 'PutOuts', 'CHits' \n",
    "   ['standardize__Hits', 'standardize__CRuns', 'standardize__CRBI', 'standardize__PutOuts', 'standardize__CHits']\n",
    "\n",
    " - Which categorical variable is most important: 'Division' \n",
    "   ['dummify__Division_W']"
   ]
  },
  {
   "cell_type": "markdown",
   "metadata": {
    "vscode": {
     "languageId": "python"
    }
   },
   "source": [
    "# Feature set 1:  'X' = \"Hits\""
   ]
  },
  {
   "cell_type": "code",
   "execution_count": 139,
   "metadata": {
    "vscode": {
     "languageId": "python"
    }
   },
   "outputs": [],
   "source": [
    "# Feature set 1:\n",
    "\n",
    "X = bbp[[\"Hits\"]]\n",
    "y = bbp[\"Salary\"]"
   ]
  },
  {
   "cell_type": "code",
   "execution_count": 140,
   "metadata": {
    "vscode": {
     "languageId": "python"
    }
   },
   "outputs": [
    {
     "name": "stdout",
     "output_type": "stream",
     "text": [
      "<class 'pandas.core.frame.DataFrame'>\n",
      "Index: 263 entries, 1 to 321\n",
      "Data columns (total 1 columns):\n",
      " #   Column  Non-Null Count  Dtype\n",
      "---  ------  --------------  -----\n",
      " 0   Hits    263 non-null    int64\n",
      "dtypes: int64(1)\n",
      "memory usage: 4.1 KB\n",
      "<class 'pandas.core.frame.DataFrame'>\n",
      "Index: 263 entries, 1 to 321\n",
      "Data columns (total 1 columns):\n",
      " #   Column  Non-Null Count  Dtype\n",
      "---  ------  --------------  -----\n",
      " 0   Hits    263 non-null    int64\n",
      "dtypes: int64(1)\n",
      "memory usage: 4.1 KB\n"
     ]
    }
   ],
   "source": [
    "X.info()"
   ]
  },
  {
   "cell_type": "code",
   "execution_count": 141,
   "metadata": {
    "vscode": {
     "languageId": "python"
    }
   },
   "outputs": [
    {
     "data": {
      "text/html": [
       "<div>\n",
       "<style scoped>\n",
       "    .dataframe tbody tr th:only-of-type {\n",
       "        vertical-align: middle;\n",
       "    }\n",
       "\n",
       "    .dataframe tbody tr th {\n",
       "        vertical-align: top;\n",
       "    }\n",
       "\n",
       "    .dataframe thead th {\n",
       "        text-align: right;\n",
       "    }\n",
       "</style>\n",
       "<table border=\"1\" class=\"dataframe\">\n",
       "  <thead>\n",
       "    <tr style=\"text-align: right;\">\n",
       "      <th></th>\n",
       "      <th>standardize__Hits</th>\n",
       "    </tr>\n",
       "  </thead>\n",
       "  <tbody>\n",
       "    <tr>\n",
       "      <th>1</th>\n",
       "      <td>-0.595675</td>\n",
       "    </tr>\n",
       "    <tr>\n",
       "      <th>2</th>\n",
       "      <td>0.492260</td>\n",
       "    </tr>\n",
       "    <tr>\n",
       "      <th>3</th>\n",
       "      <td>0.736490</td>\n",
       "    </tr>\n",
       "    <tr>\n",
       "      <th>4</th>\n",
       "      <td>-0.462459</td>\n",
       "    </tr>\n",
       "    <tr>\n",
       "      <th>5</th>\n",
       "      <td>1.358167</td>\n",
       "    </tr>\n",
       "  </tbody>\n",
       "</table>\n",
       "</div>"
      ],
      "text/plain": [
       "   standardize__Hits\n",
       "1          -0.595675\n",
       "2           0.492260\n",
       "3           0.736490\n",
       "4          -0.462459\n",
       "5           1.358167"
      ]
     },
     "execution_count": null,
     "metadata": {},
     "output_type": "execute_result"
    }
   ],
   "source": [
    "# Check 'X' variable names after transformation in ct # Assisted by ChatGPT\n",
    "\n",
    "# Fit and transform the data\n",
    "X_transformed = ct.fit_transform(X)\n",
    "\n",
    "# Convert the result to a DataFrame\n",
    "X_tr = pd.DataFrame(X_transformed, columns=ct.get_feature_names_out())\n",
    "\n",
    "# Display the first rows\n",
    "X_tr.head()"
   ]
  },
  {
   "cell_type": "markdown",
   "metadata": {},
   "source": [
    "## OLR FS_1: \"Hits\""
   ]
  },
  {
   "cell_type": "code",
   "execution_count": 142,
   "metadata": {
    "vscode": {
     "languageId": "python"
    }
   },
   "outputs": [
    {
     "data": {
      "text/plain": [
       "array([197.51778566])"
      ]
     },
     "execution_count": null,
     "metadata": {},
     "output_type": "execute_result"
    }
   ],
   "source": [
    "#  fitting\n",
    "\n",
    "lr_fitted_2 = lr_pipeline_1.fit(X, y)\n",
    "\n",
    "lr_fitted_2.named_steps['linear_regression'].coef_\n"
   ]
  },
  {
   "cell_type": "code",
   "execution_count": 143,
   "metadata": {
    "vscode": {
     "languageId": "python"
    }
   },
   "outputs": [],
   "source": [
    "# create dataframe with betas and header\n",
    "\n",
    "columns_to_extract = X_tr.columns.tolist()  # list of columns from 'X tr'\n",
    "beta_headers = [col for col in columns_to_extract if col != X_tr.index.name] # Ensures index column is skipped"
   ]
  },
  {
   "cell_type": "code",
   "execution_count": 144,
   "metadata": {
    "vscode": {
     "languageId": "python"
    }
   },
   "outputs": [],
   "source": [
    "# Merging the lists into a DataFrame\n",
    "coef_df_LR_2 = pd.DataFrame({'Variable': beta_headers, 'Coef_LR': lr_fitted_2.named_steps['linear_regression'].coef_})"
   ]
  },
  {
   "cell_type": "code",
   "execution_count": 145,
   "metadata": {
    "vscode": {
     "languageId": "python"
    }
   },
   "outputs": [
    {
     "data": {
      "text/html": [
       "<div>\n",
       "<style scoped>\n",
       "    .dataframe tbody tr th:only-of-type {\n",
       "        vertical-align: middle;\n",
       "    }\n",
       "\n",
       "    .dataframe tbody tr th {\n",
       "        vertical-align: top;\n",
       "    }\n",
       "\n",
       "    .dataframe thead th {\n",
       "        text-align: right;\n",
       "    }\n",
       "</style>\n",
       "<table border=\"1\" class=\"dataframe\">\n",
       "  <thead>\n",
       "    <tr style=\"text-align: right;\">\n",
       "      <th></th>\n",
       "      <th>Variable</th>\n",
       "      <th>Coef_LR</th>\n",
       "    </tr>\n",
       "  </thead>\n",
       "  <tbody>\n",
       "    <tr>\n",
       "      <th>0</th>\n",
       "      <td>standardize__Hits</td>\n",
       "      <td>197.517786</td>\n",
       "    </tr>\n",
       "  </tbody>\n",
       "</table>\n",
       "</div>"
      ],
      "text/plain": [
       "            Variable     Coef_LR\n",
       "0  standardize__Hits  197.517786"
      ]
     },
     "execution_count": null,
     "metadata": {},
     "output_type": "execute_result"
    }
   ],
   "source": [
    "coef_df_LR_2.sort_values(by=['Coef_LR'], ascending=False)"
   ]
  },
  {
   "cell_type": "code",
   "execution_count": 146,
   "metadata": {
    "vscode": {
     "languageId": "python"
    }
   },
   "outputs": [
    {
     "name": "stdout",
     "output_type": "stream",
     "text": [
      "OLR CV mean R-squared score: 0.12221278728446772\n",
      "OLR CV mean MSE score: 173088.97286444032\n",
      "OLR CV mean R-squared score: 0.12221278728446772\n",
      "OLR CV mean MSE score: 173088.97286444032\n"
     ]
    }
   ],
   "source": [
    "# use cross-validation to estimate MSE\n",
    "\n",
    "lr_2_cv_scores = cross_val_score(lr_pipeline_1, X, y, cv = 5, scoring = 'r2')\n",
    "lr_2_mse_scores = cross_val_score(lr_pipeline_1, X, y, cv = 5, scoring = ('neg_mean_squared_error'))*(-1)\n",
    "print (\"OLR CV mean R-squared score:\", np.mean(lr_2_cv_scores))\n",
    "print (\"OLR CV mean MSE score:\", np.mean(lr_2_mse_scores))"
   ]
  },
  {
   "cell_type": "markdown",
   "metadata": {},
   "source": [
    "## Ridge FS_1: \"Hits\""
   ]
  },
  {
   "cell_type": "code",
   "execution_count": 147,
   "metadata": {
    "vscode": {
     "languageId": "python"
    }
   },
   "outputs": [
    {
     "data": {
      "text/plain": [
       "{'mean_fit_time': array([0.00462742, 0.00228448, 0.0019258 , 0.00175433, 0.00178242, 0.00175853, 0.00188513, 0.00166659, 0.00158458, 0.00167007, 0.00163894, 0.00171499, 0.00171223]),\n",
       " 'std_fit_time': array([2.22756891e-03, 1.37570074e-04, 1.12155972e-04, 1.01587737e-04, 1.06573585e-04, 1.88654787e-04, 1.73646155e-04, 6.15429246e-05, 6.67807674e-05, 1.43278212e-04, 5.88470763e-05, 2.15583105e-04, 1.67285295e-04]),\n",
       " 'mean_score_time': array([0.00236158, 0.00129037, 0.00104022, 0.00098591, 0.00099473, 0.00096998, 0.00102763, 0.00094514, 0.00091639, 0.00093212, 0.00091643, 0.00098343, 0.00095363]),\n",
       " 'std_score_time': array([7.51128437e-04, 1.83326270e-04, 3.29356089e-05, 3.32808425e-05, 4.79607640e-05, 3.91005307e-05, 8.73232449e-05, 4.36331795e-05, 3.13730586e-05, 2.33808775e-05, 1.76625530e-05, 5.73879810e-05, 4.00915994e-05]),\n",
       " 'param_ridge_regression__alpha': masked_array(data=[0.01, 0.1, 10.0, 12.0, 15.0, 20.0, 30.0, 40.0, 80.0, 200.0, 300.0, 400.0, 500.0],\n",
       "              mask=[False, False, False, False, False, False, False, False, False, False, False, False, False],\n",
       "        fill_value=1e+20),\n",
       " 'params': [{'ridge_regression__alpha': 0.01},\n",
       "  {'ridge_regression__alpha': 0.1},\n",
       "  {'ridge_regression__alpha': 10},\n",
       "  {'ridge_regression__alpha': 12},\n",
       "  {'ridge_regression__alpha': 15},\n",
       "  {'ridge_regression__alpha': 20},\n",
       "  {'ridge_regression__alpha': 30},\n",
       "  {'ridge_regression__alpha': 40},\n",
       "  {'ridge_regression__alpha': 80},\n",
       "  {'ridge_regression__alpha': 200},\n",
       "  {'ridge_regression__alpha': 300},\n",
       "  {'ridge_regression__alpha': 400},\n",
       "  {'ridge_regression__alpha': 500}],\n",
       " 'split0_test_score': array([0.37362936, 0.37356665, 0.3663139 , 0.36477653, 0.3624342 , 0.35844773, 0.35024719, 0.34186644, 0.30840573, 0.22447116, 0.17443636, 0.13709838, 0.10843848]),\n",
       " 'split1_test_score': array([0.19749819, 0.19740275, 0.18724014, 0.18526531, 0.1823504 , 0.17761509, 0.16858306, 0.16009698, 0.13079757, 0.07240132, 0.04256257, 0.02172387, 0.00636669]),\n",
       " 'split2_test_score': array([0.19376324, 0.19375948, 0.19298455, 0.19275057, 0.19235759, 0.19160105, 0.18976924, 0.18760784, 0.17719742, 0.14521445, 0.12421628, 0.10799151, 0.09528964]),\n",
       " 'split3_test_score': array([-0.03526193, -0.03515855, -0.02473317, -0.02283708, -0.02011259, -0.01587063, -0.00838567, -0.00203996,  0.01526481,  0.03215546,  0.03346516,  0.03191788,  0.02959958]),\n",
       " 'split4_test_score': array([-0.11854457, -0.11830319, -0.09388783, -0.08942974, -0.08301317, -0.07299532, -0.05522461, -0.04004329,  0.00221381,  0.04761208,  0.05466057,  0.05415285,  0.05118046]),\n",
       " 'mean_test_score': array([0.12221686, 0.12225343, 0.12558352, 0.12610512, 0.12680329, 0.12775959, 0.12899784, 0.1294976 , 0.12677587, 0.10437089, 0.08586819, 0.0705769 , 0.05817497]),\n",
       " 'std_test_score': array([0.17706498, 0.17695474, 0.16556469, 0.16342866, 0.16031968, 0.15537728, 0.1463035 , 0.13817372, 0.1126928 , 0.0714856 , 0.05460818, 0.04466732, 0.03860957]),\n",
       " 'rank_test_score': array([ 9,  8,  7,  6,  4,  3,  2,  1,  5, 10, 11, 12, 13], dtype=int32)}"
      ]
     },
     "execution_count": null,
     "metadata": {},
     "output_type": "execute_result"
    }
   ],
   "source": [
    "# Ridge regression and tune lambda with cross-validation\n",
    "\n",
    "degrees = {'ridge_regression__alpha': [0.01, 0.1, 10, 12, 15, 20, 30, 40, 80, 200, 300, 400, 500]} # coping degrees parameter from the original pipline setup\n",
    "\n",
    "gscv = GridSearchCV(ridge_pipeline_1, degrees, cv = 5, scoring='r2')\n",
    "\n",
    "gscv_fitted = gscv.fit(X, y)\n",
    "gscv_fitted.cv_results_"
   ]
  },
  {
   "cell_type": "code",
   "execution_count": 148,
   "metadata": {
    "vscode": {
     "languageId": "python"
    }
   },
   "outputs": [],
   "source": [
    "ridge_scores_2_df = pd.DataFrame(data = {\"degrees\": [0.01, 0.1, 10, 12, 15, 20, 30, 40, 80, 200, 300, 400, 500], \"scores_Ridge\": gscv_fitted.cv_results_['mean_test_score']})"
   ]
  },
  {
   "cell_type": "code",
   "execution_count": 149,
   "metadata": {
    "vscode": {
     "languageId": "python"
    }
   },
   "outputs": [
    {
     "data": {
      "text/html": [
       "<div>\n",
       "<style scoped>\n",
       "    .dataframe tbody tr th:only-of-type {\n",
       "        vertical-align: middle;\n",
       "    }\n",
       "\n",
       "    .dataframe tbody tr th {\n",
       "        vertical-align: top;\n",
       "    }\n",
       "\n",
       "    .dataframe thead th {\n",
       "        text-align: right;\n",
       "    }\n",
       "</style>\n",
       "<table border=\"1\" class=\"dataframe\">\n",
       "  <thead>\n",
       "    <tr style=\"text-align: right;\">\n",
       "      <th></th>\n",
       "      <th>degrees</th>\n",
       "      <th>scores_Ridge</th>\n",
       "    </tr>\n",
       "  </thead>\n",
       "  <tbody>\n",
       "    <tr>\n",
       "      <th>7</th>\n",
       "      <td>40.00</td>\n",
       "      <td>0.129498</td>\n",
       "    </tr>\n",
       "    <tr>\n",
       "      <th>6</th>\n",
       "      <td>30.00</td>\n",
       "      <td>0.128998</td>\n",
       "    </tr>\n",
       "    <tr>\n",
       "      <th>5</th>\n",
       "      <td>20.00</td>\n",
       "      <td>0.127760</td>\n",
       "    </tr>\n",
       "    <tr>\n",
       "      <th>4</th>\n",
       "      <td>15.00</td>\n",
       "      <td>0.126803</td>\n",
       "    </tr>\n",
       "    <tr>\n",
       "      <th>8</th>\n",
       "      <td>80.00</td>\n",
       "      <td>0.126776</td>\n",
       "    </tr>\n",
       "    <tr>\n",
       "      <th>3</th>\n",
       "      <td>12.00</td>\n",
       "      <td>0.126105</td>\n",
       "    </tr>\n",
       "    <tr>\n",
       "      <th>2</th>\n",
       "      <td>10.00</td>\n",
       "      <td>0.125584</td>\n",
       "    </tr>\n",
       "    <tr>\n",
       "      <th>1</th>\n",
       "      <td>0.10</td>\n",
       "      <td>0.122253</td>\n",
       "    </tr>\n",
       "    <tr>\n",
       "      <th>0</th>\n",
       "      <td>0.01</td>\n",
       "      <td>0.122217</td>\n",
       "    </tr>\n",
       "    <tr>\n",
       "      <th>9</th>\n",
       "      <td>200.00</td>\n",
       "      <td>0.104371</td>\n",
       "    </tr>\n",
       "    <tr>\n",
       "      <th>10</th>\n",
       "      <td>300.00</td>\n",
       "      <td>0.085868</td>\n",
       "    </tr>\n",
       "    <tr>\n",
       "      <th>11</th>\n",
       "      <td>400.00</td>\n",
       "      <td>0.070577</td>\n",
       "    </tr>\n",
       "    <tr>\n",
       "      <th>12</th>\n",
       "      <td>500.00</td>\n",
       "      <td>0.058175</td>\n",
       "    </tr>\n",
       "  </tbody>\n",
       "</table>\n",
       "</div>"
      ],
      "text/plain": [
       "    degrees  scores_Ridge\n",
       "7     40.00      0.129498\n",
       "6     30.00      0.128998\n",
       "5     20.00      0.127760\n",
       "4     15.00      0.126803\n",
       "8     80.00      0.126776\n",
       "3     12.00      0.126105\n",
       "2     10.00      0.125584\n",
       "1      0.10      0.122253\n",
       "0      0.01      0.122217\n",
       "9    200.00      0.104371\n",
       "10   300.00      0.085868\n",
       "11   400.00      0.070577\n",
       "12   500.00      0.058175"
      ]
     },
     "execution_count": null,
     "metadata": {},
     "output_type": "execute_result"
    }
   ],
   "source": [
    "ridge_scores_2_df.sort_values(by=['scores_Ridge'], ascending=False)"
   ]
  },
  {
   "cell_type": "markdown",
   "metadata": {},
   "source": [
    "Based on different degrees in tunning, lamda = 40 in Ridge regression yields the highest R-sqaured score for this model."
   ]
  },
  {
   "cell_type": "code",
   "execution_count": 150,
   "metadata": {
    "vscode": {
     "languageId": "python"
    }
   },
   "outputs": [
    {
     "data": {
      "text/plain": [
       "array([171.44283046])"
      ]
     },
     "execution_count": null,
     "metadata": {},
     "output_type": "execute_result"
    }
   ],
   "source": [
    "# fit the pipeline with the highest lambda (40) on full dataset\n",
    "ridge_pipeline_1.set_params(ridge_regression__alpha=40)\n",
    "ridge_fitted_2 = ridge_pipeline_1.fit(X, y)\n",
    "ridge_fitted_2.named_steps['ridge_regression'].coef_"
   ]
  },
  {
   "cell_type": "code",
   "execution_count": 151,
   "metadata": {
    "vscode": {
     "languageId": "python"
    }
   },
   "outputs": [
    {
     "data": {
      "text/html": [
       "<div>\n",
       "<style scoped>\n",
       "    .dataframe tbody tr th:only-of-type {\n",
       "        vertical-align: middle;\n",
       "    }\n",
       "\n",
       "    .dataframe tbody tr th {\n",
       "        vertical-align: top;\n",
       "    }\n",
       "\n",
       "    .dataframe thead th {\n",
       "        text-align: right;\n",
       "    }\n",
       "</style>\n",
       "<table border=\"1\" class=\"dataframe\">\n",
       "  <thead>\n",
       "    <tr style=\"text-align: right;\">\n",
       "      <th></th>\n",
       "      <th>Variable</th>\n",
       "      <th>Coef_Ridge</th>\n",
       "    </tr>\n",
       "  </thead>\n",
       "  <tbody>\n",
       "    <tr>\n",
       "      <th>0</th>\n",
       "      <td>standardize__Hits</td>\n",
       "      <td>171.44283</td>\n",
       "    </tr>\n",
       "  </tbody>\n",
       "</table>\n",
       "</div>"
      ],
      "text/plain": [
       "            Variable  Coef_Ridge\n",
       "0  standardize__Hits   171.44283"
      ]
     },
     "execution_count": null,
     "metadata": {},
     "output_type": "execute_result"
    }
   ],
   "source": [
    "# turn coefficients to a dataframe\n",
    "\n",
    "coef_df_Ridge_2 = pd.DataFrame({'Variable': beta_headers, 'Coef_Ridge': ridge_fitted_2.named_steps['ridge_regression'].coef_})\n",
    "coef_df_Ridge_2.sort_values(by=['Coef_Ridge'], ascending=False)"
   ]
  },
  {
   "cell_type": "code",
   "execution_count": 152,
   "metadata": {
    "vscode": {
     "languageId": "python"
    }
   },
   "outputs": [
    {
     "data": {
      "text/plain": [
       "np.float64(164400.89679546104)"
      ]
     },
     "execution_count": null,
     "metadata": {},
     "output_type": "execute_result"
    }
   ],
   "source": [
    "# MSE\n",
    "\n",
    "y_pred = ridge_fitted_2.predict(X)\n",
    "MSE_Ridge_2 = mean_squared_error(y, y_pred)\n",
    "MSE_Ridge_2"
   ]
  },
  {
   "cell_type": "code",
   "execution_count": 153,
   "metadata": {
    "vscode": {
     "languageId": "python"
    }
   },
   "outputs": [
    {
     "data": {
      "text/plain": [
       "0.18908185834603863"
      ]
     },
     "execution_count": null,
     "metadata": {},
     "output_type": "execute_result"
    }
   ],
   "source": [
    "# R-squared\n",
    "Rsq_Ridge_2 = r2_score(y, y_pred)\n",
    "Rsq_Ridge_2"
   ]
  },
  {
   "cell_type": "markdown",
   "metadata": {},
   "source": [
    "The MSE of this Ridge model prediction is 164400 and R-squared is 0.189 on full data or 0.129 during tuning for best lambda."
   ]
  },
  {
   "cell_type": "markdown",
   "metadata": {},
   "source": [
    "## Lasso FS_1: \"Hits\""
   ]
  },
  {
   "cell_type": "code",
   "execution_count": 154,
   "metadata": {
    "vscode": {
     "languageId": "python"
    }
   },
   "outputs": [
    {
     "data": {
      "text/plain": [
       "{'mean_fit_time': array([0.0038868 , 0.00230794, 0.00204024, 0.00174026, 0.00177255, 0.00178566, 0.00176167, 0.00176916, 0.00175605, 0.00161462, 0.00157242, 0.00170956, 0.00177879]),\n",
       " 'std_fit_time': array([1.67438003e-03, 1.14588186e-04, 1.68003583e-04, 8.23055191e-05, 1.42448315e-04, 9.64775562e-05, 8.61985219e-05, 9.45046979e-05, 1.83729051e-04, 4.16929680e-05, 1.17183641e-05, 1.00577335e-04, 2.08298845e-04]),\n",
       " 'mean_score_time': array([0.00264726, 0.00141163, 0.00106311, 0.00097618, 0.00100999, 0.0009809 , 0.00101628, 0.00100322, 0.00097055, 0.00091624, 0.00089998, 0.00099139, 0.00097919]),\n",
       " 'std_score_time': array([2.09600244e-03, 4.63703908e-04, 1.94126023e-05, 3.30223417e-05, 8.14768626e-05, 5.35775725e-05, 3.29344352e-05, 2.25778240e-05, 6.32521210e-05, 1.17731471e-05, 2.85067276e-06, 7.66053995e-05, 5.80739895e-05]),\n",
       " 'param_lasso_regression__alpha': masked_array(data=[0.01, 0.1, 10.0, 12.0, 15.0, 20.0, 30.0, 40.0, 80.0, 200.0, 300.0, 400.0, 500.0],\n",
       "              mask=[False, False, False, False, False, False, False, False, False, False, False, False, False],\n",
       "        fill_value=1e+20),\n",
       " 'params': [{'lasso_regression__alpha': 0.01},\n",
       "  {'lasso_regression__alpha': 0.1},\n",
       "  {'lasso_regression__alpha': 10},\n",
       "  {'lasso_regression__alpha': 12},\n",
       "  {'lasso_regression__alpha': 15},\n",
       "  {'lasso_regression__alpha': 20},\n",
       "  {'lasso_regression__alpha': 30},\n",
       "  {'lasso_regression__alpha': 40},\n",
       "  {'lasso_regression__alpha': 80},\n",
       "  {'lasso_regression__alpha': 200},\n",
       "  {'lasso_regression__alpha': 300},\n",
       "  {'lasso_regression__alpha': 400},\n",
       "  {'lasso_regression__alpha': 500}],\n",
       " 'split0_test_score': array([ 0.37362864,  0.37355934,  0.36504209,  0.36310614,  0.36006653,  0.35463866,  0.34242603,  0.32840419,  0.25422485, -0.09969416, -0.09969416, -0.09969416, -0.09969416]),\n",
       " 'split1_test_score': array([ 0.19749456,  0.19736641,  0.18299155,  0.1800204 ,  0.17552136,  0.16791011,  0.15226449,  0.13605468,  0.06557352, -0.09434666, -0.09434666, -0.09434666, -0.09434666]),\n",
       " 'split2_test_score': array([ 0.19376321,  0.19375914,  0.19282417,  0.19251792,  0.19198458,  0.19089843,  0.18798645,  0.18408822,  0.15863284, -0.00115599, -0.00115599, -0.00115599, -0.00115599]),\n",
       " 'split3_test_score': array([-0.03526252, -0.03516439, -0.02479721, -0.02280571, -0.01988329, -0.0151855 , -0.00643831,  0.00144437,  0.02432999,  0.00999375, -0.00647822, -0.00647822, -0.00647822]),\n",
       " 'split4_test_score': array([-0.11854618, -0.11831917, -0.09425567, -0.08961266, -0.08278574, -0.07177443, -0.05112768, -0.03231543,  0.02458861,  0.0191891 , -0.01434855, -0.01434855, -0.01434855]),\n",
       " 'mean_test_score': array([ 0.12221554,  0.12224027,  0.12436099,  0.12464522,  0.12498069,  0.12529745,  0.12502219,  0.12353521,  0.10546996, -0.03320279, -0.04320472, -0.04320472, -0.04320472]),\n",
       " 'std_test_score': array([0.17706501, 0.17695493, 0.16498094, 0.16259455, 0.15903565, 0.15315972, 0.14162042, 0.13037661, 0.08907472, 0.05253099, 0.04417276, 0.04417276, 0.04417276]),\n",
       " 'rank_test_score': array([ 8,  7,  5,  4,  3,  1,  2,  6,  9, 10, 11, 11, 11], dtype=int32)}"
      ]
     },
     "execution_count": null,
     "metadata": {},
     "output_type": "execute_result"
    }
   ],
   "source": [
    "# Lasso regression and tune lambda with cross-validation\n",
    "\n",
    "degrees = {'lasso_regression__alpha': [0.01, 0.1, 10, 12, 15, 20, 30, 40, 80, 200, 300, 400, 500]}\n",
    "\n",
    "gscv = GridSearchCV(lasso_pipeline_1, degrees, cv = 5, scoring='r2')\n",
    "\n",
    "gscv_fitted = gscv.fit(X, y)\n",
    "gscv_fitted.cv_results_"
   ]
  },
  {
   "cell_type": "code",
   "execution_count": 155,
   "metadata": {
    "vscode": {
     "languageId": "python"
    }
   },
   "outputs": [],
   "source": [
    "lasso_scores_2_df = pd.DataFrame(data = {\"degrees\": [0.01, 0.1, 10, 12, 15, 20, 30, 40, 80, 200, 300, 400, 500], \"scores_Lasso\": gscv_fitted.cv_results_['mean_test_score']})"
   ]
  },
  {
   "cell_type": "code",
   "execution_count": 156,
   "metadata": {
    "vscode": {
     "languageId": "python"
    }
   },
   "outputs": [
    {
     "data": {
      "text/html": [
       "<div>\n",
       "<style scoped>\n",
       "    .dataframe tbody tr th:only-of-type {\n",
       "        vertical-align: middle;\n",
       "    }\n",
       "\n",
       "    .dataframe tbody tr th {\n",
       "        vertical-align: top;\n",
       "    }\n",
       "\n",
       "    .dataframe thead th {\n",
       "        text-align: right;\n",
       "    }\n",
       "</style>\n",
       "<table border=\"1\" class=\"dataframe\">\n",
       "  <thead>\n",
       "    <tr style=\"text-align: right;\">\n",
       "      <th></th>\n",
       "      <th>degrees</th>\n",
       "      <th>scores_Lasso</th>\n",
       "    </tr>\n",
       "  </thead>\n",
       "  <tbody>\n",
       "    <tr>\n",
       "      <th>5</th>\n",
       "      <td>20.00</td>\n",
       "      <td>0.125297</td>\n",
       "    </tr>\n",
       "    <tr>\n",
       "      <th>6</th>\n",
       "      <td>30.00</td>\n",
       "      <td>0.125022</td>\n",
       "    </tr>\n",
       "    <tr>\n",
       "      <th>4</th>\n",
       "      <td>15.00</td>\n",
       "      <td>0.124981</td>\n",
       "    </tr>\n",
       "    <tr>\n",
       "      <th>3</th>\n",
       "      <td>12.00</td>\n",
       "      <td>0.124645</td>\n",
       "    </tr>\n",
       "    <tr>\n",
       "      <th>2</th>\n",
       "      <td>10.00</td>\n",
       "      <td>0.124361</td>\n",
       "    </tr>\n",
       "    <tr>\n",
       "      <th>7</th>\n",
       "      <td>40.00</td>\n",
       "      <td>0.123535</td>\n",
       "    </tr>\n",
       "    <tr>\n",
       "      <th>1</th>\n",
       "      <td>0.10</td>\n",
       "      <td>0.122240</td>\n",
       "    </tr>\n",
       "    <tr>\n",
       "      <th>0</th>\n",
       "      <td>0.01</td>\n",
       "      <td>0.122216</td>\n",
       "    </tr>\n",
       "    <tr>\n",
       "      <th>8</th>\n",
       "      <td>80.00</td>\n",
       "      <td>0.105470</td>\n",
       "    </tr>\n",
       "    <tr>\n",
       "      <th>9</th>\n",
       "      <td>200.00</td>\n",
       "      <td>-0.033203</td>\n",
       "    </tr>\n",
       "    <tr>\n",
       "      <th>10</th>\n",
       "      <td>300.00</td>\n",
       "      <td>-0.043205</td>\n",
       "    </tr>\n",
       "    <tr>\n",
       "      <th>11</th>\n",
       "      <td>400.00</td>\n",
       "      <td>-0.043205</td>\n",
       "    </tr>\n",
       "    <tr>\n",
       "      <th>12</th>\n",
       "      <td>500.00</td>\n",
       "      <td>-0.043205</td>\n",
       "    </tr>\n",
       "  </tbody>\n",
       "</table>\n",
       "</div>"
      ],
      "text/plain": [
       "    degrees  scores_Lasso\n",
       "5     20.00      0.125297\n",
       "6     30.00      0.125022\n",
       "4     15.00      0.124981\n",
       "3     12.00      0.124645\n",
       "2     10.00      0.124361\n",
       "7     40.00      0.123535\n",
       "1      0.10      0.122240\n",
       "0      0.01      0.122216\n",
       "8     80.00      0.105470\n",
       "9    200.00     -0.033203\n",
       "10   300.00     -0.043205\n",
       "11   400.00     -0.043205\n",
       "12   500.00     -0.043205"
      ]
     },
     "execution_count": null,
     "metadata": {},
     "output_type": "execute_result"
    }
   ],
   "source": [
    "lasso_scores_2_df.sort_values(by=['scores_Lasso'], ascending=False)"
   ]
  },
  {
   "cell_type": "markdown",
   "metadata": {},
   "source": [
    "Based on different degrees in tunning, lamda = 20 in Lasso regression yields the highest R-sqaured score for this model."
   ]
  },
  {
   "cell_type": "code",
   "execution_count": 157,
   "metadata": {
    "vscode": {
     "languageId": "python"
    }
   },
   "outputs": [
    {
     "data": {
      "text/plain": [
       "array([177.51778566])"
      ]
     },
     "execution_count": null,
     "metadata": {},
     "output_type": "execute_result"
    }
   ],
   "source": [
    "# fit the pipeline with the highest lambda (20) on full dataset\n",
    "lasso_pipeline_1.set_params(lasso_regression__alpha=20)\n",
    "lasso_fitted_2 = lasso_pipeline_1.fit(X, y)\n",
    "lasso_fitted_2.named_steps['lasso_regression'].coef_"
   ]
  },
  {
   "cell_type": "code",
   "execution_count": 158,
   "metadata": {
    "vscode": {
     "languageId": "python"
    }
   },
   "outputs": [
    {
     "data": {
      "text/html": [
       "<div>\n",
       "<style scoped>\n",
       "    .dataframe tbody tr th:only-of-type {\n",
       "        vertical-align: middle;\n",
       "    }\n",
       "\n",
       "    .dataframe tbody tr th {\n",
       "        vertical-align: top;\n",
       "    }\n",
       "\n",
       "    .dataframe thead th {\n",
       "        text-align: right;\n",
       "    }\n",
       "</style>\n",
       "<table border=\"1\" class=\"dataframe\">\n",
       "  <thead>\n",
       "    <tr style=\"text-align: right;\">\n",
       "      <th></th>\n",
       "      <th>Variable</th>\n",
       "      <th>Coef_Lasso</th>\n",
       "    </tr>\n",
       "  </thead>\n",
       "  <tbody>\n",
       "    <tr>\n",
       "      <th>0</th>\n",
       "      <td>standardize__Hits</td>\n",
       "      <td>177.517786</td>\n",
       "    </tr>\n",
       "  </tbody>\n",
       "</table>\n",
       "</div>"
      ],
      "text/plain": [
       "            Variable  Coef_Lasso\n",
       "0  standardize__Hits  177.517786"
      ]
     },
     "execution_count": null,
     "metadata": {},
     "output_type": "execute_result"
    }
   ],
   "source": [
    "# turn coefficients to a dataframe\n",
    "\n",
    "coef_df_Lasso_2 = pd.DataFrame({'Variable': beta_headers, 'Coef_Lasso': lasso_fitted_2.named_steps['lasso_regression'].coef_})\n",
    "coef_df_Lasso_2.sort_values(by=['Coef_Lasso'], ascending=False)"
   ]
  },
  {
   "cell_type": "code",
   "execution_count": 159,
   "metadata": {
    "vscode": {
     "languageId": "python"
    }
   },
   "outputs": [
    {
     "data": {
      "text/plain": [
       "np.float64(164120.99350664712)"
      ]
     },
     "execution_count": null,
     "metadata": {},
     "output_type": "execute_result"
    }
   ],
   "source": [
    "# MSE\n",
    "\n",
    "y_pred = lasso_fitted_2.predict(X)\n",
    "MSE_Lasso_2 = mean_squared_error(y, y_pred)\n",
    "MSE_Lasso_2"
   ]
  },
  {
   "cell_type": "code",
   "execution_count": 160,
   "metadata": {
    "vscode": {
     "languageId": "python"
    }
   },
   "outputs": [
    {
     "data": {
      "text/plain": [
       "0.19046249956656813"
      ]
     },
     "execution_count": null,
     "metadata": {},
     "output_type": "execute_result"
    }
   ],
   "source": [
    "# R-squared\n",
    "Rsq_Lasso_2 = r2_score(y, y_pred)\n",
    "Rsq_Lasso_2"
   ]
  },
  {
   "cell_type": "markdown",
   "metadata": {},
   "source": [
    "The MSE of this Lasso model prediction is 164120. The R-squared is 0.19 on full data or 0.125 during tuning for best lambda."
   ]
  },
  {
   "cell_type": "markdown",
   "metadata": {},
   "source": [
    "## Elastic Net FS_1: \"Hits\""
   ]
  },
  {
   "cell_type": "code",
   "execution_count": 161,
   "metadata": {
    "vscode": {
     "languageId": "python"
    }
   },
   "outputs": [
    {
     "data": {
      "text/plain": [
       "{'mean_fit_time': array([0.00269771, 0.00207295, 0.00191875, 0.00177069, 0.00163059, 0.00186038, 0.00165095, 0.00176587, 0.00167108, 0.00159993, 0.00162759, 0.00160041, 0.00166707, 0.0016881 , 0.001724  , 0.00173407, 0.00174284, 0.00172486, 0.00163116, 0.00162444, 0.00169873, 0.00205245, 0.0018887 ,\n",
       "        0.0024188 , 0.00213928, 0.00227914, 0.00223508, 0.00207615, 0.00203409, 0.00205226, 0.00199699, 0.00190105, 0.00210085, 0.00202732, 0.00202837, 0.00202465, 0.00185785, 0.001929  , 0.00180702, 0.00176797, 0.0017519 , 0.00167665, 0.00172892, 0.00167551, 0.00169339, 0.00177093,\n",
       "        0.00166512, 0.00164604, 0.00163441, 0.00166993, 0.00160279, 0.0016542 , 0.00176468, 0.00164785, 0.00167232, 0.00165658, 0.00163636, 0.00164366, 0.00163188, 0.00166836, 0.00163059, 0.00160403, 0.00160742, 0.00162039, 0.00167203, 0.00162139, 0.0017097 , 0.00158558, 0.00159936,\n",
       "        0.00158114, 0.00161996, 0.00161037, 0.00164642, 0.00172601, 0.00164208, 0.00160332, 0.00159945, 0.00160675, 0.00160384, 0.00157819, 0.00169806, 0.00159106, 0.00163279, 0.00160108, 0.00163822, 0.00159645, 0.00158563, 0.00167303]),\n",
       " 'std_fit_time': array([8.56669427e-04, 3.89240528e-04, 2.33287111e-04, 1.99029020e-04, 4.27761470e-05, 1.98928610e-04, 5.74466289e-05, 1.51262307e-04, 8.01646797e-05, 1.58956368e-05, 3.05461005e-05, 3.71476039e-05, 9.16519472e-05, 1.51920693e-04, 7.74834706e-05, 1.74186101e-04, 1.63426154e-04,\n",
       "        1.25679169e-04, 3.19141236e-05, 2.85045739e-05, 1.76801097e-04, 5.93760812e-04, 3.20804381e-04, 4.49060451e-04, 2.57400982e-04, 3.94063363e-04, 2.47130655e-04, 2.93530009e-04, 2.58155146e-04, 3.63171288e-04, 2.49764054e-04, 1.59480510e-04, 2.47736917e-04, 2.68542114e-04,\n",
       "        1.56252239e-04, 1.99402159e-04, 4.20343788e-05, 1.83047432e-04, 1.11907433e-04, 1.80742331e-04, 1.26933389e-04, 8.53870903e-05, 1.27859561e-04, 2.34570927e-05, 4.97973261e-05, 1.98463922e-04, 5.83721527e-05, 5.90113678e-05, 2.25006516e-05, 3.87866508e-05, 1.03536270e-05,\n",
       "        4.27652489e-05, 2.42461009e-04, 4.43478040e-05, 5.02938666e-05, 4.52702578e-05, 4.89919956e-05, 4.38319443e-05, 5.25978836e-05, 1.06294115e-04, 4.38045463e-05, 4.57538609e-05, 4.46771226e-05, 7.56571840e-05, 1.38839636e-04, 5.65675601e-05, 1.36506494e-04, 2.71824785e-05,\n",
       "        4.21914399e-05, 4.23124133e-06, 1.21113972e-04, 2.84442857e-05, 4.91328806e-05, 1.70556233e-04, 6.35648435e-05, 2.50761041e-05, 2.30537821e-05, 3.58165972e-05, 2.61052558e-05, 9.07946032e-06, 1.41665214e-04, 9.66533746e-06, 7.66919009e-05, 1.93918598e-05, 6.93035526e-05,\n",
       "        2.38718797e-05, 1.50718262e-05, 9.33502243e-05]),\n",
       " 'mean_score_time': array([0.00116606, 0.00112104, 0.00102429, 0.00096908, 0.00093651, 0.00102329, 0.00095491, 0.0009613 , 0.00094256, 0.00099125, 0.00096178, 0.00092001, 0.00097904, 0.00095959, 0.0009624 , 0.00094371, 0.00095401, 0.00093393, 0.00092621, 0.0009336 , 0.00092745, 0.00103698, 0.00106401,\n",
       "        0.00131683, 0.00126562, 0.00127697, 0.00122576, 0.00114093, 0.00111585, 0.00112596, 0.00110078, 0.00120811, 0.00111084, 0.0010603 , 0.00115838, 0.0011209 , 0.00102453, 0.00105243, 0.00099106, 0.001226  , 0.00095687, 0.00092254, 0.00094099, 0.00099516, 0.0009357 , 0.00098729,\n",
       "        0.00093446, 0.00092721, 0.0009356 , 0.00092602, 0.00093131, 0.00093741, 0.00095057, 0.00095935, 0.00097985, 0.00093641, 0.00093384, 0.00092659, 0.00093465, 0.00094604, 0.00092382, 0.00090761, 0.00091395, 0.00091739, 0.00091481, 0.00098443, 0.00093746, 0.00090837, 0.00094113,\n",
       "        0.00090661, 0.02478719, 0.00096574, 0.00092864, 0.00098295, 0.00094671, 0.00096245, 0.00091438, 0.0009254 , 0.0009234 , 0.00090947, 0.00094652, 0.00092359, 0.00094457, 0.00094018, 0.00094004, 0.00092082, 0.00093174, 0.0009398 ]),\n",
       " 'std_score_time': array([1.24107018e-04, 1.76540933e-04, 7.76898418e-05, 4.34436598e-05, 5.59147230e-05, 8.94550830e-05, 5.79898291e-05, 5.75186984e-05, 4.64940926e-05, 1.43514249e-04, 6.09436318e-05, 1.63043448e-05, 1.30307094e-04, 4.58861069e-05, 8.08731284e-05, 3.65872400e-05, 8.51370813e-05,\n",
       "        1.97178940e-05, 2.04386891e-05, 5.36835632e-05, 1.84450327e-05, 9.05093703e-05, 1.74631048e-04, 1.94796086e-04, 2.00026203e-04, 1.88518582e-04, 2.75204218e-04, 7.95443277e-05, 1.43509401e-04, 1.74247846e-04, 1.72250848e-04, 2.37538497e-04, 1.23938903e-04, 4.40403454e-05,\n",
       "        1.75309206e-04, 1.65942387e-04, 4.34334004e-05, 1.12935073e-04, 3.99438720e-05, 3.77497899e-04, 3.82643919e-05, 1.88133863e-05, 2.54165388e-05, 7.51305329e-05, 1.29130461e-05, 7.14662624e-05, 1.39840982e-05, 1.54659984e-05, 1.21189831e-05, 4.55872284e-06, 2.23282023e-05,\n",
       "        2.62435508e-05, 3.58117087e-05, 3.66331989e-05, 6.19439550e-05, 9.75432152e-06, 1.61628806e-05, 9.62762445e-06, 2.14027125e-05, 4.63335087e-05, 1.41311237e-05, 1.08499054e-05, 1.15504882e-05, 2.86211152e-05, 2.67016036e-05, 9.47157529e-05, 2.55555358e-05, 5.01246358e-06,\n",
       "        5.83740224e-05, 7.00901964e-06, 4.77598933e-02, 9.66806123e-05, 7.01129008e-06, 4.84803882e-05, 3.04061375e-05, 5.87811615e-05, 1.77396241e-05, 2.92929415e-05, 3.06651155e-05, 7.05106573e-06, 5.59224487e-05, 3.05735552e-05, 5.10804559e-05, 4.45307191e-05, 3.95353507e-05,\n",
       "        2.69036748e-05, 3.85463196e-05, 6.06534991e-05]),\n",
       " 'param_elasticnet_regression__alpha': masked_array(data=[0.01, 0.01, 0.01, 0.01, 0.01, 0.01, 0.01, 0.01, 0.02, 0.02, 0.02, 0.02, 0.02, 0.02, 0.02, 0.02, 0.1, 0.1, 0.1, 0.1, 0.1, 0.1, 0.1, 0.1, 10.0, 10.0, 10.0, 10.0, 10.0, 10.0, 10.0, 10.0, 12.0, 12.0, 12.0, 12.0, 12.0, 12.0, 12.0, 12.0, 15.0, 15.0, 15.0, 15.0, 15.0, 15.0,\n",
       "                    15.0, 15.0, 20.0, 20.0, 20.0, 20.0, 20.0, 20.0, 20.0, 20.0, 30.0, 30.0, 30.0, 30.0, 30.0, 30.0, 30.0, 30.0, 40.0, 40.0, 40.0, 40.0, 40.0, 40.0, 40.0, 40.0, 80.0, 80.0, 80.0, 80.0, 80.0, 80.0, 80.0, 80.0, 200.0, 200.0, 200.0, 200.0, 200.0, 200.0, 200.0, 200.0],\n",
       "              mask=[False, False, False, False, False, False, False, False, False, False, False, False, False, False, False, False, False, False, False, False, False, False, False, False, False, False, False, False, False, False, False, False, False, False, False, False, False, False,\n",
       "                    False, False, False, False, False, False, False, False, False, False, False, False, False, False, False, False, False, False, False, False, False, False, False, False, False, False, False, False, False, False, False, False, False, False, False, False, False, False,\n",
       "                    False, False, False, False, False, False, False, False, False, False, False, False],\n",
       "        fill_value=1e+20),\n",
       " 'param_elasticnet_regression__l1_ratio': masked_array(data=[0.01, 0.1, 0.15, 0.2, 0.3, 0.5, 0.7, 0.8, 0.01, 0.1, 0.15, 0.2, 0.3, 0.5, 0.7, 0.8, 0.01, 0.1, 0.15, 0.2, 0.3, 0.5, 0.7, 0.8, 0.01, 0.1, 0.15, 0.2, 0.3, 0.5, 0.7, 0.8, 0.01, 0.1, 0.15, 0.2, 0.3, 0.5, 0.7, 0.8, 0.01, 0.1, 0.15, 0.2, 0.3, 0.5, 0.7, 0.8, 0.01, 0.1, 0.15,\n",
       "                    0.2, 0.3, 0.5, 0.7, 0.8, 0.01, 0.1, 0.15, 0.2, 0.3, 0.5, 0.7, 0.8, 0.01, 0.1, 0.15, 0.2, 0.3, 0.5, 0.7, 0.8, 0.01, 0.1, 0.15, 0.2, 0.3, 0.5, 0.7, 0.8, 0.01, 0.1, 0.15, 0.2, 0.3, 0.5, 0.7, 0.8],\n",
       "              mask=[False, False, False, False, False, False, False, False, False, False, False, False, False, False, False, False, False, False, False, False, False, False, False, False, False, False, False, False, False, False, False, False, False, False, False, False, False, False,\n",
       "                    False, False, False, False, False, False, False, False, False, False, False, False, False, False, False, False, False, False, False, False, False, False, False, False, False, False, False, False, False, False, False, False, False, False, False, False, False, False,\n",
       "                    False, False, False, False, False, False, False, False, False, False, False, False],\n",
       "        fill_value=1e+20),\n",
       " 'params': [{'elasticnet_regression__alpha': 0.01,\n",
       "   'elasticnet_regression__l1_ratio': 0.01},\n",
       "  {'elasticnet_regression__alpha': 0.01,\n",
       "   'elasticnet_regression__l1_ratio': 0.1},\n",
       "  {'elasticnet_regression__alpha': 0.01,\n",
       "   'elasticnet_regression__l1_ratio': 0.15},\n",
       "  {'elasticnet_regression__alpha': 0.01,\n",
       "   'elasticnet_regression__l1_ratio': 0.2},\n",
       "  {'elasticnet_regression__alpha': 0.01,\n",
       "   'elasticnet_regression__l1_ratio': 0.3},\n",
       "  {'elasticnet_regression__alpha': 0.01,\n",
       "   'elasticnet_regression__l1_ratio': 0.5},\n",
       "  {'elasticnet_regression__alpha': 0.01,\n",
       "   'elasticnet_regression__l1_ratio': 0.7},\n",
       "  {'elasticnet_regression__alpha': 0.01,\n",
       "   'elasticnet_regression__l1_ratio': 0.8},\n",
       "  {'elasticnet_regression__alpha': 0.02,\n",
       "   'elasticnet_regression__l1_ratio': 0.01},\n",
       "  {'elasticnet_regression__alpha': 0.02,\n",
       "   'elasticnet_regression__l1_ratio': 0.1},\n",
       "  {'elasticnet_regression__alpha': 0.02,\n",
       "   'elasticnet_regression__l1_ratio': 0.15},\n",
       "  {'elasticnet_regression__alpha': 0.02,\n",
       "   'elasticnet_regression__l1_ratio': 0.2},\n",
       "  {'elasticnet_regression__alpha': 0.02,\n",
       "   'elasticnet_regression__l1_ratio': 0.3},\n",
       "  {'elasticnet_regression__alpha': 0.02,\n",
       "   'elasticnet_regression__l1_ratio': 0.5},\n",
       "  {'elasticnet_regression__alpha': 0.02,\n",
       "   'elasticnet_regression__l1_ratio': 0.7},\n",
       "  {'elasticnet_regression__alpha': 0.02,\n",
       "   'elasticnet_regression__l1_ratio': 0.8},\n",
       "  {'elasticnet_regression__alpha': 0.1,\n",
       "   'elasticnet_regression__l1_ratio': 0.01},\n",
       "  {'elasticnet_regression__alpha': 0.1,\n",
       "   'elasticnet_regression__l1_ratio': 0.1},\n",
       "  {'elasticnet_regression__alpha': 0.1,\n",
       "   'elasticnet_regression__l1_ratio': 0.15},\n",
       "  {'elasticnet_regression__alpha': 0.1,\n",
       "   'elasticnet_regression__l1_ratio': 0.2},\n",
       "  {'elasticnet_regression__alpha': 0.1,\n",
       "   'elasticnet_regression__l1_ratio': 0.3},\n",
       "  {'elasticnet_regression__alpha': 0.1,\n",
       "   'elasticnet_regression__l1_ratio': 0.5},\n",
       "  {'elasticnet_regression__alpha': 0.1,\n",
       "   'elasticnet_regression__l1_ratio': 0.7},\n",
       "  {'elasticnet_regression__alpha': 0.1,\n",
       "   'elasticnet_regression__l1_ratio': 0.8},\n",
       "  {'elasticnet_regression__alpha': 10,\n",
       "   'elasticnet_regression__l1_ratio': 0.01},\n",
       "  {'elasticnet_regression__alpha': 10, 'elasticnet_regression__l1_ratio': 0.1},\n",
       "  {'elasticnet_regression__alpha': 10,\n",
       "   'elasticnet_regression__l1_ratio': 0.15},\n",
       "  {'elasticnet_regression__alpha': 10, 'elasticnet_regression__l1_ratio': 0.2},\n",
       "  {'elasticnet_regression__alpha': 10, 'elasticnet_regression__l1_ratio': 0.3},\n",
       "  {'elasticnet_regression__alpha': 10, 'elasticnet_regression__l1_ratio': 0.5},\n",
       "  {'elasticnet_regression__alpha': 10, 'elasticnet_regression__l1_ratio': 0.7},\n",
       "  {'elasticnet_regression__alpha': 10, 'elasticnet_regression__l1_ratio': 0.8},\n",
       "  {'elasticnet_regression__alpha': 12,\n",
       "   'elasticnet_regression__l1_ratio': 0.01},\n",
       "  {'elasticnet_regression__alpha': 12, 'elasticnet_regression__l1_ratio': 0.1},\n",
       "  {'elasticnet_regression__alpha': 12,\n",
       "   'elasticnet_regression__l1_ratio': 0.15},\n",
       "  {'elasticnet_regression__alpha': 12, 'elasticnet_regression__l1_ratio': 0.2},\n",
       "  {'elasticnet_regression__alpha': 12, 'elasticnet_regression__l1_ratio': 0.3},\n",
       "  {'elasticnet_regression__alpha': 12, 'elasticnet_regression__l1_ratio': 0.5},\n",
       "  {'elasticnet_regression__alpha': 12, 'elasticnet_regression__l1_ratio': 0.7},\n",
       "  {'elasticnet_regression__alpha': 12, 'elasticnet_regression__l1_ratio': 0.8},\n",
       "  {'elasticnet_regression__alpha': 15,\n",
       "   'elasticnet_regression__l1_ratio': 0.01},\n",
       "  {'elasticnet_regression__alpha': 15, 'elasticnet_regression__l1_ratio': 0.1},\n",
       "  {'elasticnet_regression__alpha': 15,\n",
       "   'elasticnet_regression__l1_ratio': 0.15},\n",
       "  {'elasticnet_regression__alpha': 15, 'elasticnet_regression__l1_ratio': 0.2},\n",
       "  {'elasticnet_regression__alpha': 15, 'elasticnet_regression__l1_ratio': 0.3},\n",
       "  {'elasticnet_regression__alpha': 15, 'elasticnet_regression__l1_ratio': 0.5},\n",
       "  {'elasticnet_regression__alpha': 15, 'elasticnet_regression__l1_ratio': 0.7},\n",
       "  {'elasticnet_regression__alpha': 15, 'elasticnet_regression__l1_ratio': 0.8},\n",
       "  {'elasticnet_regression__alpha': 20,\n",
       "   'elasticnet_regression__l1_ratio': 0.01},\n",
       "  {'elasticnet_regression__alpha': 20, 'elasticnet_regression__l1_ratio': 0.1},\n",
       "  {'elasticnet_regression__alpha': 20,\n",
       "   'elasticnet_regression__l1_ratio': 0.15},\n",
       "  {'elasticnet_regression__alpha': 20, 'elasticnet_regression__l1_ratio': 0.2},\n",
       "  {'elasticnet_regression__alpha': 20, 'elasticnet_regression__l1_ratio': 0.3},\n",
       "  {'elasticnet_regression__alpha': 20, 'elasticnet_regression__l1_ratio': 0.5},\n",
       "  {'elasticnet_regression__alpha': 20, 'elasticnet_regression__l1_ratio': 0.7},\n",
       "  {'elasticnet_regression__alpha': 20, 'elasticnet_regression__l1_ratio': 0.8},\n",
       "  {'elasticnet_regression__alpha': 30,\n",
       "   'elasticnet_regression__l1_ratio': 0.01},\n",
       "  {'elasticnet_regression__alpha': 30, 'elasticnet_regression__l1_ratio': 0.1},\n",
       "  {'elasticnet_regression__alpha': 30,\n",
       "   'elasticnet_regression__l1_ratio': 0.15},\n",
       "  {'elasticnet_regression__alpha': 30, 'elasticnet_regression__l1_ratio': 0.2},\n",
       "  {'elasticnet_regression__alpha': 30, 'elasticnet_regression__l1_ratio': 0.3},\n",
       "  {'elasticnet_regression__alpha': 30, 'elasticnet_regression__l1_ratio': 0.5},\n",
       "  {'elasticnet_regression__alpha': 30, 'elasticnet_regression__l1_ratio': 0.7},\n",
       "  {'elasticnet_regression__alpha': 30, 'elasticnet_regression__l1_ratio': 0.8},\n",
       "  {'elasticnet_regression__alpha': 40,\n",
       "   'elasticnet_regression__l1_ratio': 0.01},\n",
       "  {'elasticnet_regression__alpha': 40, 'elasticnet_regression__l1_ratio': 0.1},\n",
       "  {'elasticnet_regression__alpha': 40,\n",
       "   'elasticnet_regression__l1_ratio': 0.15},\n",
       "  {'elasticnet_regression__alpha': 40, 'elasticnet_regression__l1_ratio': 0.2},\n",
       "  {'elasticnet_regression__alpha': 40, 'elasticnet_regression__l1_ratio': 0.3},\n",
       "  {'elasticnet_regression__alpha': 40, 'elasticnet_regression__l1_ratio': 0.5},\n",
       "  {'elasticnet_regression__alpha': 40, 'elasticnet_regression__l1_ratio': 0.7},\n",
       "  {'elasticnet_regression__alpha': 40, 'elasticnet_regression__l1_ratio': 0.8},\n",
       "  {'elasticnet_regression__alpha': 80,\n",
       "   'elasticnet_regression__l1_ratio': 0.01},\n",
       "  {'elasticnet_regression__alpha': 80, 'elasticnet_regression__l1_ratio': 0.1},\n",
       "  {'elasticnet_regression__alpha': 80,\n",
       "   'elasticnet_regression__l1_ratio': 0.15},\n",
       "  {'elasticnet_regression__alpha': 80, 'elasticnet_regression__l1_ratio': 0.2},\n",
       "  {'elasticnet_regression__alpha': 80, 'elasticnet_regression__l1_ratio': 0.3},\n",
       "  {'elasticnet_regression__alpha': 80, 'elasticnet_regression__l1_ratio': 0.5},\n",
       "  {'elasticnet_regression__alpha': 80, 'elasticnet_regression__l1_ratio': 0.7},\n",
       "  {'elasticnet_regression__alpha': 80, 'elasticnet_regression__l1_ratio': 0.8},\n",
       "  {'elasticnet_regression__alpha': 200,\n",
       "   'elasticnet_regression__l1_ratio': 0.01},\n",
       "  {'elasticnet_regression__alpha': 200,\n",
       "   'elasticnet_regression__l1_ratio': 0.1},\n",
       "  {'elasticnet_regression__alpha': 200,\n",
       "   'elasticnet_regression__l1_ratio': 0.15},\n",
       "  {'elasticnet_regression__alpha': 200,\n",
       "   'elasticnet_regression__l1_ratio': 0.2},\n",
       "  {'elasticnet_regression__alpha': 200,\n",
       "   'elasticnet_regression__l1_ratio': 0.3},\n",
       "  {'elasticnet_regression__alpha': 200,\n",
       "   'elasticnet_regression__l1_ratio': 0.5},\n",
       "  {'elasticnet_regression__alpha': 200,\n",
       "   'elasticnet_regression__l1_ratio': 0.7},\n",
       "  {'elasticnet_regression__alpha': 200,\n",
       "   'elasticnet_regression__l1_ratio': 0.8}],\n",
       " 'split0_test_score': array([ 0.37217138,  0.37230522,  0.37237947,  0.37245363,  0.3726017 ,  0.37289683,  0.3731906 ,  0.37333696,  0.37067382,  0.37094692,  0.37109822,  0.37124921,  0.37155026,  0.37214854,  0.37274159,  0.37303609,  0.35780875,  0.35932297,  0.36015901,  0.36099107,  0.36264237,\n",
       "         0.36588706,  0.36904074,  0.37057775, -0.02904856, -0.02330822, -0.01966984, -0.01564606, -0.00616917,  0.02158937,  0.07408192,  0.12254173, -0.039557  , -0.03460832, -0.03146168, -0.02797258, -0.01971658,  0.00478487,  0.05250401,  0.09833169, -0.0505333 , -0.04645846,\n",
       "        -0.04385886, -0.04096848, -0.03409585, -0.01341663,  0.02815151,  0.06984168, -0.06200661, -0.05889618, -0.05690502, -0.05468484, -0.04937898, -0.03318039,  0.00050638,  0.03594823, -0.07400843, -0.07196232, -0.07064782, -0.06917781, -0.06564607, -0.05469725, -0.03107858,\n",
       "        -0.00487496, -0.08021806, -0.0787448 , -0.07779659, -0.07673459, -0.0741761 , -0.06618094, -0.04859586, -0.0285168 , -0.08980607, -0.0892469 , -0.088886  , -0.08848083, -0.08750063, -0.08439931, -0.07736607, -0.06895468, -0.09572226, -0.09574497, -0.09575966, -0.09577616,\n",
       "        -0.09581621, -0.09594389, -0.09623908, -0.0966028 ]),\n",
       " 'split1_test_score': array([ 1.95318207e-01,  1.95514830e-01,  1.95624170e-01,  1.95733586e-01,  1.95952644e-01,  1.96391670e-01,  1.96831910e-01,  1.97052487e-01,  1.93157257e-01,  1.93545405e-01,  1.93761458e-01,  1.93977809e-01,  1.94411406e-01,  1.95282194e-01,  1.96157802e-01,  1.96597424e-01,\n",
       "         1.76879256e-01,  1.78630199e-01,  1.79612116e-01,  1.80600655e-01,  1.82597835e-01,  1.86674238e-01,  1.90863229e-01,  1.93001166e-01, -6.18347249e-02, -5.91652816e-02, -5.74679557e-02, -5.55859182e-02, -5.11324483e-02, -3.79102665e-02, -1.20879288e-02,  1.29050408e-02,\n",
       "        -6.67606019e-02, -6.44815940e-02, -6.30286322e-02, -6.14140004e-02, -5.75783273e-02, -4.60645049e-02, -2.30168416e-02,  3.45898480e-05, -7.18706700e-02, -7.00151088e-02, -6.88288182e-02, -6.75075070e-02, -6.43557993e-02, -5.47848737e-02, -3.51118881e-02, -1.47118074e-02,\n",
       "        -7.71751913e-02, -7.57790723e-02, -7.48839308e-02, -7.38845265e-02, -7.14904693e-02, -6.41309385e-02, -4.85654896e-02, -3.17663302e-02, -8.26851898e-02, -8.17878087e-02, -8.12107126e-02, -8.05647961e-02, -7.90105949e-02, -7.41707543e-02, -6.36139759e-02, -5.17020831e-02,\n",
       "        -8.55209135e-02, -8.48887647e-02, -8.44816090e-02, -8.40253146e-02, -8.29248438e-02, -7.94747805e-02, -7.18252820e-02, -6.29825442e-02, -8.98797882e-02, -8.96666967e-02, -8.95291223e-02, -8.93746399e-02, -8.90007358e-02, -8.78161776e-02, -8.51210203e-02, -8.18813982e-02,\n",
       "        -9.25577658e-02, -9.26089688e-02, -9.26420743e-02, -9.26792936e-02, -9.27695765e-02, -9.30574668e-02, -9.37232556e-02, -9.43466577e-02]),\n",
       " 'split2_test_score': array([0.19366071, 0.1936714 , 0.19367722, 0.19368296, 0.19369418, 0.19371562, 0.19373569, 0.19374521, 0.19352501, 0.19355189, 0.19356638, 0.19358056, 0.19360796, 0.19365888, 0.19370451, 0.1937253 , 0.19147069, 0.19177579, 0.19193833, 0.19209571, 0.19239428, 0.19292177, 0.19334614,\n",
       "        0.19351548, 0.03222927, 0.03492101, 0.03662499, 0.03850754, 0.04293316, 0.05582632, 0.07988599, 0.10164347, 0.02729797, 0.02962552, 0.03110399, 0.03274198, 0.03661186, 0.04804512, 0.07006703, 0.09085465, 0.02213348, 0.02405612, 0.02528171, 0.02664347, 0.02987747, 0.03957367,\n",
       "        0.05889279, 0.07800403, 0.01672077, 0.0181935 , 0.01913571, 0.02018578, 0.02269302, 0.03032743, 0.04610044, 0.06252709, 0.01104363, 0.01201661, 0.01264145, 0.01334   , 0.01501733, 0.02020851, 0.03136001, 0.04365147, 0.00810045, 0.00880322, 0.0092554 , 0.00976175, 0.01098108,\n",
       "        0.01478691, 0.02313262, 0.0326176 , 0.0035484 , 0.00381837, 0.0039926 , 0.00418817, 0.00466125, 0.00615734, 0.00954624, 0.01359179, 0.00073509, 0.00072859, 0.00072439, 0.00071967, 0.00070822, 0.00067171, 0.00058731, 0.00048332]),\n",
       " 'split3_test_score': array([-3.29155269e-02, -3.31253174e-02, -3.32421726e-02, -3.33592462e-02, -3.35940505e-02, -3.40663009e-02, -3.45420995e-02, -3.47813392e-02, -3.06433166e-02, -3.10483498e-02, -3.12745403e-02, -3.15015725e-02, -3.19581768e-02, -3.28816487e-02, -3.38190054e-02, -3.42929669e-02,\n",
       "        -1.51524791e-02, -1.66901953e-02, -1.75660141e-02, -1.84576160e-02, -2.02894887e-02, -2.41576151e-02, -2.83180565e-02, -3.05159065e-02,  8.69080708e-03,  9.82202023e-03,  1.05293387e-02,  1.13026951e-02,  1.30864579e-02,  1.79905419e-02,  2.57862894e-02,  3.08988096e-02,\n",
       "         6.59178039e-03,  7.59812220e-03,  8.23104067e-03,  8.92641945e-03,  1.05444615e-02,  1.51093751e-02,  2.28693209e-02,  2.86575963e-02,  4.33740344e-03,  5.19271911e-03,  5.73379130e-03,  6.33114603e-03,  7.73331046e-03,  1.17921106e-02,  1.91576281e-02,  2.53215996e-02,\n",
       "         1.91585347e-03,  2.59064448e-03,  3.02000926e-03,  3.49633934e-03,  4.62425067e-03,  7.97413080e-03,  1.44584272e-02,  2.04980747e-02, -6.85750788e-04, -2.24759595e-04,  7.02842431e-05,  3.99196615e-04,  1.18490881e-03,  3.57952160e-03,  8.52373481e-03,  1.36288635e-02,\n",
       "        -2.05841535e-03, -1.71811579e-03, -1.49967743e-03, -1.25556865e-03, -6.69855306e-04,  1.13860004e-03,  4.99593062e-03,  9.18736575e-03, -4.21248565e-03, -4.07209695e-03, -3.98158231e-03, -3.88005737e-03, -3.63482960e-03, -2.86260748e-03, -1.13224015e-03,  8.98354821e-04,\n",
       "        -5.56211357e-03, -5.55331581e-03, -5.54762838e-03, -5.54123492e-03, -5.52572957e-03, -5.47631719e-03, -5.36222134e-03, -5.22191822e-03]),\n",
       " 'split4_test_score': array([-1.13062982e-01, -1.13553399e-01, -1.13826541e-01, -1.14100175e-01, -1.14648925e-01, -1.15752382e-01, -1.16863839e-01, -1.17422589e-01, -1.07747774e-01, -1.08695795e-01, -1.09225117e-01, -1.09756339e-01, -1.10824513e-01, -1.12984010e-01, -1.15174821e-01, -1.16282139e-01,\n",
       "        -7.12957940e-02, -7.49337571e-02, -7.70036446e-02, -7.91092870e-02, -8.34307804e-02, -9.25362491e-02, -1.02302516e-01, -1.07451298e-01,  1.45918265e-02,  1.67086160e-02,  1.80281698e-02,  1.94671795e-02,  2.27702415e-02,  3.17118120e-02,  4.52406831e-02,  5.29638610e-02,\n",
       "         1.06465856e-02,  1.25421260e-02,  1.37314768e-02,  1.50355812e-02,  1.80587678e-02,  2.64887745e-02,  4.03212340e-02,  4.97997222e-02,  6.38421286e-03,  8.00538658e-03,  9.02914242e-03,  1.01577134e-02,  1.27995543e-02,  2.03822202e-02,  3.38101018e-02,  4.44797095e-02,\n",
       "         1.78004997e-03,  3.06677675e-03,  3.88451911e-03,  4.79078186e-03,  6.93271749e-03,  1.32578525e-02,  2.53086235e-02,  3.61971055e-02, -3.19279110e-03, -2.30846555e-03, -1.74289184e-03, -1.11278103e-03,  3.90757294e-04,  4.95763028e-03,  1.43024347e-02,  2.37997400e-02,\n",
       "        -5.82653582e-03, -5.17163521e-03, -4.75146747e-03, -4.28212192e-03, -3.15684811e-03,  3.09489410e-04,  7.65806902e-03,  1.55611557e-02, -9.97227199e-03, -9.70020211e-03, -9.52482118e-03, -9.32813882e-03, -8.85320445e-03, -7.35895684e-03, -4.01826027e-03, -1.12157989e-04,\n",
       "        -1.25771703e-02, -1.25587030e-02, -1.25467648e-02, -1.25333449e-02, -1.25007999e-02, -1.23970949e-02, -1.21576888e-02, -1.18633963e-02]),\n",
       " 'mean_test_score': array([ 0.12303436,  0.12296255,  0.12292243,  0.12288215,  0.12280111,  0.12263709,  0.12247045,  0.12238615,  0.123793  ,  0.12366001,  0.12358528,  0.12350993,  0.12335739,  0.12304479,  0.12272201,  0.12255674,  0.12794209,  0.127621  ,  0.12742796,  0.12722411,  0.12678284,\n",
       "         0.12575784,  0.12452591,  0.12382544, -0.00707428, -0.00420437, -0.00239106, -0.00039091,  0.00429765,  0.01784156,  0.04258139,  0.06419058, -0.01235625, -0.00986483, -0.00828476, -0.00653652, -0.00241596,  0.00967273,  0.03254895,  0.05353565, -0.01790977, -0.01584387,\n",
       "        -0.01452861, -0.01306873, -0.00960826,  0.0007093 ,  0.02098003,  0.04058704, -0.02375302, -0.02216487, -0.02114974, -0.02001929, -0.01732389, -0.00915038,  0.00756168,  0.02468084, -0.02990571, -0.02885335, -0.02817794, -0.02742324, -0.02561273, -0.02002447, -0.00810128,\n",
       "         0.00490061, -0.0331047 , -0.03234402, -0.03185479, -0.03130717, -0.02998931, -0.02588414, -0.0169269 , -0.00682665, -0.03806444, -0.03777351, -0.03758579, -0.0373751 , -0.03686563, -0.03525594, -0.03161827, -0.02729162, -0.04113684, -0.04114747, -0.04115435, -0.04116207,\n",
       "        -0.04118082, -0.04124061, -0.04137899, -0.04151029]),\n",
       " 'std_test_score': array([0.17455349, 0.17477904, 0.17490458, 0.17503029, 0.17528221, 0.17578813, 0.17629679, 0.17655217, 0.17209637, 0.17253612, 0.17278134, 0.17302721, 0.17352095, 0.17451643, 0.17552271, 0.17602996, 0.15455821, 0.1563699 , 0.15739381, 0.15843043, 0.16054279, 0.16493077, 0.16955045,\n",
       "        0.17195282, 0.03389484, 0.0333183 , 0.03297925, 0.03262938, 0.03191624, 0.03084659, 0.03365055, 0.04164652, 0.0351008 , 0.03453041, 0.03418485, 0.03381804, 0.03302289, 0.03135381, 0.03177254, 0.0371339 , 0.03650937, 0.03598642, 0.03566278, 0.03531249, 0.03452216, 0.03255591,\n",
       "        0.03099369, 0.0333527 , 0.03812144, 0.03768804, 0.03741554, 0.0371164 , 0.03642253, 0.03450849, 0.03177355, 0.0312912 , 0.03993734, 0.03963589, 0.03944404, 0.03923121, 0.0387275 , 0.03723968, 0.03448225, 0.03235557, 0.04092179, 0.04070224, 0.04056181, 0.04040535, 0.04003206,\n",
       "        0.03890053, 0.0366239 , 0.03446   , 0.04249419, 0.04241743, 0.04236802, 0.04231265, 0.04217923, 0.04176189, 0.0408438 , 0.03980127, 0.04349288, 0.04351331, 0.04352651, 0.04354136, 0.04357739, 0.04369236, 0.04395865, 0.04424051]),\n",
       " 'rank_test_score': array([15, 16, 17, 18, 19, 21, 23, 24,  9, 10, 11, 12, 13, 14, 20, 22,  1,  2,  3,  4,  5,  6,  7,  8, 44, 41, 39, 38, 36, 32, 27, 25, 50, 49, 46, 42, 40, 33, 29, 26, 56, 53, 52, 51, 48, 37, 31, 28, 61, 60, 59, 57, 55, 47, 34, 30, 68, 67, 66, 65, 62, 58, 45, 35, 74, 73, 72, 70, 69, 63,\n",
       "        54, 43, 80, 79, 78, 77, 76, 75, 71, 64, 81, 82, 83, 84, 85, 86, 87, 88], dtype=int32)}"
      ]
     },
     "execution_count": null,
     "metadata": {},
     "output_type": "execute_result"
    }
   ],
   "source": [
    "# Elastic regression and tune lambda with cross-validation\n",
    "\n",
    "degrees = {\n",
    "    'elasticnet_regression__alpha': [0.01, 0.02, 0.1, 10, 12, 15, 20, 30, 40, 80, 200],\n",
    "    'elasticnet_regression__l1_ratio': [0.01, 0.1, 0.15, 0.2, 0.3, 0.5, 0.7, 0.8]\n",
    "}\n",
    "\n",
    "gscv = GridSearchCV(elasticnet_pipeline_1, degrees, cv = 5, scoring='r2')\n",
    "\n",
    "gscv_fitted = gscv.fit(X, y)\n",
    "gscv_fitted.cv_results_"
   ]
  },
  {
   "cell_type": "code",
   "execution_count": 162,
   "metadata": {
    "vscode": {
     "languageId": "python"
    }
   },
   "outputs": [
    {
     "data": {
      "text/html": [
       "<div>\n",
       "<style scoped>\n",
       "    .dataframe tbody tr th:only-of-type {\n",
       "        vertical-align: middle;\n",
       "    }\n",
       "\n",
       "    .dataframe tbody tr th {\n",
       "        vertical-align: top;\n",
       "    }\n",
       "\n",
       "    .dataframe thead th {\n",
       "        text-align: right;\n",
       "    }\n",
       "</style>\n",
       "<table border=\"1\" class=\"dataframe\">\n",
       "  <thead>\n",
       "    <tr style=\"text-align: right;\">\n",
       "      <th></th>\n",
       "      <th>degrees_lambda</th>\n",
       "      <th>degrees_alpha</th>\n",
       "      <th>scores_ElasticNet</th>\n",
       "    </tr>\n",
       "  </thead>\n",
       "  <tbody>\n",
       "    <tr>\n",
       "      <th>16</th>\n",
       "      <td>0.1</td>\n",
       "      <td>0.01</td>\n",
       "      <td>0.127942</td>\n",
       "    </tr>\n",
       "    <tr>\n",
       "      <th>17</th>\n",
       "      <td>0.1</td>\n",
       "      <td>0.10</td>\n",
       "      <td>0.127621</td>\n",
       "    </tr>\n",
       "    <tr>\n",
       "      <th>18</th>\n",
       "      <td>0.1</td>\n",
       "      <td>0.15</td>\n",
       "      <td>0.127428</td>\n",
       "    </tr>\n",
       "    <tr>\n",
       "      <th>19</th>\n",
       "      <td>0.1</td>\n",
       "      <td>0.20</td>\n",
       "      <td>0.127224</td>\n",
       "    </tr>\n",
       "    <tr>\n",
       "      <th>20</th>\n",
       "      <td>0.1</td>\n",
       "      <td>0.30</td>\n",
       "      <td>0.126783</td>\n",
       "    </tr>\n",
       "  </tbody>\n",
       "</table>\n",
       "</div>"
      ],
      "text/plain": [
       "    degrees_lambda  degrees_alpha  scores_ElasticNet\n",
       "16             0.1           0.01           0.127942\n",
       "17             0.1           0.10           0.127621\n",
       "18             0.1           0.15           0.127428\n",
       "19             0.1           0.20           0.127224\n",
       "20             0.1           0.30           0.126783"
      ]
     },
     "execution_count": null,
     "metadata": {},
     "output_type": "execute_result"
    }
   ],
   "source": [
    "alphas = gscv_fitted.cv_results_['param_elasticnet_regression__alpha'].data\n",
    "l1_ratios = gscv_fitted.cv_results_['param_elasticnet_regression__l1_ratio'].data\n",
    "mean_scores = gscv_fitted.cv_results_['mean_test_score']\n",
    "\n",
    "elasticnet_scores_2_df = pd.DataFrame({\n",
    "    \"degrees_lambda\": alphas, \n",
    "    \"degrees_alpha\": l1_ratios,\n",
    "    \"scores_ElasticNet\": mean_scores\n",
    "    })\n",
    "\n",
    "elasticnet_scores_2_df.sort_values(by='scores_ElasticNet', ascending=False).head()"
   ]
  },
  {
   "cell_type": "markdown",
   "metadata": {},
   "source": [
    "Based on different degrees of tunning, lambda = 0.1 and alpha = 0.01 in Elastic Net regression yields the highest R-sqaured score for this model."
   ]
  },
  {
   "cell_type": "code",
   "execution_count": 163,
   "metadata": {
    "vscode": {
     "languageId": "python"
    }
   },
   "outputs": [
    {
     "data": {
      "text/plain": [
       "array([179.72409978])"
      ]
     },
     "execution_count": null,
     "metadata": {},
     "output_type": "execute_result"
    }
   ],
   "source": [
    "# fit the pipeline with the highest hyperparameters on full dataset\n",
    "elasticnet_pipeline_1.set_params(elasticnet_regression__alpha=0.1)\n",
    "elasticnet_pipeline_1.set_params(elasticnet_regression__l1_ratio=0.01)\n",
    "elasticnet_fitted_2 = elasticnet_pipeline_1.fit(X, y)\n",
    "elasticnet_fitted_2.named_steps['elasticnet_regression'].coef_"
   ]
  },
  {
   "cell_type": "code",
   "execution_count": 164,
   "metadata": {
    "vscode": {
     "languageId": "python"
    }
   },
   "outputs": [
    {
     "data": {
      "text/html": [
       "<div>\n",
       "<style scoped>\n",
       "    .dataframe tbody tr th:only-of-type {\n",
       "        vertical-align: middle;\n",
       "    }\n",
       "\n",
       "    .dataframe tbody tr th {\n",
       "        vertical-align: top;\n",
       "    }\n",
       "\n",
       "    .dataframe thead th {\n",
       "        text-align: right;\n",
       "    }\n",
       "</style>\n",
       "<table border=\"1\" class=\"dataframe\">\n",
       "  <thead>\n",
       "    <tr style=\"text-align: right;\">\n",
       "      <th></th>\n",
       "      <th>Variable</th>\n",
       "      <th>Coef_ElasticNet</th>\n",
       "    </tr>\n",
       "  </thead>\n",
       "  <tbody>\n",
       "    <tr>\n",
       "      <th>0</th>\n",
       "      <td>standardize__Hits</td>\n",
       "      <td>179.7241</td>\n",
       "    </tr>\n",
       "  </tbody>\n",
       "</table>\n",
       "</div>"
      ],
      "text/plain": [
       "            Variable  Coef_ElasticNet\n",
       "0  standardize__Hits         179.7241"
      ]
     },
     "execution_count": null,
     "metadata": {},
     "output_type": "execute_result"
    }
   ],
   "source": [
    "# turn coefficients to a dataframe\n",
    "\n",
    "coef_df_Elasticnet_2 = pd.DataFrame({'Variable': beta_headers, 'Coef_ElasticNet': elasticnet_fitted_2.named_steps['elasticnet_regression'].coef_})\n",
    "coef_df_Elasticnet_2.sort_values(by=['Coef_ElasticNet'], ascending=False)"
   ]
  },
  {
   "cell_type": "code",
   "execution_count": 165,
   "metadata": {
    "vscode": {
     "languageId": "python"
    }
   },
   "outputs": [
    {
     "data": {
      "text/plain": [
       "np.float64(164037.6087637829)"
      ]
     },
     "execution_count": null,
     "metadata": {},
     "output_type": "execute_result"
    }
   ],
   "source": [
    "# MSE\n",
    "\n",
    "y_pred = elasticnet_fitted_2.predict(X)\n",
    "MSE_ElasticNet_2 = mean_squared_error(y, y_pred)\n",
    "MSE_ElasticNet_2"
   ]
  },
  {
   "cell_type": "code",
   "execution_count": 166,
   "metadata": {
    "vscode": {
     "languageId": "python"
    }
   },
   "outputs": [
    {
     "data": {
      "text/plain": [
       "0.1908738002470618"
      ]
     },
     "execution_count": null,
     "metadata": {},
     "output_type": "execute_result"
    }
   ],
   "source": [
    "# R-squared\n",
    "Rsq_ElasticNet_2 = r2_score(y, y_pred)\n",
    "Rsq_ElasticNet_2"
   ]
  },
  {
   "cell_type": "markdown",
   "metadata": {},
   "source": [
    "The MSE of this Elastic Net model prediction is 164037. The R-squared is 0.19 on full data or 0.127 during tuning for best lambda and alpha."
   ]
  },
  {
   "cell_type": "markdown",
   "metadata": {},
   "source": [
    "# Feature set 2:  'X' = \"Hits\", \"CRuns\", \"CRBI\", \"PutOuts\", \"CHits\""
   ]
  },
  {
   "cell_type": "code",
   "execution_count": 167,
   "metadata": {
    "vscode": {
     "languageId": "python"
    }
   },
   "outputs": [],
   "source": [
    "# Feature set 2:\n",
    "\n",
    "X = bbp[[\"Hits\", \"CRuns\", \"CRBI\", \"PutOuts\", \"CHits\"]]\n",
    "y = bbp[\"Salary\"]"
   ]
  },
  {
   "cell_type": "code",
   "execution_count": 168,
   "metadata": {
    "vscode": {
     "languageId": "python"
    }
   },
   "outputs": [
    {
     "name": "stdout",
     "output_type": "stream",
     "text": [
      "<class 'pandas.core.frame.DataFrame'>\n",
      "Index: 263 entries, 1 to 321\n",
      "Data columns (total 5 columns):\n",
      " #   Column   Non-Null Count  Dtype\n",
      "---  ------   --------------  -----\n",
      " 0   Hits     263 non-null    int64\n",
      " 1   CRuns    263 non-null    int64\n",
      " 2   CRBI     263 non-null    int64\n",
      " 3   PutOuts  263 non-null    int64\n",
      " 4   CHits    263 non-null    int64\n",
      "dtypes: int64(5)\n",
      "memory usage: 12.3 KB\n",
      "<class 'pandas.core.frame.DataFrame'>\n",
      "Index: 263 entries, 1 to 321\n",
      "Data columns (total 5 columns):\n",
      " #   Column   Non-Null Count  Dtype\n",
      "---  ------   --------------  -----\n",
      " 0   Hits     263 non-null    int64\n",
      " 1   CRuns    263 non-null    int64\n",
      " 2   CRBI     263 non-null    int64\n",
      " 3   PutOuts  263 non-null    int64\n",
      " 4   CHits    263 non-null    int64\n",
      "dtypes: int64(5)\n",
      "memory usage: 12.3 KB\n"
     ]
    }
   ],
   "source": [
    "X.info()"
   ]
  },
  {
   "cell_type": "code",
   "execution_count": 169,
   "metadata": {
    "vscode": {
     "languageId": "python"
    }
   },
   "outputs": [
    {
     "data": {
      "text/html": [
       "<div>\n",
       "<style scoped>\n",
       "    .dataframe tbody tr th:only-of-type {\n",
       "        vertical-align: middle;\n",
       "    }\n",
       "\n",
       "    .dataframe tbody tr th {\n",
       "        vertical-align: top;\n",
       "    }\n",
       "\n",
       "    .dataframe thead th {\n",
       "        text-align: right;\n",
       "    }\n",
       "</style>\n",
       "<table border=\"1\" class=\"dataframe\">\n",
       "  <thead>\n",
       "    <tr style=\"text-align: right;\">\n",
       "      <th></th>\n",
       "      <th>standardize__Hits</th>\n",
       "      <th>standardize__CRuns</th>\n",
       "      <th>standardize__CRBI</th>\n",
       "      <th>standardize__PutOuts</th>\n",
       "      <th>standardize__CHits</th>\n",
       "    </tr>\n",
       "  </thead>\n",
       "  <tbody>\n",
       "    <tr>\n",
       "      <th>1</th>\n",
       "      <td>-0.595675</td>\n",
       "      <td>-0.121671</td>\n",
       "      <td>0.258966</td>\n",
       "      <td>1.221499</td>\n",
       "      <td>0.174373</td>\n",
       "    </tr>\n",
       "    <tr>\n",
       "      <th>2</th>\n",
       "      <td>0.492260</td>\n",
       "      <td>-0.415105</td>\n",
       "      <td>-0.199590</td>\n",
       "      <td>2.109109</td>\n",
       "      <td>-0.409892</td>\n",
       "    </tr>\n",
       "    <tr>\n",
       "      <th>3</th>\n",
       "      <td>0.736490</td>\n",
       "      <td>1.412051</td>\n",
       "      <td>1.572666</td>\n",
       "      <td>-0.324661</td>\n",
       "      <td>1.318174</td>\n",
       "    </tr>\n",
       "    <tr>\n",
       "      <th>4</th>\n",
       "      <td>-0.462459</td>\n",
       "      <td>-0.947521</td>\n",
       "      <td>-0.881228</td>\n",
       "      <td>1.840678</td>\n",
       "      <td>-0.960153</td>\n",
       "    </tr>\n",
       "    <tr>\n",
       "      <th>5</th>\n",
       "      <td>1.358167</td>\n",
       "      <td>0.422846</td>\n",
       "      <td>0.017294</td>\n",
       "      <td>-0.031177</td>\n",
       "      <td>0.634985</td>\n",
       "    </tr>\n",
       "  </tbody>\n",
       "</table>\n",
       "</div>"
      ],
      "text/plain": [
       "   standardize__Hits  standardize__CRuns  standardize__CRBI  standardize__PutOuts  standardize__CHits\n",
       "1          -0.595675           -0.121671           0.258966              1.221499            0.174373\n",
       "2           0.492260           -0.415105          -0.199590              2.109109           -0.409892\n",
       "3           0.736490            1.412051           1.572666             -0.324661            1.318174\n",
       "4          -0.462459           -0.947521          -0.881228              1.840678           -0.960153\n",
       "5           1.358167            0.422846           0.017294             -0.031177            0.634985"
      ]
     },
     "execution_count": null,
     "metadata": {},
     "output_type": "execute_result"
    }
   ],
   "source": [
    "# Check 'X' variable names after transformation in ct # Assisted by ChatGPT\n",
    "\n",
    "# Fit and transform the data\n",
    "X_transformed = ct.fit_transform(X)\n",
    "\n",
    "# Convert the result to a DataFrame\n",
    "X_tr = pd.DataFrame(X_transformed, columns=ct.get_feature_names_out())\n",
    "\n",
    "# Display the first rows\n",
    "X_tr.head()"
   ]
  },
  {
   "cell_type": "markdown",
   "metadata": {},
   "source": [
    "## OLR FS_2: \"Hits\", \"CRuns\", \"CRBI\", \"PutOuts\", \"CHits\""
   ]
  },
  {
   "cell_type": "code",
   "execution_count": 170,
   "metadata": {
    "vscode": {
     "languageId": "python"
    }
   },
   "outputs": [
    {
     "data": {
      "text/plain": [
       "array([ 121.74102469,  251.25806776,  152.12927108,   81.4713225 , -178.42735387])"
      ]
     },
     "execution_count": null,
     "metadata": {},
     "output_type": "execute_result"
    }
   ],
   "source": [
    "#  fitting\n",
    "\n",
    "lr_fitted_3 = lr_pipeline_1.fit(X, y)\n",
    "\n",
    "lr_fitted_3.named_steps['linear_regression'].coef_\n"
   ]
  },
  {
   "cell_type": "code",
   "execution_count": 171,
   "metadata": {
    "vscode": {
     "languageId": "python"
    }
   },
   "outputs": [],
   "source": [
    "# create dataframe with betas and header\n",
    "\n",
    "columns_to_extract = X_tr.columns.tolist()  # list of columns from 'X tr'\n",
    "beta_headers = [col for col in columns_to_extract if col != X_tr.index.name] # Ensures index column is skipped"
   ]
  },
  {
   "cell_type": "code",
   "execution_count": 172,
   "metadata": {
    "vscode": {
     "languageId": "python"
    }
   },
   "outputs": [],
   "source": [
    "# Merging the lists into a DataFrame\n",
    "coef_df_LR_3 = pd.DataFrame({'Variable': beta_headers, 'Coef_LR': lr_fitted_3.named_steps['linear_regression'].coef_})"
   ]
  },
  {
   "cell_type": "code",
   "execution_count": 173,
   "metadata": {
    "vscode": {
     "languageId": "python"
    }
   },
   "outputs": [
    {
     "data": {
      "text/html": [
       "<div>\n",
       "<style scoped>\n",
       "    .dataframe tbody tr th:only-of-type {\n",
       "        vertical-align: middle;\n",
       "    }\n",
       "\n",
       "    .dataframe tbody tr th {\n",
       "        vertical-align: top;\n",
       "    }\n",
       "\n",
       "    .dataframe thead th {\n",
       "        text-align: right;\n",
       "    }\n",
       "</style>\n",
       "<table border=\"1\" class=\"dataframe\">\n",
       "  <thead>\n",
       "    <tr style=\"text-align: right;\">\n",
       "      <th></th>\n",
       "      <th>Variable</th>\n",
       "      <th>Coef_LR</th>\n",
       "    </tr>\n",
       "  </thead>\n",
       "  <tbody>\n",
       "    <tr>\n",
       "      <th>1</th>\n",
       "      <td>standardize__CRuns</td>\n",
       "      <td>251.258068</td>\n",
       "    </tr>\n",
       "    <tr>\n",
       "      <th>2</th>\n",
       "      <td>standardize__CRBI</td>\n",
       "      <td>152.129271</td>\n",
       "    </tr>\n",
       "    <tr>\n",
       "      <th>0</th>\n",
       "      <td>standardize__Hits</td>\n",
       "      <td>121.741025</td>\n",
       "    </tr>\n",
       "    <tr>\n",
       "      <th>3</th>\n",
       "      <td>standardize__PutOuts</td>\n",
       "      <td>81.471322</td>\n",
       "    </tr>\n",
       "    <tr>\n",
       "      <th>4</th>\n",
       "      <td>standardize__CHits</td>\n",
       "      <td>-178.427354</td>\n",
       "    </tr>\n",
       "  </tbody>\n",
       "</table>\n",
       "</div>"
      ],
      "text/plain": [
       "               Variable     Coef_LR\n",
       "1    standardize__CRuns  251.258068\n",
       "2     standardize__CRBI  152.129271\n",
       "0     standardize__Hits  121.741025\n",
       "3  standardize__PutOuts   81.471322\n",
       "4    standardize__CHits -178.427354"
      ]
     },
     "execution_count": null,
     "metadata": {},
     "output_type": "execute_result"
    }
   ],
   "source": [
    "coef_df_LR_3.sort_values(by=['Coef_LR'], ascending=False)"
   ]
  },
  {
   "cell_type": "code",
   "execution_count": 174,
   "metadata": {
    "vscode": {
     "languageId": "python"
    }
   },
   "outputs": [
    {
     "name": "stdout",
     "output_type": "stream",
     "text": [
      "OLR CV mean R-squared score: 0.3657473978390294\n",
      "OLR CV mean MSE score: 123098.16579519198\n",
      "OLR CV mean R-squared score: 0.3657473978390294\n",
      "OLR CV mean MSE score: 123098.16579519198\n"
     ]
    }
   ],
   "source": [
    "# use cross-validation to estimate MSE\n",
    "\n",
    "lr_3_cv_scores = cross_val_score(lr_pipeline_1, X, y, cv = 5, scoring = 'r2')\n",
    "lr_3_mse_scores = cross_val_score(lr_pipeline_1, X, y, cv = 5, scoring = ('neg_mean_squared_error'))*(-1)\n",
    "print (\"OLR CV mean R-squared score:\", np.mean(lr_3_cv_scores))\n",
    "print (\"OLR CV mean MSE score:\", np.mean(lr_3_mse_scores))"
   ]
  },
  {
   "cell_type": "markdown",
   "metadata": {},
   "source": [
    "## Ridge FS_2: \"Hits\", \"CRuns\", \"CRBI\", \"PutOuts\", \"CHits\""
   ]
  },
  {
   "cell_type": "code",
   "execution_count": 175,
   "metadata": {
    "vscode": {
     "languageId": "python"
    }
   },
   "outputs": [
    {
     "data": {
      "text/plain": [
       "{'mean_fit_time': array([0.00613842, 0.00226393, 0.00180035, 0.00184498, 0.00179658, 0.00285196, 0.00180092, 0.00183897, 0.00178213, 0.00171738, 0.00170097, 0.0019238 , 0.00194144]),\n",
       " 'std_fit_time': array([2.78775273e-03, 4.29697132e-04, 1.43299158e-04, 2.25321053e-04, 2.20517343e-04, 1.19908725e-03, 3.02543035e-04, 3.18597647e-04, 1.87304610e-04, 5.67951690e-05, 1.26372517e-04, 3.67645129e-04, 3.39984927e-04]),\n",
       " 'mean_score_time': array([0.00221367, 0.00110769, 0.00114517, 0.00110583, 0.00104165, 0.00183244, 0.00107126, 0.00098319, 0.00106277, 0.00110044, 0.00096622, 0.00099235, 0.00105519]),\n",
       " 'std_score_time': array([7.81320542e-04, 7.11301363e-05, 3.49158174e-04, 1.33760464e-04, 1.45644132e-04, 6.57889212e-04, 1.66570857e-04, 4.55566438e-05, 1.50106989e-04, 2.63261558e-04, 6.77955461e-05, 5.16814054e-05, 1.41284718e-04]),\n",
       " 'param_ridge_regression__alpha': masked_array(data=[0.01, 0.1, 10.0, 12.0, 15.0, 20.0, 30.0, 40.0, 80.0, 200.0, 300.0, 400.0, 500.0],\n",
       "              mask=[False, False, False, False, False, False, False, False, False, False, False, False, False],\n",
       "        fill_value=1e+20),\n",
       " 'params': [{'ridge_regression__alpha': 0.01},\n",
       "  {'ridge_regression__alpha': 0.1},\n",
       "  {'ridge_regression__alpha': 10},\n",
       "  {'ridge_regression__alpha': 12},\n",
       "  {'ridge_regression__alpha': 15},\n",
       "  {'ridge_regression__alpha': 20},\n",
       "  {'ridge_regression__alpha': 30},\n",
       "  {'ridge_regression__alpha': 40},\n",
       "  {'ridge_regression__alpha': 80},\n",
       "  {'ridge_regression__alpha': 200},\n",
       "  {'ridge_regression__alpha': 300},\n",
       "  {'ridge_regression__alpha': 400},\n",
       "  {'ridge_regression__alpha': 500}],\n",
       " 'split0_test_score': array([0.50788321, 0.50698424, 0.48802265, 0.48824034, 0.48896036, 0.49067148, 0.49461513, 0.49841147, 0.50896124, 0.50769062, 0.4890326 , 0.46492425, 0.43933816]),\n",
       " 'split1_test_score': array([0.46600104, 0.46654934, 0.46766614, 0.46633269, 0.46432659, 0.46102366, 0.4546257 , 0.44847614, 0.42572231, 0.36912517, 0.33099281, 0.2986755 , 0.27087239]),\n",
       " 'split2_test_score': array([0.60388778, 0.60360498, 0.59030084, 0.58891117, 0.58703112, 0.58421326, 0.57908996, 0.57418783, 0.55464229, 0.49745487, 0.45550083, 0.41923283, 0.38791871]),\n",
       " 'split3_test_score': array([0.00449354, 0.00556096, 0.03764359, 0.03993522, 0.04288143, 0.04703602, 0.05397494, 0.06000167, 0.0795725 , 0.11464697, 0.12881158, 0.1356814 , 0.13826525]),\n",
       " 'split4_test_score': array([0.24656825, 0.24695957, 0.26768297, 0.2708944 , 0.27547807, 0.2825956 , 0.29524699, 0.30617329, 0.33736401, 0.36831653, 0.36517499, 0.35323425, 0.33815167]),\n",
       " 'mean_test_score': array([0.36576677, 0.36593182, 0.37026324, 0.37086276, 0.37173551, 0.37310801, 0.37551055, 0.37745008, 0.38125247, 0.37144683, 0.35390256, 0.33434965, 0.31490924]),\n",
       " 'std_test_score': array([0.21525438, 0.21472296, 0.19643304, 0.19490707, 0.19291318, 0.19006904, 0.18531976, 0.18123795, 0.16810005, 0.14170515, 0.12641219, 0.11432692, 0.10439875]),\n",
       " 'rank_test_score': array([10,  9,  8,  7,  5,  4,  3,  2,  1,  6, 11, 12, 13], dtype=int32)}"
      ]
     },
     "execution_count": null,
     "metadata": {},
     "output_type": "execute_result"
    }
   ],
   "source": [
    "# Ridge regression and tune lambda with cross-validation\n",
    "\n",
    "degrees = {'ridge_regression__alpha': [0.01, 0.1, 10, 12, 15, 20, 30, 40, 80, 200, 300, 400, 500]} # coping degrees parameter from the original pipline setup\n",
    "\n",
    "gscv = GridSearchCV(ridge_pipeline_1, degrees, cv = 5, scoring='r2')\n",
    "\n",
    "gscv_fitted = gscv.fit(X, y)\n",
    "gscv_fitted.cv_results_"
   ]
  },
  {
   "cell_type": "code",
   "execution_count": 176,
   "metadata": {
    "vscode": {
     "languageId": "python"
    }
   },
   "outputs": [],
   "source": [
    "ridge_scores_3_df = pd.DataFrame(data = {\"degrees\": [0.01, 0.1, 10, 12, 15, 20, 30, 40, 80, 200, 300, 400, 500], \"scores_Ridge\": gscv_fitted.cv_results_['mean_test_score']})"
   ]
  },
  {
   "cell_type": "code",
   "execution_count": 177,
   "metadata": {
    "vscode": {
     "languageId": "python"
    }
   },
   "outputs": [
    {
     "data": {
      "text/html": [
       "<div>\n",
       "<style scoped>\n",
       "    .dataframe tbody tr th:only-of-type {\n",
       "        vertical-align: middle;\n",
       "    }\n",
       "\n",
       "    .dataframe tbody tr th {\n",
       "        vertical-align: top;\n",
       "    }\n",
       "\n",
       "    .dataframe thead th {\n",
       "        text-align: right;\n",
       "    }\n",
       "</style>\n",
       "<table border=\"1\" class=\"dataframe\">\n",
       "  <thead>\n",
       "    <tr style=\"text-align: right;\">\n",
       "      <th></th>\n",
       "      <th>degrees</th>\n",
       "      <th>scores_Ridge</th>\n",
       "    </tr>\n",
       "  </thead>\n",
       "  <tbody>\n",
       "    <tr>\n",
       "      <th>8</th>\n",
       "      <td>80.00</td>\n",
       "      <td>0.381252</td>\n",
       "    </tr>\n",
       "    <tr>\n",
       "      <th>7</th>\n",
       "      <td>40.00</td>\n",
       "      <td>0.377450</td>\n",
       "    </tr>\n",
       "    <tr>\n",
       "      <th>6</th>\n",
       "      <td>30.00</td>\n",
       "      <td>0.375511</td>\n",
       "    </tr>\n",
       "    <tr>\n",
       "      <th>5</th>\n",
       "      <td>20.00</td>\n",
       "      <td>0.373108</td>\n",
       "    </tr>\n",
       "    <tr>\n",
       "      <th>4</th>\n",
       "      <td>15.00</td>\n",
       "      <td>0.371736</td>\n",
       "    </tr>\n",
       "    <tr>\n",
       "      <th>9</th>\n",
       "      <td>200.00</td>\n",
       "      <td>0.371447</td>\n",
       "    </tr>\n",
       "    <tr>\n",
       "      <th>3</th>\n",
       "      <td>12.00</td>\n",
       "      <td>0.370863</td>\n",
       "    </tr>\n",
       "    <tr>\n",
       "      <th>2</th>\n",
       "      <td>10.00</td>\n",
       "      <td>0.370263</td>\n",
       "    </tr>\n",
       "    <tr>\n",
       "      <th>1</th>\n",
       "      <td>0.10</td>\n",
       "      <td>0.365932</td>\n",
       "    </tr>\n",
       "    <tr>\n",
       "      <th>0</th>\n",
       "      <td>0.01</td>\n",
       "      <td>0.365767</td>\n",
       "    </tr>\n",
       "    <tr>\n",
       "      <th>10</th>\n",
       "      <td>300.00</td>\n",
       "      <td>0.353903</td>\n",
       "    </tr>\n",
       "    <tr>\n",
       "      <th>11</th>\n",
       "      <td>400.00</td>\n",
       "      <td>0.334350</td>\n",
       "    </tr>\n",
       "    <tr>\n",
       "      <th>12</th>\n",
       "      <td>500.00</td>\n",
       "      <td>0.314909</td>\n",
       "    </tr>\n",
       "  </tbody>\n",
       "</table>\n",
       "</div>"
      ],
      "text/plain": [
       "    degrees  scores_Ridge\n",
       "8     80.00      0.381252\n",
       "7     40.00      0.377450\n",
       "6     30.00      0.375511\n",
       "5     20.00      0.373108\n",
       "4     15.00      0.371736\n",
       "9    200.00      0.371447\n",
       "3     12.00      0.370863\n",
       "2     10.00      0.370263\n",
       "1      0.10      0.365932\n",
       "0      0.01      0.365767\n",
       "10   300.00      0.353903\n",
       "11   400.00      0.334350\n",
       "12   500.00      0.314909"
      ]
     },
     "execution_count": null,
     "metadata": {},
     "output_type": "execute_result"
    }
   ],
   "source": [
    "ridge_scores_3_df.sort_values(by=['scores_Ridge'], ascending=False)"
   ]
  },
  {
   "cell_type": "markdown",
   "metadata": {},
   "source": [
    "Based on different degrees in tunning, lamda = 80 in Ridge regression yields the highest R-sqaured score for this model."
   ]
  },
  {
   "cell_type": "code",
   "execution_count": 178,
   "metadata": {
    "vscode": {
     "languageId": "python"
    }
   },
   "outputs": [
    {
     "data": {
      "text/plain": [
       "array([98.74266513, 73.2710492 , 82.61162563, 68.96007392, 52.82128211])"
      ]
     },
     "execution_count": null,
     "metadata": {},
     "output_type": "execute_result"
    }
   ],
   "source": [
    "# fit the pipeline with the highest lambda on full dataset\n",
    "ridge_pipeline_1.set_params(ridge_regression__alpha=80)\n",
    "ridge_fitted_3 = ridge_pipeline_1.fit(X, y)\n",
    "ridge_fitted_3.named_steps['ridge_regression'].coef_"
   ]
  },
  {
   "cell_type": "code",
   "execution_count": 179,
   "metadata": {
    "vscode": {
     "languageId": "python"
    }
   },
   "outputs": [
    {
     "data": {
      "text/html": [
       "<div>\n",
       "<style scoped>\n",
       "    .dataframe tbody tr th:only-of-type {\n",
       "        vertical-align: middle;\n",
       "    }\n",
       "\n",
       "    .dataframe tbody tr th {\n",
       "        vertical-align: top;\n",
       "    }\n",
       "\n",
       "    .dataframe thead th {\n",
       "        text-align: right;\n",
       "    }\n",
       "</style>\n",
       "<table border=\"1\" class=\"dataframe\">\n",
       "  <thead>\n",
       "    <tr style=\"text-align: right;\">\n",
       "      <th></th>\n",
       "      <th>Variable</th>\n",
       "      <th>Coef_Ridge</th>\n",
       "    </tr>\n",
       "  </thead>\n",
       "  <tbody>\n",
       "    <tr>\n",
       "      <th>0</th>\n",
       "      <td>standardize__Hits</td>\n",
       "      <td>98.742665</td>\n",
       "    </tr>\n",
       "    <tr>\n",
       "      <th>2</th>\n",
       "      <td>standardize__CRBI</td>\n",
       "      <td>82.611626</td>\n",
       "    </tr>\n",
       "    <tr>\n",
       "      <th>1</th>\n",
       "      <td>standardize__CRuns</td>\n",
       "      <td>73.271049</td>\n",
       "    </tr>\n",
       "    <tr>\n",
       "      <th>3</th>\n",
       "      <td>standardize__PutOuts</td>\n",
       "      <td>68.960074</td>\n",
       "    </tr>\n",
       "    <tr>\n",
       "      <th>4</th>\n",
       "      <td>standardize__CHits</td>\n",
       "      <td>52.821282</td>\n",
       "    </tr>\n",
       "  </tbody>\n",
       "</table>\n",
       "</div>"
      ],
      "text/plain": [
       "               Variable  Coef_Ridge\n",
       "0     standardize__Hits   98.742665\n",
       "2     standardize__CRBI   82.611626\n",
       "1    standardize__CRuns   73.271049\n",
       "3  standardize__PutOuts   68.960074\n",
       "4    standardize__CHits   52.821282"
      ]
     },
     "execution_count": null,
     "metadata": {},
     "output_type": "execute_result"
    }
   ],
   "source": [
    "# turn coefficients to a dataframe\n",
    "\n",
    "coef_df_Ridge_3 = pd.DataFrame({'Variable': beta_headers, 'Coef_Ridge': ridge_fitted_3.named_steps['ridge_regression'].coef_})\n",
    "coef_df_Ridge_3.sort_values(by=['Coef_Ridge'], ascending=False)"
   ]
  },
  {
   "cell_type": "code",
   "execution_count": 180,
   "metadata": {
    "vscode": {
     "languageId": "python"
    }
   },
   "outputs": [
    {
     "data": {
      "text/plain": [
       "np.float64(112223.39942811005)"
      ]
     },
     "execution_count": null,
     "metadata": {},
     "output_type": "execute_result"
    }
   ],
   "source": [
    "# MSE\n",
    "\n",
    "y_pred = ridge_fitted_3.predict(X)\n",
    "MSE_Ridge_3 = mean_squared_error(y, y_pred)\n",
    "MSE_Ridge_3"
   ]
  },
  {
   "cell_type": "code",
   "execution_count": 181,
   "metadata": {
    "vscode": {
     "languageId": "python"
    }
   },
   "outputs": [
    {
     "data": {
      "text/plain": [
       "0.44645076585223487"
      ]
     },
     "execution_count": null,
     "metadata": {},
     "output_type": "execute_result"
    }
   ],
   "source": [
    "# R-squared\n",
    "Rsq_Ridge_3 = r2_score(y, y_pred)\n",
    "Rsq_Ridge_3"
   ]
  },
  {
   "cell_type": "markdown",
   "metadata": {},
   "source": [
    "The MSE of this Ridge model prediction is 112223. The R-squared is 0.446 on full data or 0.381 during tuning for best 'lambda'."
   ]
  },
  {
   "cell_type": "markdown",
   "metadata": {},
   "source": [
    "## Lasso FS_2: \"Hits\", \"CRuns\", \"CRBI\", \"PutOuts\", \"CHits\""
   ]
  },
  {
   "cell_type": "code",
   "execution_count": 182,
   "metadata": {
    "vscode": {
     "languageId": "python"
    }
   },
   "outputs": [
    {
     "data": {
      "text/plain": [
       "{'mean_fit_time': array([0.00359907, 0.002075  , 0.00176301, 0.00181208, 0.0018681 , 0.00178123, 0.00184746, 0.00181499, 0.00176277, 0.0016798 , 0.00173006, 0.00168228, 0.00179338]),\n",
       " 'std_fit_time': array([1.26097162e-03, 3.83805112e-04, 1.20012496e-04, 1.05333382e-04, 1.89715139e-04, 1.27382118e-04, 1.22795929e-04, 1.16405961e-04, 9.65574170e-05, 2.80948148e-05, 4.36228083e-05, 4.37124714e-05, 1.37240577e-04]),\n",
       " 'mean_score_time': array([0.00152359, 0.00100999, 0.00113096, 0.00099874, 0.00100899, 0.00102644, 0.00105438, 0.00103316, 0.00097818, 0.00102029, 0.00100789, 0.00095634, 0.00105562]),\n",
       " 'std_score_time': array([4.50785558e-04, 4.68212813e-05, 2.18540905e-04, 4.60968620e-05, 4.17375540e-05, 7.39005914e-05, 6.02731599e-05, 1.13315874e-04, 3.78797230e-05, 7.17636913e-05, 5.05124745e-05, 3.12986118e-05, 9.84471396e-05]),\n",
       " 'param_lasso_regression__alpha': masked_array(data=[0.01, 0.1, 10.0, 12.0, 15.0, 20.0, 30.0, 40.0, 80.0, 200.0, 300.0, 400.0, 500.0],\n",
       "              mask=[False, False, False, False, False, False, False, False, False, False, False, False, False],\n",
       "        fill_value=1e+20),\n",
       " 'params': [{'lasso_regression__alpha': 0.01},\n",
       "  {'lasso_regression__alpha': 0.1},\n",
       "  {'lasso_regression__alpha': 10},\n",
       "  {'lasso_regression__alpha': 12},\n",
       "  {'lasso_regression__alpha': 15},\n",
       "  {'lasso_regression__alpha': 20},\n",
       "  {'lasso_regression__alpha': 30},\n",
       "  {'lasso_regression__alpha': 40},\n",
       "  {'lasso_regression__alpha': 80},\n",
       "  {'lasso_regression__alpha': 200},\n",
       "  {'lasso_regression__alpha': 300},\n",
       "  {'lasso_regression__alpha': 400},\n",
       "  {'lasso_regression__alpha': 500}],\n",
       " 'split0_test_score': array([ 0.50790659,  0.50590293,  0.50271694,  0.50556305,  0.50954129,  0.51539599,  0.52419648,  0.52911842,  0.51002075,  0.12837834, -0.09969416, -0.09969416, -0.09969416]),\n",
       " 'split1_test_score': array([ 0.46595295,  0.46609248,  0.4491842 ,  0.44530835,  0.43934918,  0.42902956,  0.40693246,  0.38290119,  0.26738141, -0.00655625, -0.09434666, -0.09434666, -0.09434666]),\n",
       " 'split2_test_score': array([ 0.60386309,  0.60335052,  0.57565361,  0.57159873,  0.56536385,  0.55456557,  0.53144344,  0.50628721,  0.40184785,  0.08384882, -0.00115599, -0.00115599, -0.00115599]),\n",
       " 'split3_test_score': array([ 0.00437097,  0.00532676,  0.03974203,  0.04258377,  0.04672672,  0.05331273,  0.06528896,  0.07567077,  0.10125397,  0.07182454, -0.00647822, -0.00647822, -0.00647822]),\n",
       " 'split4_test_score': array([ 0.24657097,  0.24712465,  0.27756244,  0.28193623,  0.28820948,  0.2978985 ,  0.31440257,  0.32707468,  0.3394434 ,  0.13429777, -0.01434855, -0.01434855, -0.01434855]),\n",
       " 'mean_test_score': array([ 0.36573291,  0.36555947,  0.36897185,  0.36939802,  0.36983811,  0.37004047,  0.36845278,  0.36421045,  0.32398948,  0.08235864, -0.04320472, -0.04320472, -0.04320472]),\n",
       " 'std_test_score': array([0.21528837, 0.21454238, 0.19172223, 0.18954975, 0.18635627, 0.18120617, 0.17154152, 0.16270464, 0.13691163, 0.05066465, 0.04417276, 0.04417276, 0.04417276]),\n",
       " 'rank_test_score': array([ 6,  7,  4,  3,  2,  1,  5,  8,  9, 10, 11, 11, 11], dtype=int32)}"
      ]
     },
     "execution_count": null,
     "metadata": {},
     "output_type": "execute_result"
    }
   ],
   "source": [
    "# Lasso regression and tune lambda with cross-validation\n",
    "\n",
    "degrees = {'lasso_regression__alpha': [0.01, 0.1, 10, 12, 15, 20, 30, 40, 80, 200, 300, 400, 500]}\n",
    "\n",
    "gscv = GridSearchCV(lasso_pipeline_1, degrees, cv = 5, scoring='r2')\n",
    "\n",
    "gscv_fitted = gscv.fit(X, y)\n",
    "gscv_fitted.cv_results_"
   ]
  },
  {
   "cell_type": "code",
   "execution_count": 183,
   "metadata": {
    "vscode": {
     "languageId": "python"
    }
   },
   "outputs": [],
   "source": [
    "lasso_scores_2_df = pd.DataFrame(data = {\"degrees\": [0.01, 0.1, 10, 12, 15, 20, 30, 40, 80, 200, 300, 400, 500], \"scores_Lasso\": gscv_fitted.cv_results_['mean_test_score']})"
   ]
  },
  {
   "cell_type": "code",
   "execution_count": 184,
   "metadata": {
    "vscode": {
     "languageId": "python"
    }
   },
   "outputs": [
    {
     "data": {
      "text/html": [
       "<div>\n",
       "<style scoped>\n",
       "    .dataframe tbody tr th:only-of-type {\n",
       "        vertical-align: middle;\n",
       "    }\n",
       "\n",
       "    .dataframe tbody tr th {\n",
       "        vertical-align: top;\n",
       "    }\n",
       "\n",
       "    .dataframe thead th {\n",
       "        text-align: right;\n",
       "    }\n",
       "</style>\n",
       "<table border=\"1\" class=\"dataframe\">\n",
       "  <thead>\n",
       "    <tr style=\"text-align: right;\">\n",
       "      <th></th>\n",
       "      <th>degrees</th>\n",
       "      <th>scores_Lasso</th>\n",
       "    </tr>\n",
       "  </thead>\n",
       "  <tbody>\n",
       "    <tr>\n",
       "      <th>5</th>\n",
       "      <td>20.00</td>\n",
       "      <td>0.370040</td>\n",
       "    </tr>\n",
       "    <tr>\n",
       "      <th>4</th>\n",
       "      <td>15.00</td>\n",
       "      <td>0.369838</td>\n",
       "    </tr>\n",
       "    <tr>\n",
       "      <th>3</th>\n",
       "      <td>12.00</td>\n",
       "      <td>0.369398</td>\n",
       "    </tr>\n",
       "    <tr>\n",
       "      <th>2</th>\n",
       "      <td>10.00</td>\n",
       "      <td>0.368972</td>\n",
       "    </tr>\n",
       "    <tr>\n",
       "      <th>6</th>\n",
       "      <td>30.00</td>\n",
       "      <td>0.368453</td>\n",
       "    </tr>\n",
       "    <tr>\n",
       "      <th>0</th>\n",
       "      <td>0.01</td>\n",
       "      <td>0.365733</td>\n",
       "    </tr>\n",
       "    <tr>\n",
       "      <th>1</th>\n",
       "      <td>0.10</td>\n",
       "      <td>0.365559</td>\n",
       "    </tr>\n",
       "    <tr>\n",
       "      <th>7</th>\n",
       "      <td>40.00</td>\n",
       "      <td>0.364210</td>\n",
       "    </tr>\n",
       "    <tr>\n",
       "      <th>8</th>\n",
       "      <td>80.00</td>\n",
       "      <td>0.323989</td>\n",
       "    </tr>\n",
       "    <tr>\n",
       "      <th>9</th>\n",
       "      <td>200.00</td>\n",
       "      <td>0.082359</td>\n",
       "    </tr>\n",
       "    <tr>\n",
       "      <th>10</th>\n",
       "      <td>300.00</td>\n",
       "      <td>-0.043205</td>\n",
       "    </tr>\n",
       "    <tr>\n",
       "      <th>11</th>\n",
       "      <td>400.00</td>\n",
       "      <td>-0.043205</td>\n",
       "    </tr>\n",
       "    <tr>\n",
       "      <th>12</th>\n",
       "      <td>500.00</td>\n",
       "      <td>-0.043205</td>\n",
       "    </tr>\n",
       "  </tbody>\n",
       "</table>\n",
       "</div>"
      ],
      "text/plain": [
       "    degrees  scores_Lasso\n",
       "5     20.00      0.370040\n",
       "4     15.00      0.369838\n",
       "3     12.00      0.369398\n",
       "2     10.00      0.368972\n",
       "6     30.00      0.368453\n",
       "0      0.01      0.365733\n",
       "1      0.10      0.365559\n",
       "7     40.00      0.364210\n",
       "8     80.00      0.323989\n",
       "9    200.00      0.082359\n",
       "10   300.00     -0.043205\n",
       "11   400.00     -0.043205\n",
       "12   500.00     -0.043205"
      ]
     },
     "execution_count": null,
     "metadata": {},
     "output_type": "execute_result"
    }
   ],
   "source": [
    "lasso_scores_2_df.sort_values(by=['scores_Lasso'], ascending=False)"
   ]
  },
  {
   "cell_type": "markdown",
   "metadata": {},
   "source": [
    "Based on different degrees in tunning, lamda = 20 in Lasso regression yields the highest R-sqaured score for this model."
   ]
  },
  {
   "cell_type": "code",
   "execution_count": 185,
   "metadata": {
    "vscode": {
     "languageId": "python"
    }
   },
   "outputs": [
    {
     "data": {
      "text/plain": [
       "array([110.12685466,  89.29600975, 120.42695534,  65.52871682,   0.        ])"
      ]
     },
     "execution_count": null,
     "metadata": {},
     "output_type": "execute_result"
    }
   ],
   "source": [
    "# fit the pipeline with the highest lambda on full dataset\n",
    "lasso_pipeline_1.set_params(lasso_regression__alpha=20)\n",
    "lasso_fitted_3 = lasso_pipeline_1.fit(X, y)\n",
    "lasso_fitted_3.named_steps['lasso_regression'].coef_"
   ]
  },
  {
   "cell_type": "code",
   "execution_count": 186,
   "metadata": {
    "vscode": {
     "languageId": "python"
    }
   },
   "outputs": [
    {
     "data": {
      "text/html": [
       "<div>\n",
       "<style scoped>\n",
       "    .dataframe tbody tr th:only-of-type {\n",
       "        vertical-align: middle;\n",
       "    }\n",
       "\n",
       "    .dataframe tbody tr th {\n",
       "        vertical-align: top;\n",
       "    }\n",
       "\n",
       "    .dataframe thead th {\n",
       "        text-align: right;\n",
       "    }\n",
       "</style>\n",
       "<table border=\"1\" class=\"dataframe\">\n",
       "  <thead>\n",
       "    <tr style=\"text-align: right;\">\n",
       "      <th></th>\n",
       "      <th>Variable</th>\n",
       "      <th>Coef_Lasso</th>\n",
       "    </tr>\n",
       "  </thead>\n",
       "  <tbody>\n",
       "    <tr>\n",
       "      <th>2</th>\n",
       "      <td>standardize__CRBI</td>\n",
       "      <td>120.426955</td>\n",
       "    </tr>\n",
       "    <tr>\n",
       "      <th>0</th>\n",
       "      <td>standardize__Hits</td>\n",
       "      <td>110.126855</td>\n",
       "    </tr>\n",
       "    <tr>\n",
       "      <th>1</th>\n",
       "      <td>standardize__CRuns</td>\n",
       "      <td>89.296010</td>\n",
       "    </tr>\n",
       "    <tr>\n",
       "      <th>3</th>\n",
       "      <td>standardize__PutOuts</td>\n",
       "      <td>65.528717</td>\n",
       "    </tr>\n",
       "    <tr>\n",
       "      <th>4</th>\n",
       "      <td>standardize__CHits</td>\n",
       "      <td>0.000000</td>\n",
       "    </tr>\n",
       "  </tbody>\n",
       "</table>\n",
       "</div>"
      ],
      "text/plain": [
       "               Variable  Coef_Lasso\n",
       "2     standardize__CRBI  120.426955\n",
       "0     standardize__Hits  110.126855\n",
       "1    standardize__CRuns   89.296010\n",
       "3  standardize__PutOuts   65.528717\n",
       "4    standardize__CHits    0.000000"
      ]
     },
     "execution_count": null,
     "metadata": {},
     "output_type": "execute_result"
    }
   ],
   "source": [
    "# turn coefficients to a dataframe\n",
    "\n",
    "coef_df_Lasso_3 = pd.DataFrame({'Variable': beta_headers, 'Coef_Lasso': lasso_fitted_3.named_steps['lasso_regression'].coef_})\n",
    "coef_df_Lasso_3.sort_values(by=['Coef_Lasso'], ascending=False)"
   ]
  },
  {
   "cell_type": "code",
   "execution_count": 187,
   "metadata": {
    "vscode": {
     "languageId": "python"
    }
   },
   "outputs": [
    {
     "data": {
      "text/plain": [
       "np.float64(111043.76902758019)"
      ]
     },
     "execution_count": null,
     "metadata": {},
     "output_type": "execute_result"
    }
   ],
   "source": [
    "# MSE\n",
    "\n",
    "y_pred = lasso_fitted_3.predict(X)\n",
    "MSE_Lasso_3 = mean_squared_error(y, y_pred)\n",
    "MSE_Lasso_3"
   ]
  },
  {
   "cell_type": "code",
   "execution_count": 188,
   "metadata": {
    "vscode": {
     "languageId": "python"
    }
   },
   "outputs": [
    {
     "data": {
      "text/plain": [
       "0.452269369709526"
      ]
     },
     "execution_count": null,
     "metadata": {},
     "output_type": "execute_result"
    }
   ],
   "source": [
    "# R-squared\n",
    "Rsq_Lasso_3 = r2_score(y, y_pred)\n",
    "Rsq_Lasso_3"
   ]
  },
  {
   "cell_type": "markdown",
   "metadata": {},
   "source": [
    "The MSE of this Lasso model prediction is 111043. The R-squared is 0.452 on full data or 0.37 during tuning for best 'lambda'."
   ]
  },
  {
   "cell_type": "markdown",
   "metadata": {},
   "source": [
    "## Elastic Net FS_2: \"Hits\", \"CRuns\", \"CRBI\", \"PutOuts\", \"CHits\""
   ]
  },
  {
   "cell_type": "code",
   "execution_count": 189,
   "metadata": {
    "vscode": {
     "languageId": "python"
    }
   },
   "outputs": [
    {
     "data": {
      "text/plain": [
       "{'mean_fit_time': array([0.00432391, 0.00238023, 0.00207739, 0.00186033, 0.00190039, 0.0019073 , 0.0017983 , 0.00178118, 0.0017518 , 0.00173616, 0.00171709, 0.00183907, 0.00182104, 0.00177102, 0.00176392, 0.00174613, 0.00170994, 0.00171967, 0.00185676, 0.00174379, 0.00170455, 0.00169315, 0.00168533,\n",
       "        0.00170441, 0.0016377 , 0.00173993, 0.00182638, 0.0017035 , 0.00168166, 0.00166645, 0.00170379, 0.0016686 , 0.00170798, 0.00175266, 0.00169387, 0.00169168, 0.00168734, 0.00164332, 0.0016614 , 0.0017118 , 0.00169644, 0.00168381, 0.00166545, 0.00163755, 0.00166535, 0.0016592 ,\n",
       "        0.00182409, 0.00168266, 0.00170975, 0.00203929, 0.00198636, 0.0020443 , 0.00206518, 0.00186853, 0.00189466, 0.00206718, 0.00193644, 0.00184612, 0.0021275 , 0.0019381 , 0.00186806, 0.00185285, 0.00186148, 0.00227199, 0.00207782, 0.00198402, 0.00180688, 0.00163007, 0.00176854,\n",
       "        0.00169291, 0.00179672, 0.00168185, 0.00164657, 0.00163164, 0.00162859, 0.00173483, 0.00165567, 0.00176239, 0.00169897, 0.00165277, 0.00168872, 0.00163083, 0.00166407, 0.00163813, 0.00170617, 0.00166931, 0.00165901, 0.00167499]),\n",
       " 'std_fit_time': array([1.98017376e-03, 1.19597623e-04, 1.06183766e-04, 2.56032693e-05, 1.51799774e-04, 1.41783935e-04, 5.71505994e-05, 5.90511178e-05, 4.13257464e-05, 2.60821644e-05, 2.66726357e-05, 2.03268002e-04, 1.24171271e-04, 6.46054346e-05, 8.89027812e-05, 7.06978267e-05, 4.15893860e-05,\n",
       "        2.23317661e-05, 1.65077856e-04, 3.39981884e-05, 2.80814581e-05, 2.62332386e-05, 2.68613845e-05, 4.05107896e-05, 2.83856318e-05, 7.09256444e-05, 7.50741605e-05, 4.82409816e-05, 6.78984301e-05, 2.30616710e-05, 5.04182637e-05, 5.02045447e-05, 7.10204727e-05, 1.46316486e-04,\n",
       "        5.35873748e-05, 5.40316891e-05, 4.13845209e-05, 2.66865271e-05, 5.15323104e-05, 8.38919603e-05, 7.97149373e-05, 7.70115778e-05, 7.15108856e-05, 2.41482126e-05, 5.12598836e-05, 2.46577838e-05, 3.24425558e-04, 2.80502675e-05, 9.58572445e-05, 2.74750310e-04, 3.41554652e-04,\n",
       "        3.51838510e-04, 4.92977468e-04, 2.05567889e-04, 2.05205717e-04, 2.77185264e-04, 2.70454873e-04, 1.98605647e-04, 6.56468707e-04, 1.59973501e-04, 1.75934716e-04, 9.38953511e-05, 1.83919040e-04, 8.17590303e-04, 4.09270252e-04, 3.73042378e-04, 1.98197788e-04, 1.23177292e-05,\n",
       "        1.21788112e-04, 5.06428450e-05, 2.14262414e-04, 3.48275280e-05, 1.56975777e-05, 4.78761129e-05, 1.70227526e-05, 9.59671476e-05, 2.88589317e-05, 1.56109160e-04, 6.02145462e-05, 1.91925623e-05, 6.41958129e-05, 1.32337561e-05, 3.96820777e-05, 1.55279149e-05, 1.25966479e-04,\n",
       "        4.62508938e-05, 5.75425303e-05, 5.48606487e-05]),\n",
       " 'mean_score_time': array([0.00221829, 0.00122619, 0.00107484, 0.0010282 , 0.0009912 , 0.0010231 , 0.00095644, 0.00095706, 0.00093627, 0.00099721, 0.00093856, 0.00098295, 0.00097899, 0.00097995, 0.0009645 , 0.00096049, 0.00095639, 0.00096607, 0.00098701, 0.00095181, 0.0009779 , 0.00091834, 0.00094271,\n",
       "        0.00094094, 0.00092721, 0.00100236, 0.00108805, 0.00094366, 0.00095434, 0.000951  , 0.00094738, 0.00096178, 0.00094857, 0.00098991, 0.00095277, 0.00095205, 0.00095806, 0.00097804, 0.00096359, 0.00097699, 0.00096059, 0.00095577, 0.00093479, 0.0009254 , 0.00097327, 0.00093827,\n",
       "        0.00098701, 0.00097313, 0.00097561, 0.00108199, 0.00105438, 0.00105486, 0.00112467, 0.00111666, 0.00113597, 0.00108976, 0.00105715, 0.00108886, 0.00125885, 0.00112257, 0.00115643, 0.00117898, 0.00115609, 0.00118327, 0.00112262, 0.00113182, 0.0009552 , 0.0009584 , 0.00096989,\n",
       "        0.00099735, 0.00098648, 0.00098038, 0.00093322, 0.00092292, 0.0009335 , 0.00094233, 0.00096407, 0.00097899, 0.00095482, 0.00094218, 0.00094914, 0.00093102, 0.00093431, 0.00095606, 0.00097184, 0.00093069, 0.00096803, 0.00093541]),\n",
       " 'std_score_time': array([1.00743583e-03, 7.53115950e-05, 6.25601265e-05, 7.44737518e-05, 7.39499875e-05, 5.46167791e-05, 1.95384571e-05, 4.12527256e-05, 1.71641508e-05, 1.22662001e-04, 1.56926522e-05, 3.73626789e-05, 5.55676736e-05, 2.95548271e-05, 6.65509239e-05, 4.80259535e-05, 2.55860351e-05,\n",
       "        4.87664791e-05, 5.13014293e-05, 2.41391718e-05, 5.56024842e-05, 3.15722377e-06, 1.75369790e-05, 1.76394949e-05, 1.01835717e-05, 7.10694392e-05, 2.05966199e-04, 8.64509844e-06, 2.05501879e-05, 1.66343055e-05, 8.62218632e-06, 3.08889649e-05, 3.89224738e-05, 6.02983165e-05,\n",
       "        1.94298124e-05, 3.96616741e-05, 4.35917843e-05, 6.65503772e-05, 7.42332394e-05, 4.35311847e-05, 2.47712200e-05, 2.97664044e-05, 9.08421718e-06, 3.79856992e-06, 7.10884726e-05, 1.30173924e-05, 6.42838390e-05, 6.01783985e-05, 6.09257209e-05, 5.89127243e-05, 8.95902789e-05,\n",
       "        7.90453922e-05, 2.25058471e-04, 2.01590915e-04, 2.21644026e-04, 1.04987631e-04, 1.56108286e-04, 2.03020833e-04, 4.76729357e-04, 2.14490640e-04, 2.60141596e-04, 2.90312348e-04, 2.60041517e-04, 2.43024585e-04, 1.84491347e-04, 1.22828791e-04, 3.01784056e-05, 5.98510228e-05,\n",
       "        3.03296172e-05, 5.97991440e-05, 5.95068320e-05, 3.60978642e-05, 7.15795949e-06, 6.38677050e-06, 9.53865032e-06, 1.97819043e-05, 5.41315405e-05, 5.24465385e-05, 2.62604401e-05, 2.77343019e-05, 1.65970843e-05, 3.85029397e-06, 7.57465994e-06, 5.23470781e-05, 3.66673203e-05,\n",
       "        9.39816886e-06, 4.54101717e-05, 3.60193586e-06]),\n",
       " 'param_elasticnet_regression__alpha': masked_array(data=[0.01, 0.01, 0.01, 0.01, 0.01, 0.01, 0.01, 0.01, 0.02, 0.02, 0.02, 0.02, 0.02, 0.02, 0.02, 0.02, 0.1, 0.1, 0.1, 0.1, 0.1, 0.1, 0.1, 0.1, 10.0, 10.0, 10.0, 10.0, 10.0, 10.0, 10.0, 10.0, 12.0, 12.0, 12.0, 12.0, 12.0, 12.0, 12.0, 12.0, 15.0, 15.0, 15.0, 15.0, 15.0, 15.0,\n",
       "                    15.0, 15.0, 20.0, 20.0, 20.0, 20.0, 20.0, 20.0, 20.0, 20.0, 30.0, 30.0, 30.0, 30.0, 30.0, 30.0, 30.0, 30.0, 40.0, 40.0, 40.0, 40.0, 40.0, 40.0, 40.0, 40.0, 80.0, 80.0, 80.0, 80.0, 80.0, 80.0, 80.0, 80.0, 200.0, 200.0, 200.0, 200.0, 200.0, 200.0, 200.0, 200.0],\n",
       "              mask=[False, False, False, False, False, False, False, False, False, False, False, False, False, False, False, False, False, False, False, False, False, False, False, False, False, False, False, False, False, False, False, False, False, False, False, False, False, False,\n",
       "                    False, False, False, False, False, False, False, False, False, False, False, False, False, False, False, False, False, False, False, False, False, False, False, False, False, False, False, False, False, False, False, False, False, False, False, False, False, False,\n",
       "                    False, False, False, False, False, False, False, False, False, False, False, False],\n",
       "        fill_value=1e+20),\n",
       " 'param_elasticnet_regression__l1_ratio': masked_array(data=[0.01, 0.1, 0.15, 0.2, 0.3, 0.5, 0.7, 0.8, 0.01, 0.1, 0.15, 0.2, 0.3, 0.5, 0.7, 0.8, 0.01, 0.1, 0.15, 0.2, 0.3, 0.5, 0.7, 0.8, 0.01, 0.1, 0.15, 0.2, 0.3, 0.5, 0.7, 0.8, 0.01, 0.1, 0.15, 0.2, 0.3, 0.5, 0.7, 0.8, 0.01, 0.1, 0.15, 0.2, 0.3, 0.5, 0.7, 0.8, 0.01, 0.1, 0.15,\n",
       "                    0.2, 0.3, 0.5, 0.7, 0.8, 0.01, 0.1, 0.15, 0.2, 0.3, 0.5, 0.7, 0.8, 0.01, 0.1, 0.15, 0.2, 0.3, 0.5, 0.7, 0.8, 0.01, 0.1, 0.15, 0.2, 0.3, 0.5, 0.7, 0.8, 0.01, 0.1, 0.15, 0.2, 0.3, 0.5, 0.7, 0.8],\n",
       "              mask=[False, False, False, False, False, False, False, False, False, False, False, False, False, False, False, False, False, False, False, False, False, False, False, False, False, False, False, False, False, False, False, False, False, False, False, False, False, False,\n",
       "                    False, False, False, False, False, False, False, False, False, False, False, False, False, False, False, False, False, False, False, False, False, False, False, False, False, False, False, False, False, False, False, False, False, False, False, False, False, False,\n",
       "                    False, False, False, False, False, False, False, False, False, False, False, False],\n",
       "        fill_value=1e+20),\n",
       " 'params': [{'elasticnet_regression__alpha': 0.01,\n",
       "   'elasticnet_regression__l1_ratio': 0.01},\n",
       "  {'elasticnet_regression__alpha': 0.01,\n",
       "   'elasticnet_regression__l1_ratio': 0.1},\n",
       "  {'elasticnet_regression__alpha': 0.01,\n",
       "   'elasticnet_regression__l1_ratio': 0.15},\n",
       "  {'elasticnet_regression__alpha': 0.01,\n",
       "   'elasticnet_regression__l1_ratio': 0.2},\n",
       "  {'elasticnet_regression__alpha': 0.01,\n",
       "   'elasticnet_regression__l1_ratio': 0.3},\n",
       "  {'elasticnet_regression__alpha': 0.01,\n",
       "   'elasticnet_regression__l1_ratio': 0.5},\n",
       "  {'elasticnet_regression__alpha': 0.01,\n",
       "   'elasticnet_regression__l1_ratio': 0.7},\n",
       "  {'elasticnet_regression__alpha': 0.01,\n",
       "   'elasticnet_regression__l1_ratio': 0.8},\n",
       "  {'elasticnet_regression__alpha': 0.02,\n",
       "   'elasticnet_regression__l1_ratio': 0.01},\n",
       "  {'elasticnet_regression__alpha': 0.02,\n",
       "   'elasticnet_regression__l1_ratio': 0.1},\n",
       "  {'elasticnet_regression__alpha': 0.02,\n",
       "   'elasticnet_regression__l1_ratio': 0.15},\n",
       "  {'elasticnet_regression__alpha': 0.02,\n",
       "   'elasticnet_regression__l1_ratio': 0.2},\n",
       "  {'elasticnet_regression__alpha': 0.02,\n",
       "   'elasticnet_regression__l1_ratio': 0.3},\n",
       "  {'elasticnet_regression__alpha': 0.02,\n",
       "   'elasticnet_regression__l1_ratio': 0.5},\n",
       "  {'elasticnet_regression__alpha': 0.02,\n",
       "   'elasticnet_regression__l1_ratio': 0.7},\n",
       "  {'elasticnet_regression__alpha': 0.02,\n",
       "   'elasticnet_regression__l1_ratio': 0.8},\n",
       "  {'elasticnet_regression__alpha': 0.1,\n",
       "   'elasticnet_regression__l1_ratio': 0.01},\n",
       "  {'elasticnet_regression__alpha': 0.1,\n",
       "   'elasticnet_regression__l1_ratio': 0.1},\n",
       "  {'elasticnet_regression__alpha': 0.1,\n",
       "   'elasticnet_regression__l1_ratio': 0.15},\n",
       "  {'elasticnet_regression__alpha': 0.1,\n",
       "   'elasticnet_regression__l1_ratio': 0.2},\n",
       "  {'elasticnet_regression__alpha': 0.1,\n",
       "   'elasticnet_regression__l1_ratio': 0.3},\n",
       "  {'elasticnet_regression__alpha': 0.1,\n",
       "   'elasticnet_regression__l1_ratio': 0.5},\n",
       "  {'elasticnet_regression__alpha': 0.1,\n",
       "   'elasticnet_regression__l1_ratio': 0.7},\n",
       "  {'elasticnet_regression__alpha': 0.1,\n",
       "   'elasticnet_regression__l1_ratio': 0.8},\n",
       "  {'elasticnet_regression__alpha': 10,\n",
       "   'elasticnet_regression__l1_ratio': 0.01},\n",
       "  {'elasticnet_regression__alpha': 10, 'elasticnet_regression__l1_ratio': 0.1},\n",
       "  {'elasticnet_regression__alpha': 10,\n",
       "   'elasticnet_regression__l1_ratio': 0.15},\n",
       "  {'elasticnet_regression__alpha': 10, 'elasticnet_regression__l1_ratio': 0.2},\n",
       "  {'elasticnet_regression__alpha': 10, 'elasticnet_regression__l1_ratio': 0.3},\n",
       "  {'elasticnet_regression__alpha': 10, 'elasticnet_regression__l1_ratio': 0.5},\n",
       "  {'elasticnet_regression__alpha': 10, 'elasticnet_regression__l1_ratio': 0.7},\n",
       "  {'elasticnet_regression__alpha': 10, 'elasticnet_regression__l1_ratio': 0.8},\n",
       "  {'elasticnet_regression__alpha': 12,\n",
       "   'elasticnet_regression__l1_ratio': 0.01},\n",
       "  {'elasticnet_regression__alpha': 12, 'elasticnet_regression__l1_ratio': 0.1},\n",
       "  {'elasticnet_regression__alpha': 12,\n",
       "   'elasticnet_regression__l1_ratio': 0.15},\n",
       "  {'elasticnet_regression__alpha': 12, 'elasticnet_regression__l1_ratio': 0.2},\n",
       "  {'elasticnet_regression__alpha': 12, 'elasticnet_regression__l1_ratio': 0.3},\n",
       "  {'elasticnet_regression__alpha': 12, 'elasticnet_regression__l1_ratio': 0.5},\n",
       "  {'elasticnet_regression__alpha': 12, 'elasticnet_regression__l1_ratio': 0.7},\n",
       "  {'elasticnet_regression__alpha': 12, 'elasticnet_regression__l1_ratio': 0.8},\n",
       "  {'elasticnet_regression__alpha': 15,\n",
       "   'elasticnet_regression__l1_ratio': 0.01},\n",
       "  {'elasticnet_regression__alpha': 15, 'elasticnet_regression__l1_ratio': 0.1},\n",
       "  {'elasticnet_regression__alpha': 15,\n",
       "   'elasticnet_regression__l1_ratio': 0.15},\n",
       "  {'elasticnet_regression__alpha': 15, 'elasticnet_regression__l1_ratio': 0.2},\n",
       "  {'elasticnet_regression__alpha': 15, 'elasticnet_regression__l1_ratio': 0.3},\n",
       "  {'elasticnet_regression__alpha': 15, 'elasticnet_regression__l1_ratio': 0.5},\n",
       "  {'elasticnet_regression__alpha': 15, 'elasticnet_regression__l1_ratio': 0.7},\n",
       "  {'elasticnet_regression__alpha': 15, 'elasticnet_regression__l1_ratio': 0.8},\n",
       "  {'elasticnet_regression__alpha': 20,\n",
       "   'elasticnet_regression__l1_ratio': 0.01},\n",
       "  {'elasticnet_regression__alpha': 20, 'elasticnet_regression__l1_ratio': 0.1},\n",
       "  {'elasticnet_regression__alpha': 20,\n",
       "   'elasticnet_regression__l1_ratio': 0.15},\n",
       "  {'elasticnet_regression__alpha': 20, 'elasticnet_regression__l1_ratio': 0.2},\n",
       "  {'elasticnet_regression__alpha': 20, 'elasticnet_regression__l1_ratio': 0.3},\n",
       "  {'elasticnet_regression__alpha': 20, 'elasticnet_regression__l1_ratio': 0.5},\n",
       "  {'elasticnet_regression__alpha': 20, 'elasticnet_regression__l1_ratio': 0.7},\n",
       "  {'elasticnet_regression__alpha': 20, 'elasticnet_regression__l1_ratio': 0.8},\n",
       "  {'elasticnet_regression__alpha': 30,\n",
       "   'elasticnet_regression__l1_ratio': 0.01},\n",
       "  {'elasticnet_regression__alpha': 30, 'elasticnet_regression__l1_ratio': 0.1},\n",
       "  {'elasticnet_regression__alpha': 30,\n",
       "   'elasticnet_regression__l1_ratio': 0.15},\n",
       "  {'elasticnet_regression__alpha': 30, 'elasticnet_regression__l1_ratio': 0.2},\n",
       "  {'elasticnet_regression__alpha': 30, 'elasticnet_regression__l1_ratio': 0.3},\n",
       "  {'elasticnet_regression__alpha': 30, 'elasticnet_regression__l1_ratio': 0.5},\n",
       "  {'elasticnet_regression__alpha': 30, 'elasticnet_regression__l1_ratio': 0.7},\n",
       "  {'elasticnet_regression__alpha': 30, 'elasticnet_regression__l1_ratio': 0.8},\n",
       "  {'elasticnet_regression__alpha': 40,\n",
       "   'elasticnet_regression__l1_ratio': 0.01},\n",
       "  {'elasticnet_regression__alpha': 40, 'elasticnet_regression__l1_ratio': 0.1},\n",
       "  {'elasticnet_regression__alpha': 40,\n",
       "   'elasticnet_regression__l1_ratio': 0.15},\n",
       "  {'elasticnet_regression__alpha': 40, 'elasticnet_regression__l1_ratio': 0.2},\n",
       "  {'elasticnet_regression__alpha': 40, 'elasticnet_regression__l1_ratio': 0.3},\n",
       "  {'elasticnet_regression__alpha': 40, 'elasticnet_regression__l1_ratio': 0.5},\n",
       "  {'elasticnet_regression__alpha': 40, 'elasticnet_regression__l1_ratio': 0.7},\n",
       "  {'elasticnet_regression__alpha': 40, 'elasticnet_regression__l1_ratio': 0.8},\n",
       "  {'elasticnet_regression__alpha': 80,\n",
       "   'elasticnet_regression__l1_ratio': 0.01},\n",
       "  {'elasticnet_regression__alpha': 80, 'elasticnet_regression__l1_ratio': 0.1},\n",
       "  {'elasticnet_regression__alpha': 80,\n",
       "   'elasticnet_regression__l1_ratio': 0.15},\n",
       "  {'elasticnet_regression__alpha': 80, 'elasticnet_regression__l1_ratio': 0.2},\n",
       "  {'elasticnet_regression__alpha': 80, 'elasticnet_regression__l1_ratio': 0.3},\n",
       "  {'elasticnet_regression__alpha': 80, 'elasticnet_regression__l1_ratio': 0.5},\n",
       "  {'elasticnet_regression__alpha': 80, 'elasticnet_regression__l1_ratio': 0.7},\n",
       "  {'elasticnet_regression__alpha': 80, 'elasticnet_regression__l1_ratio': 0.8},\n",
       "  {'elasticnet_regression__alpha': 200,\n",
       "   'elasticnet_regression__l1_ratio': 0.01},\n",
       "  {'elasticnet_regression__alpha': 200,\n",
       "   'elasticnet_regression__l1_ratio': 0.1},\n",
       "  {'elasticnet_regression__alpha': 200,\n",
       "   'elasticnet_regression__l1_ratio': 0.15},\n",
       "  {'elasticnet_regression__alpha': 200,\n",
       "   'elasticnet_regression__l1_ratio': 0.2},\n",
       "  {'elasticnet_regression__alpha': 200,\n",
       "   'elasticnet_regression__l1_ratio': 0.3},\n",
       "  {'elasticnet_regression__alpha': 200,\n",
       "   'elasticnet_regression__l1_ratio': 0.5},\n",
       "  {'elasticnet_regression__alpha': 200,\n",
       "   'elasticnet_regression__l1_ratio': 0.7},\n",
       "  {'elasticnet_regression__alpha': 200,\n",
       "   'elasticnet_regression__l1_ratio': 0.8}],\n",
       " 'split0_test_score': array([ 0.49539156,  0.4960602 ,  0.49645804,  0.49687621,  0.49778034,  0.49990302,  0.5025533 ,  0.50412424,  0.4907503 ,  0.49133203,  0.49166068,  0.49204571,  0.49292992,  0.49524808,  0.49866018,  0.50099285,  0.49097278,  0.49027945,  0.48991117,  0.48955928,  0.48892324,\n",
       "         0.48813466,  0.48892124,  0.49086138,  0.18413643,  0.20112891,  0.21150562,  0.22263895,  0.24750439,  0.31052243,  0.39779053,  0.45112454,  0.15112625,  0.16708923,  0.17691488,  0.18752465,  0.21148471,  0.27401751,  0.36601226,  0.42679924,  0.11367339,  0.12807562,\n",
       "         0.13701671,  0.14673841,  0.16895962,  0.22886472,  0.32318577,  0.39121465,  0.07097247,  0.08310683,  0.09071012,  0.09903987,  0.11833303,  0.17225763,  0.26400634,  0.33722644,  0.02202862,  0.0309495 ,  0.03659592,  0.04283317,  0.05749242,  0.10016615,  0.17962638,\n",
       "         0.25119134, -0.00516056,  0.00170117,  0.00606774,  0.01091269,  0.02239001,  0.05655692,  0.12351719,  0.18824294, -0.04984944, -0.04678474, -0.04481768, -0.0426196 , -0.03734594, -0.0210626 ,  0.01372515,  0.05177709, -0.07917125, -0.07887033, -0.07867617, -0.07845827,\n",
       "        -0.07793138, -0.0762669 , -0.07250674, -0.06797054]),\n",
       " 'split1_test_score': array([ 0.47109275,  0.47097382,  0.47089265,  0.47079939,  0.47057164,  0.46990732,  0.46884529,  0.46809852,  0.47105581,  0.47117334,  0.47122333,  0.47126116,  0.47129152,  0.47108264,  0.47026615,  0.46943097,  0.46050635,  0.46172695,  0.4624095 ,  0.46309507,  0.46447452,\n",
       "         0.46724814,  0.46981367,  0.4708301 ,  0.07682945,  0.08775756,  0.0944988 ,  0.10179282,  0.11833316,  0.16215777,  0.23004533,  0.28010351,  0.05568397,  0.0657011 ,  0.07191785,  0.07867691,  0.09413109,  0.13595374,  0.20336822,  0.25520955,  0.03220124,  0.0410134 ,\n",
       "         0.04651909,  0.05253738,  0.06642635,  0.10493923,  0.17003932,  0.22280504,  0.00598823,  0.0132142 ,  0.01776266,  0.02276473,  0.0344305 ,  0.06770338,  0.12727425,  0.17891995, -0.02343738, -0.01829578, -0.01503228, -0.01141884, -0.00289022,  0.02224858,  0.07054778,\n",
       "         0.11628567, -0.03953632, -0.03567125, -0.03320687, -0.03046806, -0.02396098, -0.00442189,  0.03470951,  0.07385683, -0.06566151, -0.06407304, -0.06305285, -0.06191222, -0.05917301, -0.05069126, -0.03244288, -0.01226398, -0.08259914, -0.08262225, -0.08263728, -0.08265427,\n",
       "        -0.08269585, -0.08283199, -0.08215395, -0.08101385]),\n",
       " 'split2_test_score': array([0.59889887, 0.59925342, 0.59945709, 0.59966557, 0.60009835, 0.60103303, 0.6020772 , 0.60263852, 0.59575087, 0.59624212, 0.59652808, 0.5968241 , 0.59744819, 0.59885016, 0.60053124, 0.60151427, 0.58378875, 0.58479161, 0.58536249, 0.58594527, 0.58715553, 0.58984793, 0.59314419,\n",
       "        0.59538657, 0.17525753, 0.18688135, 0.19407504, 0.20187876, 0.21965311, 0.26727523, 0.34248008, 0.39872443, 0.1529251 , 0.16350041, 0.17008292, 0.17725663, 0.19372603, 0.23877242, 0.31283624, 0.37082362, 0.12831423, 0.13754193, 0.14332201, 0.14965337, 0.1643177 , 0.20537559,\n",
       "        0.27612916, 0.33465883, 0.10107032, 0.10857069, 0.11330165, 0.11851322, 0.13070375, 0.16575871, 0.22961952, 0.28614534, 0.07076292, 0.07605   , 0.07941075, 0.08313634, 0.09194853, 0.11808057, 0.16897743, 0.2180537 , 0.05430009, 0.05825575, 0.06078069, 0.06358939, 0.07027349,\n",
       "        0.0904387 , 0.13126791, 0.17273821, 0.02775571, 0.02937245, 0.03041135, 0.03157338, 0.03436622, 0.04303386, 0.06178657, 0.08269589, 0.01065577, 0.01063983, 0.01062941, 0.0106176 , 0.01058852, 0.01049169, 0.01172007, 0.01324058]),\n",
       " 'split3_test_score': array([0.01998418, 0.01906327, 0.01852557, 0.01796626, 0.01678071, 0.01408746, 0.01083544, 0.00893355, 0.02736201, 0.02629958, 0.02566914, 0.02498626, 0.02353723, 0.02008023, 0.0155204 , 0.01259012, 0.04771235, 0.04626523, 0.0454269 , 0.04455943, 0.04271785, 0.03840497, 0.03235291,\n",
       "        0.02773637, 0.0929398 , 0.09784475, 0.1007568 , 0.10380733, 0.11032561, 0.12470647, 0.13734923, 0.13753546, 0.08302082, 0.08791733, 0.09086554, 0.0939903 , 0.10080976, 0.116834  , 0.134051  , 0.13853438, 0.07113241, 0.07581566, 0.07867518, 0.08174127, 0.08857307, 0.10562434,\n",
       "        0.1272551 , 0.13685422, 0.05684878, 0.06102583, 0.06361264, 0.06641891, 0.0728037 , 0.0897219 , 0.11468349, 0.12984483, 0.03963214, 0.04288599, 0.04493055, 0.04717536, 0.0523934 , 0.06709455, 0.09225406, 0.11185088, 0.02971668, 0.03230008, 0.03393554, 0.03574232, 0.03998895,\n",
       "        0.05234026, 0.07515506, 0.09515284, 0.01292424, 0.01416217, 0.01495498, 0.01583927, 0.0179538 , 0.02441878, 0.03789297, 0.05206765, 0.00159568, 0.00178688, 0.00191021, 0.00204859, 0.00238306, 0.00343831, 0.00581467, 0.00864969]),\n",
       " 'split4_test_score': array([ 0.25289261,  0.25244475,  0.2521903 ,  0.25193143,  0.25139853,  0.25025705,  0.24897182,  0.24825118,  0.25733014,  0.25658037,  0.25615673,  0.25572726,  0.25484849,  0.25298472,  0.25088803,  0.24968532,  0.28380287,  0.28122687,  0.27976102,  0.27826914,  0.27520279,\n",
       "         0.26875619,  0.26164021,  0.25773126,  0.1701836 ,  0.18138593,  0.18823495,  0.1955899 ,  0.21203872,  0.25381036,  0.31124835,  0.3446244 ,  0.14847154,  0.15896269,  0.16542814,  0.17241614,  0.18822137,  0.22960356,  0.29047837,  0.32971538,  0.12391957,  0.13335024,\n",
       "         0.13921156,  0.14559042,  0.16019303,  0.19970571,  0.26218964,  0.3069173 ,  0.09603454,  0.10394662,  0.10890899,  0.1143497 ,  0.12696829,  0.1623627 ,  0.22296466,  0.27145776,  0.06420997,  0.06999891,  0.07366547,  0.07771797,  0.08725187,  0.1150822 ,  0.1672113 ,\n",
       "         0.21447072,  0.04659183,  0.05103283,  0.05386037,  0.05699901,  0.06443981,  0.08663793,  0.13035499,  0.17288205,  0.01772427,  0.01969871,  0.02096626,  0.02238293,  0.02578293,  0.03629095,  0.058792  ,  0.08348824, -0.00115852, -0.00096709, -0.00084358, -0.00070499,\n",
       "        -0.00036993,  0.00068797,  0.00307453,  0.00597086]),\n",
       " 'mean_test_score': array([ 0.367652  ,  0.36755909,  0.36750473,  0.36744777,  0.36732591,  0.36703758,  0.36665661,  0.3664092 ,  0.36844982,  0.36832549,  0.36824759,  0.36816889,  0.36801107,  0.36764917,  0.3671732 ,  0.36684271,  0.37335662,  0.37285802,  0.37257422,  0.37228564,  0.37169478,\n",
       "         0.37047838,  0.36917444,  0.36850914,  0.13986936,  0.1509997 ,  0.15781424,  0.16514155,  0.181571  ,  0.22369446,  0.2837827 ,  0.32242247,  0.11824554,  0.12863415,  0.13504187,  0.14197293,  0.15767459,  0.19903624,  0.26134922,  0.30421643,  0.09384817,  0.10315937,\n",
       "         0.10894891,  0.11525217,  0.12969395,  0.16890192,  0.2317598 ,  0.27849001,  0.06618287,  0.07397284,  0.07885921,  0.08421729,  0.09664786,  0.13156086,  0.19170965,  0.24071886,  0.03463925,  0.04031772,  0.04391408,  0.0478888 ,  0.0572392 ,  0.08453441,  0.13572339,\n",
       "         0.18237046,  0.01718235,  0.02152372,  0.0242875 ,  0.02735507,  0.03462626,  0.05631039,  0.09900093,  0.14057457, -0.01142134, -0.00952489, -0.00830759, -0.00694725, -0.0036832 ,  0.00639794,  0.02795076,  0.05155298, -0.03013549, -0.03000659, -0.02992348, -0.02983027,\n",
       "        -0.02960512, -0.02889618, -0.02681028, -0.02422465]),\n",
       " 'std_test_score': array([0.20714011, 0.20764876, 0.20794412, 0.20824972, 0.20889334, 0.21033343, 0.21203382, 0.21300732, 0.20289881, 0.20353033, 0.20389759, 0.20429103, 0.20512482, 0.20706809, 0.20954946, 0.21109813, 0.18961771, 0.19060978, 0.19118412, 0.19177772, 0.19303391, 0.19593394, 0.1998211 ,\n",
       "        0.20263802, 0.04540322, 0.0480599 , 0.04977434, 0.05168679, 0.05621507, 0.06918198, 0.09113506, 0.10849262, 0.04087091, 0.04297138, 0.04436381, 0.04594651, 0.04979905, 0.06143635, 0.08248685, 0.09996547, 0.03688248, 0.03827341, 0.03924059, 0.04037663, 0.04327703, 0.05285833,\n",
       "        0.0720888 , 0.08925402, 0.03418104, 0.03475085, 0.03519932, 0.03576893, 0.03738696, 0.04382408, 0.05954124, 0.07541129, 0.03387093, 0.03372735, 0.03368804, 0.03369164, 0.0338957 , 0.03601815, 0.04508267, 0.05723678, 0.03497418, 0.03464205, 0.03445854, 0.0342809 , 0.03397211,\n",
       "        0.03402568, 0.03828131, 0.04661531, 0.03845967, 0.03818873, 0.03801918, 0.03783382, 0.03740714, 0.0362596 , 0.03476967, 0.03482143, 0.04163508, 0.04162288, 0.04161522, 0.0416068 , 0.04158731, 0.04153361, 0.0414564 , 0.0413155 ]),\n",
       " 'rank_test_score': array([14, 16, 17, 18, 19, 21, 23, 24,  9, 10, 11, 12, 13, 15, 20, 22,  1,  2,  3,  4,  5,  6,  7,  8, 44, 41, 39, 38, 36, 32, 27, 25, 50, 49, 46, 42, 40, 33, 29, 26, 56, 53, 52, 51, 48, 37, 31, 28, 61, 60, 59, 58, 55, 47, 34, 30, 68, 67, 66, 65, 62, 57, 45, 35, 74, 73, 72, 71, 69, 63,\n",
       "        54, 43, 80, 79, 78, 77, 76, 75, 70, 64, 88, 87, 86, 85, 84, 83, 82, 81], dtype=int32)}"
      ]
     },
     "execution_count": null,
     "metadata": {},
     "output_type": "execute_result"
    }
   ],
   "source": [
    "# Elastic regression and tune lambda with cross-validation\n",
    "\n",
    "degrees = {\n",
    "    'elasticnet_regression__alpha': [0.01, 0.02, 0.1, 10, 12, 15, 20, 30, 40, 80, 200],\n",
    "    'elasticnet_regression__l1_ratio': [0.01, 0.1, 0.15, 0.2, 0.3, 0.5, 0.7, 0.8]\n",
    "}\n",
    "\n",
    "gscv = GridSearchCV(elasticnet_pipeline_1, degrees, cv = 5, scoring='r2')\n",
    "\n",
    "gscv_fitted = gscv.fit(X, y)\n",
    "gscv_fitted.cv_results_"
   ]
  },
  {
   "cell_type": "code",
   "execution_count": 190,
   "metadata": {
    "vscode": {
     "languageId": "python"
    }
   },
   "outputs": [
    {
     "data": {
      "text/html": [
       "<div>\n",
       "<style scoped>\n",
       "    .dataframe tbody tr th:only-of-type {\n",
       "        vertical-align: middle;\n",
       "    }\n",
       "\n",
       "    .dataframe tbody tr th {\n",
       "        vertical-align: top;\n",
       "    }\n",
       "\n",
       "    .dataframe thead th {\n",
       "        text-align: right;\n",
       "    }\n",
       "</style>\n",
       "<table border=\"1\" class=\"dataframe\">\n",
       "  <thead>\n",
       "    <tr style=\"text-align: right;\">\n",
       "      <th></th>\n",
       "      <th>degrees_lambda</th>\n",
       "      <th>degrees_alpha</th>\n",
       "      <th>scores_ElasticNet</th>\n",
       "    </tr>\n",
       "  </thead>\n",
       "  <tbody>\n",
       "    <tr>\n",
       "      <th>16</th>\n",
       "      <td>0.1</td>\n",
       "      <td>0.01</td>\n",
       "      <td>0.373357</td>\n",
       "    </tr>\n",
       "    <tr>\n",
       "      <th>17</th>\n",
       "      <td>0.1</td>\n",
       "      <td>0.10</td>\n",
       "      <td>0.372858</td>\n",
       "    </tr>\n",
       "    <tr>\n",
       "      <th>18</th>\n",
       "      <td>0.1</td>\n",
       "      <td>0.15</td>\n",
       "      <td>0.372574</td>\n",
       "    </tr>\n",
       "    <tr>\n",
       "      <th>19</th>\n",
       "      <td>0.1</td>\n",
       "      <td>0.20</td>\n",
       "      <td>0.372286</td>\n",
       "    </tr>\n",
       "    <tr>\n",
       "      <th>20</th>\n",
       "      <td>0.1</td>\n",
       "      <td>0.30</td>\n",
       "      <td>0.371695</td>\n",
       "    </tr>\n",
       "  </tbody>\n",
       "</table>\n",
       "</div>"
      ],
      "text/plain": [
       "    degrees_lambda  degrees_alpha  scores_ElasticNet\n",
       "16             0.1           0.01           0.373357\n",
       "17             0.1           0.10           0.372858\n",
       "18             0.1           0.15           0.372574\n",
       "19             0.1           0.20           0.372286\n",
       "20             0.1           0.30           0.371695"
      ]
     },
     "execution_count": null,
     "metadata": {},
     "output_type": "execute_result"
    }
   ],
   "source": [
    "alphas = gscv_fitted.cv_results_['param_elasticnet_regression__alpha'].data\n",
    "l1_ratios = gscv_fitted.cv_results_['param_elasticnet_regression__l1_ratio'].data\n",
    "mean_scores = gscv_fitted.cv_results_['mean_test_score']\n",
    "\n",
    "elasticnet_scores_3_df = pd.DataFrame({\n",
    "    \"degrees_lambda\": alphas, \n",
    "    \"degrees_alpha\": l1_ratios,\n",
    "    \"scores_ElasticNet\": mean_scores\n",
    "    })\n",
    "\n",
    "elasticnet_scores_3_df.sort_values(by='scores_ElasticNet', ascending=False).head()"
   ]
  },
  {
   "cell_type": "markdown",
   "metadata": {},
   "source": [
    "Based on different degrees of tunning, lambda = 0.1 and alpha = 0.01 in Elastic Net regression yields the highest R-sqaured score for this model."
   ]
  },
  {
   "cell_type": "code",
   "execution_count": 191,
   "metadata": {
    "vscode": {
     "languageId": "python"
    }
   },
   "outputs": [
    {
     "data": {
      "text/plain": [
       "array([113.01490693,  86.89942279, 102.92276912,  76.88010788,  29.42978142])"
      ]
     },
     "execution_count": null,
     "metadata": {},
     "output_type": "execute_result"
    }
   ],
   "source": [
    "# fit the pipeline with the highest hyperparameters on full dataset\n",
    "elasticnet_pipeline_1.set_params(elasticnet_regression__alpha=0.1)\n",
    "elasticnet_pipeline_1.set_params(elasticnet_regression__l1_ratio=0.01)\n",
    "elasticnet_fitted_3 = elasticnet_pipeline_1.fit(X, y)\n",
    "elasticnet_fitted_3.named_steps['elasticnet_regression'].coef_"
   ]
  },
  {
   "cell_type": "code",
   "execution_count": 192,
   "metadata": {
    "vscode": {
     "languageId": "python"
    }
   },
   "outputs": [
    {
     "data": {
      "text/html": [
       "<div>\n",
       "<style scoped>\n",
       "    .dataframe tbody tr th:only-of-type {\n",
       "        vertical-align: middle;\n",
       "    }\n",
       "\n",
       "    .dataframe tbody tr th {\n",
       "        vertical-align: top;\n",
       "    }\n",
       "\n",
       "    .dataframe thead th {\n",
       "        text-align: right;\n",
       "    }\n",
       "</style>\n",
       "<table border=\"1\" class=\"dataframe\">\n",
       "  <thead>\n",
       "    <tr style=\"text-align: right;\">\n",
       "      <th></th>\n",
       "      <th>Variable</th>\n",
       "      <th>Coef_ElasticNet</th>\n",
       "    </tr>\n",
       "  </thead>\n",
       "  <tbody>\n",
       "    <tr>\n",
       "      <th>0</th>\n",
       "      <td>standardize__Hits</td>\n",
       "      <td>113.014907</td>\n",
       "    </tr>\n",
       "    <tr>\n",
       "      <th>2</th>\n",
       "      <td>standardize__CRBI</td>\n",
       "      <td>102.922769</td>\n",
       "    </tr>\n",
       "    <tr>\n",
       "      <th>1</th>\n",
       "      <td>standardize__CRuns</td>\n",
       "      <td>86.899423</td>\n",
       "    </tr>\n",
       "    <tr>\n",
       "      <th>3</th>\n",
       "      <td>standardize__PutOuts</td>\n",
       "      <td>76.880108</td>\n",
       "    </tr>\n",
       "    <tr>\n",
       "      <th>4</th>\n",
       "      <td>standardize__CHits</td>\n",
       "      <td>29.429781</td>\n",
       "    </tr>\n",
       "  </tbody>\n",
       "</table>\n",
       "</div>"
      ],
      "text/plain": [
       "               Variable  Coef_ElasticNet\n",
       "0     standardize__Hits       113.014907\n",
       "2     standardize__CRBI       102.922769\n",
       "1    standardize__CRuns        86.899423\n",
       "3  standardize__PutOuts        76.880108\n",
       "4    standardize__CHits        29.429781"
      ]
     },
     "execution_count": null,
     "metadata": {},
     "output_type": "execute_result"
    }
   ],
   "source": [
    "# turn coefficients to a dataframe\n",
    "\n",
    "coef_df_Elasticnet_3 = pd.DataFrame({'Variable': beta_headers, 'Coef_ElasticNet': elasticnet_fitted_3.named_steps['elasticnet_regression'].coef_})\n",
    "coef_df_Elasticnet_3.sort_values(by=['Coef_ElasticNet'], ascending=False)"
   ]
  },
  {
   "cell_type": "code",
   "execution_count": 193,
   "metadata": {
    "vscode": {
     "languageId": "python"
    }
   },
   "outputs": [
    {
     "data": {
      "text/plain": [
       "np.float64(110714.23298339064)"
      ]
     },
     "execution_count": null,
     "metadata": {},
     "output_type": "execute_result"
    }
   ],
   "source": [
    "# MSE\n",
    "\n",
    "y_pred = elasticnet_fitted_3.predict(X)\n",
    "MSE_ElasticNet_3 = mean_squared_error(y, y_pred)\n",
    "MSE_ElasticNet_3"
   ]
  },
  {
   "cell_type": "code",
   "execution_count": 194,
   "metadata": {
    "vscode": {
     "languageId": "python"
    }
   },
   "outputs": [
    {
     "data": {
      "text/plain": [
       "0.4538948277317816"
      ]
     },
     "execution_count": null,
     "metadata": {},
     "output_type": "execute_result"
    }
   ],
   "source": [
    "# R-squared\n",
    "Rsq_ElasticNet_3 = r2_score(y, y_pred)\n",
    "Rsq_ElasticNet_3"
   ]
  },
  {
   "cell_type": "markdown",
   "metadata": {},
   "source": [
    "The MSE of this Elastic Net model prediction is 110714. The R-squared is 0.453 on full data or 0.373 during tuning for best lambda and alpha."
   ]
  },
  {
   "cell_type": "markdown",
   "metadata": {},
   "source": [
    "# Feature set 3:  'X' = (\"Hits\", \"CRuns\", \"CRBI\", \"PutOuts\", \"CHits\") * (1 + \"Division\") + \"Division\""
   ]
  },
  {
   "cell_type": "code",
   "execution_count": 230,
   "metadata": {
    "vscode": {
     "languageId": "python"
    }
   },
   "outputs": [],
   "source": [
    "# Feature set 3:\n",
    "\n",
    "X = bbp[[\"Hits\", \"CRuns\", \"CRBI\", \"PutOuts\", \"CHits\", \"Division\"]]\n",
    "y = bbp[\"Salary\"]"
   ]
  },
  {
   "cell_type": "code",
   "execution_count": 196,
   "metadata": {
    "vscode": {
     "languageId": "python"
    }
   },
   "outputs": [
    {
     "name": "stdout",
     "output_type": "stream",
     "text": [
      "<class 'pandas.core.frame.DataFrame'>\n",
      "Index: 263 entries, 1 to 321\n",
      "Data columns (total 6 columns):\n",
      " #   Column    Non-Null Count  Dtype \n",
      "---  ------    --------------  ----- \n",
      " 0   Hits      263 non-null    int64 \n",
      " 1   CRuns     263 non-null    int64 \n",
      " 2   CRBI      263 non-null    int64 \n",
      " 3   PutOuts   263 non-null    int64 \n",
      " 4   CHits     263 non-null    int64 \n",
      " 5   Division  263 non-null    object\n",
      "dtypes: int64(5), object(1)\n",
      "memory usage: 14.4+ KB\n",
      "<class 'pandas.core.frame.DataFrame'>\n",
      "Index: 263 entries, 1 to 321\n",
      "Data columns (total 6 columns):\n",
      " #   Column    Non-Null Count  Dtype \n",
      "---  ------    --------------  ----- \n",
      " 0   Hits      263 non-null    int64 \n",
      " 1   CRuns     263 non-null    int64 \n",
      " 2   CRBI      263 non-null    int64 \n",
      " 3   PutOuts   263 non-null    int64 \n",
      " 4   CHits     263 non-null    int64 \n",
      " 5   Division  263 non-null    object\n",
      "dtypes: int64(5), object(1)\n",
      "memory usage: 14.4+ KB\n"
     ]
    }
   ],
   "source": [
    "X.info()"
   ]
  },
  {
   "cell_type": "code",
   "execution_count": 381,
   "metadata": {
    "vscode": {
     "languageId": "python"
    }
   },
   "outputs": [],
   "source": [
    "# y.info()"
   ]
  },
  {
   "cell_type": "code",
   "execution_count": 231,
   "metadata": {
    "vscode": {
     "languageId": "python"
    }
   },
   "outputs": [
    {
     "data": {
      "text/html": [
       "<div>\n",
       "<style scoped>\n",
       "    .dataframe tbody tr th:only-of-type {\n",
       "        vertical-align: middle;\n",
       "    }\n",
       "\n",
       "    .dataframe tbody tr th {\n",
       "        vertical-align: top;\n",
       "    }\n",
       "\n",
       "    .dataframe thead th {\n",
       "        text-align: right;\n",
       "    }\n",
       "</style>\n",
       "<table border=\"1\" class=\"dataframe\">\n",
       "  <thead>\n",
       "    <tr style=\"text-align: right;\">\n",
       "      <th></th>\n",
       "      <th>dummify__Division_W</th>\n",
       "      <th>standardize__Hits</th>\n",
       "      <th>standardize__CRuns</th>\n",
       "      <th>standardize__CRBI</th>\n",
       "      <th>standardize__PutOuts</th>\n",
       "      <th>standardize__CHits</th>\n",
       "    </tr>\n",
       "  </thead>\n",
       "  <tbody>\n",
       "    <tr>\n",
       "      <th>1</th>\n",
       "      <td>1.0</td>\n",
       "      <td>-0.595675</td>\n",
       "      <td>-0.121671</td>\n",
       "      <td>0.258966</td>\n",
       "      <td>1.221499</td>\n",
       "      <td>0.174373</td>\n",
       "    </tr>\n",
       "    <tr>\n",
       "      <th>2</th>\n",
       "      <td>1.0</td>\n",
       "      <td>0.492260</td>\n",
       "      <td>-0.415105</td>\n",
       "      <td>-0.199590</td>\n",
       "      <td>2.109109</td>\n",
       "      <td>-0.409892</td>\n",
       "    </tr>\n",
       "    <tr>\n",
       "      <th>3</th>\n",
       "      <td>0.0</td>\n",
       "      <td>0.736490</td>\n",
       "      <td>1.412051</td>\n",
       "      <td>1.572666</td>\n",
       "      <td>-0.324661</td>\n",
       "      <td>1.318174</td>\n",
       "    </tr>\n",
       "    <tr>\n",
       "      <th>4</th>\n",
       "      <td>0.0</td>\n",
       "      <td>-0.462459</td>\n",
       "      <td>-0.947521</td>\n",
       "      <td>-0.881228</td>\n",
       "      <td>1.840678</td>\n",
       "      <td>-0.960153</td>\n",
       "    </tr>\n",
       "    <tr>\n",
       "      <th>5</th>\n",
       "      <td>1.0</td>\n",
       "      <td>1.358167</td>\n",
       "      <td>0.422846</td>\n",
       "      <td>0.017294</td>\n",
       "      <td>-0.031177</td>\n",
       "      <td>0.634985</td>\n",
       "    </tr>\n",
       "  </tbody>\n",
       "</table>\n",
       "</div>"
      ],
      "text/plain": [
       "   dummify__Division_W  standardize__Hits  standardize__CRuns  standardize__CRBI  standardize__PutOuts  standardize__CHits\n",
       "1                  1.0          -0.595675           -0.121671           0.258966              1.221499            0.174373\n",
       "2                  1.0           0.492260           -0.415105          -0.199590              2.109109           -0.409892\n",
       "3                  0.0           0.736490            1.412051           1.572666             -0.324661            1.318174\n",
       "4                  0.0          -0.462459           -0.947521          -0.881228              1.840678           -0.960153\n",
       "5                  1.0           1.358167            0.422846           0.017294             -0.031177            0.634985"
      ]
     },
     "execution_count": null,
     "metadata": {},
     "output_type": "execute_result"
    }
   ],
   "source": [
    "X_head_2 = ct.fit_transform(X).head()\n",
    "X_head_2"
   ]
  },
  {
   "cell_type": "markdown",
   "metadata": {},
   "source": [
    "## OLR FS_3: (\"Hits\", \"CRuns\", \"CRBI\", \"PutOuts\", \"CHits\") * (1 + \"Division\") + \"Division\""
   ]
  },
  {
   "cell_type": "code",
   "execution_count": 232,
   "metadata": {
    "vscode": {
     "languageId": "python"
    }
   },
   "outputs": [],
   "source": [
    "# adding ColumnTransformer for the interactions\n",
    "\n",
    "ct_inter = ColumnTransformer(\n",
    "    [\n",
    "    (\"i_Hits_DivW\", PolynomialFeatures(interaction_only = True, include_bias=False), [\"dummify__Division_W\", \"standardize__Hits\"]),\n",
    "    (\"i_CRuns_DivW\", PolynomialFeatures(interaction_only = True, include_bias=False), [\"dummify__Division_W\", \"standardize__CRuns\"]),\n",
    "    (\"i_CRBI_DivW\", PolynomialFeatures(interaction_only = True, include_bias=False), [\"dummify__Division_W\", \"standardize__CRBI\"]),\n",
    "    (\"i_PutOuts_DivW\", PolynomialFeatures(interaction_only = True, include_bias=False), [\"dummify__Division_W\", \"standardize__PutOuts\"]),\n",
    "    (\"i_CHits_DivW\", PolynomialFeatures(interaction_only = True, include_bias=False), [\"dummify__Division_W\", \"standardize__CHits\"]),\n",
    "  ],\n",
    "  remainder = \"drop\"\n",
    ").set_output(transform=\"pandas\")"
   ]
  },
  {
   "cell_type": "code",
   "execution_count": 233,
   "metadata": {
    "vscode": {
     "languageId": "python"
    }
   },
   "outputs": [
    {
     "data": {
      "text/html": [
       "<div>\n",
       "<style scoped>\n",
       "    .dataframe tbody tr th:only-of-type {\n",
       "        vertical-align: middle;\n",
       "    }\n",
       "\n",
       "    .dataframe tbody tr th {\n",
       "        vertical-align: top;\n",
       "    }\n",
       "\n",
       "    .dataframe thead th {\n",
       "        text-align: right;\n",
       "    }\n",
       "</style>\n",
       "<table border=\"1\" class=\"dataframe\">\n",
       "  <thead>\n",
       "    <tr style=\"text-align: right;\">\n",
       "      <th></th>\n",
       "      <th>i_Hits_DivW__dummify__Division_W</th>\n",
       "      <th>i_Hits_DivW__standardize__Hits</th>\n",
       "      <th>i_Hits_DivW__dummify__Division_W standardize__Hits</th>\n",
       "      <th>i_CRuns_DivW__dummify__Division_W</th>\n",
       "      <th>i_CRuns_DivW__standardize__CRuns</th>\n",
       "      <th>i_CRuns_DivW__dummify__Division_W standardize__CRuns</th>\n",
       "      <th>i_CRBI_DivW__dummify__Division_W</th>\n",
       "      <th>i_CRBI_DivW__standardize__CRBI</th>\n",
       "      <th>i_CRBI_DivW__dummify__Division_W standardize__CRBI</th>\n",
       "      <th>i_PutOuts_DivW__dummify__Division_W</th>\n",
       "      <th>i_PutOuts_DivW__standardize__PutOuts</th>\n",
       "      <th>i_PutOuts_DivW__dummify__Division_W standardize__PutOuts</th>\n",
       "      <th>i_CHits_DivW__dummify__Division_W</th>\n",
       "      <th>i_CHits_DivW__standardize__CHits</th>\n",
       "      <th>i_CHits_DivW__dummify__Division_W standardize__CHits</th>\n",
       "    </tr>\n",
       "  </thead>\n",
       "  <tbody>\n",
       "    <tr>\n",
       "      <th>1</th>\n",
       "      <td>1.0</td>\n",
       "      <td>-0.595675</td>\n",
       "      <td>-0.595675</td>\n",
       "      <td>1.0</td>\n",
       "      <td>-0.121671</td>\n",
       "      <td>-0.121671</td>\n",
       "      <td>1.0</td>\n",
       "      <td>0.258966</td>\n",
       "      <td>0.258966</td>\n",
       "      <td>1.0</td>\n",
       "      <td>1.221499</td>\n",
       "      <td>1.221499</td>\n",
       "      <td>1.0</td>\n",
       "      <td>0.174373</td>\n",
       "      <td>0.174373</td>\n",
       "    </tr>\n",
       "    <tr>\n",
       "      <th>2</th>\n",
       "      <td>1.0</td>\n",
       "      <td>0.492260</td>\n",
       "      <td>0.492260</td>\n",
       "      <td>1.0</td>\n",
       "      <td>-0.415105</td>\n",
       "      <td>-0.415105</td>\n",
       "      <td>1.0</td>\n",
       "      <td>-0.199590</td>\n",
       "      <td>-0.199590</td>\n",
       "      <td>1.0</td>\n",
       "      <td>2.109109</td>\n",
       "      <td>2.109109</td>\n",
       "      <td>1.0</td>\n",
       "      <td>-0.409892</td>\n",
       "      <td>-0.409892</td>\n",
       "    </tr>\n",
       "    <tr>\n",
       "      <th>3</th>\n",
       "      <td>0.0</td>\n",
       "      <td>0.736490</td>\n",
       "      <td>0.000000</td>\n",
       "      <td>0.0</td>\n",
       "      <td>1.412051</td>\n",
       "      <td>0.000000</td>\n",
       "      <td>0.0</td>\n",
       "      <td>1.572666</td>\n",
       "      <td>0.000000</td>\n",
       "      <td>0.0</td>\n",
       "      <td>-0.324661</td>\n",
       "      <td>-0.000000</td>\n",
       "      <td>0.0</td>\n",
       "      <td>1.318174</td>\n",
       "      <td>0.000000</td>\n",
       "    </tr>\n",
       "    <tr>\n",
       "      <th>4</th>\n",
       "      <td>0.0</td>\n",
       "      <td>-0.462459</td>\n",
       "      <td>-0.000000</td>\n",
       "      <td>0.0</td>\n",
       "      <td>-0.947521</td>\n",
       "      <td>-0.000000</td>\n",
       "      <td>0.0</td>\n",
       "      <td>-0.881228</td>\n",
       "      <td>-0.000000</td>\n",
       "      <td>0.0</td>\n",
       "      <td>1.840678</td>\n",
       "      <td>0.000000</td>\n",
       "      <td>0.0</td>\n",
       "      <td>-0.960153</td>\n",
       "      <td>-0.000000</td>\n",
       "    </tr>\n",
       "    <tr>\n",
       "      <th>5</th>\n",
       "      <td>1.0</td>\n",
       "      <td>1.358167</td>\n",
       "      <td>1.358167</td>\n",
       "      <td>1.0</td>\n",
       "      <td>0.422846</td>\n",
       "      <td>0.422846</td>\n",
       "      <td>1.0</td>\n",
       "      <td>0.017294</td>\n",
       "      <td>0.017294</td>\n",
       "      <td>1.0</td>\n",
       "      <td>-0.031177</td>\n",
       "      <td>-0.031177</td>\n",
       "      <td>1.0</td>\n",
       "      <td>0.634985</td>\n",
       "      <td>0.634985</td>\n",
       "    </tr>\n",
       "  </tbody>\n",
       "</table>\n",
       "</div>"
      ],
      "text/plain": [
       "   i_Hits_DivW__dummify__Division_W  i_Hits_DivW__standardize__Hits  i_Hits_DivW__dummify__Division_W standardize__Hits  ...  i_CHits_DivW__dummify__Division_W  i_CHits_DivW__standardize__CHits  i_CHits_DivW__dummify__Division_W standardize__CHits\n",
       "1                               1.0                       -0.595675                                          -0.595675   ...                                1.0                          0.174373                                           0.174373   \n",
       "2                               1.0                        0.492260                                           0.492260   ...                                1.0                         -0.409892                                          -0.409892   \n",
       "3                               0.0                        0.736490                                           0.000000   ...                                0.0                          1.318174                                           0.000000   \n",
       "4                               0.0                       -0.462459                                          -0.000000   ...                                0.0                         -0.960153                                          -0.000000   \n",
       "5                               1.0                        1.358167                                           1.358167   ...                                1.0                          0.634985                                           0.634985   \n",
       "\n",
       "[5 rows x 15 columns]"
      ]
     },
     "execution_count": null,
     "metadata": {},
     "output_type": "execute_result"
    }
   ],
   "source": [
    "X_head_3 = ct_inter.fit_transform(X_head_2)\n",
    "X_head_3"
   ]
  },
  {
   "cell_type": "markdown",
   "metadata": {},
   "source": [
    "Note: this output after the ct_inter column transformer doesn't look correct to me as it has a number of duplicate columns and variables there were not inteded to get into further regression models.\n",
    "The chapter '13.2.4.3 Interactions and Dummies' in the book doesn't provide comprehensive explanation or solution for such cases. I tried to solve it on my own with extensive online research and suggestions from ChatGPT, however none of those provided a desirable results for an interaction of variables inside a column transformer. Also, I reached out for help on Discord channel, but unfortunately, didn't receive any support in this matter.\n",
    "\n",
    "For the purpose of submitting this Lab, I proceed with this solution as is, although in my opinion, due to this bug, this feature set would overfit any of the models and be inferior to any prior (non interaction) feature sets."
   ]
  },
  {
   "cell_type": "code",
   "execution_count": 234,
   "metadata": {
    "vscode": {
     "languageId": "python"
    }
   },
   "outputs": [],
   "source": [
    "# update pipeline w/ interaction\n",
    "\n",
    "lr_pipeline_2 = Pipeline(\n",
    "  [(\"preprocessing\", ct),\n",
    "  (\"interaction\", ct_inter),\n",
    "  (\"linear_regression\", LinearRegression())]\n",
    ").set_output(transform=\"pandas\")"
   ]
  },
  {
   "cell_type": "code",
   "execution_count": 235,
   "metadata": {
    "vscode": {
     "languageId": "python"
    }
   },
   "outputs": [
    {
     "data": {
      "text/plain": [
       "array([-1.80202205e+15,  1.20180121e+02, -1.64040177e+01,  4.98331630e+14,  2.68566714e+02, -2.82826875e+02,  4.03169621e+14,  2.84492593e+02, -2.17379559e+02,  4.47863029e+14,  8.95789739e+01, -3.99266766e+01,  4.52657767e+14, -2.84611834e+02,  4.08842602e+02])"
      ]
     },
     "execution_count": null,
     "metadata": {},
     "output_type": "execute_result"
    }
   ],
   "source": [
    "#  fitting\n",
    "\n",
    "lr_fitted_4 = lr_pipeline_2.fit(X, y)\n",
    "\n",
    "lr_fitted_4.named_steps['linear_regression'].coef_\n"
   ]
  },
  {
   "cell_type": "code",
   "execution_count": 236,
   "metadata": {
    "vscode": {
     "languageId": "python"
    }
   },
   "outputs": [],
   "source": [
    "# create dataframe with betas and header\n",
    "\n",
    "columns_to_extract_2 = X_head_3.columns.tolist()  # list of columns from 'X head'\n",
    "beta_headers_2 = [col for col in columns_to_extract_2 if col != X_head_3.index.name] # Ensures index column is skipped"
   ]
  },
  {
   "cell_type": "code",
   "execution_count": 238,
   "metadata": {
    "vscode": {
     "languageId": "python"
    }
   },
   "outputs": [],
   "source": [
    "# Merging the lists into a DataFrame\n",
    "coef_df_LR_4 = pd.DataFrame({'Variable': beta_headers_2, 'Coef_LR': lr_fitted_4.named_steps['linear_regression'].coef_})"
   ]
  },
  {
   "cell_type": "code",
   "execution_count": 239,
   "metadata": {
    "vscode": {
     "languageId": "python"
    }
   },
   "outputs": [
    {
     "data": {
      "text/html": [
       "<div>\n",
       "<style scoped>\n",
       "    .dataframe tbody tr th:only-of-type {\n",
       "        vertical-align: middle;\n",
       "    }\n",
       "\n",
       "    .dataframe tbody tr th {\n",
       "        vertical-align: top;\n",
       "    }\n",
       "\n",
       "    .dataframe thead th {\n",
       "        text-align: right;\n",
       "    }\n",
       "</style>\n",
       "<table border=\"1\" class=\"dataframe\">\n",
       "  <thead>\n",
       "    <tr style=\"text-align: right;\">\n",
       "      <th></th>\n",
       "      <th>Variable</th>\n",
       "      <th>Coef_LR</th>\n",
       "    </tr>\n",
       "  </thead>\n",
       "  <tbody>\n",
       "    <tr>\n",
       "      <th>3</th>\n",
       "      <td>i_CRuns_DivW__dummify__Division_W</td>\n",
       "      <td>4.983316e+14</td>\n",
       "    </tr>\n",
       "    <tr>\n",
       "      <th>12</th>\n",
       "      <td>i_CHits_DivW__dummify__Division_W</td>\n",
       "      <td>4.526578e+14</td>\n",
       "    </tr>\n",
       "    <tr>\n",
       "      <th>9</th>\n",
       "      <td>i_PutOuts_DivW__dummify__Division_W</td>\n",
       "      <td>4.478630e+14</td>\n",
       "    </tr>\n",
       "    <tr>\n",
       "      <th>6</th>\n",
       "      <td>i_CRBI_DivW__dummify__Division_W</td>\n",
       "      <td>4.031696e+14</td>\n",
       "    </tr>\n",
       "    <tr>\n",
       "      <th>14</th>\n",
       "      <td>i_CHits_DivW__dummify__Division_W standardize_...</td>\n",
       "      <td>4.088426e+02</td>\n",
       "    </tr>\n",
       "    <tr>\n",
       "      <th>7</th>\n",
       "      <td>i_CRBI_DivW__standardize__CRBI</td>\n",
       "      <td>2.844926e+02</td>\n",
       "    </tr>\n",
       "    <tr>\n",
       "      <th>4</th>\n",
       "      <td>i_CRuns_DivW__standardize__CRuns</td>\n",
       "      <td>2.685667e+02</td>\n",
       "    </tr>\n",
       "    <tr>\n",
       "      <th>1</th>\n",
       "      <td>i_Hits_DivW__standardize__Hits</td>\n",
       "      <td>1.201801e+02</td>\n",
       "    </tr>\n",
       "    <tr>\n",
       "      <th>10</th>\n",
       "      <td>i_PutOuts_DivW__standardize__PutOuts</td>\n",
       "      <td>8.957897e+01</td>\n",
       "    </tr>\n",
       "    <tr>\n",
       "      <th>2</th>\n",
       "      <td>i_Hits_DivW__dummify__Division_W standardize__...</td>\n",
       "      <td>-1.640402e+01</td>\n",
       "    </tr>\n",
       "    <tr>\n",
       "      <th>11</th>\n",
       "      <td>i_PutOuts_DivW__dummify__Division_W standardiz...</td>\n",
       "      <td>-3.992668e+01</td>\n",
       "    </tr>\n",
       "    <tr>\n",
       "      <th>8</th>\n",
       "      <td>i_CRBI_DivW__dummify__Division_W standardize__...</td>\n",
       "      <td>-2.173796e+02</td>\n",
       "    </tr>\n",
       "    <tr>\n",
       "      <th>5</th>\n",
       "      <td>i_CRuns_DivW__dummify__Division_W standardize_...</td>\n",
       "      <td>-2.828269e+02</td>\n",
       "    </tr>\n",
       "    <tr>\n",
       "      <th>13</th>\n",
       "      <td>i_CHits_DivW__standardize__CHits</td>\n",
       "      <td>-2.846118e+02</td>\n",
       "    </tr>\n",
       "    <tr>\n",
       "      <th>0</th>\n",
       "      <td>i_Hits_DivW__dummify__Division_W</td>\n",
       "      <td>-1.802022e+15</td>\n",
       "    </tr>\n",
       "  </tbody>\n",
       "</table>\n",
       "</div>"
      ],
      "text/plain": [
       "                                             Variable       Coef_LR\n",
       "3                   i_CRuns_DivW__dummify__Division_W  4.983316e+14\n",
       "12                  i_CHits_DivW__dummify__Division_W  4.526578e+14\n",
       "9                 i_PutOuts_DivW__dummify__Division_W  4.478630e+14\n",
       "6                    i_CRBI_DivW__dummify__Division_W  4.031696e+14\n",
       "14  i_CHits_DivW__dummify__Division_W standardize_...  4.088426e+02\n",
       "7                      i_CRBI_DivW__standardize__CRBI  2.844926e+02\n",
       "4                    i_CRuns_DivW__standardize__CRuns  2.685667e+02\n",
       "1                      i_Hits_DivW__standardize__Hits  1.201801e+02\n",
       "10               i_PutOuts_DivW__standardize__PutOuts  8.957897e+01\n",
       "2   i_Hits_DivW__dummify__Division_W standardize__... -1.640402e+01\n",
       "11  i_PutOuts_DivW__dummify__Division_W standardiz... -3.992668e+01\n",
       "8   i_CRBI_DivW__dummify__Division_W standardize__... -2.173796e+02\n",
       "5   i_CRuns_DivW__dummify__Division_W standardize_... -2.828269e+02\n",
       "13                   i_CHits_DivW__standardize__CHits -2.846118e+02\n",
       "0                    i_Hits_DivW__dummify__Division_W -1.802022e+15"
      ]
     },
     "execution_count": null,
     "metadata": {},
     "output_type": "execute_result"
    }
   ],
   "source": [
    "coef_df_LR_4.sort_values(by=['Coef_LR'], ascending=False)"
   ]
  },
  {
   "cell_type": "markdown",
   "metadata": {},
   "source": [
    "As mentioned earlier, this coefficients don't look correct due to a bug in 'ct_inter' output."
   ]
  },
  {
   "cell_type": "code",
   "execution_count": 240,
   "metadata": {
    "vscode": {
     "languageId": "python"
    }
   },
   "outputs": [
    {
     "name": "stdout",
     "output_type": "stream",
     "text": [
      "OLR CV mean R-squared score: 0.3004892960676628\n",
      "OLR CV mean MSE score: 133026.89979841223\n",
      "OLR CV mean R-squared score: 0.3004892960676628\n",
      "OLR CV mean MSE score: 133026.89979841223\n"
     ]
    }
   ],
   "source": [
    "# use cross-validation to estimate MSE\n",
    "\n",
    "lr_4_cv_scores = cross_val_score(lr_pipeline_2, X, y, cv = 5, scoring = 'r2')\n",
    "lr_4_mse_scores = cross_val_score(lr_pipeline_2, X, y, cv = 5, scoring = ('neg_mean_squared_error'))*(-1)\n",
    "print (\"OLR CV mean R-squared score:\", np.mean(lr_4_cv_scores))\n",
    "print (\"OLR CV mean MSE score:\", np.mean(lr_4_mse_scores))"
   ]
  },
  {
   "cell_type": "markdown",
   "metadata": {},
   "source": [
    "## Ridge FS_3: (\"Hits\", \"CRuns\", \"CRBI\", \"PutOuts\", \"CHits\") * (1 + \"Division\") + \"Division\""
   ]
  },
  {
   "cell_type": "code",
   "execution_count": 242,
   "metadata": {
    "vscode": {
     "languageId": "python"
    }
   },
   "outputs": [
    {
     "data": {
      "text/plain": [
       "{'mean_fit_time': array([0.00709267, 0.00243583, 0.00241108, 0.00248003, 0.00225244, 0.00221386, 0.00229101, 0.00236359, 0.00240488, 0.00234666, 0.00229731, 0.00244703, 0.00245705]),\n",
       " 'std_fit_time': array([8.39950337e-03, 1.35644424e-04, 1.17424130e-04, 1.97754838e-04, 4.86330891e-05, 2.34696905e-05, 4.19097275e-05, 2.39824518e-04, 1.36737027e-04, 6.57052536e-05, 9.46404164e-05, 1.27472459e-04, 2.71846516e-04]),\n",
       " 'mean_score_time': array([0.00166507, 0.0014782 , 0.00151696, 0.0014123 , 0.00133305, 0.00130496, 0.00134635, 0.00138254, 0.00148635, 0.00135431, 0.00136275, 0.0014318 , 0.00148458]),\n",
       " 'std_score_time': array([2.41467644e-04, 1.71496259e-04, 2.68836654e-04, 9.04793450e-05, 3.78989261e-05, 1.18526410e-05, 3.20741671e-05, 1.27555624e-04, 2.73887991e-04, 2.84542761e-05, 8.12798834e-05, 9.31511610e-05, 1.85732168e-04]),\n",
       " 'param_ridge_regression__alpha': masked_array(data=[0.01, 0.1, 10.0, 12.0, 15.0, 20.0, 30.0, 40.0, 80.0, 200.0, 300.0, 400.0, 500.0],\n",
       "              mask=[False, False, False, False, False, False, False, False, False, False, False, False, False],\n",
       "        fill_value=1e+20),\n",
       " 'params': [{'ridge_regression__alpha': 0.01},\n",
       "  {'ridge_regression__alpha': 0.1},\n",
       "  {'ridge_regression__alpha': 10},\n",
       "  {'ridge_regression__alpha': 12},\n",
       "  {'ridge_regression__alpha': 15},\n",
       "  {'ridge_regression__alpha': 20},\n",
       "  {'ridge_regression__alpha': 30},\n",
       "  {'ridge_regression__alpha': 40},\n",
       "  {'ridge_regression__alpha': 80},\n",
       "  {'ridge_regression__alpha': 200},\n",
       "  {'ridge_regression__alpha': 300},\n",
       "  {'ridge_regression__alpha': 400},\n",
       "  {'ridge_regression__alpha': 500}],\n",
       " 'split0_test_score': array([0.42012962, 0.41999524, 0.43627797, 0.44008284, 0.44539336, 0.45324228, 0.46587962, 0.47552733, 0.49758265, 0.50457139, 0.48763188, 0.46429357, 0.4391175 ]),\n",
       " 'split1_test_score': array([0.49332599, 0.49376537, 0.49189413, 0.49013059, 0.48748936, 0.48316956, 0.47493148, 0.46719738, 0.4399718 , 0.37753533, 0.33732962, 0.3037874 , 0.27517111]),\n",
       " 'split2_test_score': array([0.62986181, 0.62962904, 0.61714779, 0.61555673, 0.61332174, 0.6098407 , 0.60332737, 0.59709212, 0.57330313, 0.50967096, 0.4651373 , 0.42724262, 0.39479571]),\n",
       " 'split3_test_score': array([0.05434788, 0.0552949 , 0.08327306, 0.08468249, 0.08628407, 0.08824003, 0.09118295, 0.09380942, 0.10409435, 0.1277657 , 0.13812217, 0.14283417, 0.14403865]),\n",
       " 'split4_test_score': array([0.26716484, 0.26755439, 0.28990796, 0.29317266, 0.29774023, 0.30465969, 0.31657803, 0.32659401, 0.35426359, 0.3792091 , 0.37365638, 0.36022624, 0.34412517]),\n",
       " 'mean_test_score': array([0.37296603, 0.37324779, 0.38370018, 0.38472506, 0.38604575, 0.38783045, 0.39037989, 0.39204405, 0.3938431 , 0.3797505 , 0.36037547, 0.3396768 , 0.31944963]),\n",
       " 'std_test_score': array([0.19769562, 0.1973354 , 0.1833148 , 0.18213481, 0.18062239, 0.17850972, 0.17502076, 0.17198244, 0.16162706, 0.138536  , 0.12431674, 0.11283126, 0.10328205]),\n",
       " 'rank_test_score': array([10,  9,  7,  6,  5,  4,  3,  2,  1,  8, 11, 12, 13], dtype=int32)}"
      ]
     },
     "execution_count": null,
     "metadata": {},
     "output_type": "execute_result"
    }
   ],
   "source": [
    "# Update Ridge pipeline to include 'ct_inter'\n",
    "\n",
    "ridge_pipeline_2 = Pipeline(\n",
    "    [(\"preprocessing\", ct),\n",
    "    (\"interaction\", ct_inter),\n",
    "    (\"ridge_regression\", Ridge())]\n",
    ").set_output(transform=\"pandas\")\n",
    "\n",
    "degrees = {'ridge_regression__alpha': [0.01, 0.1, 10, 12, 15, 20, 30, 40, 80, 200, 300, 400, 500]}\n",
    "\n",
    "gscv = GridSearchCV(ridge_pipeline_1, degrees, cv = 5, scoring='r2')\n",
    "\n",
    "gscv_fitted = gscv.fit(X, y)\n",
    "gscv_fitted.cv_results_"
   ]
  },
  {
   "cell_type": "code",
   "execution_count": 243,
   "metadata": {
    "vscode": {
     "languageId": "python"
    }
   },
   "outputs": [],
   "source": [
    "ridge_scores_4_df = pd.DataFrame(data = {\"degrees\": [0.01, 0.1, 10, 12, 15, 20, 30, 40, 80, 200, 300, 400, 500], \"scores_Ridge\": gscv_fitted.cv_results_['mean_test_score']})"
   ]
  },
  {
   "cell_type": "code",
   "execution_count": 244,
   "metadata": {
    "vscode": {
     "languageId": "python"
    }
   },
   "outputs": [
    {
     "data": {
      "text/html": [
       "<div>\n",
       "<style scoped>\n",
       "    .dataframe tbody tr th:only-of-type {\n",
       "        vertical-align: middle;\n",
       "    }\n",
       "\n",
       "    .dataframe tbody tr th {\n",
       "        vertical-align: top;\n",
       "    }\n",
       "\n",
       "    .dataframe thead th {\n",
       "        text-align: right;\n",
       "    }\n",
       "</style>\n",
       "<table border=\"1\" class=\"dataframe\">\n",
       "  <thead>\n",
       "    <tr style=\"text-align: right;\">\n",
       "      <th></th>\n",
       "      <th>degrees</th>\n",
       "      <th>scores_Ridge</th>\n",
       "    </tr>\n",
       "  </thead>\n",
       "  <tbody>\n",
       "    <tr>\n",
       "      <th>8</th>\n",
       "      <td>80.00</td>\n",
       "      <td>0.393843</td>\n",
       "    </tr>\n",
       "    <tr>\n",
       "      <th>7</th>\n",
       "      <td>40.00</td>\n",
       "      <td>0.392044</td>\n",
       "    </tr>\n",
       "    <tr>\n",
       "      <th>6</th>\n",
       "      <td>30.00</td>\n",
       "      <td>0.390380</td>\n",
       "    </tr>\n",
       "    <tr>\n",
       "      <th>5</th>\n",
       "      <td>20.00</td>\n",
       "      <td>0.387830</td>\n",
       "    </tr>\n",
       "    <tr>\n",
       "      <th>4</th>\n",
       "      <td>15.00</td>\n",
       "      <td>0.386046</td>\n",
       "    </tr>\n",
       "    <tr>\n",
       "      <th>3</th>\n",
       "      <td>12.00</td>\n",
       "      <td>0.384725</td>\n",
       "    </tr>\n",
       "    <tr>\n",
       "      <th>2</th>\n",
       "      <td>10.00</td>\n",
       "      <td>0.383700</td>\n",
       "    </tr>\n",
       "    <tr>\n",
       "      <th>9</th>\n",
       "      <td>200.00</td>\n",
       "      <td>0.379750</td>\n",
       "    </tr>\n",
       "    <tr>\n",
       "      <th>1</th>\n",
       "      <td>0.10</td>\n",
       "      <td>0.373248</td>\n",
       "    </tr>\n",
       "    <tr>\n",
       "      <th>0</th>\n",
       "      <td>0.01</td>\n",
       "      <td>0.372966</td>\n",
       "    </tr>\n",
       "    <tr>\n",
       "      <th>10</th>\n",
       "      <td>300.00</td>\n",
       "      <td>0.360375</td>\n",
       "    </tr>\n",
       "    <tr>\n",
       "      <th>11</th>\n",
       "      <td>400.00</td>\n",
       "      <td>0.339677</td>\n",
       "    </tr>\n",
       "    <tr>\n",
       "      <th>12</th>\n",
       "      <td>500.00</td>\n",
       "      <td>0.319450</td>\n",
       "    </tr>\n",
       "  </tbody>\n",
       "</table>\n",
       "</div>"
      ],
      "text/plain": [
       "    degrees  scores_Ridge\n",
       "8     80.00      0.393843\n",
       "7     40.00      0.392044\n",
       "6     30.00      0.390380\n",
       "5     20.00      0.387830\n",
       "4     15.00      0.386046\n",
       "3     12.00      0.384725\n",
       "2     10.00      0.383700\n",
       "9    200.00      0.379750\n",
       "1      0.10      0.373248\n",
       "0      0.01      0.372966\n",
       "10   300.00      0.360375\n",
       "11   400.00      0.339677\n",
       "12   500.00      0.319450"
      ]
     },
     "execution_count": null,
     "metadata": {},
     "output_type": "execute_result"
    }
   ],
   "source": [
    "ridge_scores_4_df.sort_values(by=['scores_Ridge'], ascending=False)"
   ]
  },
  {
   "cell_type": "markdown",
   "metadata": {},
   "source": [
    "Based on different degrees in tunning, lamda = 80 in Ridge regression yields the highest R-sqaured score for this model."
   ]
  },
  {
   "cell_type": "code",
   "execution_count": 245,
   "metadata": {
    "vscode": {
     "languageId": "python"
    }
   },
   "outputs": [
    {
     "data": {
      "text/plain": [
       "array([-22.76570716,  91.56978619,   6.05417262, -22.76570716,  76.58138159, -14.00052167, -22.76570716,  90.56959701, -15.10763503, -22.76570716,  70.55378579, -10.61155128, -22.76570716,  62.67678335, -12.23765077])"
      ]
     },
     "execution_count": null,
     "metadata": {},
     "output_type": "execute_result"
    }
   ],
   "source": [
    "# fit the pipeline with the highest lambda on a full dataset\n",
    "ridge_pipeline_2.set_params(ridge_regression__alpha=80)\n",
    "ridge_fitted_4 = ridge_pipeline_2.fit(X, y)\n",
    "ridge_fitted_4.named_steps['ridge_regression'].coef_"
   ]
  },
  {
   "cell_type": "code",
   "execution_count": 246,
   "metadata": {
    "vscode": {
     "languageId": "python"
    }
   },
   "outputs": [
    {
     "data": {
      "text/html": [
       "<div>\n",
       "<style scoped>\n",
       "    .dataframe tbody tr th:only-of-type {\n",
       "        vertical-align: middle;\n",
       "    }\n",
       "\n",
       "    .dataframe tbody tr th {\n",
       "        vertical-align: top;\n",
       "    }\n",
       "\n",
       "    .dataframe thead th {\n",
       "        text-align: right;\n",
       "    }\n",
       "</style>\n",
       "<table border=\"1\" class=\"dataframe\">\n",
       "  <thead>\n",
       "    <tr style=\"text-align: right;\">\n",
       "      <th></th>\n",
       "      <th>Variable</th>\n",
       "      <th>Coef_Ridge</th>\n",
       "    </tr>\n",
       "  </thead>\n",
       "  <tbody>\n",
       "    <tr>\n",
       "      <th>1</th>\n",
       "      <td>i_Hits_DivW__standardize__Hits</td>\n",
       "      <td>91.569786</td>\n",
       "    </tr>\n",
       "    <tr>\n",
       "      <th>7</th>\n",
       "      <td>i_CRBI_DivW__standardize__CRBI</td>\n",
       "      <td>90.569597</td>\n",
       "    </tr>\n",
       "    <tr>\n",
       "      <th>4</th>\n",
       "      <td>i_CRuns_DivW__standardize__CRuns</td>\n",
       "      <td>76.581382</td>\n",
       "    </tr>\n",
       "    <tr>\n",
       "      <th>10</th>\n",
       "      <td>i_PutOuts_DivW__standardize__PutOuts</td>\n",
       "      <td>70.553786</td>\n",
       "    </tr>\n",
       "    <tr>\n",
       "      <th>13</th>\n",
       "      <td>i_CHits_DivW__standardize__CHits</td>\n",
       "      <td>62.676783</td>\n",
       "    </tr>\n",
       "    <tr>\n",
       "      <th>2</th>\n",
       "      <td>i_Hits_DivW__dummify__Division_W standardize__...</td>\n",
       "      <td>6.054173</td>\n",
       "    </tr>\n",
       "    <tr>\n",
       "      <th>11</th>\n",
       "      <td>i_PutOuts_DivW__dummify__Division_W standardiz...</td>\n",
       "      <td>-10.611551</td>\n",
       "    </tr>\n",
       "    <tr>\n",
       "      <th>14</th>\n",
       "      <td>i_CHits_DivW__dummify__Division_W standardize_...</td>\n",
       "      <td>-12.237651</td>\n",
       "    </tr>\n",
       "    <tr>\n",
       "      <th>5</th>\n",
       "      <td>i_CRuns_DivW__dummify__Division_W standardize_...</td>\n",
       "      <td>-14.000522</td>\n",
       "    </tr>\n",
       "    <tr>\n",
       "      <th>8</th>\n",
       "      <td>i_CRBI_DivW__dummify__Division_W standardize__...</td>\n",
       "      <td>-15.107635</td>\n",
       "    </tr>\n",
       "    <tr>\n",
       "      <th>6</th>\n",
       "      <td>i_CRBI_DivW__dummify__Division_W</td>\n",
       "      <td>-22.765707</td>\n",
       "    </tr>\n",
       "    <tr>\n",
       "      <th>0</th>\n",
       "      <td>i_Hits_DivW__dummify__Division_W</td>\n",
       "      <td>-22.765707</td>\n",
       "    </tr>\n",
       "    <tr>\n",
       "      <th>3</th>\n",
       "      <td>i_CRuns_DivW__dummify__Division_W</td>\n",
       "      <td>-22.765707</td>\n",
       "    </tr>\n",
       "    <tr>\n",
       "      <th>12</th>\n",
       "      <td>i_CHits_DivW__dummify__Division_W</td>\n",
       "      <td>-22.765707</td>\n",
       "    </tr>\n",
       "    <tr>\n",
       "      <th>9</th>\n",
       "      <td>i_PutOuts_DivW__dummify__Division_W</td>\n",
       "      <td>-22.765707</td>\n",
       "    </tr>\n",
       "  </tbody>\n",
       "</table>\n",
       "</div>"
      ],
      "text/plain": [
       "                                             Variable  Coef_Ridge\n",
       "1                      i_Hits_DivW__standardize__Hits   91.569786\n",
       "7                      i_CRBI_DivW__standardize__CRBI   90.569597\n",
       "4                    i_CRuns_DivW__standardize__CRuns   76.581382\n",
       "10               i_PutOuts_DivW__standardize__PutOuts   70.553786\n",
       "13                   i_CHits_DivW__standardize__CHits   62.676783\n",
       "2   i_Hits_DivW__dummify__Division_W standardize__...    6.054173\n",
       "11  i_PutOuts_DivW__dummify__Division_W standardiz...  -10.611551\n",
       "14  i_CHits_DivW__dummify__Division_W standardize_...  -12.237651\n",
       "5   i_CRuns_DivW__dummify__Division_W standardize_...  -14.000522\n",
       "8   i_CRBI_DivW__dummify__Division_W standardize__...  -15.107635\n",
       "6                    i_CRBI_DivW__dummify__Division_W  -22.765707\n",
       "0                    i_Hits_DivW__dummify__Division_W  -22.765707\n",
       "3                   i_CRuns_DivW__dummify__Division_W  -22.765707\n",
       "12                  i_CHits_DivW__dummify__Division_W  -22.765707\n",
       "9                 i_PutOuts_DivW__dummify__Division_W  -22.765707"
      ]
     },
     "execution_count": null,
     "metadata": {},
     "output_type": "execute_result"
    }
   ],
   "source": [
    "# turn coefficients to a dataframe\n",
    "\n",
    "coef_df_Ridge_4 = pd.DataFrame({'Variable': beta_headers_2, 'Coef_Ridge': ridge_fitted_4.named_steps['ridge_regression'].coef_})\n",
    "coef_df_Ridge_4.sort_values(by=['Coef_Ridge'], ascending=False)"
   ]
  },
  {
   "cell_type": "code",
   "execution_count": 247,
   "metadata": {
    "vscode": {
     "languageId": "python"
    }
   },
   "outputs": [
    {
     "data": {
      "text/plain": [
       "np.float64(105971.03148483265)"
      ]
     },
     "execution_count": null,
     "metadata": {},
     "output_type": "execute_result"
    }
   ],
   "source": [
    "# MSE\n",
    "\n",
    "y_pred = ridge_fitted_4.predict(X)\n",
    "MSE_Ridge_4 = mean_squared_error(y, y_pred)\n",
    "MSE_Ridge_4"
   ]
  },
  {
   "cell_type": "code",
   "execution_count": 248,
   "metadata": {
    "vscode": {
     "languageId": "python"
    }
   },
   "outputs": [
    {
     "data": {
      "text/plain": [
       "0.47729097835914913"
      ]
     },
     "execution_count": null,
     "metadata": {},
     "output_type": "execute_result"
    }
   ],
   "source": [
    "# R-squared\n",
    "Rsq_Ridge_4 = r2_score(y, y_pred)\n",
    "Rsq_Ridge_4"
   ]
  },
  {
   "cell_type": "markdown",
   "metadata": {},
   "source": [
    "The MSE of this Ridge model prediction is 105971. The R-squared is 0.477 on full data or 0.393 during tuning for best 'lambda'."
   ]
  },
  {
   "cell_type": "markdown",
   "metadata": {},
   "source": [
    "## Lasso FS_3: (\"Hits\", \"CRuns\", \"CRBI\", \"PutOuts\", \"CHits\") * (1 + \"Division\") + \"Division\""
   ]
  },
  {
   "cell_type": "code",
   "execution_count": 249,
   "metadata": {
    "vscode": {
     "languageId": "python"
    }
   },
   "outputs": [
    {
     "name": "stderr",
     "output_type": "stream",
     "text": [
      "/Library/Frameworks/Python.framework/Versions/3.12/lib/python3.12/site-packages/sklearn/linear_model/_coordinate_descent.py:697: ConvergenceWarning: Objective did not converge. You might want to increase the number of iterations, check the scale of the features or consider increasing regularisation. Duality gap: 2.553e+04, tolerance: 4.708e+03\n",
      "  model = cd_fast.enet_coordinate_descent(\n",
      "/Library/Frameworks/Python.framework/Versions/3.12/lib/python3.12/site-packages/sklearn/linear_model/_coordinate_descent.py:697: ConvergenceWarning: Objective did not converge. You might want to increase the number of iterations, check the scale of the features or consider increasing regularisation. Duality gap: 1.812e+04, tolerance: 3.606e+03\n",
      "  model = cd_fast.enet_coordinate_descent(\n",
      "/Library/Frameworks/Python.framework/Versions/3.12/lib/python3.12/site-packages/sklearn/linear_model/_coordinate_descent.py:697: ConvergenceWarning: Objective did not converge. You might want to increase the number of iterations, check the scale of the features or consider increasing regularisation. Duality gap: 4.341e+03, tolerance: 4.137e+03\n",
      "  model = cd_fast.enet_coordinate_descent(\n",
      "/Library/Frameworks/Python.framework/Versions/3.12/lib/python3.12/site-packages/sklearn/linear_model/_coordinate_descent.py:697: ConvergenceWarning: Objective did not converge. You might want to increase the number of iterations, check the scale of the features or consider increasing regularisation. Duality gap: 2.661e+05, tolerance: 4.281e+03\n",
      "  model = cd_fast.enet_coordinate_descent(\n"
     ]
    },
    {
     "data": {
      "text/plain": [
       "{'mean_fit_time': array([0.0115202 , 0.00796328, 0.00640879, 0.00689507, 0.00691638, 0.0069077 , 0.0071209 , 0.00715585, 0.00653644, 0.00632176, 0.0062448 , 0.00652504, 0.00633178]),\n",
       " 'std_fit_time': array([5.36733154e-03, 5.26704893e-04, 1.27396451e-04, 6.02991404e-04, 6.07238381e-04, 4.30574343e-04, 4.76101819e-04, 3.75441466e-04, 1.24372386e-04, 1.50872709e-04, 7.80727621e-05, 2.03736565e-04, 1.15481218e-04]),\n",
       " 'mean_score_time': array([0.00431919, 0.00376496, 0.003688  , 0.00416245, 0.00368772, 0.00412164, 0.00408463, 0.00401335, 0.00374713, 0.00370107, 0.00365252, 0.00366206, 0.00369129]),\n",
       " 'std_score_time': array([4.94419548e-04, 1.82059936e-04, 1.49952709e-04, 6.62298981e-04, 5.16275271e-05, 3.61833468e-04, 2.72129107e-04, 9.85193805e-05, 1.53707672e-04, 1.96865361e-04, 7.68041538e-05, 3.93878461e-05, 4.75609152e-05]),\n",
       " 'param_lasso_regression__alpha': masked_array(data=[0.01, 0.1, 10.0, 12.0, 15.0, 20.0, 30.0, 40.0, 80.0, 200.0, 300.0, 400.0, 500.0],\n",
       "              mask=[False, False, False, False, False, False, False, False, False, False, False, False, False],\n",
       "        fill_value=1e+20),\n",
       " 'params': [{'lasso_regression__alpha': 0.01},\n",
       "  {'lasso_regression__alpha': 0.1},\n",
       "  {'lasso_regression__alpha': 10},\n",
       "  {'lasso_regression__alpha': 12},\n",
       "  {'lasso_regression__alpha': 15},\n",
       "  {'lasso_regression__alpha': 20},\n",
       "  {'lasso_regression__alpha': 30},\n",
       "  {'lasso_regression__alpha': 40},\n",
       "  {'lasso_regression__alpha': 80},\n",
       "  {'lasso_regression__alpha': 200},\n",
       "  {'lasso_regression__alpha': 300},\n",
       "  {'lasso_regression__alpha': 400},\n",
       "  {'lasso_regression__alpha': 500}],\n",
       " 'split0_test_score': array([ 0.29546945,  0.28716225,  0.39839837,  0.42067677,  0.45024162,  0.48204364,  0.51433295,  0.52744065,  0.51002075,  0.12837834, -0.09969416, -0.09969416, -0.09969416]),\n",
       " 'split1_test_score': array([ 0.43462277,  0.43756989,  0.46595695,  0.4624809 ,  0.45571791,  0.44062731,  0.40693271,  0.38290119,  0.26738141, -0.00655625, -0.09434666, -0.09434666, -0.09434666]),\n",
       " 'split2_test_score': array([ 0.66454878,  0.66274205,  0.61076833,  0.60088899,  0.5884537 ,  0.57279857,  0.53583612,  0.50628721,  0.40184785,  0.08384882, -0.00115599, -0.00115599, -0.00115599]),\n",
       " 'split3_test_score': array([-0.17042469, -0.16503763,  0.0717967 ,  0.07418389,  0.07545148,  0.07295213,  0.06732246,  0.07567061,  0.10125397,  0.07182454, -0.00647822, -0.00647822, -0.00647822]),\n",
       " 'split4_test_score': array([ 0.27911422,  0.28208966,  0.31718911,  0.31503756,  0.31111737,  0.31545577,  0.32321125,  0.32707463,  0.3394434 ,  0.13429777, -0.01434855, -0.01434855, -0.01434855]),\n",
       " 'mean_test_score': array([ 0.30066611,  0.30090525,  0.37282189,  0.37465362,  0.37619642,  0.37677548,  0.3695271 ,  0.36387486,  0.32398948,  0.08235864, -0.04320472, -0.04320472, -0.04320472]),\n",
       " 'std_test_score': array([0.27304689, 0.27101615, 0.17869414, 0.17598315, 0.17409326, 0.17300418, 0.16941039, 0.16236563, 0.13691163, 0.05066465, 0.04417276, 0.04417276, 0.04417276]),\n",
       " 'rank_test_score': array([ 9,  8,  4,  3,  2,  1,  5,  6,  7, 10, 11, 11, 11], dtype=int32)}"
      ]
     },
     "execution_count": null,
     "metadata": {},
     "output_type": "execute_result"
    }
   ],
   "source": [
    "# udpate Lasso pipeline to include 'ct_inter'\n",
    "\n",
    "lasso_pipeline_2 = Pipeline(\n",
    "    [(\"preprocessing\", ct),\n",
    "    (\"interaction\", ct_inter),\n",
    "    (\"lasso_regression\", Lasso())]\n",
    ").set_output(transform=\"pandas\")\n",
    "\n",
    "degrees = {'lasso_regression__alpha': [0.01, 0.1, 10, 12, 15, 20, 30, 40, 80, 200, 300, 400, 500]}\n",
    "\n",
    "gscv = GridSearchCV(lasso_pipeline_2, degrees, cv = 5, scoring='r2')\n",
    "\n",
    "gscv_fitted = gscv.fit(X, y)\n",
    "gscv_fitted.cv_results_"
   ]
  },
  {
   "cell_type": "code",
   "execution_count": 250,
   "metadata": {
    "vscode": {
     "languageId": "python"
    }
   },
   "outputs": [],
   "source": [
    "lasso_scores_3_df = pd.DataFrame(data = {\"degrees\": [0.01, 0.1, 10, 12, 15, 20, 30, 40, 80, 200, 300, 400, 500], \"scores_Lasso\": gscv_fitted.cv_results_['mean_test_score']})"
   ]
  },
  {
   "cell_type": "code",
   "execution_count": 251,
   "metadata": {
    "vscode": {
     "languageId": "python"
    }
   },
   "outputs": [
    {
     "data": {
      "text/html": [
       "<div>\n",
       "<style scoped>\n",
       "    .dataframe tbody tr th:only-of-type {\n",
       "        vertical-align: middle;\n",
       "    }\n",
       "\n",
       "    .dataframe tbody tr th {\n",
       "        vertical-align: top;\n",
       "    }\n",
       "\n",
       "    .dataframe thead th {\n",
       "        text-align: right;\n",
       "    }\n",
       "</style>\n",
       "<table border=\"1\" class=\"dataframe\">\n",
       "  <thead>\n",
       "    <tr style=\"text-align: right;\">\n",
       "      <th></th>\n",
       "      <th>degrees</th>\n",
       "      <th>scores_Lasso</th>\n",
       "    </tr>\n",
       "  </thead>\n",
       "  <tbody>\n",
       "    <tr>\n",
       "      <th>5</th>\n",
       "      <td>20.00</td>\n",
       "      <td>0.376775</td>\n",
       "    </tr>\n",
       "    <tr>\n",
       "      <th>4</th>\n",
       "      <td>15.00</td>\n",
       "      <td>0.376196</td>\n",
       "    </tr>\n",
       "    <tr>\n",
       "      <th>3</th>\n",
       "      <td>12.00</td>\n",
       "      <td>0.374654</td>\n",
       "    </tr>\n",
       "    <tr>\n",
       "      <th>2</th>\n",
       "      <td>10.00</td>\n",
       "      <td>0.372822</td>\n",
       "    </tr>\n",
       "    <tr>\n",
       "      <th>6</th>\n",
       "      <td>30.00</td>\n",
       "      <td>0.369527</td>\n",
       "    </tr>\n",
       "    <tr>\n",
       "      <th>7</th>\n",
       "      <td>40.00</td>\n",
       "      <td>0.363875</td>\n",
       "    </tr>\n",
       "    <tr>\n",
       "      <th>8</th>\n",
       "      <td>80.00</td>\n",
       "      <td>0.323989</td>\n",
       "    </tr>\n",
       "    <tr>\n",
       "      <th>1</th>\n",
       "      <td>0.10</td>\n",
       "      <td>0.300905</td>\n",
       "    </tr>\n",
       "    <tr>\n",
       "      <th>0</th>\n",
       "      <td>0.01</td>\n",
       "      <td>0.300666</td>\n",
       "    </tr>\n",
       "    <tr>\n",
       "      <th>9</th>\n",
       "      <td>200.00</td>\n",
       "      <td>0.082359</td>\n",
       "    </tr>\n",
       "    <tr>\n",
       "      <th>10</th>\n",
       "      <td>300.00</td>\n",
       "      <td>-0.043205</td>\n",
       "    </tr>\n",
       "    <tr>\n",
       "      <th>11</th>\n",
       "      <td>400.00</td>\n",
       "      <td>-0.043205</td>\n",
       "    </tr>\n",
       "    <tr>\n",
       "      <th>12</th>\n",
       "      <td>500.00</td>\n",
       "      <td>-0.043205</td>\n",
       "    </tr>\n",
       "  </tbody>\n",
       "</table>\n",
       "</div>"
      ],
      "text/plain": [
       "    degrees  scores_Lasso\n",
       "5     20.00      0.376775\n",
       "4     15.00      0.376196\n",
       "3     12.00      0.374654\n",
       "2     10.00      0.372822\n",
       "6     30.00      0.369527\n",
       "7     40.00      0.363875\n",
       "8     80.00      0.323989\n",
       "1      0.10      0.300905\n",
       "0      0.01      0.300666\n",
       "9    200.00      0.082359\n",
       "10   300.00     -0.043205\n",
       "11   400.00     -0.043205\n",
       "12   500.00     -0.043205"
      ]
     },
     "execution_count": null,
     "metadata": {},
     "output_type": "execute_result"
    }
   ],
   "source": [
    "lasso_scores_3_df.sort_values(by=['scores_Lasso'], ascending=False)"
   ]
  },
  {
   "cell_type": "markdown",
   "metadata": {},
   "source": [
    "Based on different degrees in tunning, lamda = 20 in Lasso regression yields the highest R-sqaured score for this model."
   ]
  },
  {
   "cell_type": "code",
   "execution_count": 252,
   "metadata": {
    "vscode": {
     "languageId": "python"
    }
   },
   "outputs": [
    {
     "data": {
      "text/plain": [
       "array([-37.90873443, 108.01511095,  -0.        , -10.92924566,  82.47326286,  -0.        , -10.03962467, 126.73741668,  -0.        ,  -0.        ,  65.21667474,  -0.        ,  -0.        ,   0.        ,  -0.        ])"
      ]
     },
     "execution_count": null,
     "metadata": {},
     "output_type": "execute_result"
    }
   ],
   "source": [
    "# fit the pipeline with the highest lambda on full dataset\n",
    "lasso_pipeline_2.set_params(lasso_regression__alpha=20)\n",
    "lasso_fitted_4 = lasso_pipeline_2.fit(X, y)\n",
    "lasso_fitted_4.named_steps['lasso_regression'].coef_"
   ]
  },
  {
   "cell_type": "code",
   "execution_count": 253,
   "metadata": {
    "vscode": {
     "languageId": "python"
    }
   },
   "outputs": [
    {
     "data": {
      "text/html": [
       "<div>\n",
       "<style scoped>\n",
       "    .dataframe tbody tr th:only-of-type {\n",
       "        vertical-align: middle;\n",
       "    }\n",
       "\n",
       "    .dataframe tbody tr th {\n",
       "        vertical-align: top;\n",
       "    }\n",
       "\n",
       "    .dataframe thead th {\n",
       "        text-align: right;\n",
       "    }\n",
       "</style>\n",
       "<table border=\"1\" class=\"dataframe\">\n",
       "  <thead>\n",
       "    <tr style=\"text-align: right;\">\n",
       "      <th></th>\n",
       "      <th>Variable</th>\n",
       "      <th>Coef_Lasso</th>\n",
       "    </tr>\n",
       "  </thead>\n",
       "  <tbody>\n",
       "    <tr>\n",
       "      <th>7</th>\n",
       "      <td>i_CRBI_DivW__standardize__CRBI</td>\n",
       "      <td>126.737417</td>\n",
       "    </tr>\n",
       "    <tr>\n",
       "      <th>1</th>\n",
       "      <td>i_Hits_DivW__standardize__Hits</td>\n",
       "      <td>108.015111</td>\n",
       "    </tr>\n",
       "    <tr>\n",
       "      <th>4</th>\n",
       "      <td>i_CRuns_DivW__standardize__CRuns</td>\n",
       "      <td>82.473263</td>\n",
       "    </tr>\n",
       "    <tr>\n",
       "      <th>10</th>\n",
       "      <td>i_PutOuts_DivW__standardize__PutOuts</td>\n",
       "      <td>65.216675</td>\n",
       "    </tr>\n",
       "    <tr>\n",
       "      <th>2</th>\n",
       "      <td>i_Hits_DivW__dummify__Division_W standardize__...</td>\n",
       "      <td>-0.000000</td>\n",
       "    </tr>\n",
       "    <tr>\n",
       "      <th>5</th>\n",
       "      <td>i_CRuns_DivW__dummify__Division_W standardize_...</td>\n",
       "      <td>-0.000000</td>\n",
       "    </tr>\n",
       "    <tr>\n",
       "      <th>8</th>\n",
       "      <td>i_CRBI_DivW__dummify__Division_W standardize__...</td>\n",
       "      <td>-0.000000</td>\n",
       "    </tr>\n",
       "    <tr>\n",
       "      <th>9</th>\n",
       "      <td>i_PutOuts_DivW__dummify__Division_W</td>\n",
       "      <td>-0.000000</td>\n",
       "    </tr>\n",
       "    <tr>\n",
       "      <th>11</th>\n",
       "      <td>i_PutOuts_DivW__dummify__Division_W standardiz...</td>\n",
       "      <td>-0.000000</td>\n",
       "    </tr>\n",
       "    <tr>\n",
       "      <th>12</th>\n",
       "      <td>i_CHits_DivW__dummify__Division_W</td>\n",
       "      <td>-0.000000</td>\n",
       "    </tr>\n",
       "    <tr>\n",
       "      <th>13</th>\n",
       "      <td>i_CHits_DivW__standardize__CHits</td>\n",
       "      <td>0.000000</td>\n",
       "    </tr>\n",
       "    <tr>\n",
       "      <th>14</th>\n",
       "      <td>i_CHits_DivW__dummify__Division_W standardize_...</td>\n",
       "      <td>-0.000000</td>\n",
       "    </tr>\n",
       "    <tr>\n",
       "      <th>6</th>\n",
       "      <td>i_CRBI_DivW__dummify__Division_W</td>\n",
       "      <td>-10.039625</td>\n",
       "    </tr>\n",
       "    <tr>\n",
       "      <th>3</th>\n",
       "      <td>i_CRuns_DivW__dummify__Division_W</td>\n",
       "      <td>-10.929246</td>\n",
       "    </tr>\n",
       "    <tr>\n",
       "      <th>0</th>\n",
       "      <td>i_Hits_DivW__dummify__Division_W</td>\n",
       "      <td>-37.908734</td>\n",
       "    </tr>\n",
       "  </tbody>\n",
       "</table>\n",
       "</div>"
      ],
      "text/plain": [
       "                                             Variable  Coef_Lasso\n",
       "7                      i_CRBI_DivW__standardize__CRBI  126.737417\n",
       "1                      i_Hits_DivW__standardize__Hits  108.015111\n",
       "4                    i_CRuns_DivW__standardize__CRuns   82.473263\n",
       "10               i_PutOuts_DivW__standardize__PutOuts   65.216675\n",
       "2   i_Hits_DivW__dummify__Division_W standardize__...   -0.000000\n",
       "5   i_CRuns_DivW__dummify__Division_W standardize_...   -0.000000\n",
       "8   i_CRBI_DivW__dummify__Division_W standardize__...   -0.000000\n",
       "9                 i_PutOuts_DivW__dummify__Division_W   -0.000000\n",
       "11  i_PutOuts_DivW__dummify__Division_W standardiz...   -0.000000\n",
       "12                  i_CHits_DivW__dummify__Division_W   -0.000000\n",
       "13                   i_CHits_DivW__standardize__CHits    0.000000\n",
       "14  i_CHits_DivW__dummify__Division_W standardize_...   -0.000000\n",
       "6                    i_CRBI_DivW__dummify__Division_W  -10.039625\n",
       "3                   i_CRuns_DivW__dummify__Division_W  -10.929246\n",
       "0                    i_Hits_DivW__dummify__Division_W  -37.908734"
      ]
     },
     "execution_count": null,
     "metadata": {},
     "output_type": "execute_result"
    }
   ],
   "source": [
    "# turn coefficients to a dataframe\n",
    "\n",
    "coef_df_Lasso_4 = pd.DataFrame({'Variable': beta_headers_2, 'Coef_Lasso': lasso_fitted_4.named_steps['lasso_regression'].coef_})\n",
    "coef_df_Lasso_4.sort_values(by=['Coef_Lasso'], ascending=False)"
   ]
  },
  {
   "cell_type": "code",
   "execution_count": 254,
   "metadata": {
    "vscode": {
     "languageId": "python"
    }
   },
   "outputs": [
    {
     "data": {
      "text/plain": [
       "np.float64(107950.4553471575)"
      ]
     },
     "execution_count": null,
     "metadata": {},
     "output_type": "execute_result"
    }
   ],
   "source": [
    "# MSE\n",
    "\n",
    "y_pred = lasso_fitted_4.predict(X)\n",
    "MSE_Lasso_4 = mean_squared_error(y, y_pred)\n",
    "MSE_Lasso_4"
   ]
  },
  {
   "cell_type": "code",
   "execution_count": 255,
   "metadata": {
    "vscode": {
     "languageId": "python"
    }
   },
   "outputs": [
    {
     "data": {
      "text/plain": [
       "0.46752734110856276"
      ]
     },
     "execution_count": null,
     "metadata": {},
     "output_type": "execute_result"
    }
   ],
   "source": [
    "# R-squared\n",
    "Rsq_Lasso_4 = r2_score(y, y_pred)\n",
    "Rsq_Lasso_4"
   ]
  },
  {
   "cell_type": "markdown",
   "metadata": {},
   "source": [
    "The MSE of this Lasso model prediction is 107950. The R-squared is 0.467 on full data or 0.376 during tuning for best 'lambda'."
   ]
  },
  {
   "cell_type": "markdown",
   "metadata": {},
   "source": [
    "## Elastic Net FS_3: (\"Hits\", \"CRuns\", \"CRBI\", \"PutOuts\", \"CHits\") * (1 + \"Division\") + \"Division\""
   ]
  },
  {
   "cell_type": "code",
   "execution_count": 256,
   "metadata": {
    "vscode": {
     "languageId": "python"
    }
   },
   "outputs": [
    {
     "data": {
      "text/plain": [
       "{'mean_fit_time': array([0.01142483, 0.00760002, 0.00730734, 0.00757289, 0.00759478, 0.00804276, 0.00834813, 0.00918155, 0.00706244, 0.00697026, 0.00684743, 0.006882  , 0.00685039, 0.00693216, 0.00707893, 0.00734243, 0.00670199, 0.00655603, 0.0066093 , 0.00644794, 0.00648942, 0.00659924, 0.00667119, 0.00662246, 0.00652847,\n",
       "        0.0062974 , 0.00729027, 0.00917192, 0.00829453, 0.00853887, 0.00798669, 0.00790148, 0.00666928, 0.00634017, 0.00638437, 0.00649981, 0.0065443 , 0.00641785, 0.00726938, 0.00820727, 0.00782261, 0.00753627, 0.00724735, 0.00713749, 0.00635753, 0.00629277, 0.00643153, 0.00625601, 0.00645542, 0.00627956,\n",
       "        0.00632949, 0.00634041, 0.00642257, 0.00634828, 0.00638041, 0.0063508 , 0.00625534, 0.00629897, 0.00625687, 0.00639014, 0.00643039, 0.00637312, 0.0062377 , 0.00631218, 0.00628676, 0.00632739, 0.0062396 , 0.0063086 , 0.006252  , 0.00684156, 0.00731316, 0.00679278, 0.00734181, 0.00695262, 0.00672526,\n",
       "        0.0063334 , 0.00629616, 0.00623636, 0.00654044, 0.00627565, 0.0063621 , 0.00624561, 0.0062736 , 0.00624881, 0.00635681, 0.00726266, 0.00685344, 0.00733638]),\n",
       " 'std_fit_time': array([5.81888088e-03, 3.28507733e-04, 1.97112704e-04, 2.69706532e-04, 2.57700262e-04, 3.46914498e-04, 4.04513488e-04, 3.73015887e-04, 1.35076529e-04, 6.81441174e-05, 9.58485863e-05, 2.33493207e-04, 5.57890509e-05, 2.67248132e-04, 1.48485238e-04, 2.88241677e-04, 3.94487799e-04, 2.70926226e-04, 2.57493593e-04,\n",
       "        1.37619913e-04, 1.10291579e-04, 8.56804062e-05, 1.33653381e-04, 1.18702536e-04, 1.32831684e-04, 1.13116930e-04, 7.62108240e-04, 8.69485675e-04, 1.74024750e-04, 5.51697719e-04, 2.19137809e-04, 2.41859563e-04, 4.52806885e-04, 1.29186495e-04, 2.86475455e-04, 1.10485793e-04, 2.59652628e-04, 1.27841421e-04,\n",
       "        6.87879242e-04, 6.97849762e-04, 5.77183453e-04, 4.98436871e-04, 3.14208357e-04, 6.02297211e-04, 1.48027689e-04, 8.86064807e-05, 3.89216484e-04, 9.14192220e-05, 2.18928086e-04, 5.34677997e-05, 1.16903454e-04, 1.18549294e-04, 2.10772726e-04, 1.55567025e-04, 2.63360776e-04, 2.66972664e-04, 4.87409219e-05,\n",
       "        1.31490161e-04, 8.24399459e-05, 2.26484519e-04, 2.22306372e-04, 1.54817387e-04, 6.50905252e-05, 1.87745656e-04, 1.10983129e-04, 2.25046478e-04, 9.04657487e-05, 2.13907650e-04, 1.12727511e-04, 6.11425357e-04, 4.48524995e-04, 3.18447941e-04, 5.91216553e-04, 4.31896545e-04, 5.28005090e-04, 1.56118583e-04,\n",
       "        2.62222938e-04, 1.55836511e-04, 3.10817427e-04, 1.03716302e-04, 1.91203472e-04, 9.73881967e-05, 1.68883955e-04, 7.99834602e-05, 2.14526308e-04, 5.79320832e-04, 2.13437159e-04, 7.48679029e-04]),\n",
       " 'mean_score_time': array([0.00535994, 0.00384822, 0.00377054, 0.00369716, 0.0038343 , 0.00412402, 0.00403047, 0.0039722 , 0.00361991, 0.00374322, 0.00361209, 0.00370736, 0.00363197, 0.00358982, 0.0036622 , 0.00364003, 0.00372658, 0.00361671, 0.00362449, 0.00364833, 0.00366554, 0.00367122, 0.0036644 , 0.00362935, 0.00371222,\n",
       "        0.00371442, 0.00464897, 0.0050838 , 0.00471702, 0.00480299, 0.00466375, 0.0046319 , 0.00384412, 0.00373297, 0.00365176, 0.00375142, 0.00390987, 0.00388441, 0.00405364, 0.00456901, 0.00450377, 0.00452223, 0.00416756, 0.00391283, 0.00380106, 0.00371485, 0.00366473, 0.00362387, 0.00376582, 0.00363636,\n",
       "        0.00371361, 0.00362015, 0.00364242, 0.00367732, 0.00363097, 0.00366039, 0.00359941, 0.00363436, 0.00365953, 0.0037714 , 0.00369415, 0.0036694 , 0.0036015 , 0.00365438, 0.00360646, 0.00371122, 0.00356898, 0.00364485, 0.00361876, 0.00386271, 0.00453444, 0.00433502, 0.00397382, 0.00414639, 0.00375075,\n",
       "        0.00367417, 0.00367503, 0.00363541, 0.00381188, 0.0036067 , 0.00364513, 0.00356817, 0.00367508, 0.00366921, 0.00369029, 0.00407653, 0.00417962, 0.00423555]),\n",
       " 'std_score_time': array([2.18072330e-03, 1.31666008e-04, 2.60640491e-04, 5.04287703e-05, 2.73479160e-04, 4.77337541e-04, 2.99186572e-04, 1.96603239e-04, 4.53221114e-05, 2.59331140e-04, 3.87582089e-05, 1.79935208e-04, 7.27187766e-05, 2.94075183e-05, 4.65669022e-05, 5.45226541e-05, 2.15899291e-04, 4.46882158e-05, 6.96905949e-05,\n",
       "        7.58879109e-05, 1.26905227e-04, 9.67560522e-05, 2.99484865e-05, 5.51798877e-05, 4.39786061e-05, 1.28509746e-04, 1.23580120e-03, 3.45655733e-04, 2.56465109e-04, 2.14271455e-04, 2.90113676e-04, 1.16113970e-04, 3.30381146e-04, 1.18327638e-04, 6.80815263e-05, 1.65617606e-04, 3.01835149e-04, 3.25392035e-04,\n",
       "        2.00645427e-04, 3.37891279e-04, 3.64468023e-04, 3.70680786e-04, 1.99272354e-04, 2.44951791e-04, 2.36288781e-04, 1.52042831e-04, 6.11722792e-05, 5.11454478e-05, 1.06696083e-04, 9.16913344e-05, 1.73881859e-04, 4.10487283e-05, 6.84028845e-05, 1.85849471e-04, 6.06379774e-05, 5.89850456e-05, 3.69473419e-05,\n",
       "        9.24509167e-05, 7.59470624e-05, 1.57917683e-04, 9.45255071e-05, 1.62494154e-04, 4.22563286e-05, 1.26207780e-04, 9.00330683e-05, 1.26062975e-04, 1.60337868e-05, 5.83358378e-05, 4.42813075e-05, 3.32188003e-04, 2.63748861e-04, 6.35152010e-04, 3.54973402e-04, 4.34176412e-04, 1.84222591e-04, 1.37871641e-04,\n",
       "        1.05706356e-04, 6.09085513e-05, 1.89534187e-04, 3.72981769e-05, 7.06603488e-05, 5.15136431e-05, 1.50727509e-04, 1.74622325e-04, 1.02095101e-04, 3.27656612e-04, 5.06326110e-04, 7.51436986e-04]),\n",
       " 'param_elasticnet_regression__alpha': masked_array(data=[0.01, 0.01, 0.01, 0.01, 0.01, 0.01, 0.01, 0.01, 0.02, 0.02, 0.02, 0.02, 0.02, 0.02, 0.02, 0.02, 0.1, 0.1, 0.1, 0.1, 0.1, 0.1, 0.1, 0.1, 10.0, 10.0, 10.0, 10.0, 10.0, 10.0, 10.0, 10.0, 12.0, 12.0, 12.0, 12.0, 12.0, 12.0, 12.0, 12.0, 15.0, 15.0, 15.0, 15.0, 15.0, 15.0, 15.0, 15.0, 20.0, 20.0,\n",
       "                    20.0, 20.0, 20.0, 20.0, 20.0, 20.0, 30.0, 30.0, 30.0, 30.0, 30.0, 30.0, 30.0, 30.0, 40.0, 40.0, 40.0, 40.0, 40.0, 40.0, 40.0, 40.0, 80.0, 80.0, 80.0, 80.0, 80.0, 80.0, 80.0, 80.0, 200.0, 200.0, 200.0, 200.0, 200.0, 200.0, 200.0, 200.0],\n",
       "              mask=[False, False, False, False, False, False, False, False, False, False, False, False, False, False, False, False, False, False, False, False, False, False, False, False, False, False, False, False, False, False, False, False, False, False, False, False, False, False, False, False, False, False,\n",
       "                    False, False, False, False, False, False, False, False, False, False, False, False, False, False, False, False, False, False, False, False, False, False, False, False, False, False, False, False, False, False, False, False, False, False, False, False, False, False, False, False, False, False,\n",
       "                    False, False, False, False],\n",
       "        fill_value=1e+20),\n",
       " 'param_elasticnet_regression__l1_ratio': masked_array(data=[0.01, 0.1, 0.15, 0.2, 0.3, 0.5, 0.7, 0.8, 0.01, 0.1, 0.15, 0.2, 0.3, 0.5, 0.7, 0.8, 0.01, 0.1, 0.15, 0.2, 0.3, 0.5, 0.7, 0.8, 0.01, 0.1, 0.15, 0.2, 0.3, 0.5, 0.7, 0.8, 0.01, 0.1, 0.15, 0.2, 0.3, 0.5, 0.7, 0.8, 0.01, 0.1, 0.15, 0.2, 0.3, 0.5, 0.7, 0.8, 0.01, 0.1, 0.15, 0.2, 0.3, 0.5, 0.7, 0.8,\n",
       "                    0.01, 0.1, 0.15, 0.2, 0.3, 0.5, 0.7, 0.8, 0.01, 0.1, 0.15, 0.2, 0.3, 0.5, 0.7, 0.8, 0.01, 0.1, 0.15, 0.2, 0.3, 0.5, 0.7, 0.8, 0.01, 0.1, 0.15, 0.2, 0.3, 0.5, 0.7, 0.8],\n",
       "              mask=[False, False, False, False, False, False, False, False, False, False, False, False, False, False, False, False, False, False, False, False, False, False, False, False, False, False, False, False, False, False, False, False, False, False, False, False, False, False, False, False, False, False,\n",
       "                    False, False, False, False, False, False, False, False, False, False, False, False, False, False, False, False, False, False, False, False, False, False, False, False, False, False, False, False, False, False, False, False, False, False, False, False, False, False, False, False, False, False,\n",
       "                    False, False, False, False],\n",
       "        fill_value=1e+20),\n",
       " 'params': [{'elasticnet_regression__alpha': 0.01,\n",
       "   'elasticnet_regression__l1_ratio': 0.01},\n",
       "  {'elasticnet_regression__alpha': 0.01,\n",
       "   'elasticnet_regression__l1_ratio': 0.1},\n",
       "  {'elasticnet_regression__alpha': 0.01,\n",
       "   'elasticnet_regression__l1_ratio': 0.15},\n",
       "  {'elasticnet_regression__alpha': 0.01,\n",
       "   'elasticnet_regression__l1_ratio': 0.2},\n",
       "  {'elasticnet_regression__alpha': 0.01,\n",
       "   'elasticnet_regression__l1_ratio': 0.3},\n",
       "  {'elasticnet_regression__alpha': 0.01,\n",
       "   'elasticnet_regression__l1_ratio': 0.5},\n",
       "  {'elasticnet_regression__alpha': 0.01,\n",
       "   'elasticnet_regression__l1_ratio': 0.7},\n",
       "  {'elasticnet_regression__alpha': 0.01,\n",
       "   'elasticnet_regression__l1_ratio': 0.8},\n",
       "  {'elasticnet_regression__alpha': 0.02,\n",
       "   'elasticnet_regression__l1_ratio': 0.01},\n",
       "  {'elasticnet_regression__alpha': 0.02,\n",
       "   'elasticnet_regression__l1_ratio': 0.1},\n",
       "  {'elasticnet_regression__alpha': 0.02,\n",
       "   'elasticnet_regression__l1_ratio': 0.15},\n",
       "  {'elasticnet_regression__alpha': 0.02,\n",
       "   'elasticnet_regression__l1_ratio': 0.2},\n",
       "  {'elasticnet_regression__alpha': 0.02,\n",
       "   'elasticnet_regression__l1_ratio': 0.3},\n",
       "  {'elasticnet_regression__alpha': 0.02,\n",
       "   'elasticnet_regression__l1_ratio': 0.5},\n",
       "  {'elasticnet_regression__alpha': 0.02,\n",
       "   'elasticnet_regression__l1_ratio': 0.7},\n",
       "  {'elasticnet_regression__alpha': 0.02,\n",
       "   'elasticnet_regression__l1_ratio': 0.8},\n",
       "  {'elasticnet_regression__alpha': 0.1,\n",
       "   'elasticnet_regression__l1_ratio': 0.01},\n",
       "  {'elasticnet_regression__alpha': 0.1,\n",
       "   'elasticnet_regression__l1_ratio': 0.1},\n",
       "  {'elasticnet_regression__alpha': 0.1,\n",
       "   'elasticnet_regression__l1_ratio': 0.15},\n",
       "  {'elasticnet_regression__alpha': 0.1,\n",
       "   'elasticnet_regression__l1_ratio': 0.2},\n",
       "  {'elasticnet_regression__alpha': 0.1,\n",
       "   'elasticnet_regression__l1_ratio': 0.3},\n",
       "  {'elasticnet_regression__alpha': 0.1,\n",
       "   'elasticnet_regression__l1_ratio': 0.5},\n",
       "  {'elasticnet_regression__alpha': 0.1,\n",
       "   'elasticnet_regression__l1_ratio': 0.7},\n",
       "  {'elasticnet_regression__alpha': 0.1,\n",
       "   'elasticnet_regression__l1_ratio': 0.8},\n",
       "  {'elasticnet_regression__alpha': 10,\n",
       "   'elasticnet_regression__l1_ratio': 0.01},\n",
       "  {'elasticnet_regression__alpha': 10, 'elasticnet_regression__l1_ratio': 0.1},\n",
       "  {'elasticnet_regression__alpha': 10,\n",
       "   'elasticnet_regression__l1_ratio': 0.15},\n",
       "  {'elasticnet_regression__alpha': 10, 'elasticnet_regression__l1_ratio': 0.2},\n",
       "  {'elasticnet_regression__alpha': 10, 'elasticnet_regression__l1_ratio': 0.3},\n",
       "  {'elasticnet_regression__alpha': 10, 'elasticnet_regression__l1_ratio': 0.5},\n",
       "  {'elasticnet_regression__alpha': 10, 'elasticnet_regression__l1_ratio': 0.7},\n",
       "  {'elasticnet_regression__alpha': 10, 'elasticnet_regression__l1_ratio': 0.8},\n",
       "  {'elasticnet_regression__alpha': 12,\n",
       "   'elasticnet_regression__l1_ratio': 0.01},\n",
       "  {'elasticnet_regression__alpha': 12, 'elasticnet_regression__l1_ratio': 0.1},\n",
       "  {'elasticnet_regression__alpha': 12,\n",
       "   'elasticnet_regression__l1_ratio': 0.15},\n",
       "  {'elasticnet_regression__alpha': 12, 'elasticnet_regression__l1_ratio': 0.2},\n",
       "  {'elasticnet_regression__alpha': 12, 'elasticnet_regression__l1_ratio': 0.3},\n",
       "  {'elasticnet_regression__alpha': 12, 'elasticnet_regression__l1_ratio': 0.5},\n",
       "  {'elasticnet_regression__alpha': 12, 'elasticnet_regression__l1_ratio': 0.7},\n",
       "  {'elasticnet_regression__alpha': 12, 'elasticnet_regression__l1_ratio': 0.8},\n",
       "  {'elasticnet_regression__alpha': 15,\n",
       "   'elasticnet_regression__l1_ratio': 0.01},\n",
       "  {'elasticnet_regression__alpha': 15, 'elasticnet_regression__l1_ratio': 0.1},\n",
       "  {'elasticnet_regression__alpha': 15,\n",
       "   'elasticnet_regression__l1_ratio': 0.15},\n",
       "  {'elasticnet_regression__alpha': 15, 'elasticnet_regression__l1_ratio': 0.2},\n",
       "  {'elasticnet_regression__alpha': 15, 'elasticnet_regression__l1_ratio': 0.3},\n",
       "  {'elasticnet_regression__alpha': 15, 'elasticnet_regression__l1_ratio': 0.5},\n",
       "  {'elasticnet_regression__alpha': 15, 'elasticnet_regression__l1_ratio': 0.7},\n",
       "  {'elasticnet_regression__alpha': 15, 'elasticnet_regression__l1_ratio': 0.8},\n",
       "  {'elasticnet_regression__alpha': 20,\n",
       "   'elasticnet_regression__l1_ratio': 0.01},\n",
       "  {'elasticnet_regression__alpha': 20, 'elasticnet_regression__l1_ratio': 0.1},\n",
       "  {'elasticnet_regression__alpha': 20,\n",
       "   'elasticnet_regression__l1_ratio': 0.15},\n",
       "  {'elasticnet_regression__alpha': 20, 'elasticnet_regression__l1_ratio': 0.2},\n",
       "  {'elasticnet_regression__alpha': 20, 'elasticnet_regression__l1_ratio': 0.3},\n",
       "  {'elasticnet_regression__alpha': 20, 'elasticnet_regression__l1_ratio': 0.5},\n",
       "  {'elasticnet_regression__alpha': 20, 'elasticnet_regression__l1_ratio': 0.7},\n",
       "  {'elasticnet_regression__alpha': 20, 'elasticnet_regression__l1_ratio': 0.8},\n",
       "  {'elasticnet_regression__alpha': 30,\n",
       "   'elasticnet_regression__l1_ratio': 0.01},\n",
       "  {'elasticnet_regression__alpha': 30, 'elasticnet_regression__l1_ratio': 0.1},\n",
       "  {'elasticnet_regression__alpha': 30,\n",
       "   'elasticnet_regression__l1_ratio': 0.15},\n",
       "  {'elasticnet_regression__alpha': 30, 'elasticnet_regression__l1_ratio': 0.2},\n",
       "  {'elasticnet_regression__alpha': 30, 'elasticnet_regression__l1_ratio': 0.3},\n",
       "  {'elasticnet_regression__alpha': 30, 'elasticnet_regression__l1_ratio': 0.5},\n",
       "  {'elasticnet_regression__alpha': 30, 'elasticnet_regression__l1_ratio': 0.7},\n",
       "  {'elasticnet_regression__alpha': 30, 'elasticnet_regression__l1_ratio': 0.8},\n",
       "  {'elasticnet_regression__alpha': 40,\n",
       "   'elasticnet_regression__l1_ratio': 0.01},\n",
       "  {'elasticnet_regression__alpha': 40, 'elasticnet_regression__l1_ratio': 0.1},\n",
       "  {'elasticnet_regression__alpha': 40,\n",
       "   'elasticnet_regression__l1_ratio': 0.15},\n",
       "  {'elasticnet_regression__alpha': 40, 'elasticnet_regression__l1_ratio': 0.2},\n",
       "  {'elasticnet_regression__alpha': 40, 'elasticnet_regression__l1_ratio': 0.3},\n",
       "  {'elasticnet_regression__alpha': 40, 'elasticnet_regression__l1_ratio': 0.5},\n",
       "  {'elasticnet_regression__alpha': 40, 'elasticnet_regression__l1_ratio': 0.7},\n",
       "  {'elasticnet_regression__alpha': 40, 'elasticnet_regression__l1_ratio': 0.8},\n",
       "  {'elasticnet_regression__alpha': 80,\n",
       "   'elasticnet_regression__l1_ratio': 0.01},\n",
       "  {'elasticnet_regression__alpha': 80, 'elasticnet_regression__l1_ratio': 0.1},\n",
       "  {'elasticnet_regression__alpha': 80,\n",
       "   'elasticnet_regression__l1_ratio': 0.15},\n",
       "  {'elasticnet_regression__alpha': 80, 'elasticnet_regression__l1_ratio': 0.2},\n",
       "  {'elasticnet_regression__alpha': 80, 'elasticnet_regression__l1_ratio': 0.3},\n",
       "  {'elasticnet_regression__alpha': 80, 'elasticnet_regression__l1_ratio': 0.5},\n",
       "  {'elasticnet_regression__alpha': 80, 'elasticnet_regression__l1_ratio': 0.7},\n",
       "  {'elasticnet_regression__alpha': 80, 'elasticnet_regression__l1_ratio': 0.8},\n",
       "  {'elasticnet_regression__alpha': 200,\n",
       "   'elasticnet_regression__l1_ratio': 0.01},\n",
       "  {'elasticnet_regression__alpha': 200,\n",
       "   'elasticnet_regression__l1_ratio': 0.1},\n",
       "  {'elasticnet_regression__alpha': 200,\n",
       "   'elasticnet_regression__l1_ratio': 0.15},\n",
       "  {'elasticnet_regression__alpha': 200,\n",
       "   'elasticnet_regression__l1_ratio': 0.2},\n",
       "  {'elasticnet_regression__alpha': 200,\n",
       "   'elasticnet_regression__l1_ratio': 0.3},\n",
       "  {'elasticnet_regression__alpha': 200,\n",
       "   'elasticnet_regression__l1_ratio': 0.5},\n",
       "  {'elasticnet_regression__alpha': 200,\n",
       "   'elasticnet_regression__l1_ratio': 0.7},\n",
       "  {'elasticnet_regression__alpha': 200,\n",
       "   'elasticnet_regression__l1_ratio': 0.8}],\n",
       " 'split0_test_score': array([ 0.29687839,  0.29554295,  0.29480268,  0.29406646,  0.2926199 ,  0.28999454,  0.28841899,  0.2886657 ,  0.31050961,  0.30824385,  0.30694634,  0.30561982,  0.30288242,  0.2970939 ,  0.29128149,  0.28898346,  0.37130171,  0.36644229,  0.36361384,  0.36068485,  0.35449059,  0.34040523,  0.32284099,\n",
       "         0.31149958,  0.21294673,  0.22949658,  0.2395134 ,  0.2501859 ,  0.27374503,  0.33178585,  0.40819036,  0.45198265,  0.17960208,  0.19546296,  0.20514478,  0.2155308 ,  0.238728  ,  0.29763875,  0.3802005 ,  0.43188306,  0.14084074,  0.15546   ,  0.16446789,  0.17420394,  0.19623321,  0.25411849,\n",
       "         0.34111697,  0.40088695,  0.09542289,  0.1080098 ,  0.11584669,  0.12438873,  0.14399998,  0.19758017,  0.28488113,  0.35144424,  0.04172226,  0.05113327,  0.05706183,  0.06358572,  0.07881644,  0.1223623 ,  0.2005341 ,  0.26816654,  0.01111568,  0.01835328,  0.02294211,  0.02801839,  0.03998027,\n",
       "         0.0750758 ,  0.14183745,  0.20416847, -0.04042185, -0.03742472, -0.03550459, -0.03336221, -0.02823622, -0.0124236 ,  0.0212269 ,  0.05822554, -0.07508674, -0.07534405, -0.0755077 , -0.0756716 , -0.07595357, -0.0760411 , -0.07250674, -0.06797054]),\n",
       " 'split1_test_score': array([ 0.48033213,  0.4796079 ,  0.47915071,  0.47864687,  0.4774678 ,  0.47407472,  0.46787681,  0.46237443,  0.48421097,  0.48381293,  0.48355362,  0.48325297,  0.48255702,  0.48039557,  0.47600018,  0.47154573,  0.48244679,  0.48320109,  0.48359519,  0.48396865,  0.48464323,  0.48558347,  0.48538263,\n",
       "         0.48407342,  0.09137962,  0.10222016,  0.10887682,  0.11605482,  0.13225035,  0.17477994,  0.24065241,  0.29055159,  0.06975841,  0.07979282,  0.08598954,  0.09270171,  0.10795852,  0.1487529 ,  0.21393676,  0.26485187,  0.04538891,  0.05431906,  0.05987047,  0.0659152 ,  0.07977671,  0.11766601,\n",
       "         0.18063118,  0.23179074,  0.01768213,  0.02509523,  0.02973961,  0.03482821,  0.04662172,  0.07974899,  0.13767946,  0.18733111, -0.01413119, -0.0088157 , -0.00545472, -0.00174479,  0.0069651 ,  0.03228348,  0.07969065,  0.1235764 , -0.03188432, -0.02790974, -0.02538341, -0.02258285, -0.0159584 ,\n",
       "         0.0036973 ,  0.04213109,  0.07963004, -0.06126037, -0.05977941, -0.0588298 , -0.0577695 , -0.05522924, -0.04737343, -0.02958539, -0.00997799, -0.08070285, -0.08106419, -0.08129743, -0.08155177, -0.08191122, -0.08281444, -0.08215395, -0.08101385]),\n",
       " 'split2_test_score': array([0.65140552, 0.65196918, 0.65230376, 0.65265569, 0.65341967, 0.65526723, 0.65779035, 0.6594822 , 0.64699125, 0.64762136, 0.64799322, 0.64838338, 0.64922854, 0.65125042, 0.65415981, 0.65627577, 0.63077755, 0.6322641 , 0.63310286, 0.63395243, 0.63569087, 0.63940597, 0.64381108, 0.6465662 , 0.1946817 ,\n",
       "        0.20644657, 0.21369464, 0.22153015, 0.23928165, 0.28631759, 0.36031933, 0.4165033 , 0.17112205, 0.18190228, 0.18858125, 0.19583417, 0.21238961, 0.25709558, 0.32995355, 0.3873276 , 0.14480466, 0.15427767, 0.16018442, 0.16663154, 0.18147614, 0.22246484, 0.29221959, 0.3496585 , 0.1151951 , 0.12292951,\n",
       "        0.1277875 , 0.13312142, 0.14552801, 0.18081899, 0.24395621, 0.29906045, 0.08160822, 0.08701784, 0.09044469, 0.09423305, 0.10315075, 0.12955035, 0.17981091, 0.22723285, 0.0630548 , 0.0670157 , 0.0695367 , 0.07233441, 0.07903628, 0.09914719, 0.13899011, 0.17851073, 0.0326468 , 0.0339742 , 0.03485299,\n",
       "        0.03585618, 0.03826055, 0.04629849, 0.06473709, 0.08519836, 0.01271728, 0.01218842, 0.01186802, 0.01167606, 0.01136064, 0.01058423, 0.01172007, 0.01324058]),\n",
       " 'split3_test_score': array([-0.0155735 , -0.02129143, -0.02475825, -0.02846056, -0.0366807 , -0.05742912, -0.08717525, -0.1076204 ,  0.02257938,  0.01781673,  0.01488788,  0.01172247,  0.00454165, -0.01470935, -0.04586367, -0.07042039,  0.08445046,  0.08156708,  0.07980747,  0.07791522,  0.0736494 ,  0.06223019,  0.04273616,\n",
       "         0.02449533,  0.09915938,  0.10347283,  0.10599949,  0.10861927,  0.11412663,  0.12590294,  0.13659709,  0.13919652,  0.08996118,  0.0944048 ,  0.09704569,  0.0998164 ,  0.10576283,  0.11922114,  0.13330343,  0.13829758,  0.07852717,  0.08292756,  0.08558263,  0.08840274,  0.094587  ,  0.10943238,\n",
       "         0.12724742,  0.13550944,  0.06421202,  0.06828285,  0.07077876,  0.07346465,  0.07949107,  0.09489376,  0.11618151,  0.12859909,  0.0461403 ,  0.04941703,  0.05146081,  0.05369129,  0.0588215 ,  0.07286541,  0.09550882,  0.11219979,  0.03533563,  0.03795769,  0.03960808,  0.04142276,  0.04565242,\n",
       "         0.05767127,  0.07888748,  0.09645243,  0.01638807,  0.01756837,  0.01832198,  0.01916043,  0.0211563 ,  0.02728169,  0.04026319,  0.05380576,  0.00315062,  0.00311785,  0.00310231,  0.0030963 ,  0.00319994,  0.00381222,  0.00581467,  0.00864969]),\n",
       " 'split4_test_score': array([0.30677675, 0.30614914, 0.30576535, 0.30535186, 0.30441684, 0.3019097 , 0.29776003, 0.2943574 , 0.31110691, 0.31053519, 0.31019314, 0.30983014, 0.30902595, 0.30692046, 0.30340678, 0.30027415, 0.32439205, 0.32327689, 0.32263806, 0.32198375, 0.32062184, 0.31761123, 0.31409849, 0.31165415, 0.19217929,\n",
       "        0.203217  , 0.2099021 , 0.21702791, 0.23276692, 0.27152809, 0.32211913, 0.35038238, 0.16989227, 0.18044312, 0.18688923, 0.19380861, 0.20927769, 0.24861787, 0.30360119, 0.33752211, 0.14405247, 0.15374071, 0.15971598, 0.16617902, 0.18081995, 0.21938917, 0.27745738, 0.31714691, 0.11388015, 0.12217713,\n",
       "        0.12734744, 0.13298716, 0.14595128, 0.18147535, 0.23962304, 0.28404671, 0.07836131, 0.08451508, 0.0883944 , 0.09266567, 0.10264718, 0.13126024, 0.18289571, 0.22776326, 0.05819453, 0.06289678, 0.06587969, 0.06918088, 0.07696578, 0.09985418, 0.14354572, 0.18438807, 0.02436232, 0.02625867, 0.02747375,\n",
       "        0.02882962, 0.03207442, 0.04203751, 0.06405935, 0.08803156, 0.00169387, 0.00145545, 0.00130113, 0.0011341 , 0.00098887, 0.00075129, 0.00307453, 0.00597086]),\n",
       " 'mean_test_score': array([ 0.34396386,  0.34239555,  0.34145285,  0.34045206,  0.33824871,  0.33276341,  0.32493419,  0.31945187,  0.35507962,  0.35360601,  0.35271484,  0.35176175,  0.34964712,  0.3441902 ,  0.33579692,  0.32933174,  0.37867371,  0.37735029,  0.37655148,  0.37570098,  0.37381919,  0.36904722,  0.36177387,\n",
       "         0.35565774,  0.15806934,  0.16897063,  0.17559729,  0.18268361,  0.19843412,  0.23806288,  0.29357566,  0.32972329,  0.1360672 ,  0.1464012 ,  0.1527301 ,  0.15953834,  0.17482333,  0.21426525,  0.27219909,  0.31197644,  0.11072279,  0.120145  ,  0.12596428,  0.13226649,  0.1465786 ,  0.18461418,\n",
       "         0.24373451,  0.28699851,  0.08127846,  0.0892989 ,  0.0943    ,  0.09975803,  0.11231841,  0.14690345,  0.20446427,  0.25009632,  0.04674018,  0.0526535 ,  0.0563814 ,  0.06048619,  0.07008019,  0.09766436,  0.14768804,  0.19178777,  0.02716327,  0.03166274,  0.03451663,  0.03767472,  0.04513527,\n",
       "         0.06708915,  0.10907837,  0.14862995, -0.005657  , -0.00388057, -0.00273713, -0.0014571 ,  0.00160516,  0.01116413,  0.03214023,  0.05505665, -0.02764557, -0.0279293 , -0.02810673, -0.02826338, -0.02846307, -0.02874156, -0.02681028, -0.02422465]),\n",
       " 'std_test_score': array([0.22180339, 0.2238036 , 0.22501084, 0.22629586, 0.2291346 , 0.23622402, 0.24622421, 0.25298843, 0.20802106, 0.20979329, 0.21087343, 0.21203225, 0.21463871, 0.22147409, 0.23225307, 0.24057902, 0.18104881, 0.18260124, 0.18352548, 0.18450099, 0.18663558, 0.19197774, 0.20019884, 0.20720672, 0.05183317,\n",
       "        0.05474713, 0.0565844 , 0.05860045, 0.06325668, 0.07591708, 0.0957592 , 0.11021778, 0.04645618, 0.04892144, 0.05050645, 0.05227014, 0.05643118, 0.06825091, 0.08794598, 0.10304664, 0.04119371, 0.04303267, 0.04425334, 0.04564272, 0.04903367, 0.05934169, 0.07813149, 0.09359766, 0.03673971, 0.0377515 ,\n",
       "        0.03846842, 0.03932222, 0.04154867, 0.04925107, 0.06559982, 0.08065056, 0.03448634, 0.03460438, 0.03473765, 0.03493663, 0.03561142, 0.03910252, 0.04982064, 0.06224362, 0.03481974, 0.03461516, 0.03451943, 0.03444474, 0.03441435, 0.03541829, 0.04135044, 0.05047675, 0.03782765, 0.03755344, 0.03738795,\n",
       "        0.03721202, 0.03681005, 0.03586193, 0.03486121, 0.03531849, 0.04124101, 0.04125117, 0.04126235, 0.04130373, 0.04139552, 0.04156252, 0.0414564 , 0.0413155 ]),\n",
       " 'rank_test_score': array([15, 16, 17, 18, 19, 21, 24, 25,  9, 10, 11, 12, 13, 14, 20, 23,  1,  2,  3,  4,  5,  6,  7,  8, 43, 41, 39, 38, 35, 32, 27, 22, 50, 49, 44, 42, 40, 33, 29, 26, 55, 53, 52, 51, 48, 37, 31, 28, 61, 60, 59, 57, 54, 47, 34, 30, 68, 67, 65, 64, 62, 58, 46, 36, 74, 73, 71, 70, 69, 63, 56, 45, 80, 79, 78, 77,\n",
       "        76, 75, 72, 66, 83, 84, 85, 86, 87, 88, 82, 81], dtype=int32)}"
      ]
     },
     "execution_count": null,
     "metadata": {},
     "output_type": "execute_result"
    }
   ],
   "source": [
    "# Update Elastic Net pipeline to include 'ct_inter'\n",
    "\n",
    "elasticnet_pipeline_2 = Pipeline(\n",
    "    [(\"preprocessing\", ct),\n",
    "    (\"interaction\", ct_inter),\n",
    "    (\"elasticnet_regression\", ElasticNet())]\n",
    ")\n",
    "\n",
    "degrees = {\n",
    "    'elasticnet_regression__alpha': [0.01, 0.02, 0.1, 10, 12, 15, 20, 30, 40, 80, 200],\n",
    "    'elasticnet_regression__l1_ratio': [0.01, 0.1, 0.15, 0.2, 0.3, 0.5, 0.7, 0.8]\n",
    "}\n",
    "\n",
    "gscv = GridSearchCV(elasticnet_pipeline_2, degrees, cv = 5, scoring='r2')\n",
    "\n",
    "gscv_fitted = gscv.fit(X, y)\n",
    "gscv_fitted.cv_results_"
   ]
  },
  {
   "cell_type": "code",
   "execution_count": 257,
   "metadata": {
    "vscode": {
     "languageId": "python"
    }
   },
   "outputs": [
    {
     "data": {
      "text/html": [
       "<div>\n",
       "<style scoped>\n",
       "    .dataframe tbody tr th:only-of-type {\n",
       "        vertical-align: middle;\n",
       "    }\n",
       "\n",
       "    .dataframe tbody tr th {\n",
       "        vertical-align: top;\n",
       "    }\n",
       "\n",
       "    .dataframe thead th {\n",
       "        text-align: right;\n",
       "    }\n",
       "</style>\n",
       "<table border=\"1\" class=\"dataframe\">\n",
       "  <thead>\n",
       "    <tr style=\"text-align: right;\">\n",
       "      <th></th>\n",
       "      <th>degrees_lambda</th>\n",
       "      <th>degrees_alpha</th>\n",
       "      <th>scores_ElasticNet</th>\n",
       "    </tr>\n",
       "  </thead>\n",
       "  <tbody>\n",
       "    <tr>\n",
       "      <th>16</th>\n",
       "      <td>0.1</td>\n",
       "      <td>0.01</td>\n",
       "      <td>0.378674</td>\n",
       "    </tr>\n",
       "    <tr>\n",
       "      <th>17</th>\n",
       "      <td>0.1</td>\n",
       "      <td>0.10</td>\n",
       "      <td>0.377350</td>\n",
       "    </tr>\n",
       "    <tr>\n",
       "      <th>18</th>\n",
       "      <td>0.1</td>\n",
       "      <td>0.15</td>\n",
       "      <td>0.376551</td>\n",
       "    </tr>\n",
       "    <tr>\n",
       "      <th>19</th>\n",
       "      <td>0.1</td>\n",
       "      <td>0.20</td>\n",
       "      <td>0.375701</td>\n",
       "    </tr>\n",
       "    <tr>\n",
       "      <th>20</th>\n",
       "      <td>0.1</td>\n",
       "      <td>0.30</td>\n",
       "      <td>0.373819</td>\n",
       "    </tr>\n",
       "  </tbody>\n",
       "</table>\n",
       "</div>"
      ],
      "text/plain": [
       "    degrees_lambda  degrees_alpha  scores_ElasticNet\n",
       "16             0.1           0.01           0.378674\n",
       "17             0.1           0.10           0.377350\n",
       "18             0.1           0.15           0.376551\n",
       "19             0.1           0.20           0.375701\n",
       "20             0.1           0.30           0.373819"
      ]
     },
     "execution_count": null,
     "metadata": {},
     "output_type": "execute_result"
    }
   ],
   "source": [
    "alphas = gscv_fitted.cv_results_['param_elasticnet_regression__alpha'].data\n",
    "l1_ratios = gscv_fitted.cv_results_['param_elasticnet_regression__l1_ratio'].data\n",
    "mean_scores = gscv_fitted.cv_results_['mean_test_score']\n",
    "\n",
    "elasticnet_scores_4_df = pd.DataFrame({\n",
    "    \"degrees_lambda\": alphas, \n",
    "    \"degrees_alpha\": l1_ratios,\n",
    "    \"scores_ElasticNet\": mean_scores\n",
    "    })\n",
    "\n",
    "elasticnet_scores_4_df.sort_values(by='scores_ElasticNet', ascending=False).head()"
   ]
  },
  {
   "cell_type": "markdown",
   "metadata": {},
   "source": [
    "Based on different degrees of tunning, lambda = 0.1 and alpha = 0.01 in Elastic Net regression yields the highest R-sqaured score for this model."
   ]
  },
  {
   "cell_type": "code",
   "execution_count": 258,
   "metadata": {
    "vscode": {
     "languageId": "python"
    }
   },
   "outputs": [
    {
     "data": {
      "text/plain": [
       "array([-25.7449087 , 104.80120518,  -2.12358668, -25.74490556,  87.01928632, -25.48611988, -25.74490574, 119.26726015, -33.32519947, -25.74491047,  83.54455333, -26.51958006, -25.74491247,  54.69010498, -17.08399003])"
      ]
     },
     "execution_count": null,
     "metadata": {},
     "output_type": "execute_result"
    }
   ],
   "source": [
    "# fit the pipeline with the highest hyperparameters on full dataset\n",
    "elasticnet_pipeline_2.set_params(elasticnet_regression__alpha=0.1)\n",
    "elasticnet_pipeline_2.set_params(elasticnet_regression__l1_ratio=0.01)\n",
    "elasticnet_fitted_4 = elasticnet_pipeline_2.fit(X, y)\n",
    "elasticnet_fitted_4.named_steps['elasticnet_regression'].coef_"
   ]
  },
  {
   "cell_type": "code",
   "execution_count": 259,
   "metadata": {
    "vscode": {
     "languageId": "python"
    }
   },
   "outputs": [
    {
     "data": {
      "text/html": [
       "<div>\n",
       "<style scoped>\n",
       "    .dataframe tbody tr th:only-of-type {\n",
       "        vertical-align: middle;\n",
       "    }\n",
       "\n",
       "    .dataframe tbody tr th {\n",
       "        vertical-align: top;\n",
       "    }\n",
       "\n",
       "    .dataframe thead th {\n",
       "        text-align: right;\n",
       "    }\n",
       "</style>\n",
       "<table border=\"1\" class=\"dataframe\">\n",
       "  <thead>\n",
       "    <tr style=\"text-align: right;\">\n",
       "      <th></th>\n",
       "      <th>Variable</th>\n",
       "      <th>Coef_ElasticNet</th>\n",
       "    </tr>\n",
       "  </thead>\n",
       "  <tbody>\n",
       "    <tr>\n",
       "      <th>7</th>\n",
       "      <td>i_CRBI_DivW__standardize__CRBI</td>\n",
       "      <td>119.267260</td>\n",
       "    </tr>\n",
       "    <tr>\n",
       "      <th>1</th>\n",
       "      <td>i_Hits_DivW__standardize__Hits</td>\n",
       "      <td>104.801205</td>\n",
       "    </tr>\n",
       "    <tr>\n",
       "      <th>4</th>\n",
       "      <td>i_CRuns_DivW__standardize__CRuns</td>\n",
       "      <td>87.019286</td>\n",
       "    </tr>\n",
       "    <tr>\n",
       "      <th>10</th>\n",
       "      <td>i_PutOuts_DivW__standardize__PutOuts</td>\n",
       "      <td>83.544553</td>\n",
       "    </tr>\n",
       "    <tr>\n",
       "      <th>13</th>\n",
       "      <td>i_CHits_DivW__standardize__CHits</td>\n",
       "      <td>54.690105</td>\n",
       "    </tr>\n",
       "    <tr>\n",
       "      <th>2</th>\n",
       "      <td>i_Hits_DivW__dummify__Division_W standardize__...</td>\n",
       "      <td>-2.123587</td>\n",
       "    </tr>\n",
       "    <tr>\n",
       "      <th>14</th>\n",
       "      <td>i_CHits_DivW__dummify__Division_W standardize_...</td>\n",
       "      <td>-17.083990</td>\n",
       "    </tr>\n",
       "    <tr>\n",
       "      <th>5</th>\n",
       "      <td>i_CRuns_DivW__dummify__Division_W standardize_...</td>\n",
       "      <td>-25.486120</td>\n",
       "    </tr>\n",
       "    <tr>\n",
       "      <th>3</th>\n",
       "      <td>i_CRuns_DivW__dummify__Division_W</td>\n",
       "      <td>-25.744906</td>\n",
       "    </tr>\n",
       "    <tr>\n",
       "      <th>6</th>\n",
       "      <td>i_CRBI_DivW__dummify__Division_W</td>\n",
       "      <td>-25.744906</td>\n",
       "    </tr>\n",
       "    <tr>\n",
       "      <th>0</th>\n",
       "      <td>i_Hits_DivW__dummify__Division_W</td>\n",
       "      <td>-25.744909</td>\n",
       "    </tr>\n",
       "    <tr>\n",
       "      <th>9</th>\n",
       "      <td>i_PutOuts_DivW__dummify__Division_W</td>\n",
       "      <td>-25.744910</td>\n",
       "    </tr>\n",
       "    <tr>\n",
       "      <th>12</th>\n",
       "      <td>i_CHits_DivW__dummify__Division_W</td>\n",
       "      <td>-25.744912</td>\n",
       "    </tr>\n",
       "    <tr>\n",
       "      <th>11</th>\n",
       "      <td>i_PutOuts_DivW__dummify__Division_W standardiz...</td>\n",
       "      <td>-26.519580</td>\n",
       "    </tr>\n",
       "    <tr>\n",
       "      <th>8</th>\n",
       "      <td>i_CRBI_DivW__dummify__Division_W standardize__...</td>\n",
       "      <td>-33.325199</td>\n",
       "    </tr>\n",
       "  </tbody>\n",
       "</table>\n",
       "</div>"
      ],
      "text/plain": [
       "                                             Variable  Coef_ElasticNet\n",
       "7                      i_CRBI_DivW__standardize__CRBI       119.267260\n",
       "1                      i_Hits_DivW__standardize__Hits       104.801205\n",
       "4                    i_CRuns_DivW__standardize__CRuns        87.019286\n",
       "10               i_PutOuts_DivW__standardize__PutOuts        83.544553\n",
       "13                   i_CHits_DivW__standardize__CHits        54.690105\n",
       "2   i_Hits_DivW__dummify__Division_W standardize__...        -2.123587\n",
       "14  i_CHits_DivW__dummify__Division_W standardize_...       -17.083990\n",
       "5   i_CRuns_DivW__dummify__Division_W standardize_...       -25.486120\n",
       "3                   i_CRuns_DivW__dummify__Division_W       -25.744906\n",
       "6                    i_CRBI_DivW__dummify__Division_W       -25.744906\n",
       "0                    i_Hits_DivW__dummify__Division_W       -25.744909\n",
       "9                 i_PutOuts_DivW__dummify__Division_W       -25.744910\n",
       "12                  i_CHits_DivW__dummify__Division_W       -25.744912\n",
       "11  i_PutOuts_DivW__dummify__Division_W standardiz...       -26.519580\n",
       "8   i_CRBI_DivW__dummify__Division_W standardize__...       -33.325199"
      ]
     },
     "execution_count": null,
     "metadata": {},
     "output_type": "execute_result"
    }
   ],
   "source": [
    "# turn coefficients to a dataframe\n",
    "\n",
    "coef_df_Elasticnet_4 = pd.DataFrame({'Variable': beta_headers_2, 'Coef_ElasticNet': elasticnet_fitted_4.named_steps['elasticnet_regression'].coef_})\n",
    "coef_df_Elasticnet_4.sort_values(by=['Coef_ElasticNet'], ascending=False)"
   ]
  },
  {
   "cell_type": "code",
   "execution_count": 260,
   "metadata": {
    "vscode": {
     "languageId": "python"
    }
   },
   "outputs": [
    {
     "data": {
      "text/plain": [
       "np.float64(103342.96630816719)"
      ]
     },
     "execution_count": null,
     "metadata": {},
     "output_type": "execute_result"
    }
   ],
   "source": [
    "# MSE\n",
    "\n",
    "y_pred = elasticnet_fitted_4.predict(X)\n",
    "MSE_ElasticNet_4 = mean_squared_error(y, y_pred)\n",
    "MSE_ElasticNet_4"
   ]
  },
  {
   "cell_type": "code",
   "execution_count": 261,
   "metadata": {
    "vscode": {
     "languageId": "python"
    }
   },
   "outputs": [
    {
     "data": {
      "text/plain": [
       "0.49025408118126157"
      ]
     },
     "execution_count": null,
     "metadata": {},
     "output_type": "execute_result"
    }
   ],
   "source": [
    "# R-squared\n",
    "Rsq_ElasticNet_4 = r2_score(y, y_pred)\n",
    "Rsq_ElasticNet_4"
   ]
  },
  {
   "cell_type": "markdown",
   "metadata": {},
   "source": [
    "The MSE of this Elastic Net model prediction is 103342. The R-squared is 0.490 on full data or 0.378 during tuning for best 'lambda' and 'alpha'."
   ]
  },
  {
   "cell_type": "code",
   "execution_count": 271,
   "metadata": {
    "vscode": {
     "languageId": "python"
    }
   },
   "outputs": [
    {
     "name": "stdout",
     "output_type": "stream",
     "text": [
      "OLR MSEs:\n",
      "model 1:  121136.31031816879\n",
      "model 2:  173088.97286444032\n",
      "model 3:  123098.16579519198\n",
      "model 4:  133026.89979841223\n",
      "Ridge MSEs:\n",
      "model 1:  110391.53707120112\n",
      "model 2:  164400.89679546104\n",
      "model 3:  112223.39942811005\n",
      "model 4:  105971.03148483265\n",
      "Lasso MSEs:\n",
      "model 1:  106297.82456925086\n",
      "model 2:  164120.99350664712\n",
      "model 3:  111043.76902758019\n",
      "model 4:  107950.4553471575\n",
      "ElasticNet MSEs:\n",
      "model 1:  100526.0956012104\n",
      "model 2:  164037.6087637829\n",
      "model 3:  110714.23298339064\n",
      "model 4:  103342.96630816719\n",
      "OLR MSEs:\n",
      "model 1:  121136.31031816879\n",
      "model 2:  173088.97286444032\n",
      "model 3:  123098.16579519198\n",
      "model 4:  133026.89979841223\n",
      "Ridge MSEs:\n",
      "model 1:  110391.53707120112\n",
      "model 2:  164400.89679546104\n",
      "model 3:  112223.39942811005\n",
      "model 4:  105971.03148483265\n",
      "Lasso MSEs:\n",
      "model 1:  106297.82456925086\n",
      "model 2:  164120.99350664712\n",
      "model 3:  111043.76902758019\n",
      "model 4:  107950.4553471575\n",
      "ElasticNet MSEs:\n",
      "model 1:  100526.0956012104\n",
      "model 2:  164037.6087637829\n",
      "model 3:  110714.23298339064\n",
      "model 4:  103342.96630816719\n"
     ]
    }
   ],
   "source": [
    "# Comparions on all models MSEs\n",
    "\n",
    "print('OLR MSEs:')\n",
    "print('model 1: ', np.mean(lr_mse_scores))\n",
    "print('model 2: ', np.mean(lr_2_mse_scores))\n",
    "print('model 3: ', np.mean(lr_3_mse_scores))\n",
    "print('model 4: ', np.mean(lr_4_mse_scores))\n",
    "\n",
    "print('Ridge MSEs:')\n",
    "print('model 1: ', MSE_Ridge_1)\n",
    "print('model 2: ', MSE_Ridge_2)\n",
    "print('model 3: ', MSE_Ridge_3)\n",
    "print('model 4: ', MSE_Ridge_4)\n",
    "\n",
    "print('Lasso MSEs:')\n",
    "print('model 1: ', MSE_Lasso_1)\n",
    "print('model 2: ', MSE_Lasso_2)\n",
    "print('model 3: ', MSE_Lasso_3)\n",
    "print('model 4: ', MSE_Lasso_4)\n",
    "\n",
    "print('ElasticNet MSEs:')\n",
    "print('model 1: ', MSE_ElasticNet_1)\n",
    "print('model 2: ', MSE_ElasticNet_2)\n",
    "print('model 3: ', MSE_ElasticNet_3)\n",
    "print('model 4: ', MSE_ElasticNet_4)\n"
   ]
  },
  {
   "cell_type": "markdown",
   "metadata": {},
   "source": [
    "### Report which combination of features and model performed best, based on the validation metric of MSE.\n",
    "\n",
    "The intra-model comparison of different parameters and are mentioned throughout course of the section code, concluding which parameters were selected for the final model fit and the reported MSE and r-squared for each.\n",
    "\n",
    "When it comes to comparison between all 'final' models, based on the lowest MSE:\n",
    "- Winner: ElasticNet model with Feature set 1 (X = all variables, excluding y; y = Salary)\n",
    "- Runner-up: ElasticNet model with Feature set 4 (incl. interaction) scored the second lowest MSE among all other models. However, considering a prior mentioned bug in the 'ct_inter' Column Transformer this model 'when fixed' could possibly perform better and outperform overspecified (overfit) Model 1."
   ]
  },
  {
   "cell_type": "code",
   "execution_count": 274,
   "metadata": {
    "vscode": {
     "languageId": "python"
    }
   },
   "outputs": [
    {
     "name": "stdout",
     "output_type": "stream",
     "text": [
      "OLR R-squared:\n",
      "model 1:  0.3434950217881679\n",
      "model 2:  0.12221278728446772\n",
      "model 3:  0.3657473978390294\n",
      "model 4:  0.3004892960676628\n",
      "Ridge R-squared:\n",
      "model 1:  0.4554865463570007\n",
      "model 2:  0.18908185834603863\n",
      "model 3:  0.44645076585223487\n",
      "model 4:  0.47729097835914913\n",
      "Lasso R-squared:\n",
      "model 1:  0.4756790501647946\n",
      "model 2:  0.19046249956656813\n",
      "model 3:  0.452269369709526\n",
      "model 4:  0.46752734110856276\n",
      "ElasticNet R-squared:\n",
      "model 1:  0.5041484795908202\n",
      "model 2:  0.1908738002470618\n",
      "model 3:  0.4538948277317816\n",
      "model 4:  0.49025408118126157\n",
      "OLR R-squared:\n",
      "model 1:  0.3434950217881679\n",
      "model 2:  0.12221278728446772\n",
      "model 3:  0.3657473978390294\n",
      "model 4:  0.3004892960676628\n",
      "Ridge R-squared:\n",
      "model 1:  0.4554865463570007\n",
      "model 2:  0.18908185834603863\n",
      "model 3:  0.44645076585223487\n",
      "model 4:  0.47729097835914913\n",
      "Lasso R-squared:\n",
      "model 1:  0.4756790501647946\n",
      "model 2:  0.19046249956656813\n",
      "model 3:  0.452269369709526\n",
      "model 4:  0.46752734110856276\n",
      "ElasticNet R-squared:\n",
      "model 1:  0.5041484795908202\n",
      "model 2:  0.1908738002470618\n",
      "model 3:  0.4538948277317816\n",
      "model 4:  0.49025408118126157\n"
     ]
    }
   ],
   "source": [
    "print('OLR R-squared:')\n",
    "print('model 1: ', np.mean(lr_cv_scores))\n",
    "print('model 2: ', np.mean(lr_2_cv_scores))\n",
    "print('model 3: ', np.mean(lr_3_cv_scores))\n",
    "print('model 4: ', np.mean(lr_4_cv_scores))\n",
    "\n",
    "\n",
    "print('Ridge R-squared:')\n",
    "print('model 1: ', Rsq_Ridge_1)\n",
    "print('model 2: ', Rsq_Ridge_2)\n",
    "print('model 3: ', Rsq_Ridge_3)\n",
    "print('model 4: ', Rsq_Ridge_4)\n",
    "\n",
    "print('Lasso R-squared:')\n",
    "print('model 1: ', Rsq_Lasso_1)\n",
    "print('model 2: ', Rsq_Lasso_2)\n",
    "print('model 3: ', Rsq_Lasso_3)\n",
    "print('model 4: ', Rsq_Lasso_4)\n",
    "\n",
    "print('ElasticNet R-squared:')\n",
    "print('model 1: ', Rsq_ElNet_1)\n",
    "print('model 2: ', Rsq_ElasticNet_2)\n",
    "print('model 3: ', Rsq_ElasticNet_3)\n",
    "print('model 4: ', Rsq_ElasticNet_4)"
   ]
  },
  {
   "cell_type": "markdown",
   "metadata": {},
   "source": [
    "When looking at R-squared metrics, again ElasticNet model 1 (all params) has the highest r-squared metric (when fit on all data), while ElasticNet model 4 (interaction) has the second highest r-squared score on full data."
   ]
  },
  {
   "cell_type": "markdown",
   "metadata": {},
   "source": [
    "## Part III. Discussion"
   ]
  },
  {
   "cell_type": "markdown",
   "metadata": {},
   "source": [
    "Note: I discussed the results and compared each model over the course of the assignment steps. Therefore, I will summarize key observations in answer to questions below.\n",
    "\n",
    "### A. Ridge\n",
    "Compare your Ridge models with your ordinary regression models. How did your coefficients compare? Why does this make sense?\n",
    "\n",
    "#### Answer:\n",
    "The range of coefficients values in Ridge are more narrow than in LR, also less negative coefficients. Surprisingly, however, in some instances metrics like HmRun had among lowest coefficient in Ridge, while where among highest in LR (which makes a bit more sense intuitively).\n",
    "It makes sense, that the range of coefficients is narrower than in OLR, due to Ridge introducing a penalty the reduces the value of coefficients (for overfitting the model), while OLR disregards this and number of variables only affects the magnitude of the estimated coefficients (how much one variable drags value association compared to the other/s) without penalty."
   ]
  },
  {
   "cell_type": "markdown",
   "metadata": {},
   "source": [
    "### B. LASSO\n",
    "Compare your LASSO model in I with your three LASSO models in II. Did you get the same results? Why does this make sense? Did you get the same MSEs? Why does this make sense?\n",
    "\n",
    "#### Answer:\n",
    "The results between various LASSO models where different. The only similarity between each LASSO model, was the hyperparameter 'lambda' - during tuning, in all cases it maxed the r-squared score at lambda = 20, which implies that the regularization strength was consistent across all models. Other than that the results were close, but not identical, for the R-squared scores fit on full data, while the MSE results were considerably different between LASSO Model in Part I and Models 3 & 4 in part II.\n",
    "\n",
    "Model 1 had the advantage of using all variables, providing a comprehensive fit and leading to the highest R-squared value and lowest MSE.\n",
    "Model 2 had limited input (X = 'Hits') which constrained its ability to explain the response, resulting in poor performance.\n",
    "Model 3 benefited from using the top 5 variables, improving the model’s fit and explanatory power compared to Model 2.\n",
    "Model 4 took it a step further by incorporating interaction terms, which slightly improved the model’s capacity to explain variance by considering how variables interact. However, this did not drastically change the outcome compared to using all variables (Model 1), also considering a bug in 'ct_inter' ColumnTransformer step, which could impact the Model 4 results by overfitting bias and affecting the MSE."
   ]
  },
  {
   "cell_type": "markdown",
   "metadata": {},
   "source": [
    "### C. Elastic Net\n",
    "Compare your MSEs for the Elastic Net models with those for the Ridge and LASSO models. Why does it make sense that Elastic Net always “wins”?\n",
    "\n",
    "#### Answer:\n",
    "In most cases the MSEs from Elastic Net models were slightly better than it's counterpart models (based on same input parameters) from Ridge or Lasso regressions. This makes sense, as the 'Elastic net' (likely, as the name suggests) has a higher flexibility in tuning and takes advantage of combining penalties from both other model types 'Ridge' (to reduce variance) and 'Lasso' (shrinking coefficients to 0) and can effectively leverage best from both, leading to lower prediction errors. Also, Elastic net can also better distribute the weight between multiple correlated features, compared to Lasso, as was the case in these models."
   ]
  },
  {
   "cell_type": "markdown",
   "metadata": {},
   "source": [
    "## Part IV: Final Model\n",
    "Fit your final best pipeline on the full dataset, and summarize your results in a few short sentences and a plot."
   ]
  },
  {
   "cell_type": "markdown",
   "metadata": {},
   "source": [
    "The best pipeline based on Lowest MSE scores and highest R-squared is in ElasticNet Model I (all x parameters, excl. y). The fitting of this model on a full dataset was already done in Part I, lines 135-138."
   ]
  },
  {
   "cell_type": "markdown",
   "metadata": {
    "vscode": {
     "languageId": "python"
    }
   },
   "source": [
    "### re-running the model pipeline on full data to overwrite and prior results from other models, for plotting"
   ]
  },
  {
   "cell_type": "code",
   "execution_count": 332,
   "metadata": {
    "vscode": {
     "languageId": "python"
    }
   },
   "outputs": [],
   "source": [
    "# Select variables\n",
    "X = bbp.drop([\"Salary\"], axis = 1)\n",
    "y = bbp[\"Salary\"]"
   ]
  },
  {
   "cell_type": "code",
   "execution_count": 333,
   "metadata": {
    "vscode": {
     "languageId": "python"
    }
   },
   "outputs": [
    {
     "data": {
      "text/html": [
       "<div>\n",
       "<style scoped>\n",
       "    .dataframe tbody tr th:only-of-type {\n",
       "        vertical-align: middle;\n",
       "    }\n",
       "\n",
       "    .dataframe tbody tr th {\n",
       "        vertical-align: top;\n",
       "    }\n",
       "\n",
       "    .dataframe thead th {\n",
       "        text-align: right;\n",
       "    }\n",
       "</style>\n",
       "<table border=\"1\" class=\"dataframe\">\n",
       "  <thead>\n",
       "    <tr style=\"text-align: right;\">\n",
       "      <th></th>\n",
       "      <th>Variable</th>\n",
       "      <th>Coef_ElasticNet</th>\n",
       "    </tr>\n",
       "  </thead>\n",
       "  <tbody>\n",
       "    <tr>\n",
       "      <th>4</th>\n",
       "      <td>standardize__Hits</td>\n",
       "      <td>93.770373</td>\n",
       "    </tr>\n",
       "    <tr>\n",
       "      <th>13</th>\n",
       "      <td>standardize__CRuns</td>\n",
       "      <td>76.341491</td>\n",
       "    </tr>\n",
       "    <tr>\n",
       "      <th>14</th>\n",
       "      <td>standardize__CRBI</td>\n",
       "      <td>71.952408</td>\n",
       "    </tr>\n",
       "    <tr>\n",
       "      <th>16</th>\n",
       "      <td>standardize__PutOuts</td>\n",
       "      <td>70.999388</td>\n",
       "    </tr>\n",
       "    <tr>\n",
       "      <th>11</th>\n",
       "      <td>standardize__CHits</td>\n",
       "      <td>70.760947</td>\n",
       "    </tr>\n",
       "    <tr>\n",
       "      <th>8</th>\n",
       "      <td>standardize__Walks</td>\n",
       "      <td>60.694001</td>\n",
       "    </tr>\n",
       "    <tr>\n",
       "      <th>12</th>\n",
       "      <td>standardize__CHmRun</td>\n",
       "      <td>51.906337</td>\n",
       "    </tr>\n",
       "    <tr>\n",
       "      <th>6</th>\n",
       "      <td>standardize__Runs</td>\n",
       "      <td>30.706378</td>\n",
       "    </tr>\n",
       "    <tr>\n",
       "      <th>0</th>\n",
       "      <td>dummify__League_N</td>\n",
       "      <td>28.573703</td>\n",
       "    </tr>\n",
       "    <tr>\n",
       "      <th>7</th>\n",
       "      <td>standardize__RBI</td>\n",
       "      <td>22.602479</td>\n",
       "    </tr>\n",
       "    <tr>\n",
       "      <th>17</th>\n",
       "      <td>standardize__Assists</td>\n",
       "      <td>18.886688</td>\n",
       "    </tr>\n",
       "    <tr>\n",
       "      <th>10</th>\n",
       "      <td>standardize__CAtBat</td>\n",
       "      <td>10.626683</td>\n",
       "    </tr>\n",
       "    <tr>\n",
       "      <th>2</th>\n",
       "      <td>dummify__NewLeague_N</td>\n",
       "      <td>2.976319</td>\n",
       "    </tr>\n",
       "    <tr>\n",
       "      <th>5</th>\n",
       "      <td>standardize__HmRun</td>\n",
       "      <td>-13.139409</td>\n",
       "    </tr>\n",
       "    <tr>\n",
       "      <th>18</th>\n",
       "      <td>standardize__Errors</td>\n",
       "      <td>-21.802276</td>\n",
       "    </tr>\n",
       "    <tr>\n",
       "      <th>9</th>\n",
       "      <td>standardize__Years</td>\n",
       "      <td>-31.657173</td>\n",
       "    </tr>\n",
       "    <tr>\n",
       "      <th>15</th>\n",
       "      <td>standardize__CWalks</td>\n",
       "      <td>-42.609017</td>\n",
       "    </tr>\n",
       "    <tr>\n",
       "      <th>3</th>\n",
       "      <td>standardize__AtBat</td>\n",
       "      <td>-61.584499</td>\n",
       "    </tr>\n",
       "    <tr>\n",
       "      <th>1</th>\n",
       "      <td>dummify__Division_W</td>\n",
       "      <td>-93.528991</td>\n",
       "    </tr>\n",
       "  </tbody>\n",
       "</table>\n",
       "</div>"
      ],
      "text/plain": [
       "                Variable  Coef_ElasticNet\n",
       "4      standardize__Hits        93.770373\n",
       "13    standardize__CRuns        76.341491\n",
       "14     standardize__CRBI        71.952408\n",
       "16  standardize__PutOuts        70.999388\n",
       "11    standardize__CHits        70.760947\n",
       "8     standardize__Walks        60.694001\n",
       "12   standardize__CHmRun        51.906337\n",
       "6      standardize__Runs        30.706378\n",
       "0      dummify__League_N        28.573703\n",
       "7       standardize__RBI        22.602479\n",
       "17  standardize__Assists        18.886688\n",
       "10   standardize__CAtBat        10.626683\n",
       "2   dummify__NewLeague_N         2.976319\n",
       "5     standardize__HmRun       -13.139409\n",
       "18   standardize__Errors       -21.802276\n",
       "9     standardize__Years       -31.657173\n",
       "15   standardize__CWalks       -42.609017\n",
       "3     standardize__AtBat       -61.584499\n",
       "1    dummify__Division_W       -93.528991"
      ]
     },
     "execution_count": null,
     "metadata": {},
     "output_type": "execute_result"
    }
   ],
   "source": [
    "# fit the pipeline with the highest hyperparameters on full dataset, tunned on best scoring parameters\n",
    "elasticnet_pipeline_1.set_params(elasticnet_regression__alpha=0.1)\n",
    "elasticnet_pipeline_1.set_params(elasticnet_regression__l1_ratio=0.01)\n",
    "elasticnet_fitted = elasticnet_pipeline_1.fit(X, y)\n",
    "elasticnet_fitted.named_steps['elasticnet_regression'].coef_\n",
    "\n",
    "# df with model coefficients\n",
    "columns_to_extract = X_head.columns.tolist()  # list of columns from 'X head'\n",
    "beta_headers = [col for col in columns_to_extract if col != X_head.index.name] # Ensures index column is skipped\n",
    "coef_df_Elasticnet = pd.DataFrame({'Variable': beta_headers, 'Coef_ElasticNet': elasticnet_fitted.named_steps['elasticnet_regression'].coef_})\n",
    "coef_df_Elasticnet.sort_values(by=['Coef_ElasticNet'], ascending=False)"
   ]
  },
  {
   "cell_type": "code",
   "execution_count": 334,
   "metadata": {
    "vscode": {
     "languageId": "python"
    }
   },
   "outputs": [
    {
     "name": "stdout",
     "output_type": "stream",
     "text": [
      "ElasticNet Model 1 R-squared:  0.5041484795908202\n",
      "ElasticNet Model 1 MSE:  100526.0956012104\n",
      "ElasticNet Model 1 R-squared:  0.5041484795908202\n",
      "ElasticNet Model 1 MSE:  100526.0956012104\n"
     ]
    }
   ],
   "source": [
    "# Model prediction on X\n",
    "y_pred_en = elasticnet_fitted.predict(X)\n",
    "\n",
    "# R-squared\n",
    "Rsq_EN_1 = r2_score(y, y_pred_en)\n",
    "\n",
    "# MSE\n",
    "MSE_EN_1 = mean_squared_error(y, y_pred_en)\n",
    "\n",
    "print(\"ElasticNet Model 1 R-squared: \", Rsq_EN_1)\n",
    "print(\"ElasticNet Model 1 MSE: \", MSE_EN_1)"
   ]
  },
  {
   "cell_type": "markdown",
   "metadata": {},
   "source": [
    "Create dataframe for plot of actual and predicted y_values\n",
    "note: had some issues with straightforward adding y_pred to y dataframe, hence converted y to array first and then both to df."
   ]
  },
  {
   "cell_type": "code",
   "execution_count": 350,
   "metadata": {
    "vscode": {
     "languageId": "python"
    }
   },
   "outputs": [],
   "source": [
    "y_ar = y.to_numpy()"
   ]
  },
  {
   "cell_type": "code",
   "execution_count": 351,
   "metadata": {
    "vscode": {
     "languageId": "python"
    }
   },
   "outputs": [],
   "source": [
    "df_plt = pd.DataFrame({\n",
    "    'Actual Salary': y_ar,\n",
    "    'Predicted Salary': y_pred_en\n",
    "})"
   ]
  },
  {
   "cell_type": "code",
   "execution_count": 352,
   "metadata": {
    "vscode": {
     "languageId": "python"
    }
   },
   "outputs": [
    {
     "data": {
      "text/html": [
       "<div>\n",
       "<style scoped>\n",
       "    .dataframe tbody tr th:only-of-type {\n",
       "        vertical-align: middle;\n",
       "    }\n",
       "\n",
       "    .dataframe tbody tr th {\n",
       "        vertical-align: top;\n",
       "    }\n",
       "\n",
       "    .dataframe thead th {\n",
       "        text-align: right;\n",
       "    }\n",
       "</style>\n",
       "<table border=\"1\" class=\"dataframe\">\n",
       "  <thead>\n",
       "    <tr style=\"text-align: right;\">\n",
       "      <th></th>\n",
       "      <th>Actual Salary</th>\n",
       "      <th>Predicted Salary</th>\n",
       "    </tr>\n",
       "  </thead>\n",
       "  <tbody>\n",
       "    <tr>\n",
       "      <th>0</th>\n",
       "      <td>475.0</td>\n",
       "      <td>474.818107</td>\n",
       "    </tr>\n",
       "    <tr>\n",
       "      <th>1</th>\n",
       "      <td>480.0</td>\n",
       "      <td>680.731484</td>\n",
       "    </tr>\n",
       "    <tr>\n",
       "      <th>2</th>\n",
       "      <td>500.0</td>\n",
       "      <td>1010.524221</td>\n",
       "    </tr>\n",
       "    <tr>\n",
       "      <th>3</th>\n",
       "      <td>91.5</td>\n",
       "      <td>492.638898</td>\n",
       "    </tr>\n",
       "    <tr>\n",
       "      <th>4</th>\n",
       "      <td>750.0</td>\n",
       "      <td>564.014865</td>\n",
       "    </tr>\n",
       "    <tr>\n",
       "      <th>...</th>\n",
       "      <td>...</td>\n",
       "      <td>...</td>\n",
       "    </tr>\n",
       "    <tr>\n",
       "      <th>258</th>\n",
       "      <td>700.0</td>\n",
       "      <td>639.362070</td>\n",
       "    </tr>\n",
       "    <tr>\n",
       "      <th>259</th>\n",
       "      <td>875.0</td>\n",
       "      <td>875.492020</td>\n",
       "    </tr>\n",
       "    <tr>\n",
       "      <th>260</th>\n",
       "      <td>385.0</td>\n",
       "      <td>332.184946</td>\n",
       "    </tr>\n",
       "    <tr>\n",
       "      <th>261</th>\n",
       "      <td>960.0</td>\n",
       "      <td>1038.334850</td>\n",
       "    </tr>\n",
       "    <tr>\n",
       "      <th>262</th>\n",
       "      <td>1000.0</td>\n",
       "      <td>683.533376</td>\n",
       "    </tr>\n",
       "  </tbody>\n",
       "</table>\n",
       "<p>263 rows × 2 columns</p>\n",
       "</div>"
      ],
      "text/plain": [
       "     Actual Salary  Predicted Salary\n",
       "0            475.0        474.818107\n",
       "1            480.0        680.731484\n",
       "2            500.0       1010.524221\n",
       "3             91.5        492.638898\n",
       "4            750.0        564.014865\n",
       "..             ...               ...\n",
       "258          700.0        639.362070\n",
       "259          875.0        875.492020\n",
       "260          385.0        332.184946\n",
       "261          960.0       1038.334850\n",
       "262         1000.0        683.533376\n",
       "\n",
       "[263 rows x 2 columns]"
      ]
     },
     "execution_count": null,
     "metadata": {},
     "output_type": "execute_result"
    }
   ],
   "source": [
    "df_plt"
   ]
  },
  {
   "cell_type": "code",
   "execution_count": 355,
   "metadata": {
    "vscode": {
     "languageId": "python"
    }
   },
   "outputs": [
    {
     "data": {
      "image/png": "[encoded data removed]"
     },
     "metadata": {},
     "output_type": "display_data"
    }
   ],
   "source": [
    "from plotnine import *\n",
    "(ggplot(df_plt, aes(x = \"Actual Salary\", y = \"Predicted Salary\"))\n",
    "+ geom_point()\n",
    "+ geom_smooth(method = 'lm')\n",
    "+ labs(title = 'Elastic Net \"model 1\" Salary prediction')\n",
    ")"
   ]
  },
  {
   "cell_type": "markdown",
   "metadata": {},
   "source": [
    "On the plot it's visible how the Elastic Net model prediction line fits the trend of the actual salary data, however it also under and overestimates compared to the actual data on both low and high ends of values."
   ]
  }
 ],
 "metadata": {
  "language_info": {
   "name": "raw"
  }
 },
 "nbformat": 4,
 "nbformat_minor": 2
}
