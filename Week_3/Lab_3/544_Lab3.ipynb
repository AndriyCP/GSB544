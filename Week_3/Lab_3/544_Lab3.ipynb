{
 "cells": [
  {
   "cell_type": "raw",
   "metadata": {},
   "source": [
    "---\n",
    "embed-resources: true\n",
    "title: \"544: Lab 3 assignment\"\n",
    "author: \"Andriy Uspishnyi\"\n",
    "date: \"2024-14-08\"\n",
    "output: \n",
    "  html_document:\n",
    "    theme: \"cosmo\" \n",
    "---"
   ]
  },
  {
   "cell_type": "code",
   "execution_count": 1,
   "metadata": {
    "vscode": {
     "languageId": "python"
    }
   },
   "outputs": [],
   "source": [
    "# importing packages\n",
    "import pandas as pd\n",
    "import numpy as np"
   ]
  },
  {
   "cell_type": "code",
   "execution_count": 2,
   "metadata": {
    "vscode": {
     "languageId": "python"
    }
   },
   "outputs": [],
   "source": [
    "# improting data\n",
    "# xmas = pd.read_csv(\"https://www.dropbox.com/scl/fi/qxaslqqp5p08i1650rpc4/xmas.csv?rlkey=erdxi7jbh7pqf9fh4lv4cayp5&dl=1\")\n",
    "\n",
    "xmas = pd.read_csv(\"/Users/andriy/Desktop/GSB544_ML/Week_3/Lab_3/xmas.csv\")"
   ]
  },
  {
   "cell_type": "code",
   "execution_count": 3,
   "metadata": {
    "vscode": {
     "languageId": "python"
    }
   },
   "outputs": [
    {
     "data": {
      "text/html": [
       "<div>\n",
       "<style scoped>\n",
       "    .dataframe tbody tr th:only-of-type {\n",
       "        vertical-align: middle;\n",
       "    }\n",
       "\n",
       "    .dataframe tbody tr th {\n",
       "        vertical-align: top;\n",
       "    }\n",
       "\n",
       "    .dataframe thead th {\n",
       "        text-align: right;\n",
       "    }\n",
       "</style>\n",
       "<table border=\"1\" class=\"dataframe\">\n",
       "  <thead>\n",
       "    <tr style=\"text-align: right;\">\n",
       "      <th></th>\n",
       "      <th>Day</th>\n",
       "      <th>Day.in.Words</th>\n",
       "      <th>Gift.Item</th>\n",
       "      <th>Verb</th>\n",
       "      <th>Adjective</th>\n",
       "      <th>Location</th>\n",
       "    </tr>\n",
       "  </thead>\n",
       "  <tbody>\n",
       "    <tr>\n",
       "      <th>0</th>\n",
       "      <td>1</td>\n",
       "      <td>first</td>\n",
       "      <td>partridge</td>\n",
       "      <td>NaN</td>\n",
       "      <td>NaN</td>\n",
       "      <td>in a pear tree</td>\n",
       "    </tr>\n",
       "    <tr>\n",
       "      <th>1</th>\n",
       "      <td>2</td>\n",
       "      <td>second</td>\n",
       "      <td>dove</td>\n",
       "      <td>NaN</td>\n",
       "      <td>turtle</td>\n",
       "      <td>NaN</td>\n",
       "    </tr>\n",
       "    <tr>\n",
       "      <th>2</th>\n",
       "      <td>3</td>\n",
       "      <td>third</td>\n",
       "      <td>hen</td>\n",
       "      <td>NaN</td>\n",
       "      <td>french</td>\n",
       "      <td>NaN</td>\n",
       "    </tr>\n",
       "    <tr>\n",
       "      <th>3</th>\n",
       "      <td>4</td>\n",
       "      <td>fourth</td>\n",
       "      <td>bird</td>\n",
       "      <td>NaN</td>\n",
       "      <td>calling</td>\n",
       "      <td>NaN</td>\n",
       "    </tr>\n",
       "    <tr>\n",
       "      <th>4</th>\n",
       "      <td>5</td>\n",
       "      <td>fifth</td>\n",
       "      <td>ring</td>\n",
       "      <td>NaN</td>\n",
       "      <td>golden</td>\n",
       "      <td>NaN</td>\n",
       "    </tr>\n",
       "    <tr>\n",
       "      <th>5</th>\n",
       "      <td>6</td>\n",
       "      <td>sixth</td>\n",
       "      <td>goose</td>\n",
       "      <td>a-laying</td>\n",
       "      <td>NaN</td>\n",
       "      <td>NaN</td>\n",
       "    </tr>\n",
       "    <tr>\n",
       "      <th>6</th>\n",
       "      <td>7</td>\n",
       "      <td>seventh</td>\n",
       "      <td>swan</td>\n",
       "      <td>a-swimming</td>\n",
       "      <td>NaN</td>\n",
       "      <td>NaN</td>\n",
       "    </tr>\n",
       "    <tr>\n",
       "      <th>7</th>\n",
       "      <td>8</td>\n",
       "      <td>eighth</td>\n",
       "      <td>maid</td>\n",
       "      <td>a-milking</td>\n",
       "      <td>NaN</td>\n",
       "      <td>NaN</td>\n",
       "    </tr>\n",
       "    <tr>\n",
       "      <th>8</th>\n",
       "      <td>9</td>\n",
       "      <td>ninth</td>\n",
       "      <td>lady</td>\n",
       "      <td>dancing</td>\n",
       "      <td>NaN</td>\n",
       "      <td>NaN</td>\n",
       "    </tr>\n",
       "    <tr>\n",
       "      <th>9</th>\n",
       "      <td>10</td>\n",
       "      <td>tenth</td>\n",
       "      <td>lord</td>\n",
       "      <td>a-leaping</td>\n",
       "      <td>NaN</td>\n",
       "      <td>NaN</td>\n",
       "    </tr>\n",
       "    <tr>\n",
       "      <th>10</th>\n",
       "      <td>11</td>\n",
       "      <td>eleventh</td>\n",
       "      <td>piper</td>\n",
       "      <td>piping</td>\n",
       "      <td>NaN</td>\n",
       "      <td>NaN</td>\n",
       "    </tr>\n",
       "    <tr>\n",
       "      <th>11</th>\n",
       "      <td>12</td>\n",
       "      <td>twelfth</td>\n",
       "      <td>drummer</td>\n",
       "      <td>drumming</td>\n",
       "      <td>NaN</td>\n",
       "      <td>NaN</td>\n",
       "    </tr>\n",
       "  </tbody>\n",
       "</table>\n",
       "</div>"
      ],
      "text/plain": [
       "    Day Day.in.Words  Gift.Item        Verb Adjective        Location\n",
       "0     1        first  partridge         NaN       NaN  in a pear tree\n",
       "1     2       second       dove         NaN    turtle             NaN\n",
       "2     3        third        hen         NaN    french             NaN\n",
       "3     4       fourth       bird         NaN   calling             NaN\n",
       "4     5        fifth       ring         NaN    golden             NaN\n",
       "5     6        sixth      goose    a-laying       NaN             NaN\n",
       "6     7      seventh       swan  a-swimming       NaN             NaN\n",
       "7     8       eighth       maid   a-milking       NaN             NaN\n",
       "8     9        ninth       lady     dancing       NaN             NaN\n",
       "9    10        tenth       lord   a-leaping       NaN             NaN\n",
       "10   11     eleventh      piper      piping       NaN             NaN\n",
       "11   12      twelfth    drummer    drumming       NaN             NaN"
      ]
     },
     "execution_count": null,
     "metadata": {},
     "output_type": "execute_result"
    }
   ],
   "source": [
    "xmas"
   ]
  },
  {
   "cell_type": "markdown",
   "metadata": {},
   "source": [
    "## Function 1: pluralize_gift()"
   ]
  },
  {
   "cell_type": "code",
   "execution_count": 36,
   "metadata": {
    "vscode": {
     "languageId": "python"
    }
   },
   "outputs": [
    {
     "data": {
      "text/plain": [
       "0     partridge\n",
       "1          dove\n",
       "2           hen\n",
       "3          bird\n",
       "4          ring\n",
       "5         goose\n",
       "6          swan\n",
       "7          maid\n",
       "8          lady\n",
       "9          lord\n",
       "10        piper\n",
       "11      drummer\n",
       "Name: Gift.Item, dtype: object"
      ]
     },
     "execution_count": null,
     "metadata": {},
     "output_type": "execute_result"
    }
   ],
   "source": [
    "xmas['Gift.Item']"
   ]
  },
  {
   "cell_type": "code",
   "execution_count": 37,
   "metadata": {
    "vscode": {
     "languageId": "python"
    }
   },
   "outputs": [],
   "source": [
    "def pluralize_gift(gift):\n",
    "  \"\"\"\n",
    "  Returns plural of a noun\n",
    "  \n",
    "  Parameters\n",
    "  ----------\n",
    "  gift: str\n",
    "    A noun\n",
    "    \n",
    "  Return\n",
    "  ------\n",
    "  str\n",
    "    Plural version\n",
    "  \"\"\"\n",
    "\n",
    "  if gift.find('oo') == True:\n",
    "    gift = gift.replace('oo','ee')\n",
    "  elif gift[-1] == 'y':\n",
    "    gift = gift.replace('y', 'ies')\n",
    "  else:\n",
    "    gift += 's'\n",
    "\n",
    "  return gift"
   ]
  },
  {
   "cell_type": "markdown",
   "metadata": {},
   "source": [
    "Unit tests:"
   ]
  },
  {
   "cell_type": "code",
   "execution_count": 40,
   "metadata": {
    "vscode": {
     "languageId": "python"
    }
   },
   "outputs": [
    {
     "ename": "AttributeError",
     "evalue": "'Series' object has no attribute 'find'",
     "output_type": "error",
     "traceback": [
      "\u001b[0;31m---------------------------------------------------------------------------\u001b[0m\n",
      "\u001b[0;31mAttributeError\u001b[0m                            Traceback (most recent call last)\n",
      "\u001b[0;32m/var/folders/m_/q2k4qcjn4qx66s17ptv57xdm0000gn/T/ipykernel_98573/3521291589.py\u001b[0m in \u001b[0;36m?\u001b[0;34m()\u001b[0m\n",
      "\u001b[0;32m----> 1\u001b[0;31m \u001b[0mpluralize_gift\u001b[0m\u001b[0;34m(\u001b[0m\u001b[0mxmas\u001b[0m\u001b[0;34m[\u001b[0m\u001b[0;34m'Gift.Item'\u001b[0m\u001b[0;34m]\u001b[0m\u001b[0;34m)\u001b[0m\u001b[0;34m\u001b[0m\u001b[0;34m\u001b[0m\u001b[0m\n",
      "\u001b[0m\n",
      "\u001b[0;32m/var/folders/m_/q2k4qcjn4qx66s17ptv57xdm0000gn/T/ipykernel_98573/465384127.py\u001b[0m in \u001b[0;36m?\u001b[0;34m(gift)\u001b[0m\n",
      "\u001b[1;32m     12\u001b[0m   \u001b[0mstr\u001b[0m\u001b[0;34m\u001b[0m\u001b[0;34m\u001b[0m\u001b[0m\n",
      "\u001b[1;32m     13\u001b[0m     \u001b[0mPlural\u001b[0m \u001b[0mversion\u001b[0m\u001b[0;34m\u001b[0m\u001b[0;34m\u001b[0m\u001b[0m\n",
      "\u001b[1;32m     14\u001b[0m   \"\"\"\n",
      "\u001b[1;32m     15\u001b[0m \u001b[0;34m\u001b[0m\u001b[0m\n",
      "\u001b[0;32m---> 16\u001b[0;31m   \u001b[0;32mif\u001b[0m \u001b[0mgift\u001b[0m\u001b[0;34m.\u001b[0m\u001b[0mfind\u001b[0m\u001b[0;34m(\u001b[0m\u001b[0;34m'oo'\u001b[0m\u001b[0;34m)\u001b[0m \u001b[0;34m==\u001b[0m \u001b[0;32mTrue\u001b[0m\u001b[0;34m:\u001b[0m\u001b[0;34m\u001b[0m\u001b[0;34m\u001b[0m\u001b[0m\n",
      "\u001b[0m\u001b[1;32m     17\u001b[0m     \u001b[0mgift\u001b[0m \u001b[0;34m=\u001b[0m \u001b[0mgift\u001b[0m\u001b[0;34m.\u001b[0m\u001b[0mreplace\u001b[0m\u001b[0;34m(\u001b[0m\u001b[0;34m'oo'\u001b[0m\u001b[0;34m,\u001b[0m\u001b[0;34m'ee'\u001b[0m\u001b[0;34m)\u001b[0m\u001b[0;34m\u001b[0m\u001b[0;34m\u001b[0m\u001b[0m\n",
      "\u001b[1;32m     18\u001b[0m   \u001b[0;32melif\u001b[0m \u001b[0mgift\u001b[0m\u001b[0;34m[\u001b[0m\u001b[0;34m-\u001b[0m\u001b[0;36m1\u001b[0m\u001b[0;34m]\u001b[0m \u001b[0;34m==\u001b[0m \u001b[0;34m'y'\u001b[0m\u001b[0;34m:\u001b[0m\u001b[0;34m\u001b[0m\u001b[0;34m\u001b[0m\u001b[0m\n",
      "\u001b[1;32m     19\u001b[0m     \u001b[0mgift\u001b[0m \u001b[0;34m=\u001b[0m \u001b[0mgift\u001b[0m\u001b[0;34m.\u001b[0m\u001b[0mreplace\u001b[0m\u001b[0;34m(\u001b[0m\u001b[0;34m'y'\u001b[0m\u001b[0;34m,\u001b[0m \u001b[0;34m'ies'\u001b[0m\u001b[0;34m)\u001b[0m\u001b[0;34m\u001b[0m\u001b[0;34m\u001b[0m\u001b[0m\n",
      "\n",
      "\u001b[0;32m/opt/anaconda3/lib/python3.12/site-packages/pandas/core/generic.py\u001b[0m in \u001b[0;36m?\u001b[0;34m(self, name)\u001b[0m\n",
      "\u001b[1;32m   6295\u001b[0m             \u001b[0;32mand\u001b[0m \u001b[0mname\u001b[0m \u001b[0;32mnot\u001b[0m \u001b[0;32min\u001b[0m \u001b[0mself\u001b[0m\u001b[0;34m.\u001b[0m\u001b[0m_accessors\u001b[0m\u001b[0;34m\u001b[0m\u001b[0;34m\u001b[0m\u001b[0m\n",
      "\u001b[1;32m   6296\u001b[0m             \u001b[0;32mand\u001b[0m \u001b[0mself\u001b[0m\u001b[0;34m.\u001b[0m\u001b[0m_info_axis\u001b[0m\u001b[0;34m.\u001b[0m\u001b[0m_can_hold_identifiers_and_holds_name\u001b[0m\u001b[0;34m(\u001b[0m\u001b[0mname\u001b[0m\u001b[0;34m)\u001b[0m\u001b[0;34m\u001b[0m\u001b[0;34m\u001b[0m\u001b[0m\n",
      "\u001b[1;32m   6297\u001b[0m         \u001b[0;34m)\u001b[0m\u001b[0;34m:\u001b[0m\u001b[0;34m\u001b[0m\u001b[0;34m\u001b[0m\u001b[0m\n",
      "\u001b[1;32m   6298\u001b[0m             \u001b[0;32mreturn\u001b[0m \u001b[0mself\u001b[0m\u001b[0;34m[\u001b[0m\u001b[0mname\u001b[0m\u001b[0;34m]\u001b[0m\u001b[0;34m\u001b[0m\u001b[0;34m\u001b[0m\u001b[0m\n",
      "\u001b[0;32m-> 6299\u001b[0;31m         \u001b[0;32mreturn\u001b[0m \u001b[0mobject\u001b[0m\u001b[0;34m.\u001b[0m\u001b[0m__getattribute__\u001b[0m\u001b[0;34m(\u001b[0m\u001b[0mself\u001b[0m\u001b[0;34m,\u001b[0m \u001b[0mname\u001b[0m\u001b[0;34m)\u001b[0m\u001b[0;34m\u001b[0m\u001b[0;34m\u001b[0m\u001b[0m\n",
      "\u001b[0m\n",
      "\u001b[0;31mAttributeError\u001b[0m: 'Series' object has no attribute 'find'"
     ]
    }
   ],
   "source": [
    "pluralize_gift(xmas['Gift.Item'])"
   ]
  },
  {
   "cell_type": "code",
   "execution_count": 20,
   "metadata": {
    "vscode": {
     "languageId": "python"
    }
   },
   "outputs": [
    {
     "data": {
      "text/plain": [
       "'geese'"
      ]
     },
     "execution_count": null,
     "metadata": {},
     "output_type": "execute_result"
    }
   ],
   "source": [
    "pluralize_gift('goose')"
   ]
  },
  {
   "cell_type": "code",
   "execution_count": 21,
   "metadata": {
    "vscode": {
     "languageId": "python"
    }
   },
   "outputs": [
    {
     "data": {
      "text/plain": [
       "'ladies'"
      ]
     },
     "execution_count": null,
     "metadata": {},
     "output_type": "execute_result"
    }
   ],
   "source": [
    "pluralize_gift('lady')"
   ]
  },
  {
   "cell_type": "code",
   "execution_count": 26,
   "metadata": {
    "vscode": {
     "languageId": "python"
    }
   },
   "outputs": [
    {
     "data": {
      "text/plain": [
       "'rings'"
      ]
     },
     "execution_count": null,
     "metadata": {},
     "output_type": "execute_result"
    }
   ],
   "source": [
    "pluralize_gift('ring')"
   ]
  },
  {
   "cell_type": "markdown",
   "metadata": {},
   "source": [
    "The function works on single words, but not on a vector.\n",
    " Creating vectorized function to handle a vector input."
   ]
  },
  {
   "cell_type": "code",
   "execution_count": 41,
   "metadata": {
    "vscode": {
     "languageId": "python"
    }
   },
   "outputs": [],
   "source": [
    "# vectoring the the function (version) # assisted by ChatGPT\n",
    "\n",
    "def pluralize_gift_vect(gifts_):\n",
    "    gift_v = pd.Series(gifts_)\n",
    "    return gift_v.apply(pluralize_gift)"
   ]
  },
  {
   "cell_type": "code",
   "execution_count": 45,
   "metadata": {
    "vscode": {
     "languageId": "python"
    }
   },
   "outputs": [
    {
     "data": {
      "text/plain": [
       "0     partridges\n",
       "1          doves\n",
       "2           hens\n",
       "3          birds\n",
       "4          rings\n",
       "5          geese\n",
       "6          swans\n",
       "7          maids\n",
       "8         ladies\n",
       "9          lords\n",
       "10        pipers\n",
       "11      drummers\n",
       "Name: Gift.Item, dtype: object"
      ]
     },
     "execution_count": null,
     "metadata": {},
     "output_type": "execute_result"
    }
   ],
   "source": [
    "plural_gifts = pluralize_gift_vect(xmas['Gift.Item'])\n",
    "plural_gifts"
   ]
  },
  {
   "cell_type": "code",
   "execution_count": 112,
   "metadata": {
    "vscode": {
     "languageId": "python"
    }
   },
   "outputs": [
    {
     "data": {
      "text/plain": [
       "<bound method DataFrame.reset_index of     Day Day.in.Words  Gift.Item        Verb Adjective        Location     p_gifts\n",
       "0     1        first  partridge         NaN       NaN  in a pear tree  partridges\n",
       "1     2       second       dove         NaN    turtle             NaN       doves\n",
       "2     3        third        hen         NaN    french             NaN        hens\n",
       "3     4       fourth       bird         NaN   calling             NaN       birds\n",
       "4     5        fifth       ring         NaN    golden             NaN       rings\n",
       "5     6        sixth      goose    a-laying       NaN             NaN       geese\n",
       "6     7      seventh       swan  a-swimming       NaN             NaN       swans\n",
       "7     8       eighth       maid   a-milking       NaN             NaN       maids\n",
       "8     9        ninth       lady     dancing       NaN             NaN      ladies\n",
       "9    10        tenth       lord   a-leaping       NaN             NaN       lords\n",
       "10   11     eleventh      piper      piping       NaN             NaN      pipers\n",
       "11   12      twelfth    drummer    drumming       NaN             NaN    drummers>"
      ]
     },
     "execution_count": null,
     "metadata": {},
     "output_type": "execute_result"
    }
   ],
   "source": [
    "# replacing column with plurals from the original dataset with pluralized form of gifts\n",
    "xmas2 = xmas.copy()\n",
    "xmas2['p_gifts'] = plural_gifts.tolist()\n",
    "xmas2.reset_index"
   ]
  },
  {
   "cell_type": "markdown",
   "metadata": {},
   "source": [
    "## Function 2: make_phrase()"
   ]
  },
  {
   "cell_type": "code",
   "execution_count": 83,
   "metadata": {
    "vscode": {
     "languageId": "python"
    }
   },
   "outputs": [
    {
     "data": {
      "text/plain": [
       "0      True\n",
       "1      True\n",
       "2      True\n",
       "3      True\n",
       "4      True\n",
       "5     False\n",
       "6     False\n",
       "7     False\n",
       "8     False\n",
       "9     False\n",
       "10    False\n",
       "11    False\n",
       "Name: Verb, dtype: bool"
      ]
     },
     "execution_count": null,
     "metadata": {},
     "output_type": "execute_result"
    }
   ],
   "source": [
    "# pd.isnull(xmas2['Verb'])\n"
   ]
  },
  {
   "cell_type": "code",
   "execution_count": 101,
   "metadata": {
    "vscode": {
     "languageId": "python"
    }
   },
   "outputs": [],
   "source": [
    "verb = xmas2['Verb'][1]\n",
    "if pd.isnull(verb) == True:\n",
    "    verb = ''"
   ]
  },
  {
   "cell_type": "code",
   "execution_count": 133,
   "metadata": {
    "vscode": {
     "languageId": "python"
    }
   },
   "outputs": [
    {
     "name": "stdout",
     "output_type": "stream",
     "text": [
      "    Day Day.in.Words  Gift.Item        Verb Adjective        Location     p_gifts\n",
      "0     1        first  partridge         NaN       NaN  in a pear tree  partridges\n",
      "1     2       second       dove         NaN    turtle             NaN       doves\n",
      "2     3        third        hen         NaN    french             NaN        hens\n",
      "3     4       fourth       bird         NaN   calling             NaN       birds\n",
      "4     5        fifth       ring         NaN    golden             NaN       rings\n",
      "5     6        sixth      goose    a-laying       NaN             NaN       geese\n",
      "6     7      seventh       swan  a-swimming       NaN             NaN       swans\n",
      "7     8       eighth       maid   a-milking       NaN             NaN       maids\n",
      "8     9        ninth       lady     dancing       NaN             NaN      ladies\n",
      "9    10        tenth       lord   a-leaping       NaN             NaN       lords\n",
      "10   11     eleventh      piper      piping       NaN             NaN      pipers\n",
      "11   12      twelfth    drummer    drumming       NaN             NaN    drummers\n",
      "    Day Day.in.Words  Gift.Item        Verb Adjective        Location     p_gifts\n",
      "0     1        first  partridge         NaN       NaN  in a pear tree  partridges\n",
      "1     2       second       dove         NaN    turtle             NaN       doves\n",
      "2     3        third        hen         NaN    french             NaN        hens\n",
      "3     4       fourth       bird         NaN   calling             NaN       birds\n",
      "4     5        fifth       ring         NaN    golden             NaN       rings\n",
      "5     6        sixth      goose    a-laying       NaN             NaN       geese\n",
      "6     7      seventh       swan  a-swimming       NaN             NaN       swans\n",
      "7     8       eighth       maid   a-milking       NaN             NaN       maids\n",
      "8     9        ninth       lady     dancing       NaN             NaN      ladies\n",
      "9    10        tenth       lord   a-leaping       NaN             NaN       lords\n",
      "10   11     eleventh      piper      piping       NaN             NaN      pipers\n",
      "11   12      twelfth    drummer    drumming       NaN             NaN    drummers\n"
     ]
    }
   ],
   "source": [
    "print(xmas2)"
   ]
  },
  {
   "cell_type": "code",
   "execution_count": 222,
   "metadata": {
    "vscode": {
     "languageId": "python"
    }
   },
   "outputs": [],
   "source": [
    "def make_phrase(num, num_word, item, verb, adjective, location):\n",
    "  \"\"\"\n",
    "  Returns dataset objects connected into a phrase with proper grammer adjustments for counts and plurals\n",
    "  \n",
    "  Parameters\n",
    "  ----------\n",
    "  num: int\n",
    "    A number\n",
    "  num_word: str\n",
    "    A noun\n",
    "  item: str\n",
    "    A noun\n",
    "  verb: str\n",
    "    A verb\n",
    "  adjective: str\n",
    "    An adjective\n",
    "  location: str\n",
    "    A composite string of nouns and prepositions\n",
    "    \n",
    "  Return\n",
    "  ------\n",
    "  str\n",
    "    Phrase\n",
    "  \"\"\"\n",
    "\n",
    "  ## Step 1: Replace NAs with blank strings\n",
    "  if pd.isnull(verb) == True:\n",
    "    verb = ''\n",
    "  if pd.isnull(adjective) == True:\n",
    "    adjective = ''\n",
    "  if pd.isnull(location) == True:\n",
    "    location = ''\n",
    "  \n",
    "  ## Step 2: If the day number is larger than 1, the gift items need pluralized!\n",
    "  ### Hint: call the function you created above!\n",
    "  \n",
    "  if num > 1:\n",
    "    item = pluralize_gift(item)\n",
    "  \n",
    "  ## Step 3: Figure out if a gift item starts with a vowel\n",
    "  vowels = ['a','e','i','o','u','y']\n",
    "  \n",
    "  ## Step 4: For the first day, if the gift item starts with a vowel, replace the day with \"an\" and if the gift item does not start with a vowel, replace the day with \"a\" (e.g. a partridge in a pear tree). If it is not the first day, use just the number word (e.g. ten lords a leap)\n",
    "  if num == 1:\n",
    "    if item[0].lower() in vowels: ## assisted by ChatGPT\n",
    "      adj_num = 'an'\n",
    "    else: adj_num = 'a'\n",
    "  \n",
    "  # other numbers dictionary\n",
    "  if num == 2:\n",
    "    adj_num = 'two'\n",
    "  if num == 3:\n",
    "    adj_num = 'three'\n",
    "  if num == 4:\n",
    "    adj_num = 'four'\n",
    "  if num == 5:\n",
    "    adj_num = 'five'\n",
    "  if num == 6:\n",
    "    adj_num = 'six'\n",
    "  if num == 7:\n",
    "    adj_num = 'seven'\n",
    "  if num == 8:\n",
    "    adj_num = 'eight'\n",
    "  if num == 9:\n",
    "    adj_num = 'nine'\n",
    "  if num == 10:\n",
    "    adj_num = 'ten'\n",
    "  if num == 11:\n",
    "    adj_num = 'eleven'\n",
    "  if num == 12:\n",
    "    adj_num = 'twelve'\n",
    "\n",
    "  ## Step 5: Put all of the pieces together into one string and return!\n",
    "  phrase = adj_num + \" \" + adjective + \" \" + item + \" \" + verb + \" \" + location\n",
    "  \n",
    "  return phrase"
   ]
  },
  {
   "cell_type": "code",
   "execution_count": 213,
   "metadata": {
    "vscode": {
     "languageId": "python"
    }
   },
   "outputs": [
    {
     "data": {
      "text/plain": [
       "'three french hens  '"
      ]
     },
     "execution_count": null,
     "metadata": {},
     "output_type": "execute_result"
    }
   ],
   "source": [
    "# tested function on single day/s\n",
    "make_phrase(xmas['Day'][2], xmas['Day.in.Words'][2], xmas['Gift.Item'][2], xmas['Verb'][2], xmas['Adjective'][2], xmas['Location'][2])"
   ]
  },
  {
   "cell_type": "code",
   "execution_count": 214,
   "metadata": {
    "vscode": {
     "languageId": "python"
    }
   },
   "outputs": [],
   "source": [
    "# using lambda function to apply for whole dataset and add a new column ['Full.Phrase'] ## note: assisted by ChatGPT\n",
    "xmas['Full.Phrase'] = xmas.apply(\n",
    "    lambda row: make_phrase(\n",
    "        row['Day'], row['Day.in.Words'], row['Gift.Item'], row['Verb'], row['Adjective'], row['Location']\n",
    "    ), axis=1\n",
    ")"
   ]
  },
  {
   "cell_type": "code",
   "execution_count": 215,
   "metadata": {
    "vscode": {
     "languageId": "python"
    }
   },
   "outputs": [
    {
     "data": {
      "text/html": [
       "<div>\n",
       "<style scoped>\n",
       "    .dataframe tbody tr th:only-of-type {\n",
       "        vertical-align: middle;\n",
       "    }\n",
       "\n",
       "    .dataframe tbody tr th {\n",
       "        vertical-align: top;\n",
       "    }\n",
       "\n",
       "    .dataframe thead th {\n",
       "        text-align: right;\n",
       "    }\n",
       "</style>\n",
       "<table border=\"1\" class=\"dataframe\">\n",
       "  <thead>\n",
       "    <tr style=\"text-align: right;\">\n",
       "      <th></th>\n",
       "      <th>Day</th>\n",
       "      <th>Day.in.Words</th>\n",
       "      <th>Gift.Item</th>\n",
       "      <th>Verb</th>\n",
       "      <th>Adjective</th>\n",
       "      <th>Location</th>\n",
       "      <th>Full.Phrase</th>\n",
       "    </tr>\n",
       "  </thead>\n",
       "  <tbody>\n",
       "    <tr>\n",
       "      <th>0</th>\n",
       "      <td>1</td>\n",
       "      <td>first</td>\n",
       "      <td>partridge</td>\n",
       "      <td>NaN</td>\n",
       "      <td>NaN</td>\n",
       "      <td>in a pear tree</td>\n",
       "      <td>a  partridge  in a pear tree</td>\n",
       "    </tr>\n",
       "    <tr>\n",
       "      <th>1</th>\n",
       "      <td>2</td>\n",
       "      <td>second</td>\n",
       "      <td>dove</td>\n",
       "      <td>NaN</td>\n",
       "      <td>turtle</td>\n",
       "      <td>NaN</td>\n",
       "      <td>two turtle doves</td>\n",
       "    </tr>\n",
       "    <tr>\n",
       "      <th>2</th>\n",
       "      <td>3</td>\n",
       "      <td>third</td>\n",
       "      <td>hen</td>\n",
       "      <td>NaN</td>\n",
       "      <td>french</td>\n",
       "      <td>NaN</td>\n",
       "      <td>three french hens</td>\n",
       "    </tr>\n",
       "    <tr>\n",
       "      <th>3</th>\n",
       "      <td>4</td>\n",
       "      <td>fourth</td>\n",
       "      <td>bird</td>\n",
       "      <td>NaN</td>\n",
       "      <td>calling</td>\n",
       "      <td>NaN</td>\n",
       "      <td>four calling birds</td>\n",
       "    </tr>\n",
       "    <tr>\n",
       "      <th>4</th>\n",
       "      <td>5</td>\n",
       "      <td>fifth</td>\n",
       "      <td>ring</td>\n",
       "      <td>NaN</td>\n",
       "      <td>golden</td>\n",
       "      <td>NaN</td>\n",
       "      <td>five golden rings</td>\n",
       "    </tr>\n",
       "    <tr>\n",
       "      <th>5</th>\n",
       "      <td>6</td>\n",
       "      <td>sixth</td>\n",
       "      <td>goose</td>\n",
       "      <td>a-laying</td>\n",
       "      <td>NaN</td>\n",
       "      <td>NaN</td>\n",
       "      <td>six  geese a-laying</td>\n",
       "    </tr>\n",
       "    <tr>\n",
       "      <th>6</th>\n",
       "      <td>7</td>\n",
       "      <td>seventh</td>\n",
       "      <td>swan</td>\n",
       "      <td>a-swimming</td>\n",
       "      <td>NaN</td>\n",
       "      <td>NaN</td>\n",
       "      <td>seven  swans a-swimming</td>\n",
       "    </tr>\n",
       "    <tr>\n",
       "      <th>7</th>\n",
       "      <td>8</td>\n",
       "      <td>eighth</td>\n",
       "      <td>maid</td>\n",
       "      <td>a-milking</td>\n",
       "      <td>NaN</td>\n",
       "      <td>NaN</td>\n",
       "      <td>eight  maids a-milking</td>\n",
       "    </tr>\n",
       "    <tr>\n",
       "      <th>8</th>\n",
       "      <td>9</td>\n",
       "      <td>ninth</td>\n",
       "      <td>lady</td>\n",
       "      <td>dancing</td>\n",
       "      <td>NaN</td>\n",
       "      <td>NaN</td>\n",
       "      <td>nine  ladies dancing</td>\n",
       "    </tr>\n",
       "    <tr>\n",
       "      <th>9</th>\n",
       "      <td>10</td>\n",
       "      <td>tenth</td>\n",
       "      <td>lord</td>\n",
       "      <td>a-leaping</td>\n",
       "      <td>NaN</td>\n",
       "      <td>NaN</td>\n",
       "      <td>ten  lords a-leaping</td>\n",
       "    </tr>\n",
       "    <tr>\n",
       "      <th>10</th>\n",
       "      <td>11</td>\n",
       "      <td>eleventh</td>\n",
       "      <td>piper</td>\n",
       "      <td>piping</td>\n",
       "      <td>NaN</td>\n",
       "      <td>NaN</td>\n",
       "      <td>eleven  pipers piping</td>\n",
       "    </tr>\n",
       "    <tr>\n",
       "      <th>11</th>\n",
       "      <td>12</td>\n",
       "      <td>twelfth</td>\n",
       "      <td>drummer</td>\n",
       "      <td>drumming</td>\n",
       "      <td>NaN</td>\n",
       "      <td>NaN</td>\n",
       "      <td>twelve  drummers drumming</td>\n",
       "    </tr>\n",
       "  </tbody>\n",
       "</table>\n",
       "</div>"
      ],
      "text/plain": [
       "    Day Day.in.Words  Gift.Item        Verb Adjective        Location                   Full.Phrase\n",
       "0     1        first  partridge         NaN       NaN  in a pear tree  a  partridge  in a pear tree\n",
       "1     2       second       dove         NaN    turtle             NaN            two turtle doves  \n",
       "2     3        third        hen         NaN    french             NaN           three french hens  \n",
       "3     4       fourth       bird         NaN   calling             NaN          four calling birds  \n",
       "4     5        fifth       ring         NaN    golden             NaN           five golden rings  \n",
       "5     6        sixth      goose    a-laying       NaN             NaN          six  geese a-laying \n",
       "6     7      seventh       swan  a-swimming       NaN             NaN      seven  swans a-swimming \n",
       "7     8       eighth       maid   a-milking       NaN             NaN       eight  maids a-milking \n",
       "8     9        ninth       lady     dancing       NaN             NaN         nine  ladies dancing \n",
       "9    10        tenth       lord   a-leaping       NaN             NaN         ten  lords a-leaping \n",
       "10   11     eleventh      piper      piping       NaN             NaN        eleven  pipers piping \n",
       "11   12      twelfth    drummer    drumming       NaN             NaN    twelve  drummers drumming "
      ]
     },
     "execution_count": null,
     "metadata": {},
     "output_type": "execute_result"
    }
   ],
   "source": [
    "xmas"
   ]
  },
  {
   "cell_type": "markdown",
   "metadata": {},
   "source": [
    "## Function 3: sing_day()"
   ]
  },
  {
   "cell_type": "code",
   "execution_count": 223,
   "metadata": {
    "vscode": {
     "languageId": "python"
    }
   },
   "outputs": [],
   "source": [
    "def sing_day(dataset, num, phrase_col): ## note: assisted by ChatGPT\n",
    "    \"\"\"\n",
    "    Returns a string representing a full verse of a song or a full song, based on the specified day number for the countdown.\n",
    "  \n",
    "    Parameters\n",
    "    ----------\n",
    "    dataset: dataframe object\n",
    "        A dataset to be processed\n",
    "    num: int\n",
    "        A number representing a day starting from which to sing the song/verse\n",
    "    phrase_col: str\n",
    "        A reference to column desribing gifts on specific day\n",
    "        \n",
    "    Return\n",
    "    ------\n",
    "    str\n",
    "        intro + gifts\n",
    "    \"\"\"\n",
    "\n",
    "    # Step 1: Setup the intro line\n",
    "    num_word = dataset.loc[dataset['Day'] == num, 'Day.in.Words'].values[0]  # convert \"1\" to \"first\" etc. \n",
    "    intro = \"On the \" + num_word + \" day of Christmas, my true love sent to me: \"\n",
    "    \n",
    "    # Step 2: Sing the gift phrases\n",
    "    gifts = \"\"\n",
    "    for i in range(num, 0, -1):  # gifts are sung from the current day down to the first day\n",
    "        gift_phrase = dataset.loc[dataset['Day'] == i, phrase_col].values[0]\n",
    "        \n",
    "        # Adding 'and' before first day, if singing for day > 1\n",
    "        if i == 1 and num > 1:\n",
    "            gifts += \"and \" + gift_phrase + \".\"\n",
    "        else:\n",
    "            gifts += gift_phrase\n",
    "    \n",
    "    # Step 3: Put it all together and return\n",
    "    return intro + gifts.strip()"
   ]
  },
  {
   "cell_type": "markdown",
   "metadata": {},
   "source": [
    "Unit tests:"
   ]
  },
  {
   "cell_type": "code",
   "execution_count": 224,
   "metadata": {
    "vscode": {
     "languageId": "python"
    }
   },
   "outputs": [
    {
     "data": {
      "text/plain": [
       "'On the first day of Christmas, my true love sent to me: a  partridge  in a pear tree'"
      ]
     },
     "execution_count": null,
     "metadata": {},
     "output_type": "execute_result"
    }
   ],
   "source": [
    "sing_day(xmas, 1, 'Full.Phrase')"
   ]
  },
  {
   "cell_type": "code",
   "execution_count": 225,
   "metadata": {
    "vscode": {
     "languageId": "python"
    }
   },
   "outputs": [
    {
     "data": {
      "text/plain": [
       "'On the third day of Christmas, my true love sent to me: three french hens  two turtle doves  and a  partridge  in a pear tree.'"
      ]
     },
     "execution_count": null,
     "metadata": {},
     "output_type": "execute_result"
    }
   ],
   "source": [
    "sing_day(xmas, 3, 'Full.Phrase')"
   ]
  },
  {
   "cell_type": "code",
   "execution_count": 219,
   "metadata": {
    "vscode": {
     "languageId": "python"
    }
   },
   "outputs": [
    {
     "data": {
      "text/plain": [
       "'On the twelfth day of Christmas, my true love sent to me: twelve  drummers drumming eleven  pipers piping ten  lords a-leaping nine  ladies dancing eight  maids a-milking seven  swans a-swimming six  geese a-laying five golden rings  four calling birds  three french hens  two turtle doves  and a  partridge  in a pear tree.'"
      ]
     },
     "execution_count": null,
     "metadata": {},
     "output_type": "execute_result"
    }
   ],
   "source": [
    "sing_day(xmas, 12, 'Full.Phrase')"
   ]
  },
  {
   "cell_type": "markdown",
   "metadata": {},
   "source": [
    "## Formatting adjustments"
   ]
  },
  {
   "cell_type": "code",
   "execution_count": 226,
   "metadata": {
    "vscode": {
     "languageId": "python"
    }
   },
   "outputs": [],
   "source": [
    "# Adjusting function to include commas, split lines and remove double space ## note: assisted by ChatGPT\n",
    "\n",
    "def sing_day(dataset, num, phrase_col):\n",
    "    \"\"\"\n",
    "    Returns a string representing a full verse of a song or a full song, based on the specified day number for the countdown.\n",
    "  \n",
    "    Parameters\n",
    "    ----------\n",
    "    dataset: dataframe object\n",
    "        A dataset to be processed\n",
    "    num: int\n",
    "        A number representing a day starting from which to sing the song/verse\n",
    "    phrase_col: str\n",
    "        A reference to column desribing gifts on specific day\n",
    "        \n",
    "    Return\n",
    "    ------\n",
    "    str\n",
    "        song\n",
    "    \"\"\"\n",
    "\n",
    "    # Step 1: Setup the intro line\n",
    "    num_word = dataset.loc[dataset['Day'] == num, 'Day.in.Words'].values[0]  # convert \"1\" to \"first\", etc.\n",
    "    intro = f\"On the {num_word} day of Christmas, my true love sent to me:\"\n",
    "\n",
    "    # Step 2: Sing the gift phrases (adding commas and line breaks)\n",
    "    gifts = [] # initating vector for gifts\n",
    "    for i in range(num, 0, -1):  # gifts are sung from the current day down to the first day\n",
    "        gift_phrase = dataset.loc[dataset['Day'] == i, phrase_col].values[0]\n",
    "\n",
    "        # adding 'and' before the first gift when singing for more than one day\n",
    "        if i == 1 and num > 1:\n",
    "            gifts.append(f\"and {gift_phrase}.\")  # ends with period\n",
    "        else:\n",
    "            gifts.append(f\"{gift_phrase},\") # proceeds with a comma\n",
    "\n",
    "    # Step 3: Put it all together. Removing extra spaces, and format with line breaks\n",
    "    formatted_gifts = \"\\n\".join(gift.strip() for gift in gifts)\n",
    "\n",
    "    # Return the full song for the day\n",
    "    song = f\"{intro}\\n{formatted_gifts}\" ## creating new object 'song' inside a function so it's easier to 'print' with line breaks\n",
    "    print(song)"
   ]
  },
  {
   "cell_type": "code",
   "execution_count": 227,
   "metadata": {
    "vscode": {
     "languageId": "python"
    }
   },
   "outputs": [
    {
     "name": "stdout",
     "output_type": "stream",
     "text": [
      "On the twelfth day of Christmas, my true love sent to me:\n",
      "twelve  drummers drumming ,\n",
      "eleven  pipers piping ,\n",
      "ten  lords a-leaping ,\n",
      "nine  ladies dancing ,\n",
      "eight  maids a-milking ,\n",
      "seven  swans a-swimming ,\n",
      "six  geese a-laying ,\n",
      "five golden rings  ,\n",
      "four calling birds  ,\n",
      "three french hens  ,\n",
      "two turtle doves  ,\n",
      "and a  partridge  in a pear tree.\n",
      "On the twelfth day of Christmas, my true love sent to me:\n",
      "twelve  drummers drumming ,\n",
      "eleven  pipers piping ,\n",
      "ten  lords a-leaping ,\n",
      "nine  ladies dancing ,\n",
      "eight  maids a-milking ,\n",
      "seven  swans a-swimming ,\n",
      "six  geese a-laying ,\n",
      "five golden rings  ,\n",
      "four calling birds  ,\n",
      "three french hens  ,\n",
      "two turtle doves  ,\n",
      "and a  partridge  in a pear tree.\n"
     ]
    }
   ],
   "source": [
    "sing_day(xmas, 12, 'Full.Phrase')"
   ]
  },
  {
   "cell_type": "markdown",
   "metadata": {},
   "source": [
    "note: the .strip() function didn't remove extra whitespace. To fix this, I tried adjusting the output format of the make_phrase() function, but it removed all the spaces then."
   ]
  }
 ],
 "metadata": {
  "language_info": {
   "name": "raw"
  }
 },
 "nbformat": 4,
 "nbformat_minor": 2
}
