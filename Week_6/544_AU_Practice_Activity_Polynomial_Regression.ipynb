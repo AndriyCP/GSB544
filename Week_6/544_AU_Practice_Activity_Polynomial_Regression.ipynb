{
  "cells": [
    {
      "cell_type": "raw",
      "metadata": {
        "vscode": {
          "languageId": "raw"
        }
      },
      "source": [
        "---\n",
        "embed-resources: true\n",
        "title: \"544: PA assignment 6.1\"\n",
        "author: \"Andriy Uspishnyi\"\n",
        "date: \"2024-10-28\"\n",
        "output: \n",
        "  html_document:\n",
        "    theme: \"cosmo\" \n",
        "---"
      ]
    },
    {
      "cell_type": "markdown",
      "metadata": {
        "id": "M3NFTx_UIZjO"
      },
      "source": [
        "# Palmer Penguins Modeling\n",
        "\n",
        "Import the Palmer Penguins dataset and print out the first few rows.\n",
        "\n",
        "Suppose we want to predict `bill_depth_mm` using the other variables in the dataset.\n",
        "\n",
        "Which variables would we need to **dummify**?"
      ]
    },
    {
      "cell_type": "code",
      "execution_count": 78,
      "metadata": {
        "colab": {
          "base_uri": "https://localhost:8080/"
        },
        "id": "dDD69T-VISjB",
        "outputId": "f787fa07-4631-4161-d5ab-96f69c46943f"
      },
      "outputs": [
        {
          "name": "stdout",
          "output_type": "stream",
          "text": [
            "Requirement already satisfied: palmerpenguins in /usr/local/lib/python3.10/dist-packages (0.1.4)\n",
            "Requirement already satisfied: pandas in /usr/local/lib/python3.10/dist-packages (from palmerpenguins) (2.2.2)\n",
            "Requirement already satisfied: numpy in /usr/local/lib/python3.10/dist-packages (from palmerpenguins) (1.26.4)\n",
            "Requirement already satisfied: python-dateutil>=2.8.2 in /usr/local/lib/python3.10/dist-packages (from pandas->palmerpenguins) (2.8.2)\n",
            "Requirement already satisfied: pytz>=2020.1 in /usr/local/lib/python3.10/dist-packages (from pandas->palmerpenguins) (2024.2)\n",
            "Requirement already satisfied: tzdata>=2022.7 in /usr/local/lib/python3.10/dist-packages (from pandas->palmerpenguins) (2024.2)\n",
            "Requirement already satisfied: six>=1.5 in /usr/local/lib/python3.10/dist-packages (from python-dateutil>=2.8.2->pandas->palmerpenguins) (1.16.0)\n"
          ]
        }
      ],
      "source": [
        "!pip install palmerpenguins"
      ]
    },
    {
      "cell_type": "code",
      "execution_count": 79,
      "metadata": {
        "id": "mpCLYFV7aGLz"
      },
      "outputs": [],
      "source": [
        "from palmerpenguins import load_penguins\n",
        "import pandas as pd"
      ]
    },
    {
      "cell_type": "code",
      "execution_count": 80,
      "metadata": {
        "id": "xIlbCKQDaHfI"
      },
      "outputs": [],
      "source": [
        "from sklearn.preprocessing import OneHotEncoder as ohe"
      ]
    },
    {
      "cell_type": "code",
      "execution_count": 81,
      "metadata": {
        "colab": {
          "base_uri": "https://localhost:8080/",
          "height": 206
        },
        "id": "gFOnNDd2aMLI",
        "outputId": "dfd7eae8-44be-438c-c78a-dad881411c66"
      },
      "outputs": [
        {
          "data": {
            "application/vnd.google.colaboratory.intrinsic+json": {
              "summary": "{\n  \"name\": \"penguins\",\n  \"rows\": 344,\n  \"fields\": [\n    {\n      \"column\": \"species\",\n      \"properties\": {\n        \"dtype\": \"category\",\n        \"num_unique_values\": 3,\n        \"samples\": [\n          \"Adelie\",\n          \"Gentoo\",\n          \"Chinstrap\"\n        ],\n        \"semantic_type\": \"\",\n        \"description\": \"\"\n      }\n    },\n    {\n      \"column\": \"island\",\n      \"properties\": {\n        \"dtype\": \"category\",\n        \"num_unique_values\": 3,\n        \"samples\": [\n          \"Torgersen\",\n          \"Biscoe\",\n          \"Dream\"\n        ],\n        \"semantic_type\": \"\",\n        \"description\": \"\"\n      }\n    },\n    {\n      \"column\": \"bill_length_mm\",\n      \"properties\": {\n        \"dtype\": \"number\",\n        \"std\": 5.4595837139265315,\n        \"min\": 32.1,\n        \"max\": 59.6,\n        \"num_unique_values\": 164,\n        \"samples\": [\n          49.4,\n          43.8,\n          43.4\n        ],\n        \"semantic_type\": \"\",\n        \"description\": \"\"\n      }\n    },\n    {\n      \"column\": \"bill_depth_mm\",\n      \"properties\": {\n        \"dtype\": \"number\",\n        \"std\": 1.9747931568167818,\n        \"min\": 13.1,\n        \"max\": 21.5,\n        \"num_unique_values\": 80,\n        \"samples\": [\n          16.9,\n          18.7,\n          18.6\n        ],\n        \"semantic_type\": \"\",\n        \"description\": \"\"\n      }\n    },\n    {\n      \"column\": \"flipper_length_mm\",\n      \"properties\": {\n        \"dtype\": \"number\",\n        \"std\": 14.061713679356888,\n        \"min\": 172.0,\n        \"max\": 231.0,\n        \"num_unique_values\": 55,\n        \"samples\": [\n          201.0,\n          180.0,\n          211.0\n        ],\n        \"semantic_type\": \"\",\n        \"description\": \"\"\n      }\n    },\n    {\n      \"column\": \"body_mass_g\",\n      \"properties\": {\n        \"dtype\": \"number\",\n        \"std\": 801.9545356980958,\n        \"min\": 2700.0,\n        \"max\": 6300.0,\n        \"num_unique_values\": 94,\n        \"samples\": [\n          4350.0,\n          4150.0,\n          5700.0\n        ],\n        \"semantic_type\": \"\",\n        \"description\": \"\"\n      }\n    },\n    {\n      \"column\": \"sex\",\n      \"properties\": {\n        \"dtype\": \"category\",\n        \"num_unique_values\": 2,\n        \"samples\": [\n          \"female\",\n          \"male\"\n        ],\n        \"semantic_type\": \"\",\n        \"description\": \"\"\n      }\n    },\n    {\n      \"column\": \"year\",\n      \"properties\": {\n        \"dtype\": \"number\",\n        \"std\": 0,\n        \"min\": 2007,\n        \"max\": 2009,\n        \"num_unique_values\": 3,\n        \"samples\": [\n          2007,\n          2008\n        ],\n        \"semantic_type\": \"\",\n        \"description\": \"\"\n      }\n    }\n  ]\n}",
              "type": "dataframe",
              "variable_name": "penguins"
            },
            "text/html": [
              "\n",
              "  <div id=\"df-c2945be8-802a-457d-91ca-b1d6e91b5a52\" class=\"colab-df-container\">\n",
              "    <div>\n",
              "<style scoped>\n",
              "    .dataframe tbody tr th:only-of-type {\n",
              "        vertical-align: middle;\n",
              "    }\n",
              "\n",
              "    .dataframe tbody tr th {\n",
              "        vertical-align: top;\n",
              "    }\n",
              "\n",
              "    .dataframe thead th {\n",
              "        text-align: right;\n",
              "    }\n",
              "</style>\n",
              "<table border=\"1\" class=\"dataframe\">\n",
              "  <thead>\n",
              "    <tr style=\"text-align: right;\">\n",
              "      <th></th>\n",
              "      <th>species</th>\n",
              "      <th>island</th>\n",
              "      <th>bill_length_mm</th>\n",
              "      <th>bill_depth_mm</th>\n",
              "      <th>flipper_length_mm</th>\n",
              "      <th>body_mass_g</th>\n",
              "      <th>sex</th>\n",
              "      <th>year</th>\n",
              "    </tr>\n",
              "  </thead>\n",
              "  <tbody>\n",
              "    <tr>\n",
              "      <th>0</th>\n",
              "      <td>Adelie</td>\n",
              "      <td>Torgersen</td>\n",
              "      <td>39.1</td>\n",
              "      <td>18.7</td>\n",
              "      <td>181.0</td>\n",
              "      <td>3750.0</td>\n",
              "      <td>male</td>\n",
              "      <td>2007</td>\n",
              "    </tr>\n",
              "    <tr>\n",
              "      <th>1</th>\n",
              "      <td>Adelie</td>\n",
              "      <td>Torgersen</td>\n",
              "      <td>39.5</td>\n",
              "      <td>17.4</td>\n",
              "      <td>186.0</td>\n",
              "      <td>3800.0</td>\n",
              "      <td>female</td>\n",
              "      <td>2007</td>\n",
              "    </tr>\n",
              "    <tr>\n",
              "      <th>2</th>\n",
              "      <td>Adelie</td>\n",
              "      <td>Torgersen</td>\n",
              "      <td>40.3</td>\n",
              "      <td>18.0</td>\n",
              "      <td>195.0</td>\n",
              "      <td>3250.0</td>\n",
              "      <td>female</td>\n",
              "      <td>2007</td>\n",
              "    </tr>\n",
              "    <tr>\n",
              "      <th>3</th>\n",
              "      <td>Adelie</td>\n",
              "      <td>Torgersen</td>\n",
              "      <td>NaN</td>\n",
              "      <td>NaN</td>\n",
              "      <td>NaN</td>\n",
              "      <td>NaN</td>\n",
              "      <td>NaN</td>\n",
              "      <td>2007</td>\n",
              "    </tr>\n",
              "    <tr>\n",
              "      <th>4</th>\n",
              "      <td>Adelie</td>\n",
              "      <td>Torgersen</td>\n",
              "      <td>36.7</td>\n",
              "      <td>19.3</td>\n",
              "      <td>193.0</td>\n",
              "      <td>3450.0</td>\n",
              "      <td>female</td>\n",
              "      <td>2007</td>\n",
              "    </tr>\n",
              "  </tbody>\n",
              "</table>\n",
              "</div>\n",
              "    <div class=\"colab-df-buttons\">\n",
              "\n",
              "  <div class=\"colab-df-container\">\n",
              "    <button class=\"colab-df-convert\" onclick=\"convertToInteractive('df-c2945be8-802a-457d-91ca-b1d6e91b5a52')\"\n",
              "            title=\"Convert this dataframe to an interactive table.\"\n",
              "            style=\"display:none;\">\n",
              "\n",
              "  <svg xmlns=\"http://www.w3.org/2000/svg\" height=\"24px\" viewBox=\"0 -960 960 960\">\n",
              "    <path d=\"M120-120v-720h720v720H120Zm60-500h600v-160H180v160Zm220 220h160v-160H400v160Zm0 220h160v-160H400v160ZM180-400h160v-160H180v160Zm440 0h160v-160H620v160ZM180-180h160v-160H180v160Zm440 0h160v-160H620v160Z\"/>\n",
              "  </svg>\n",
              "    </button>\n",
              "\n",
              "  <style>\n",
              "    .colab-df-container {\n",
              "      display:flex;\n",
              "      gap: 12px;\n",
              "    }\n",
              "\n",
              "    .colab-df-convert {\n",
              "      background-color: #E8F0FE;\n",
              "      border: none;\n",
              "      border-radius: 50%;\n",
              "      cursor: pointer;\n",
              "      display: none;\n",
              "      fill: #1967D2;\n",
              "      height: 32px;\n",
              "      padding: 0 0 0 0;\n",
              "      width: 32px;\n",
              "    }\n",
              "\n",
              "    .colab-df-convert:hover {\n",
              "      background-color: #E2EBFA;\n",
              "      box-shadow: 0px 1px 2px rgba(60, 64, 67, 0.3), 0px 1px 3px 1px rgba(60, 64, 67, 0.15);\n",
              "      fill: #174EA6;\n",
              "    }\n",
              "\n",
              "    .colab-df-buttons div {\n",
              "      margin-bottom: 4px;\n",
              "    }\n",
              "\n",
              "    [theme=dark] .colab-df-convert {\n",
              "      background-color: #3B4455;\n",
              "      fill: #D2E3FC;\n",
              "    }\n",
              "\n",
              "    [theme=dark] .colab-df-convert:hover {\n",
              "      background-color: #434B5C;\n",
              "      box-shadow: 0px 1px 3px 1px rgba(0, 0, 0, 0.15);\n",
              "      filter: drop-shadow(0px 1px 2px rgba(0, 0, 0, 0.3));\n",
              "      fill: #FFFFFF;\n",
              "    }\n",
              "  </style>\n",
              "\n",
              "    <script>\n",
              "      const buttonEl =\n",
              "        document.querySelector('#df-c2945be8-802a-457d-91ca-b1d6e91b5a52 button.colab-df-convert');\n",
              "      buttonEl.style.display =\n",
              "        google.colab.kernel.accessAllowed ? 'block' : 'none';\n",
              "\n",
              "      async function convertToInteractive(key) {\n",
              "        const element = document.querySelector('#df-c2945be8-802a-457d-91ca-b1d6e91b5a52');\n",
              "        const dataTable =\n",
              "          await google.colab.kernel.invokeFunction('convertToInteractive',\n",
              "                                                    [key], {});\n",
              "        if (!dataTable) return;\n",
              "\n",
              "        const docLinkHtml = 'Like what you see? Visit the ' +\n",
              "          '<a target=\"_blank\" href=https://colab.research.google.com/notebooks/data_table.ipynb>data table notebook</a>'\n",
              "          + ' to learn more about interactive tables.';\n",
              "        element.innerHTML = '';\n",
              "        dataTable['output_type'] = 'display_data';\n",
              "        await google.colab.output.renderOutput(dataTable, element);\n",
              "        const docLink = document.createElement('div');\n",
              "        docLink.innerHTML = docLinkHtml;\n",
              "        element.appendChild(docLink);\n",
              "      }\n",
              "    </script>\n",
              "  </div>\n",
              "\n",
              "\n",
              "<div id=\"df-4be7b667-dafa-4246-b53d-999f51f80b45\">\n",
              "  <button class=\"colab-df-quickchart\" onclick=\"quickchart('df-4be7b667-dafa-4246-b53d-999f51f80b45')\"\n",
              "            title=\"Suggest charts\"\n",
              "            style=\"display:none;\">\n",
              "\n",
              "<svg xmlns=\"http://www.w3.org/2000/svg\" height=\"24px\"viewBox=\"0 0 24 24\"\n",
              "     width=\"24px\">\n",
              "    <g>\n",
              "        <path d=\"M19 3H5c-1.1 0-2 .9-2 2v14c0 1.1.9 2 2 2h14c1.1 0 2-.9 2-2V5c0-1.1-.9-2-2-2zM9 17H7v-7h2v7zm4 0h-2V7h2v10zm4 0h-2v-4h2v4z\"/>\n",
              "    </g>\n",
              "</svg>\n",
              "  </button>\n",
              "\n",
              "<style>\n",
              "  .colab-df-quickchart {\n",
              "      --bg-color: #E8F0FE;\n",
              "      --fill-color: #1967D2;\n",
              "      --hover-bg-color: #E2EBFA;\n",
              "      --hover-fill-color: #174EA6;\n",
              "      --disabled-fill-color: #AAA;\n",
              "      --disabled-bg-color: #DDD;\n",
              "  }\n",
              "\n",
              "  [theme=dark] .colab-df-quickchart {\n",
              "      --bg-color: #3B4455;\n",
              "      --fill-color: #D2E3FC;\n",
              "      --hover-bg-color: #434B5C;\n",
              "      --hover-fill-color: #FFFFFF;\n",
              "      --disabled-bg-color: #3B4455;\n",
              "      --disabled-fill-color: #666;\n",
              "  }\n",
              "\n",
              "  .colab-df-quickchart {\n",
              "    background-color: var(--bg-color);\n",
              "    border: none;\n",
              "    border-radius: 50%;\n",
              "    cursor: pointer;\n",
              "    display: none;\n",
              "    fill: var(--fill-color);\n",
              "    height: 32px;\n",
              "    padding: 0;\n",
              "    width: 32px;\n",
              "  }\n",
              "\n",
              "  .colab-df-quickchart:hover {\n",
              "    background-color: var(--hover-bg-color);\n",
              "    box-shadow: 0 1px 2px rgba(60, 64, 67, 0.3), 0 1px 3px 1px rgba(60, 64, 67, 0.15);\n",
              "    fill: var(--button-hover-fill-color);\n",
              "  }\n",
              "\n",
              "  .colab-df-quickchart-complete:disabled,\n",
              "  .colab-df-quickchart-complete:disabled:hover {\n",
              "    background-color: var(--disabled-bg-color);\n",
              "    fill: var(--disabled-fill-color);\n",
              "    box-shadow: none;\n",
              "  }\n",
              "\n",
              "  .colab-df-spinner {\n",
              "    border: 2px solid var(--fill-color);\n",
              "    border-color: transparent;\n",
              "    border-bottom-color: var(--fill-color);\n",
              "    animation:\n",
              "      spin 1s steps(1) infinite;\n",
              "  }\n",
              "\n",
              "  @keyframes spin {\n",
              "    0% {\n",
              "      border-color: transparent;\n",
              "      border-bottom-color: var(--fill-color);\n",
              "      border-left-color: var(--fill-color);\n",
              "    }\n",
              "    20% {\n",
              "      border-color: transparent;\n",
              "      border-left-color: var(--fill-color);\n",
              "      border-top-color: var(--fill-color);\n",
              "    }\n",
              "    30% {\n",
              "      border-color: transparent;\n",
              "      border-left-color: var(--fill-color);\n",
              "      border-top-color: var(--fill-color);\n",
              "      border-right-color: var(--fill-color);\n",
              "    }\n",
              "    40% {\n",
              "      border-color: transparent;\n",
              "      border-right-color: var(--fill-color);\n",
              "      border-top-color: var(--fill-color);\n",
              "    }\n",
              "    60% {\n",
              "      border-color: transparent;\n",
              "      border-right-color: var(--fill-color);\n",
              "    }\n",
              "    80% {\n",
              "      border-color: transparent;\n",
              "      border-right-color: var(--fill-color);\n",
              "      border-bottom-color: var(--fill-color);\n",
              "    }\n",
              "    90% {\n",
              "      border-color: transparent;\n",
              "      border-bottom-color: var(--fill-color);\n",
              "    }\n",
              "  }\n",
              "</style>\n",
              "\n",
              "  <script>\n",
              "    async function quickchart(key) {\n",
              "      const quickchartButtonEl =\n",
              "        document.querySelector('#' + key + ' button');\n",
              "      quickchartButtonEl.disabled = true;  // To prevent multiple clicks.\n",
              "      quickchartButtonEl.classList.add('colab-df-spinner');\n",
              "      try {\n",
              "        const charts = await google.colab.kernel.invokeFunction(\n",
              "            'suggestCharts', [key], {});\n",
              "      } catch (error) {\n",
              "        console.error('Error during call to suggestCharts:', error);\n",
              "      }\n",
              "      quickchartButtonEl.classList.remove('colab-df-spinner');\n",
              "      quickchartButtonEl.classList.add('colab-df-quickchart-complete');\n",
              "    }\n",
              "    (() => {\n",
              "      let quickchartButtonEl =\n",
              "        document.querySelector('#df-4be7b667-dafa-4246-b53d-999f51f80b45 button');\n",
              "      quickchartButtonEl.style.display =\n",
              "        google.colab.kernel.accessAllowed ? 'block' : 'none';\n",
              "    })();\n",
              "  </script>\n",
              "</div>\n",
              "\n",
              "    </div>\n",
              "  </div>\n"
            ],
            "text/plain": [
              "  species     island  bill_length_mm  bill_depth_mm  flipper_length_mm  \\\n",
              "0  Adelie  Torgersen            39.1           18.7              181.0   \n",
              "1  Adelie  Torgersen            39.5           17.4              186.0   \n",
              "2  Adelie  Torgersen            40.3           18.0              195.0   \n",
              "3  Adelie  Torgersen             NaN            NaN                NaN   \n",
              "4  Adelie  Torgersen            36.7           19.3              193.0   \n",
              "\n",
              "   body_mass_g     sex  year  \n",
              "0       3750.0    male  2007  \n",
              "1       3800.0  female  2007  \n",
              "2       3250.0  female  2007  \n",
              "3          NaN     NaN  2007  \n",
              "4       3450.0  female  2007  "
            ]
          },
          "execution_count": 81,
          "metadata": {},
          "output_type": "execute_result"
        }
      ],
      "source": [
        "penguins = load_penguins()\n",
        "penguins.head()"
      ]
    },
    {
      "cell_type": "markdown",
      "metadata": {
        "id": "fNIgxT_8aelS"
      },
      "source": [
        "## variables to dummify: species, island, sex"
      ]
    },
    {
      "cell_type": "markdown",
      "metadata": {
        "id": "vauVUeqKawb_"
      },
      "source": [
        "## Dummifying variables: Method 1 - pd.get_dummies\n"
      ]
    },
    {
      "cell_type": "code",
      "execution_count": 82,
      "metadata": {
        "colab": {
          "base_uri": "https://localhost:8080/",
          "height": 423
        },
        "id": "opv5jJqxauBz",
        "outputId": "0c6fef85-5ee6-414a-d9f8-ec27a2c1be72"
      },
      "outputs": [
        {
          "data": {
            "application/vnd.google.colaboratory.intrinsic+json": {
              "summary": "{\n  \"name\": \"pd\",\n  \"rows\": 344,\n  \"fields\": [\n    {\n      \"column\": \"species_Adelie\",\n      \"properties\": {\n        \"dtype\": \"boolean\",\n        \"num_unique_values\": 2,\n        \"samples\": [\n          false,\n          true\n        ],\n        \"semantic_type\": \"\",\n        \"description\": \"\"\n      }\n    },\n    {\n      \"column\": \"species_Chinstrap\",\n      \"properties\": {\n        \"dtype\": \"boolean\",\n        \"num_unique_values\": 2,\n        \"samples\": [\n          true,\n          false\n        ],\n        \"semantic_type\": \"\",\n        \"description\": \"\"\n      }\n    },\n    {\n      \"column\": \"species_Gentoo\",\n      \"properties\": {\n        \"dtype\": \"boolean\",\n        \"num_unique_values\": 2,\n        \"samples\": [\n          true,\n          false\n        ],\n        \"semantic_type\": \"\",\n        \"description\": \"\"\n      }\n    }\n  ]\n}",
              "type": "dataframe"
            },
            "text/html": [
              "\n",
              "  <div id=\"df-dd4e3e24-5249-4ec3-a22f-e2eb01c66702\" class=\"colab-df-container\">\n",
              "    <div>\n",
              "<style scoped>\n",
              "    .dataframe tbody tr th:only-of-type {\n",
              "        vertical-align: middle;\n",
              "    }\n",
              "\n",
              "    .dataframe tbody tr th {\n",
              "        vertical-align: top;\n",
              "    }\n",
              "\n",
              "    .dataframe thead th {\n",
              "        text-align: right;\n",
              "    }\n",
              "</style>\n",
              "<table border=\"1\" class=\"dataframe\">\n",
              "  <thead>\n",
              "    <tr style=\"text-align: right;\">\n",
              "      <th></th>\n",
              "      <th>species_Adelie</th>\n",
              "      <th>species_Chinstrap</th>\n",
              "      <th>species_Gentoo</th>\n",
              "    </tr>\n",
              "  </thead>\n",
              "  <tbody>\n",
              "    <tr>\n",
              "      <th>0</th>\n",
              "      <td>True</td>\n",
              "      <td>False</td>\n",
              "      <td>False</td>\n",
              "    </tr>\n",
              "    <tr>\n",
              "      <th>1</th>\n",
              "      <td>True</td>\n",
              "      <td>False</td>\n",
              "      <td>False</td>\n",
              "    </tr>\n",
              "    <tr>\n",
              "      <th>2</th>\n",
              "      <td>True</td>\n",
              "      <td>False</td>\n",
              "      <td>False</td>\n",
              "    </tr>\n",
              "    <tr>\n",
              "      <th>3</th>\n",
              "      <td>True</td>\n",
              "      <td>False</td>\n",
              "      <td>False</td>\n",
              "    </tr>\n",
              "    <tr>\n",
              "      <th>4</th>\n",
              "      <td>True</td>\n",
              "      <td>False</td>\n",
              "      <td>False</td>\n",
              "    </tr>\n",
              "    <tr>\n",
              "      <th>...</th>\n",
              "      <td>...</td>\n",
              "      <td>...</td>\n",
              "      <td>...</td>\n",
              "    </tr>\n",
              "    <tr>\n",
              "      <th>339</th>\n",
              "      <td>False</td>\n",
              "      <td>True</td>\n",
              "      <td>False</td>\n",
              "    </tr>\n",
              "    <tr>\n",
              "      <th>340</th>\n",
              "      <td>False</td>\n",
              "      <td>True</td>\n",
              "      <td>False</td>\n",
              "    </tr>\n",
              "    <tr>\n",
              "      <th>341</th>\n",
              "      <td>False</td>\n",
              "      <td>True</td>\n",
              "      <td>False</td>\n",
              "    </tr>\n",
              "    <tr>\n",
              "      <th>342</th>\n",
              "      <td>False</td>\n",
              "      <td>True</td>\n",
              "      <td>False</td>\n",
              "    </tr>\n",
              "    <tr>\n",
              "      <th>343</th>\n",
              "      <td>False</td>\n",
              "      <td>True</td>\n",
              "      <td>False</td>\n",
              "    </tr>\n",
              "  </tbody>\n",
              "</table>\n",
              "<p>344 rows × 3 columns</p>\n",
              "</div>\n",
              "    <div class=\"colab-df-buttons\">\n",
              "\n",
              "  <div class=\"colab-df-container\">\n",
              "    <button class=\"colab-df-convert\" onclick=\"convertToInteractive('df-dd4e3e24-5249-4ec3-a22f-e2eb01c66702')\"\n",
              "            title=\"Convert this dataframe to an interactive table.\"\n",
              "            style=\"display:none;\">\n",
              "\n",
              "  <svg xmlns=\"http://www.w3.org/2000/svg\" height=\"24px\" viewBox=\"0 -960 960 960\">\n",
              "    <path d=\"M120-120v-720h720v720H120Zm60-500h600v-160H180v160Zm220 220h160v-160H400v160Zm0 220h160v-160H400v160ZM180-400h160v-160H180v160Zm440 0h160v-160H620v160ZM180-180h160v-160H180v160Zm440 0h160v-160H620v160Z\"/>\n",
              "  </svg>\n",
              "    </button>\n",
              "\n",
              "  <style>\n",
              "    .colab-df-container {\n",
              "      display:flex;\n",
              "      gap: 12px;\n",
              "    }\n",
              "\n",
              "    .colab-df-convert {\n",
              "      background-color: #E8F0FE;\n",
              "      border: none;\n",
              "      border-radius: 50%;\n",
              "      cursor: pointer;\n",
              "      display: none;\n",
              "      fill: #1967D2;\n",
              "      height: 32px;\n",
              "      padding: 0 0 0 0;\n",
              "      width: 32px;\n",
              "    }\n",
              "\n",
              "    .colab-df-convert:hover {\n",
              "      background-color: #E2EBFA;\n",
              "      box-shadow: 0px 1px 2px rgba(60, 64, 67, 0.3), 0px 1px 3px 1px rgba(60, 64, 67, 0.15);\n",
              "      fill: #174EA6;\n",
              "    }\n",
              "\n",
              "    .colab-df-buttons div {\n",
              "      margin-bottom: 4px;\n",
              "    }\n",
              "\n",
              "    [theme=dark] .colab-df-convert {\n",
              "      background-color: #3B4455;\n",
              "      fill: #D2E3FC;\n",
              "    }\n",
              "\n",
              "    [theme=dark] .colab-df-convert:hover {\n",
              "      background-color: #434B5C;\n",
              "      box-shadow: 0px 1px 3px 1px rgba(0, 0, 0, 0.15);\n",
              "      filter: drop-shadow(0px 1px 2px rgba(0, 0, 0, 0.3));\n",
              "      fill: #FFFFFF;\n",
              "    }\n",
              "  </style>\n",
              "\n",
              "    <script>\n",
              "      const buttonEl =\n",
              "        document.querySelector('#df-dd4e3e24-5249-4ec3-a22f-e2eb01c66702 button.colab-df-convert');\n",
              "      buttonEl.style.display =\n",
              "        google.colab.kernel.accessAllowed ? 'block' : 'none';\n",
              "\n",
              "      async function convertToInteractive(key) {\n",
              "        const element = document.querySelector('#df-dd4e3e24-5249-4ec3-a22f-e2eb01c66702');\n",
              "        const dataTable =\n",
              "          await google.colab.kernel.invokeFunction('convertToInteractive',\n",
              "                                                    [key], {});\n",
              "        if (!dataTable) return;\n",
              "\n",
              "        const docLinkHtml = 'Like what you see? Visit the ' +\n",
              "          '<a target=\"_blank\" href=https://colab.research.google.com/notebooks/data_table.ipynb>data table notebook</a>'\n",
              "          + ' to learn more about interactive tables.';\n",
              "        element.innerHTML = '';\n",
              "        dataTable['output_type'] = 'display_data';\n",
              "        await google.colab.output.renderOutput(dataTable, element);\n",
              "        const docLink = document.createElement('div');\n",
              "        docLink.innerHTML = docLinkHtml;\n",
              "        element.appendChild(docLink);\n",
              "      }\n",
              "    </script>\n",
              "  </div>\n",
              "\n",
              "\n",
              "<div id=\"df-41e43544-ecaa-4cc2-81e1-36a6e7fa53bd\">\n",
              "  <button class=\"colab-df-quickchart\" onclick=\"quickchart('df-41e43544-ecaa-4cc2-81e1-36a6e7fa53bd')\"\n",
              "            title=\"Suggest charts\"\n",
              "            style=\"display:none;\">\n",
              "\n",
              "<svg xmlns=\"http://www.w3.org/2000/svg\" height=\"24px\"viewBox=\"0 0 24 24\"\n",
              "     width=\"24px\">\n",
              "    <g>\n",
              "        <path d=\"M19 3H5c-1.1 0-2 .9-2 2v14c0 1.1.9 2 2 2h14c1.1 0 2-.9 2-2V5c0-1.1-.9-2-2-2zM9 17H7v-7h2v7zm4 0h-2V7h2v10zm4 0h-2v-4h2v4z\"/>\n",
              "    </g>\n",
              "</svg>\n",
              "  </button>\n",
              "\n",
              "<style>\n",
              "  .colab-df-quickchart {\n",
              "      --bg-color: #E8F0FE;\n",
              "      --fill-color: #1967D2;\n",
              "      --hover-bg-color: #E2EBFA;\n",
              "      --hover-fill-color: #174EA6;\n",
              "      --disabled-fill-color: #AAA;\n",
              "      --disabled-bg-color: #DDD;\n",
              "  }\n",
              "\n",
              "  [theme=dark] .colab-df-quickchart {\n",
              "      --bg-color: #3B4455;\n",
              "      --fill-color: #D2E3FC;\n",
              "      --hover-bg-color: #434B5C;\n",
              "      --hover-fill-color: #FFFFFF;\n",
              "      --disabled-bg-color: #3B4455;\n",
              "      --disabled-fill-color: #666;\n",
              "  }\n",
              "\n",
              "  .colab-df-quickchart {\n",
              "    background-color: var(--bg-color);\n",
              "    border: none;\n",
              "    border-radius: 50%;\n",
              "    cursor: pointer;\n",
              "    display: none;\n",
              "    fill: var(--fill-color);\n",
              "    height: 32px;\n",
              "    padding: 0;\n",
              "    width: 32px;\n",
              "  }\n",
              "\n",
              "  .colab-df-quickchart:hover {\n",
              "    background-color: var(--hover-bg-color);\n",
              "    box-shadow: 0 1px 2px rgba(60, 64, 67, 0.3), 0 1px 3px 1px rgba(60, 64, 67, 0.15);\n",
              "    fill: var(--button-hover-fill-color);\n",
              "  }\n",
              "\n",
              "  .colab-df-quickchart-complete:disabled,\n",
              "  .colab-df-quickchart-complete:disabled:hover {\n",
              "    background-color: var(--disabled-bg-color);\n",
              "    fill: var(--disabled-fill-color);\n",
              "    box-shadow: none;\n",
              "  }\n",
              "\n",
              "  .colab-df-spinner {\n",
              "    border: 2px solid var(--fill-color);\n",
              "    border-color: transparent;\n",
              "    border-bottom-color: var(--fill-color);\n",
              "    animation:\n",
              "      spin 1s steps(1) infinite;\n",
              "  }\n",
              "\n",
              "  @keyframes spin {\n",
              "    0% {\n",
              "      border-color: transparent;\n",
              "      border-bottom-color: var(--fill-color);\n",
              "      border-left-color: var(--fill-color);\n",
              "    }\n",
              "    20% {\n",
              "      border-color: transparent;\n",
              "      border-left-color: var(--fill-color);\n",
              "      border-top-color: var(--fill-color);\n",
              "    }\n",
              "    30% {\n",
              "      border-color: transparent;\n",
              "      border-left-color: var(--fill-color);\n",
              "      border-top-color: var(--fill-color);\n",
              "      border-right-color: var(--fill-color);\n",
              "    }\n",
              "    40% {\n",
              "      border-color: transparent;\n",
              "      border-right-color: var(--fill-color);\n",
              "      border-top-color: var(--fill-color);\n",
              "    }\n",
              "    60% {\n",
              "      border-color: transparent;\n",
              "      border-right-color: var(--fill-color);\n",
              "    }\n",
              "    80% {\n",
              "      border-color: transparent;\n",
              "      border-right-color: var(--fill-color);\n",
              "      border-bottom-color: var(--fill-color);\n",
              "    }\n",
              "    90% {\n",
              "      border-color: transparent;\n",
              "      border-bottom-color: var(--fill-color);\n",
              "    }\n",
              "  }\n",
              "</style>\n",
              "\n",
              "  <script>\n",
              "    async function quickchart(key) {\n",
              "      const quickchartButtonEl =\n",
              "        document.querySelector('#' + key + ' button');\n",
              "      quickchartButtonEl.disabled = true;  // To prevent multiple clicks.\n",
              "      quickchartButtonEl.classList.add('colab-df-spinner');\n",
              "      try {\n",
              "        const charts = await google.colab.kernel.invokeFunction(\n",
              "            'suggestCharts', [key], {});\n",
              "      } catch (error) {\n",
              "        console.error('Error during call to suggestCharts:', error);\n",
              "      }\n",
              "      quickchartButtonEl.classList.remove('colab-df-spinner');\n",
              "      quickchartButtonEl.classList.add('colab-df-quickchart-complete');\n",
              "    }\n",
              "    (() => {\n",
              "      let quickchartButtonEl =\n",
              "        document.querySelector('#df-41e43544-ecaa-4cc2-81e1-36a6e7fa53bd button');\n",
              "      quickchartButtonEl.style.display =\n",
              "        google.colab.kernel.accessAllowed ? 'block' : 'none';\n",
              "    })();\n",
              "  </script>\n",
              "</div>\n",
              "\n",
              "    </div>\n",
              "  </div>\n"
            ],
            "text/plain": [
              "     species_Adelie  species_Chinstrap  species_Gentoo\n",
              "0              True              False           False\n",
              "1              True              False           False\n",
              "2              True              False           False\n",
              "3              True              False           False\n",
              "4              True              False           False\n",
              "..              ...                ...             ...\n",
              "339           False               True           False\n",
              "340           False               True           False\n",
              "341           False               True           False\n",
              "342           False               True           False\n",
              "343           False               True           False\n",
              "\n",
              "[344 rows x 3 columns]"
            ]
          },
          "execution_count": 82,
          "metadata": {},
          "output_type": "execute_result"
        }
      ],
      "source": [
        "pd.get_dummies(penguins[['species']]) ## use [[ ]] to get a dataframe"
      ]
    },
    {
      "cell_type": "code",
      "execution_count": 83,
      "metadata": {
        "colab": {
          "base_uri": "https://localhost:8080/",
          "height": 423
        },
        "id": "4NmVCNGhbKM6",
        "outputId": "cfdf32e6-6884-4688-8606-7b8bfc4c8b0b"
      },
      "outputs": [
        {
          "data": {
            "application/vnd.google.colaboratory.intrinsic+json": {
              "summary": "{\n  \"name\": \"pd\",\n  \"rows\": 344,\n  \"fields\": [\n    {\n      \"column\": \"bill_length_mm\",\n      \"properties\": {\n        \"dtype\": \"number\",\n        \"std\": 5.4595837139265315,\n        \"min\": 32.1,\n        \"max\": 59.6,\n        \"num_unique_values\": 164,\n        \"samples\": [\n          49.4,\n          43.8,\n          43.4\n        ],\n        \"semantic_type\": \"\",\n        \"description\": \"\"\n      }\n    },\n    {\n      \"column\": \"bill_depth_mm\",\n      \"properties\": {\n        \"dtype\": \"number\",\n        \"std\": 1.9747931568167818,\n        \"min\": 13.1,\n        \"max\": 21.5,\n        \"num_unique_values\": 80,\n        \"samples\": [\n          16.9,\n          18.7,\n          18.6\n        ],\n        \"semantic_type\": \"\",\n        \"description\": \"\"\n      }\n    },\n    {\n      \"column\": \"flipper_length_mm\",\n      \"properties\": {\n        \"dtype\": \"number\",\n        \"std\": 14.061713679356888,\n        \"min\": 172.0,\n        \"max\": 231.0,\n        \"num_unique_values\": 55,\n        \"samples\": [\n          201.0,\n          180.0,\n          211.0\n        ],\n        \"semantic_type\": \"\",\n        \"description\": \"\"\n      }\n    },\n    {\n      \"column\": \"body_mass_g\",\n      \"properties\": {\n        \"dtype\": \"number\",\n        \"std\": 801.9545356980958,\n        \"min\": 2700.0,\n        \"max\": 6300.0,\n        \"num_unique_values\": 94,\n        \"samples\": [\n          4350.0,\n          4150.0,\n          5700.0\n        ],\n        \"semantic_type\": \"\",\n        \"description\": \"\"\n      }\n    },\n    {\n      \"column\": \"year\",\n      \"properties\": {\n        \"dtype\": \"number\",\n        \"std\": 0,\n        \"min\": 2007,\n        \"max\": 2009,\n        \"num_unique_values\": 3,\n        \"samples\": [\n          2007,\n          2008,\n          2009\n        ],\n        \"semantic_type\": \"\",\n        \"description\": \"\"\n      }\n    },\n    {\n      \"column\": \"species_Adelie\",\n      \"properties\": {\n        \"dtype\": \"boolean\",\n        \"num_unique_values\": 2,\n        \"samples\": [\n          false,\n          true\n        ],\n        \"semantic_type\": \"\",\n        \"description\": \"\"\n      }\n    },\n    {\n      \"column\": \"species_Chinstrap\",\n      \"properties\": {\n        \"dtype\": \"boolean\",\n        \"num_unique_values\": 2,\n        \"samples\": [\n          true,\n          false\n        ],\n        \"semantic_type\": \"\",\n        \"description\": \"\"\n      }\n    },\n    {\n      \"column\": \"species_Gentoo\",\n      \"properties\": {\n        \"dtype\": \"boolean\",\n        \"num_unique_values\": 2,\n        \"samples\": [\n          true,\n          false\n        ],\n        \"semantic_type\": \"\",\n        \"description\": \"\"\n      }\n    },\n    {\n      \"column\": \"island_Biscoe\",\n      \"properties\": {\n        \"dtype\": \"boolean\",\n        \"num_unique_values\": 2,\n        \"samples\": [\n          true,\n          false\n        ],\n        \"semantic_type\": \"\",\n        \"description\": \"\"\n      }\n    },\n    {\n      \"column\": \"island_Dream\",\n      \"properties\": {\n        \"dtype\": \"boolean\",\n        \"num_unique_values\": 2,\n        \"samples\": [\n          true,\n          false\n        ],\n        \"semantic_type\": \"\",\n        \"description\": \"\"\n      }\n    },\n    {\n      \"column\": \"island_Torgersen\",\n      \"properties\": {\n        \"dtype\": \"boolean\",\n        \"num_unique_values\": 2,\n        \"samples\": [\n          false,\n          true\n        ],\n        \"semantic_type\": \"\",\n        \"description\": \"\"\n      }\n    },\n    {\n      \"column\": \"sex_female\",\n      \"properties\": {\n        \"dtype\": \"boolean\",\n        \"num_unique_values\": 2,\n        \"samples\": [\n          true,\n          false\n        ],\n        \"semantic_type\": \"\",\n        \"description\": \"\"\n      }\n    },\n    {\n      \"column\": \"sex_male\",\n      \"properties\": {\n        \"dtype\": \"boolean\",\n        \"num_unique_values\": 2,\n        \"samples\": [\n          false,\n          true\n        ],\n        \"semantic_type\": \"\",\n        \"description\": \"\"\n      }\n    }\n  ]\n}",
              "type": "dataframe"
            },
            "text/html": [
              "\n",
              "  <div id=\"df-989dbf90-5e55-4d5d-b550-e0305e3d9008\" class=\"colab-df-container\">\n",
              "    <div>\n",
              "<style scoped>\n",
              "    .dataframe tbody tr th:only-of-type {\n",
              "        vertical-align: middle;\n",
              "    }\n",
              "\n",
              "    .dataframe tbody tr th {\n",
              "        vertical-align: top;\n",
              "    }\n",
              "\n",
              "    .dataframe thead th {\n",
              "        text-align: right;\n",
              "    }\n",
              "</style>\n",
              "<table border=\"1\" class=\"dataframe\">\n",
              "  <thead>\n",
              "    <tr style=\"text-align: right;\">\n",
              "      <th></th>\n",
              "      <th>bill_length_mm</th>\n",
              "      <th>bill_depth_mm</th>\n",
              "      <th>flipper_length_mm</th>\n",
              "      <th>body_mass_g</th>\n",
              "      <th>year</th>\n",
              "      <th>species_Adelie</th>\n",
              "      <th>species_Chinstrap</th>\n",
              "      <th>species_Gentoo</th>\n",
              "      <th>island_Biscoe</th>\n",
              "      <th>island_Dream</th>\n",
              "      <th>island_Torgersen</th>\n",
              "      <th>sex_female</th>\n",
              "      <th>sex_male</th>\n",
              "    </tr>\n",
              "  </thead>\n",
              "  <tbody>\n",
              "    <tr>\n",
              "      <th>0</th>\n",
              "      <td>39.1</td>\n",
              "      <td>18.7</td>\n",
              "      <td>181.0</td>\n",
              "      <td>3750.0</td>\n",
              "      <td>2007</td>\n",
              "      <td>True</td>\n",
              "      <td>False</td>\n",
              "      <td>False</td>\n",
              "      <td>False</td>\n",
              "      <td>False</td>\n",
              "      <td>True</td>\n",
              "      <td>False</td>\n",
              "      <td>True</td>\n",
              "    </tr>\n",
              "    <tr>\n",
              "      <th>1</th>\n",
              "      <td>39.5</td>\n",
              "      <td>17.4</td>\n",
              "      <td>186.0</td>\n",
              "      <td>3800.0</td>\n",
              "      <td>2007</td>\n",
              "      <td>True</td>\n",
              "      <td>False</td>\n",
              "      <td>False</td>\n",
              "      <td>False</td>\n",
              "      <td>False</td>\n",
              "      <td>True</td>\n",
              "      <td>True</td>\n",
              "      <td>False</td>\n",
              "    </tr>\n",
              "    <tr>\n",
              "      <th>2</th>\n",
              "      <td>40.3</td>\n",
              "      <td>18.0</td>\n",
              "      <td>195.0</td>\n",
              "      <td>3250.0</td>\n",
              "      <td>2007</td>\n",
              "      <td>True</td>\n",
              "      <td>False</td>\n",
              "      <td>False</td>\n",
              "      <td>False</td>\n",
              "      <td>False</td>\n",
              "      <td>True</td>\n",
              "      <td>True</td>\n",
              "      <td>False</td>\n",
              "    </tr>\n",
              "    <tr>\n",
              "      <th>3</th>\n",
              "      <td>NaN</td>\n",
              "      <td>NaN</td>\n",
              "      <td>NaN</td>\n",
              "      <td>NaN</td>\n",
              "      <td>2007</td>\n",
              "      <td>True</td>\n",
              "      <td>False</td>\n",
              "      <td>False</td>\n",
              "      <td>False</td>\n",
              "      <td>False</td>\n",
              "      <td>True</td>\n",
              "      <td>False</td>\n",
              "      <td>False</td>\n",
              "    </tr>\n",
              "    <tr>\n",
              "      <th>4</th>\n",
              "      <td>36.7</td>\n",
              "      <td>19.3</td>\n",
              "      <td>193.0</td>\n",
              "      <td>3450.0</td>\n",
              "      <td>2007</td>\n",
              "      <td>True</td>\n",
              "      <td>False</td>\n",
              "      <td>False</td>\n",
              "      <td>False</td>\n",
              "      <td>False</td>\n",
              "      <td>True</td>\n",
              "      <td>True</td>\n",
              "      <td>False</td>\n",
              "    </tr>\n",
              "    <tr>\n",
              "      <th>...</th>\n",
              "      <td>...</td>\n",
              "      <td>...</td>\n",
              "      <td>...</td>\n",
              "      <td>...</td>\n",
              "      <td>...</td>\n",
              "      <td>...</td>\n",
              "      <td>...</td>\n",
              "      <td>...</td>\n",
              "      <td>...</td>\n",
              "      <td>...</td>\n",
              "      <td>...</td>\n",
              "      <td>...</td>\n",
              "      <td>...</td>\n",
              "    </tr>\n",
              "    <tr>\n",
              "      <th>339</th>\n",
              "      <td>55.8</td>\n",
              "      <td>19.8</td>\n",
              "      <td>207.0</td>\n",
              "      <td>4000.0</td>\n",
              "      <td>2009</td>\n",
              "      <td>False</td>\n",
              "      <td>True</td>\n",
              "      <td>False</td>\n",
              "      <td>False</td>\n",
              "      <td>True</td>\n",
              "      <td>False</td>\n",
              "      <td>False</td>\n",
              "      <td>True</td>\n",
              "    </tr>\n",
              "    <tr>\n",
              "      <th>340</th>\n",
              "      <td>43.5</td>\n",
              "      <td>18.1</td>\n",
              "      <td>202.0</td>\n",
              "      <td>3400.0</td>\n",
              "      <td>2009</td>\n",
              "      <td>False</td>\n",
              "      <td>True</td>\n",
              "      <td>False</td>\n",
              "      <td>False</td>\n",
              "      <td>True</td>\n",
              "      <td>False</td>\n",
              "      <td>True</td>\n",
              "      <td>False</td>\n",
              "    </tr>\n",
              "    <tr>\n",
              "      <th>341</th>\n",
              "      <td>49.6</td>\n",
              "      <td>18.2</td>\n",
              "      <td>193.0</td>\n",
              "      <td>3775.0</td>\n",
              "      <td>2009</td>\n",
              "      <td>False</td>\n",
              "      <td>True</td>\n",
              "      <td>False</td>\n",
              "      <td>False</td>\n",
              "      <td>True</td>\n",
              "      <td>False</td>\n",
              "      <td>False</td>\n",
              "      <td>True</td>\n",
              "    </tr>\n",
              "    <tr>\n",
              "      <th>342</th>\n",
              "      <td>50.8</td>\n",
              "      <td>19.0</td>\n",
              "      <td>210.0</td>\n",
              "      <td>4100.0</td>\n",
              "      <td>2009</td>\n",
              "      <td>False</td>\n",
              "      <td>True</td>\n",
              "      <td>False</td>\n",
              "      <td>False</td>\n",
              "      <td>True</td>\n",
              "      <td>False</td>\n",
              "      <td>False</td>\n",
              "      <td>True</td>\n",
              "    </tr>\n",
              "    <tr>\n",
              "      <th>343</th>\n",
              "      <td>50.2</td>\n",
              "      <td>18.7</td>\n",
              "      <td>198.0</td>\n",
              "      <td>3775.0</td>\n",
              "      <td>2009</td>\n",
              "      <td>False</td>\n",
              "      <td>True</td>\n",
              "      <td>False</td>\n",
              "      <td>False</td>\n",
              "      <td>True</td>\n",
              "      <td>False</td>\n",
              "      <td>True</td>\n",
              "      <td>False</td>\n",
              "    </tr>\n",
              "  </tbody>\n",
              "</table>\n",
              "<p>344 rows × 13 columns</p>\n",
              "</div>\n",
              "    <div class=\"colab-df-buttons\">\n",
              "\n",
              "  <div class=\"colab-df-container\">\n",
              "    <button class=\"colab-df-convert\" onclick=\"convertToInteractive('df-989dbf90-5e55-4d5d-b550-e0305e3d9008')\"\n",
              "            title=\"Convert this dataframe to an interactive table.\"\n",
              "            style=\"display:none;\">\n",
              "\n",
              "  <svg xmlns=\"http://www.w3.org/2000/svg\" height=\"24px\" viewBox=\"0 -960 960 960\">\n",
              "    <path d=\"M120-120v-720h720v720H120Zm60-500h600v-160H180v160Zm220 220h160v-160H400v160Zm0 220h160v-160H400v160ZM180-400h160v-160H180v160Zm440 0h160v-160H620v160ZM180-180h160v-160H180v160Zm440 0h160v-160H620v160Z\"/>\n",
              "  </svg>\n",
              "    </button>\n",
              "\n",
              "  <style>\n",
              "    .colab-df-container {\n",
              "      display:flex;\n",
              "      gap: 12px;\n",
              "    }\n",
              "\n",
              "    .colab-df-convert {\n",
              "      background-color: #E8F0FE;\n",
              "      border: none;\n",
              "      border-radius: 50%;\n",
              "      cursor: pointer;\n",
              "      display: none;\n",
              "      fill: #1967D2;\n",
              "      height: 32px;\n",
              "      padding: 0 0 0 0;\n",
              "      width: 32px;\n",
              "    }\n",
              "\n",
              "    .colab-df-convert:hover {\n",
              "      background-color: #E2EBFA;\n",
              "      box-shadow: 0px 1px 2px rgba(60, 64, 67, 0.3), 0px 1px 3px 1px rgba(60, 64, 67, 0.15);\n",
              "      fill: #174EA6;\n",
              "    }\n",
              "\n",
              "    .colab-df-buttons div {\n",
              "      margin-bottom: 4px;\n",
              "    }\n",
              "\n",
              "    [theme=dark] .colab-df-convert {\n",
              "      background-color: #3B4455;\n",
              "      fill: #D2E3FC;\n",
              "    }\n",
              "\n",
              "    [theme=dark] .colab-df-convert:hover {\n",
              "      background-color: #434B5C;\n",
              "      box-shadow: 0px 1px 3px 1px rgba(0, 0, 0, 0.15);\n",
              "      filter: drop-shadow(0px 1px 2px rgba(0, 0, 0, 0.3));\n",
              "      fill: #FFFFFF;\n",
              "    }\n",
              "  </style>\n",
              "\n",
              "    <script>\n",
              "      const buttonEl =\n",
              "        document.querySelector('#df-989dbf90-5e55-4d5d-b550-e0305e3d9008 button.colab-df-convert');\n",
              "      buttonEl.style.display =\n",
              "        google.colab.kernel.accessAllowed ? 'block' : 'none';\n",
              "\n",
              "      async function convertToInteractive(key) {\n",
              "        const element = document.querySelector('#df-989dbf90-5e55-4d5d-b550-e0305e3d9008');\n",
              "        const dataTable =\n",
              "          await google.colab.kernel.invokeFunction('convertToInteractive',\n",
              "                                                    [key], {});\n",
              "        if (!dataTable) return;\n",
              "\n",
              "        const docLinkHtml = 'Like what you see? Visit the ' +\n",
              "          '<a target=\"_blank\" href=https://colab.research.google.com/notebooks/data_table.ipynb>data table notebook</a>'\n",
              "          + ' to learn more about interactive tables.';\n",
              "        element.innerHTML = '';\n",
              "        dataTable['output_type'] = 'display_data';\n",
              "        await google.colab.output.renderOutput(dataTable, element);\n",
              "        const docLink = document.createElement('div');\n",
              "        docLink.innerHTML = docLinkHtml;\n",
              "        element.appendChild(docLink);\n",
              "      }\n",
              "    </script>\n",
              "  </div>\n",
              "\n",
              "\n",
              "<div id=\"df-fb974d90-722b-4d80-9f3b-2145e638679c\">\n",
              "  <button class=\"colab-df-quickchart\" onclick=\"quickchart('df-fb974d90-722b-4d80-9f3b-2145e638679c')\"\n",
              "            title=\"Suggest charts\"\n",
              "            style=\"display:none;\">\n",
              "\n",
              "<svg xmlns=\"http://www.w3.org/2000/svg\" height=\"24px\"viewBox=\"0 0 24 24\"\n",
              "     width=\"24px\">\n",
              "    <g>\n",
              "        <path d=\"M19 3H5c-1.1 0-2 .9-2 2v14c0 1.1.9 2 2 2h14c1.1 0 2-.9 2-2V5c0-1.1-.9-2-2-2zM9 17H7v-7h2v7zm4 0h-2V7h2v10zm4 0h-2v-4h2v4z\"/>\n",
              "    </g>\n",
              "</svg>\n",
              "  </button>\n",
              "\n",
              "<style>\n",
              "  .colab-df-quickchart {\n",
              "      --bg-color: #E8F0FE;\n",
              "      --fill-color: #1967D2;\n",
              "      --hover-bg-color: #E2EBFA;\n",
              "      --hover-fill-color: #174EA6;\n",
              "      --disabled-fill-color: #AAA;\n",
              "      --disabled-bg-color: #DDD;\n",
              "  }\n",
              "\n",
              "  [theme=dark] .colab-df-quickchart {\n",
              "      --bg-color: #3B4455;\n",
              "      --fill-color: #D2E3FC;\n",
              "      --hover-bg-color: #434B5C;\n",
              "      --hover-fill-color: #FFFFFF;\n",
              "      --disabled-bg-color: #3B4455;\n",
              "      --disabled-fill-color: #666;\n",
              "  }\n",
              "\n",
              "  .colab-df-quickchart {\n",
              "    background-color: var(--bg-color);\n",
              "    border: none;\n",
              "    border-radius: 50%;\n",
              "    cursor: pointer;\n",
              "    display: none;\n",
              "    fill: var(--fill-color);\n",
              "    height: 32px;\n",
              "    padding: 0;\n",
              "    width: 32px;\n",
              "  }\n",
              "\n",
              "  .colab-df-quickchart:hover {\n",
              "    background-color: var(--hover-bg-color);\n",
              "    box-shadow: 0 1px 2px rgba(60, 64, 67, 0.3), 0 1px 3px 1px rgba(60, 64, 67, 0.15);\n",
              "    fill: var(--button-hover-fill-color);\n",
              "  }\n",
              "\n",
              "  .colab-df-quickchart-complete:disabled,\n",
              "  .colab-df-quickchart-complete:disabled:hover {\n",
              "    background-color: var(--disabled-bg-color);\n",
              "    fill: var(--disabled-fill-color);\n",
              "    box-shadow: none;\n",
              "  }\n",
              "\n",
              "  .colab-df-spinner {\n",
              "    border: 2px solid var(--fill-color);\n",
              "    border-color: transparent;\n",
              "    border-bottom-color: var(--fill-color);\n",
              "    animation:\n",
              "      spin 1s steps(1) infinite;\n",
              "  }\n",
              "\n",
              "  @keyframes spin {\n",
              "    0% {\n",
              "      border-color: transparent;\n",
              "      border-bottom-color: var(--fill-color);\n",
              "      border-left-color: var(--fill-color);\n",
              "    }\n",
              "    20% {\n",
              "      border-color: transparent;\n",
              "      border-left-color: var(--fill-color);\n",
              "      border-top-color: var(--fill-color);\n",
              "    }\n",
              "    30% {\n",
              "      border-color: transparent;\n",
              "      border-left-color: var(--fill-color);\n",
              "      border-top-color: var(--fill-color);\n",
              "      border-right-color: var(--fill-color);\n",
              "    }\n",
              "    40% {\n",
              "      border-color: transparent;\n",
              "      border-right-color: var(--fill-color);\n",
              "      border-top-color: var(--fill-color);\n",
              "    }\n",
              "    60% {\n",
              "      border-color: transparent;\n",
              "      border-right-color: var(--fill-color);\n",
              "    }\n",
              "    80% {\n",
              "      border-color: transparent;\n",
              "      border-right-color: var(--fill-color);\n",
              "      border-bottom-color: var(--fill-color);\n",
              "    }\n",
              "    90% {\n",
              "      border-color: transparent;\n",
              "      border-bottom-color: var(--fill-color);\n",
              "    }\n",
              "  }\n",
              "</style>\n",
              "\n",
              "  <script>\n",
              "    async function quickchart(key) {\n",
              "      const quickchartButtonEl =\n",
              "        document.querySelector('#' + key + ' button');\n",
              "      quickchartButtonEl.disabled = true;  // To prevent multiple clicks.\n",
              "      quickchartButtonEl.classList.add('colab-df-spinner');\n",
              "      try {\n",
              "        const charts = await google.colab.kernel.invokeFunction(\n",
              "            'suggestCharts', [key], {});\n",
              "      } catch (error) {\n",
              "        console.error('Error during call to suggestCharts:', error);\n",
              "      }\n",
              "      quickchartButtonEl.classList.remove('colab-df-spinner');\n",
              "      quickchartButtonEl.classList.add('colab-df-quickchart-complete');\n",
              "    }\n",
              "    (() => {\n",
              "      let quickchartButtonEl =\n",
              "        document.querySelector('#df-fb974d90-722b-4d80-9f3b-2145e638679c button');\n",
              "      quickchartButtonEl.style.display =\n",
              "        google.colab.kernel.accessAllowed ? 'block' : 'none';\n",
              "    })();\n",
              "  </script>\n",
              "</div>\n",
              "\n",
              "    </div>\n",
              "  </div>\n"
            ],
            "text/plain": [
              "     bill_length_mm  bill_depth_mm  flipper_length_mm  body_mass_g  year  \\\n",
              "0              39.1           18.7              181.0       3750.0  2007   \n",
              "1              39.5           17.4              186.0       3800.0  2007   \n",
              "2              40.3           18.0              195.0       3250.0  2007   \n",
              "3               NaN            NaN                NaN          NaN  2007   \n",
              "4              36.7           19.3              193.0       3450.0  2007   \n",
              "..              ...            ...                ...          ...   ...   \n",
              "339            55.8           19.8              207.0       4000.0  2009   \n",
              "340            43.5           18.1              202.0       3400.0  2009   \n",
              "341            49.6           18.2              193.0       3775.0  2009   \n",
              "342            50.8           19.0              210.0       4100.0  2009   \n",
              "343            50.2           18.7              198.0       3775.0  2009   \n",
              "\n",
              "     species_Adelie  species_Chinstrap  species_Gentoo  island_Biscoe  \\\n",
              "0              True              False           False          False   \n",
              "1              True              False           False          False   \n",
              "2              True              False           False          False   \n",
              "3              True              False           False          False   \n",
              "4              True              False           False          False   \n",
              "..              ...                ...             ...            ...   \n",
              "339           False               True           False          False   \n",
              "340           False               True           False          False   \n",
              "341           False               True           False          False   \n",
              "342           False               True           False          False   \n",
              "343           False               True           False          False   \n",
              "\n",
              "     island_Dream  island_Torgersen  sex_female  sex_male  \n",
              "0           False              True       False      True  \n",
              "1           False              True        True     False  \n",
              "2           False              True        True     False  \n",
              "3           False              True       False     False  \n",
              "4           False              True        True     False  \n",
              "..            ...               ...         ...       ...  \n",
              "339          True             False       False      True  \n",
              "340          True             False        True     False  \n",
              "341          True             False       False      True  \n",
              "342          True             False       False      True  \n",
              "343          True             False        True     False  \n",
              "\n",
              "[344 rows x 13 columns]"
            ]
          },
          "execution_count": 83,
          "metadata": {},
          "output_type": "execute_result"
        }
      ],
      "source": [
        "pd.get_dummies(penguins) # dummified without specifying based on all possible dummy variables in the dataset. Dummifying on all variables like Name in dataset, can create non-meaningfull columns"
      ]
    },
    {
      "cell_type": "markdown",
      "metadata": {
        "id": "45viSgypbVdz"
      },
      "source": [
        "## Method 2 - OHE from scikit learn"
      ]
    },
    {
      "cell_type": "code",
      "execution_count": 84,
      "metadata": {
        "colab": {
          "base_uri": "https://localhost:8080/"
        },
        "collapsed": true,
        "id": "AMJ3f8LDbPdW",
        "outputId": "a2cdadcc-549d-4217-d516-c497a3201d1d"
      },
      "outputs": [
        {
          "data": {
            "text/plain": [
              "array([[1., 0., 0.],\n",
              "       [1., 0., 0.],\n",
              "       [1., 0., 0.],\n",
              "       ...,\n",
              "       [0., 1., 0.],\n",
              "       [0., 1., 0.],\n",
              "       [0., 1., 0.]])"
            ]
          },
          "execution_count": 84,
          "metadata": {},
          "output_type": "execute_result"
        }
      ],
      "source": [
        "enc = ohe() ## creating new robot\n",
        "enc.fit(penguins[[\"species\"]]) ## robot learns categories of species variable\n",
        "enc.transform(penguins[[\"species\"]]).toarray() ## by default gives sparse matrices, hence use toarray() to gave back a numpy array\n",
        "# final goal is the model fit"
      ]
    },
    {
      "cell_type": "code",
      "execution_count": 85,
      "metadata": {
        "colab": {
          "base_uri": "https://localhost:8080/"
        },
        "collapsed": true,
        "id": "i9socazabnUw",
        "outputId": "518cc15b-4122-44ca-ea97-caa55efd2eee"
      },
      "outputs": [
        {
          "data": {
            "text/plain": [
              "array([[1., 0., 0., ..., 1., 0., 0.],\n",
              "       [1., 0., 0., ..., 1., 0., 0.],\n",
              "       [1., 0., 0., ..., 1., 0., 0.],\n",
              "       ...,\n",
              "       [0., 1., 0., ..., 0., 0., 1.],\n",
              "       [0., 1., 0., ..., 0., 0., 1.],\n",
              "       [0., 1., 0., ..., 0., 0., 1.]])"
            ]
          },
          "execution_count": 85,
          "metadata": {},
          "output_type": "execute_result"
        }
      ],
      "source": [
        "enc.fit(penguins) ## what happens if you throw in whole dataset, not as smart as with pd.get_dummies()\n",
        "enc.transform(penguins).toarray()\n",
        "# enc.categories_"
      ]
    },
    {
      "cell_type": "code",
      "execution_count": 86,
      "metadata": {
        "colab": {
          "base_uri": "https://localhost:8080/"
        },
        "collapsed": true,
        "id": "64R6tcfBb0RU",
        "outputId": "2e8a1009-5e80-4b18-bcb7-02afdb0ee54e"
      },
      "outputs": [
        {
          "data": {
            "text/plain": [
              "array([[-0.88449874],\n",
              "       [-0.81112573],\n",
              "       [-0.66437972],\n",
              "       [        nan],\n",
              "       [-1.32473679],\n",
              "       [-0.84781224],\n",
              "       [-0.92118525],\n",
              "       [-0.86615549],\n",
              "       [-1.80166135],\n",
              "       [-0.35254443],\n",
              "       [-1.12296102],\n",
              "       [-1.12296102],\n",
              "       [-0.5176337 ],\n",
              "       [-0.976215  ],\n",
              "       [-1.70994508],\n",
              "       [-1.34308004],\n",
              "       [-0.95787175],\n",
              "       [-0.26082817],\n",
              "       [-1.74663159],\n",
              "       [ 0.38118565],\n",
              "       [-1.12296102],\n",
              "       [-1.14130427],\n",
              "       [-1.47148281],\n",
              "       [-1.04958801],\n",
              "       [-0.9395285 ],\n",
              "       [-1.58154232],\n",
              "       [-0.60934996],\n",
              "       [-0.62769321],\n",
              "       [-1.10461777],\n",
              "       [-0.62769321],\n",
              "       [-0.81112573],\n",
              "       [-1.23302053],\n",
              "       [-0.81112573],\n",
              "       [-0.5543202 ],\n",
              "       [-1.37976655],\n",
              "       [-0.86615549],\n",
              "       [-0.9395285 ],\n",
              "       [-0.31585793],\n",
              "       [-1.15964752],\n",
              "       [-0.75609598],\n",
              "       [-1.3614233 ],\n",
              "       [-0.57266346],\n",
              "       [-1.45313956],\n",
              "       [ 0.03266386],\n",
              "       [-1.26970704],\n",
              "       [-0.79278248],\n",
              "       [-0.5176337 ],\n",
              "       [-1.17799078],\n",
              "       [-1.45313956],\n",
              "       [-0.29751468],\n",
              "       [-0.79278248],\n",
              "       [-0.70106622],\n",
              "       [-1.63657208],\n",
              "       [-0.35254443],\n",
              "       [-1.72828834],\n",
              "       [-0.46260394],\n",
              "       [-0.90284199],\n",
              "       [-0.60934996],\n",
              "       [-1.3614233 ],\n",
              "       [-1.15964752],\n",
              "       [-1.50816931],\n",
              "       [-0.4809472 ],\n",
              "       [-1.15964752],\n",
              "       [-0.5176337 ],\n",
              "       [-1.37976655],\n",
              "       [-0.42591744],\n",
              "       [-1.54485582],\n",
              "       [-0.5176337 ],\n",
              "       [-1.47148281],\n",
              "       [-0.38923094],\n",
              "       [-1.91172086],\n",
              "       [-0.77443923],\n",
              "       [-0.79278248],\n",
              "       [ 0.34449915],\n",
              "       [-1.54485582],\n",
              "       [-0.20579842],\n",
              "       [-0.5543202 ],\n",
              "       [-1.23302053],\n",
              "       [-1.41645305],\n",
              "       [-0.33420118],\n",
              "       [-1.70994508],\n",
              "       [-0.18745516],\n",
              "       [-1.32473679],\n",
              "       [-1.61822882],\n",
              "       [-1.21467728],\n",
              "       [-0.4809472 ],\n",
              "       [-1.3981098 ],\n",
              "       [-1.28805029],\n",
              "       [-1.03124476],\n",
              "       [-0.92118525],\n",
              "       [-1.50816931],\n",
              "       [-0.5176337 ],\n",
              "       [-1.8200046 ],\n",
              "       [-0.79278248],\n",
              "       [-1.41645305],\n",
              "       [-0.57266346],\n",
              "       [-1.06793126],\n",
              "       [-0.66437972],\n",
              "       [-1.98509387],\n",
              "       [-0.13242541],\n",
              "       [-1.63657208],\n",
              "       [-0.53597695],\n",
              "       [-1.14130427],\n",
              "       [-1.12296102],\n",
              "       [-1.10461777],\n",
              "       [-0.77443923],\n",
              "       [-0.976215  ],\n",
              "       [-1.04958801],\n",
              "       [-1.06793126],\n",
              "       [-0.13242541],\n",
              "       [-1.06793126],\n",
              "       [ 0.30781264],\n",
              "       [-0.77443923],\n",
              "       [-0.31585793],\n",
              "       [-0.79278248],\n",
              "       [-0.22414167],\n",
              "       [-0.976215  ],\n",
              "       [-1.21467728],\n",
              "       [-1.50816931],\n",
              "       [-0.5176337 ],\n",
              "       [-1.41645305],\n",
              "       [-1.14130427],\n",
              "       [-0.68272297],\n",
              "       [-0.46260394],\n",
              "       [-1.59988557],\n",
              "       [-0.60934996],\n",
              "       [-0.9395285 ],\n",
              "       [-0.44426069],\n",
              "       [-0.90284199],\n",
              "       [ 0.03266386],\n",
              "       [-0.99455825],\n",
              "       [-0.15076866],\n",
              "       [-1.30639354],\n",
              "       [-1.17799078],\n",
              "       [-1.06793126],\n",
              "       [-0.5176337 ],\n",
              "       [-1.52651256],\n",
              "       [-0.68272297],\n",
              "       [-1.26970704],\n",
              "       [-0.77443923],\n",
              "       [-0.68272297],\n",
              "       [-0.60934996],\n",
              "       [-2.16852639],\n",
              "       [-0.59100671],\n",
              "       [-1.21467728],\n",
              "       [-0.90284199],\n",
              "       [-0.86615549],\n",
              "       [-1.34308004],\n",
              "       [-1.45313956],\n",
              "       [-1.12296102],\n",
              "       [-1.45313956],\n",
              "       [-0.44426069],\n",
              "       [ 0.3995289 ],\n",
              "       [ 1.11491573],\n",
              "       [ 0.87645346],\n",
              "       [ 1.11491573],\n",
              "       [ 0.67467768],\n",
              "       [ 0.47290191],\n",
              "       [ 0.27112614],\n",
              "       [ 0.50958841],\n",
              "       [-0.11408216],\n",
              "       [ 0.52793167],\n",
              "       [-0.5543202 ],\n",
              "       [ 0.93148321],\n",
              "       [ 0.28946939],\n",
              "       [ 0.8214237 ],\n",
              "       [ 0.34449915],\n",
              "       [ 0.98651297],\n",
              "       [-0.35254443],\n",
              "       [ 0.96816972],\n",
              "       [ 0.41787215],\n",
              "       [ 0.87645346],\n",
              "       [ 1.15160224],\n",
              "       [ 0.21609638],\n",
              "       [ 0.47290191],\n",
              "       [ 0.43621541],\n",
              "       [-0.18745516],\n",
              "       [ 0.3995289 ],\n",
              "       [ 0.10603687],\n",
              "       [ 0.71136419],\n",
              "       [ 0.7847372 ],\n",
              "       [ 1.11491573],\n",
              "       [ 0.61964793],\n",
              "       [-0.20579842],\n",
              "       [ 0.21609638],\n",
              "       [ 2.87586793],\n",
              "       [ 0.94982646],\n",
              "       [ 0.8214237 ],\n",
              "       [-0.24248492],\n",
              "       [ 0.08769362],\n",
              "       [ 0.01432061],\n",
              "       [ 0.87645346],\n",
              "       [-0.22414167],\n",
              "       [ 1.04154272],\n",
              "       [ 0.25278289],\n",
              "       [ 1.04154272],\n",
              "       [ 1.20663199],\n",
              "       [-0.0590524 ],\n",
              "       [ 0.28946939],\n",
              "       [ 1.20663199],\n",
              "       [ 0.17940988],\n",
              "       [ 0.23443963],\n",
              "       [ 0.49124516],\n",
              "       [ 0.83976695],\n",
              "       [ 0.21609638],\n",
              "       [ 1.13325898],\n",
              "       [ 0.47290191],\n",
              "       [ 0.19775313],\n",
              "       [-0.0223659 ],\n",
              "       [ 0.28946939],\n",
              "       [-0.13242541],\n",
              "       [ 1.18828874],\n",
              "       [ 0.25278289],\n",
              "       [ 0.41787215],\n",
              "       [ 0.32615589],\n",
              "       [ 1.90367557],\n",
              "       [ 0.34449915],\n",
              "       [ 1.07822923],\n",
              "       [ 0.41787215],\n",
              "       [ 1.02319947],\n",
              "       [-0.07739565],\n",
              "       [ 1.2433185 ],\n",
              "       [ 0.69302094],\n",
              "       [ 0.45455866],\n",
              "       [ 0.7847372 ],\n",
              "       [ 0.47290191],\n",
              "       [ 0.45455866],\n",
              "       [ 0.8581102 ],\n",
              "       [ 0.65633443],\n",
              "       [ 1.31669151],\n",
              "       [ 0.23443963],\n",
              "       [ 0.23443963],\n",
              "       [ 0.94982646],\n",
              "       [ 1.57349703],\n",
              "       [ 0.63799118],\n",
              "       [ 1.11491573],\n",
              "       [ 0.17940988],\n",
              "       [ 1.26166175],\n",
              "       [-0.0957389 ],\n",
              "       [ 1.35337801],\n",
              "       [ 0.65633443],\n",
              "       [ 1.50012403],\n",
              "       [ 0.65633443],\n",
              "       [ 1.51846728],\n",
              "       [ 0.28946939],\n",
              "       [ 1.02319947],\n",
              "       [ 0.10603687],\n",
              "       [ 1.26166175],\n",
              "       [ 1.00485622],\n",
              "       [ 0.54627492],\n",
              "       [ 0.8214237 ],\n",
              "       [ 1.31669151],\n",
              "       [ 0.83976695],\n",
              "       [ 2.1971676 ],\n",
              "       [ 0.60130468],\n",
              "       [ 0.94982646],\n",
              "       [ 0.61964793],\n",
              "       [ 0.52793167],\n",
              "       [-0.40757419],\n",
              "       [ 1.7385863 ],\n",
              "       [-0.11408216],\n",
              "       [ 0.76639394],\n",
              "       [ 1.20663199],\n",
              "       [ 1.07822923],\n",
              "       [-0.07739565],\n",
              "       [ 1.39006451],\n",
              "       [ 0.41787215],\n",
              "       [ 2.05042159],\n",
              "       [ 0.10603687],\n",
              "       [ 0.89479671],\n",
              "       [ 0.60130468],\n",
              "       [        nan],\n",
              "       [ 0.52793167],\n",
              "       [ 1.18828874],\n",
              "       [ 0.23443963],\n",
              "       [ 1.09657248],\n",
              "       [ 0.47290191],\n",
              "       [ 1.11491573],\n",
              "       [ 1.35337801],\n",
              "       [ 0.27112614],\n",
              "       [ 1.61018354],\n",
              "       [ 0.23443963],\n",
              "       [ 0.3995289 ],\n",
              "       [ 1.35337801],\n",
              "       [ 0.38118565],\n",
              "       [ 1.35337801],\n",
              "       [ 0.49124516],\n",
              "       [ 1.42675102],\n",
              "       [ 0.56461817],\n",
              "       [ 1.48178077],\n",
              "       [ 0.3628424 ],\n",
              "       [ 1.20663199],\n",
              "       [ 1.16994549],\n",
              "       [ 2.5823759 ],\n",
              "       [ 0.45455866],\n",
              "       [ 0.96816972],\n",
              "       [-0.27917142],\n",
              "       [ 0.83976695],\n",
              "       [-0.13242541],\n",
              "       [ 1.22497525],\n",
              "       [ 0.50958841],\n",
              "       [ 1.48178077],\n",
              "       [ 1.20663199],\n",
              "       [ 1.02319947],\n",
              "       [ 0.45455866],\n",
              "       [ 1.62852679],\n",
              "       [-0.5543202 ],\n",
              "       [ 1.88533232],\n",
              "       [-0.26082817],\n",
              "       [ 1.29834825],\n",
              "       [ 1.05988598],\n",
              "       [ 0.65633443],\n",
              "       [ 0.67467768],\n",
              "       [ 1.48178077],\n",
              "       [ 0.54627492],\n",
              "       [ 1.75692956],\n",
              "       [ 0.93148321],\n",
              "       [ 0.41787215],\n",
              "       [ 1.280005  ],\n",
              "       [ 0.28946939],\n",
              "       [ 1.280005  ],\n",
              "       [ 1.26166175],\n",
              "       [ 1.13325898],\n",
              "       [ 0.93148321],\n",
              "       [ 1.39006451],\n",
              "       [ 1.07822923],\n",
              "       [ 0.76639394],\n",
              "       [ 1.37172126],\n",
              "       [ 0.32615589],\n",
              "       [ 1.2433185 ],\n",
              "       [-0.26082817],\n",
              "       [ 1.51846728],\n",
              "       [ 0.23443963],\n",
              "       [ 0.98651297],\n",
              "       [ 1.15160224],\n",
              "       [ 0.30781264],\n",
              "       [ 1.46343752],\n",
              "       [ 0.52793167],\n",
              "       [ 0.32615589],\n",
              "       [ 2.17882435],\n",
              "       [-0.07739565],\n",
              "       [ 1.04154272],\n",
              "       [ 1.26166175],\n",
              "       [ 1.15160224]])"
            ]
          },
          "execution_count": 86,
          "metadata": {},
          "output_type": "execute_result"
        }
      ],
      "source": [
        "from sklearn.preprocessing import StandardScaler as ss\n",
        "scaler = ss()\n",
        "scaler.fit_transform(penguins[[\"bill_length_mm\"]])"
      ]
    },
    {
      "cell_type": "markdown",
      "metadata": {
        "id": "hEwiWESpJLwi"
      },
      "source": [
        "Let's use `bill_length_mm` to predict `bill_depth_mm`. Prepare your data and fit the following models on the entire dataset:\n",
        "\n",
        "* Simple linear regression (e.g. straight-line) model\n",
        "* Quadratic (degree 2 polynomial) model\n",
        "* Cubic (degree 3 polynomial) model\n",
        "* Degree 10 polynomial model\n",
        "\n",
        "Make predictions for each model and plot your fitted models on the scatterplot."
      ]
    },
    {
      "cell_type": "code",
      "execution_count": 87,
      "metadata": {
        "id": "tjuOvH63LQ2b"
      },
      "outputs": [],
      "source": [
        "# Step 1. Import packages and clean the data - dropna\n",
        "import sklearn\n",
        "import numpy as np\n",
        "from sklearn.linear_model import LinearRegression # use LR for now\n",
        "from sklearn.metrics import r2_score, mean_squared_error"
      ]
    },
    {
      "cell_type": "code",
      "execution_count": 88,
      "metadata": {
        "id": "4OSc3I8ScW_Z"
      },
      "outputs": [],
      "source": [
        "# cleaning the data\n",
        "penguins = penguins.dropna()"
      ]
    },
    {
      "cell_type": "code",
      "execution_count": 89,
      "metadata": {
        "id": "BAX3QPkMclbU"
      },
      "outputs": [],
      "source": [
        "# defining variables of the model\n",
        "X = penguins[[\"bill_length_mm\"]]\n",
        "y = penguins[\"bill_depth_mm\"]"
      ]
    },
    {
      "cell_type": "code",
      "execution_count": 90,
      "metadata": {
        "id": "Pawc65WTc3uq"
      },
      "outputs": [],
      "source": [
        "# shortcut name for the model\n",
        "lr = LinearRegression()"
      ]
    },
    {
      "cell_type": "markdown",
      "metadata": {
        "id": "tf8U9fQmda6L"
      },
      "source": [
        "## Model 1: *LR*"
      ]
    },
    {
      "cell_type": "code",
      "execution_count": 91,
      "metadata": {
        "id": "NIE0zd9sc-xr"
      },
      "outputs": [],
      "source": [
        "# splitting the data into train and test datasets\n",
        "from sklearn.model_selection import train_test_split\n",
        "\n",
        "X_train, X_test, y_train, y_test = train_test_split(X, y, test_size=0.25)"
      ]
    },
    {
      "cell_type": "code",
      "execution_count": 92,
      "metadata": {
        "id": "BJP8x-dhdIAj"
      },
      "outputs": [],
      "source": [
        "# training the model\n",
        "lr_train = lr.fit(X_train, y_train)"
      ]
    },
    {
      "cell_type": "code",
      "execution_count": 1,
      "metadata": {
        "colab": {
          "base_uri": "https://localhost:8080/",
          "height": 141
        },
        "id": "up2887p5doDV",
        "outputId": "8d05a5c5-ac13-4659-e9eb-1126f333749a"
      },
      "outputs": [
        {
          "ename": "NameError",
          "evalue": "name 'lr_train' is not defined",
          "output_type": "error",
          "traceback": [
            "\u001b[0;31m---------------------------------------------------------------------------\u001b[0m",
            "\u001b[0;31mNameError\u001b[0m                                 Traceback (most recent call last)",
            "\u001b[0;32m<ipython-input-1-2bcd34e82f88>\u001b[0m in \u001b[0;36m<cell line: 1>\u001b[0;34m()\u001b[0m\n\u001b[0;32m----> 1\u001b[0;31m \u001b[0mlr_train\u001b[0m\u001b[0;34m.\u001b[0m\u001b[0mscore\u001b[0m\u001b[0;34m(\u001b[0m\u001b[0mX_train\u001b[0m\u001b[0;34m,\u001b[0m \u001b[0my_train\u001b[0m\u001b[0;34m)\u001b[0m\u001b[0;34m\u001b[0m\u001b[0;34m\u001b[0m\u001b[0m\n\u001b[0m",
            "\u001b[0;31mNameError\u001b[0m: name 'lr_train' is not defined"
          ]
        }
      ],
      "source": [
        "lr_train.score(X_train, y_train)"
      ]
    },
    {
      "cell_type": "code",
      "execution_count": 94,
      "metadata": {
        "id": "IX11AhwCfmCn"
      },
      "outputs": [],
      "source": [
        "# predicting Y based on training dataset X_train\n",
        "Y_train_pred_lr = lr_train.predict(X_train)"
      ]
    },
    {
      "cell_type": "code",
      "execution_count": 95,
      "metadata": {
        "id": "I10M-f0VgCQw"
      },
      "outputs": [],
      "source": [
        "# R-squared and MSE for Y_train_pred\n",
        "r2_lr_train = r2_score(y_train, Y_train_pred_lr)\n",
        "mse_lr_train = mean_squared_error(y_train, Y_train_pred_lr)"
      ]
    },
    {
      "cell_type": "code",
      "execution_count": 96,
      "metadata": {
        "colab": {
          "base_uri": "https://localhost:8080/"
        },
        "id": "B8sy6sIFgNc4",
        "outputId": "f47dae1e-4ea2-4b5b-c948-6e51bc9ab5f9"
      },
      "outputs": [
        {
          "name": "stdout",
          "output_type": "stream",
          "text": [
            "R-squared LR train: 0.07830205703630577\n",
            "MSE LR train: 3.574283999852102\n"
          ]
        }
      ],
      "source": [
        "print(f\"R-squared LR train: {r2_lr_train}\")\n",
        "print(f\"MSE LR train: {mse_lr_train}\")"
      ]
    },
    {
      "cell_type": "code",
      "execution_count": 97,
      "metadata": {
        "id": "jwQFVvEGd03E"
      },
      "outputs": [],
      "source": [
        "# testing the model\n",
        "Y_test_pred_lr = lr_train.predict(X_test)"
      ]
    },
    {
      "cell_type": "code",
      "execution_count": 98,
      "metadata": {
        "id": "TyJzMnwGes2C"
      },
      "outputs": [],
      "source": [
        "# R-squared and MSE for Model 1: LR\n",
        "r2_lr_test = r2_score(y_test, Y_test_pred_lr)\n",
        "mse_lr_test = mean_squared_error(y_test, Y_test_pred_lr)"
      ]
    },
    {
      "cell_type": "code",
      "execution_count": 99,
      "metadata": {
        "colab": {
          "base_uri": "https://localhost:8080/"
        },
        "id": "27FOncrBe8bb",
        "outputId": "9a7d16ee-ee4d-4d4d-f571-34b03f99b6e8"
      },
      "outputs": [
        {
          "name": "stdout",
          "output_type": "stream",
          "text": [
            "R-squared LR test: -0.04094976975228426\n",
            "MSE LR test: 3.981963329546853\n"
          ]
        }
      ],
      "source": [
        "print(f\"R-squared LR test: {r2_lr_test}\")\n",
        "print(f\"MSE LR test: {mse_lr_test}\")"
      ]
    },
    {
      "cell_type": "markdown",
      "metadata": {
        "id": "DDKHlYd7g8WI"
      },
      "source": [
        "## Model 2: *Qudaratic Model*"
      ]
    },
    {
      "cell_type": "code",
      "execution_count": 100,
      "metadata": {
        "id": "r1gN0q5dhGWm"
      },
      "outputs": [],
      "source": [
        "penguins[\"X_2\"] = penguins[[\"bill_length_mm\"]]**2 ## adding column with squared or quadratic value of X for Model 2"
      ]
    },
    {
      "cell_type": "code",
      "execution_count": 101,
      "metadata": {
        "id": "IxZ9jKb4tfPt"
      },
      "outputs": [],
      "source": [
        "X_2 = penguins[[\"X_2\", \"bill_length_mm\"]]"
      ]
    },
    {
      "cell_type": "code",
      "execution_count": 102,
      "metadata": {
        "id": "g_q8ZUHouH0b"
      },
      "outputs": [],
      "source": [
        "# splitting data into train and test\n",
        "X_train, X_test, y_train, y_test = train_test_split(X_2, y, test_size=0.25)"
      ]
    },
    {
      "cell_type": "code",
      "execution_count": 103,
      "metadata": {
        "id": "kdMihQk7t9W0"
      },
      "outputs": [],
      "source": [
        "# training Model 2: Quadratic\n",
        "m2_train = lr.fit(X_train, y_train)"
      ]
    },
    {
      "cell_type": "code",
      "execution_count": 104,
      "metadata": {
        "colab": {
          "base_uri": "https://localhost:8080/"
        },
        "id": "gMSf6Q9MuqYG",
        "outputId": "5ac4b195-20e4-4824-858f-bd43ad1ba526"
      },
      "outputs": [
        {
          "data": {
            "text/plain": [
              "0.12631810100435437"
            ]
          },
          "execution_count": 104,
          "metadata": {},
          "output_type": "execute_result"
        }
      ],
      "source": [
        "m2_train.score(X_train, y_train)"
      ]
    },
    {
      "cell_type": "code",
      "execution_count": 105,
      "metadata": {
        "id": "7Qa0-XhIuv3o"
      },
      "outputs": [],
      "source": [
        "# predicting Y based on training dataset X_train\n",
        "Y_train_pred_m2 = m2_train.predict(X_train)"
      ]
    },
    {
      "cell_type": "code",
      "execution_count": 106,
      "metadata": {
        "id": "LPZEYMNhu07l"
      },
      "outputs": [],
      "source": [
        "# R-squared and MSE for Y_train_pred_m2\n",
        "r2_m2_train = r2_score(y_train, Y_train_pred_m2)\n",
        "mse_m2_train = mean_squared_error(y_train, Y_train_pred_m2)"
      ]
    },
    {
      "cell_type": "code",
      "execution_count": 107,
      "metadata": {
        "colab": {
          "base_uri": "https://localhost:8080/"
        },
        "id": "3L6r7ryiu1Co",
        "outputId": "3a573b94-5d45-449c-e437-67eaf2d23e04"
      },
      "outputs": [
        {
          "name": "stdout",
          "output_type": "stream",
          "text": [
            "R-squared M2 train: 0.12631810100435437\n",
            "MSE M2 train: 3.46542928696957\n"
          ]
        }
      ],
      "source": [
        "print(f\"R-squared M2 train: {r2_m2_train}\")\n",
        "print(f\"MSE M2 train: {mse_m2_train}\")"
      ]
    },
    {
      "cell_type": "code",
      "execution_count": 108,
      "metadata": {
        "id": "w0D8vKX0u1Fq"
      },
      "outputs": [],
      "source": [
        "# testing the model\n",
        "Y_test_pred_m2 = m2_train.predict(X_test)"
      ]
    },
    {
      "cell_type": "code",
      "execution_count": 109,
      "metadata": {
        "id": "oa3BR562u1IJ"
      },
      "outputs": [],
      "source": [
        "# R-squared and MSE for Model 2: Quadratic\n",
        "r2_m2_test = r2_score(y_test, Y_test_pred_m2)\n",
        "mse_m2_test = mean_squared_error(y_test, Y_test_pred_m2)"
      ]
    },
    {
      "cell_type": "code",
      "execution_count": 110,
      "metadata": {
        "colab": {
          "base_uri": "https://localhost:8080/"
        },
        "id": "OcRPqVqhu1Xq",
        "outputId": "0f035afc-a296-4524-f257-0388f5254e15"
      },
      "outputs": [
        {
          "name": "stdout",
          "output_type": "stream",
          "text": [
            "R-squared M2 test: 0.034573418240980036\n",
            "MSE M2 test: 3.393193946717903\n"
          ]
        }
      ],
      "source": [
        "print(f\"R-squared M2 test: {r2_m2_test}\")\n",
        "print(f\"MSE M2 test: {mse_m2_test}\")"
      ]
    },
    {
      "cell_type": "markdown",
      "metadata": {
        "id": "HMqlYt1DvoFO"
      },
      "source": [
        "## Model 3: *Cubic Model*"
      ]
    },
    {
      "cell_type": "code",
      "execution_count": 111,
      "metadata": {
        "id": "6qsbanz-v7Wm"
      },
      "outputs": [],
      "source": [
        "penguins[\"X_3\"] = penguins[[\"bill_length_mm\"]]**3 ## adding column with cuebic value of X for Model 3"
      ]
    },
    {
      "cell_type": "code",
      "execution_count": 112,
      "metadata": {
        "id": "WZh8T63Ev7Wm"
      },
      "outputs": [],
      "source": [
        "X_3 = penguins[[\"X_3\",\"X_2\",\"bill_length_mm\"]] # combines X_3, X_2 and X values"
      ]
    },
    {
      "cell_type": "code",
      "execution_count": 113,
      "metadata": {
        "id": "ReTwLxO0v7Wm"
      },
      "outputs": [],
      "source": [
        "# splitting data into train and test\n",
        "X_train, X_test, y_train, y_test = train_test_split(X_3, y, test_size=0.25)"
      ]
    },
    {
      "cell_type": "code",
      "execution_count": 114,
      "metadata": {
        "id": "ip5FqRKCv7Wn"
      },
      "outputs": [],
      "source": [
        "# training Model 3: Cubic\n",
        "m3_train = lr.fit(X_train, y_train)"
      ]
    },
    {
      "cell_type": "code",
      "execution_count": 115,
      "metadata": {
        "colab": {
          "base_uri": "https://localhost:8080/"
        },
        "id": "6UXmWnkDv7Wn",
        "outputId": "9599d621-a631-4810-afed-481133f4d303"
      },
      "outputs": [
        {
          "data": {
            "text/plain": [
              "0.11741729820068436"
            ]
          },
          "execution_count": 115,
          "metadata": {},
          "output_type": "execute_result"
        }
      ],
      "source": [
        "m3_train.score(X_train, y_train)"
      ]
    },
    {
      "cell_type": "code",
      "execution_count": 116,
      "metadata": {
        "id": "M59WiCbVv7Wn"
      },
      "outputs": [],
      "source": [
        "# predicting Y based on training dataset X_train\n",
        "Y_train_pred_m3 = m3_train.predict(X_train)"
      ]
    },
    {
      "cell_type": "code",
      "execution_count": 117,
      "metadata": {
        "id": "CawqzJOQv7Wn"
      },
      "outputs": [],
      "source": [
        "# R-squared and MSE for Y_train_pred_m2\n",
        "r2_m3_train = r2_score(y_train, Y_train_pred_m3)\n",
        "mse_m3_train = mean_squared_error(y_train, Y_train_pred_m3)"
      ]
    },
    {
      "cell_type": "code",
      "execution_count": 118,
      "metadata": {
        "colab": {
          "base_uri": "https://localhost:8080/"
        },
        "id": "uUtIwkvov7Wn",
        "outputId": "d8d37305-29a7-4bf7-fbe1-c3e9d72b813b"
      },
      "outputs": [
        {
          "name": "stdout",
          "output_type": "stream",
          "text": [
            "R-squared M3 train: 0.11741729820068436\n",
            "MSE M3 train: 3.280639661154502\n"
          ]
        }
      ],
      "source": [
        "print(f\"R-squared M3 train: {r2_m3_train}\")\n",
        "print(f\"MSE M3 train: {mse_m3_train}\")"
      ]
    },
    {
      "cell_type": "code",
      "execution_count": 119,
      "metadata": {
        "id": "Cr7TUxqSv7Wn"
      },
      "outputs": [],
      "source": [
        "# testing the model\n",
        "Y_test_pred_m3 = m3_train.predict(X_test)"
      ]
    },
    {
      "cell_type": "code",
      "execution_count": 120,
      "metadata": {
        "id": "LvrB8ef8v7Wn"
      },
      "outputs": [],
      "source": [
        "# R-squared and MSE for Model 3: Cubic\n",
        "r2_m3_test = r2_score(y_test, Y_test_pred_m3)\n",
        "mse_m3_test = mean_squared_error(y_test, Y_test_pred_m3)"
      ]
    },
    {
      "cell_type": "code",
      "execution_count": 121,
      "metadata": {
        "colab": {
          "base_uri": "https://localhost:8080/"
        },
        "id": "RkWqTqiFv7Wn",
        "outputId": "bbde7a0f-4406-491d-af03-cbc2da5fb302"
      },
      "outputs": [
        {
          "name": "stdout",
          "output_type": "stream",
          "text": [
            "R-squared M3 test: 0.16316247506340875\n",
            "MSE M3 test: 3.5690112343454636\n"
          ]
        }
      ],
      "source": [
        "print(f\"R-squared M3 test: {r2_m3_test}\")\n",
        "print(f\"MSE M3 test: {mse_m3_test}\")"
      ]
    },
    {
      "cell_type": "markdown",
      "metadata": {
        "id": "5k4B1u9exQ5N"
      },
      "source": [
        "## Model 4: *10-polynoimial Model*"
      ]
    },
    {
      "cell_type": "code",
      "execution_count": 122,
      "metadata": {
        "id": "itel9O0yxQ5U"
      },
      "outputs": [],
      "source": [
        "## adding remaining column with values of X for Model 4: 10-polynomial\n",
        "penguins[\"X_4\"] = penguins[[\"bill_length_mm\"]]**4\n",
        "penguins[\"X_5\"] = penguins[[\"bill_length_mm\"]]**5\n",
        "penguins[\"X_6\"] = penguins[[\"bill_length_mm\"]]**6\n",
        "penguins[\"X_7\"] = penguins[[\"bill_length_mm\"]]**7\n",
        "penguins[\"X_8\"] = penguins[[\"bill_length_mm\"]]**8\n",
        "penguins[\"X_9\"] = penguins[[\"bill_length_mm\"]]**9\n",
        "penguins[\"X_10\"] = penguins[[\"bill_length_mm\"]]**10"
      ]
    },
    {
      "cell_type": "code",
      "execution_count": 123,
      "metadata": {
        "id": "3VHYj-L1xQ5U"
      },
      "outputs": [],
      "source": [
        "X_10 = penguins[[\"X_10\",\"X_9\",\"X_8\",\"X_7\",\"X_6\",\"X_5\",\"X_4\",\"X_3\",\"X_2\",\"bill_length_mm\"]] # combines all values of X"
      ]
    },
    {
      "cell_type": "code",
      "execution_count": 124,
      "metadata": {
        "id": "oP6G0qpGxQ5V"
      },
      "outputs": [],
      "source": [
        "# splitting data into train and test\n",
        "X_train, X_test, y_train, y_test = train_test_split(X_10, y, test_size=0.25)"
      ]
    },
    {
      "cell_type": "code",
      "execution_count": 125,
      "metadata": {
        "id": "tZMUtiOvxQ5V"
      },
      "outputs": [],
      "source": [
        "# training Model 4: Cuebic\n",
        "m4_train = lr.fit(X_train, y_train)"
      ]
    },
    {
      "cell_type": "code",
      "execution_count": 126,
      "metadata": {
        "colab": {
          "base_uri": "https://localhost:8080/"
        },
        "id": "4EJ_hzACxQ5V",
        "outputId": "13fdbcf5-3939-4e74-9971-71e7874273f3"
      },
      "outputs": [
        {
          "data": {
            "text/plain": [
              "0.3354467327805236"
            ]
          },
          "execution_count": 126,
          "metadata": {},
          "output_type": "execute_result"
        }
      ],
      "source": [
        "m4_train.score(X_train, y_train)"
      ]
    },
    {
      "cell_type": "code",
      "execution_count": 127,
      "metadata": {
        "id": "pbRVchkExQ5V"
      },
      "outputs": [],
      "source": [
        "# predicting Y based on training dataset X_train\n",
        "Y_train_pred_m4 = m4_train.predict(X_train)"
      ]
    },
    {
      "cell_type": "code",
      "execution_count": 128,
      "metadata": {
        "id": "kevc1zSbxQ5V"
      },
      "outputs": [],
      "source": [
        "# R-squared and MSE for Y_train_pred_m4\n",
        "r2_m4_train = r2_score(y_train, Y_train_pred_m4)\n",
        "mse_m4_train = mean_squared_error(y_train, Y_train_pred_m4)"
      ]
    },
    {
      "cell_type": "code",
      "execution_count": 129,
      "metadata": {
        "colab": {
          "base_uri": "https://localhost:8080/"
        },
        "id": "LN1DmS8cxQ5V",
        "outputId": "a80a70ad-a239-409d-d42f-d5cdd85b29df"
      },
      "outputs": [
        {
          "name": "stdout",
          "output_type": "stream",
          "text": [
            "R-squared M4 train: 0.3354467327805236\n",
            "MSE M4 train: 2.6066400653518564\n"
          ]
        }
      ],
      "source": [
        "print(f\"R-squared M4 train: {r2_m4_train}\")\n",
        "print(f\"MSE M4 train: {mse_m4_train}\")"
      ]
    },
    {
      "cell_type": "code",
      "execution_count": 130,
      "metadata": {
        "id": "JO4CLDepxQ5V"
      },
      "outputs": [],
      "source": [
        "# testing the model\n",
        "Y_test_pred_m4 = m4_train.predict(X_test)"
      ]
    },
    {
      "cell_type": "code",
      "execution_count": 131,
      "metadata": {
        "id": "QHyYL0otxQ5V"
      },
      "outputs": [],
      "source": [
        "# R-squared and MSE for Model 4: 10-polynomial\n",
        "r2_m4_test = r2_score(y_test, Y_test_pred_m4)\n",
        "mse_m4_test = mean_squared_error(y_test, Y_test_pred_m4)"
      ]
    },
    {
      "cell_type": "code",
      "execution_count": 132,
      "metadata": {
        "colab": {
          "base_uri": "https://localhost:8080/"
        },
        "id": "4DECBBWRxQ5V",
        "outputId": "7324bba8-699c-464a-c95b-5f2fcb4041d4"
      },
      "outputs": [
        {
          "name": "stdout",
          "output_type": "stream",
          "text": [
            "R-squared M4 test: -0.5008314590703813\n",
            "MSE M4 test: 5.299285713750461\n"
          ]
        }
      ],
      "source": [
        "print(f\"R-squared M4 test: {r2_m4_test}\")\n",
        "print(f\"MSE M4 test: {mse_m4_test}\")"
      ]
    },
    {
      "cell_type": "markdown",
      "metadata": {
        "id": "XPRCJyBa0HT6"
      },
      "source": [
        "### Summary of the results for all models:"
      ]
    },
    {
      "cell_type": "code",
      "execution_count": 134,
      "metadata": {
        "colab": {
          "base_uri": "https://localhost:8080/"
        },
        "id": "o0YlO2K20CUt",
        "outputId": "3b51054a-5967-4f4a-ec34-3fe044a1d173"
      },
      "outputs": [
        {
          "name": "stdout",
          "output_type": "stream",
          "text": [
            "Model 1:\n",
            "R-squared LR train: 0.07830205703630577\n",
            "MSE LR train: 3.574283999852102\n",
            "R-squared LR test: -0.04094976975228426\n",
            "MSE LR test: 3.981963329546853\n",
            "Model 2:\n",
            "R-squared M2 train: 0.12631810100435437\n",
            "MSE M2 train: 3.46542928696957\n",
            "R-squared M2 test: 0.034573418240980036\n",
            "MSE M2 test: 3.393193946717903\n",
            "Model 3:\n",
            "R-squared M3 train: 0.11741729820068436\n",
            "MSE M3 train: 3.280639661154502\n",
            "R-squared M3 test: 0.16316247506340875\n",
            "MSE M3 test: 3.5690112343454636\n",
            "Model 4:\n",
            "R-squared M4 train: 0.3354467327805236\n",
            "MSE M4 train: 2.6066400653518564\n",
            "R-squared M4 test: -0.5008314590703813\n",
            "MSE M4 test: 5.299285713750461\n"
          ]
        }
      ],
      "source": [
        "# Model 1\n",
        "print('Model 1:')\n",
        "print(f\"R-squared LR train: {r2_lr_train}\")\n",
        "print(f\"MSE LR train: {mse_lr_train}\")\n",
        "print(f\"R-squared LR test: {r2_lr_test}\")\n",
        "print(f\"MSE LR test: {mse_lr_test}\")\n",
        "\n",
        "# Model 2\n",
        "print('Model 2:')\n",
        "print(f\"R-squared M2 train: {r2_m2_train}\")\n",
        "print(f\"MSE M2 train: {mse_m2_train}\")\n",
        "print(f\"R-squared M2 test: {r2_m2_test}\")\n",
        "print(f\"MSE M2 test: {mse_m2_test}\")\n",
        "\n",
        "# Model 3\n",
        "print('Model 3:')\n",
        "print(f\"R-squared M3 train: {r2_m3_train}\")\n",
        "print(f\"MSE M3 train: {mse_m3_train}\")\n",
        "print(f\"R-squared M3 test: {r2_m3_test}\")\n",
        "print(f\"MSE M3 test: {mse_m3_test}\")\n",
        "\n",
        "# Model 4\n",
        "print('Model 4:')\n",
        "print(f\"R-squared M4 train: {r2_m4_train}\")\n",
        "print(f\"MSE M4 train: {mse_m4_train}\")\n",
        "print(f\"R-squared M4 test: {r2_m4_test}\")\n",
        "print(f\"MSE M4 test: {mse_m4_test}\")"
      ]
    },
    {
      "cell_type": "markdown",
      "metadata": {
        "id": "Ph3lo8ExLSTG"
      },
      "source": [
        "* Are any of the models above underfitting the data? If so, which ones and how can you tell?\n",
        "* Are any of thhe models above overfitting the data? If so, which ones and how can you tell?\n",
        "* Which of the above models do you think fits the data best and why?"
      ]
    },
    {
      "cell_type": "markdown",
      "metadata": {
        "id": "JV1bATn4Lkq8"
      },
      "source": [
        "ANSWERS:\n",
        "\n",
        "a. Model 1 has the lowest R-squared on trained data and negative on test, MSE is also high compared to some other model, hence underfits the data the most among others.\n",
        "\n",
        "b. Model 4 with it's extensive predictor variable transformation (same variable multiple times) can be considered as overfitting with significant disrepancy between R-squared and MSE scores on the training vs test data.\n",
        "\n",
        "c. Model 3 (Cubic) looks like a better overall choice, because it has the highest R-squared on test data, but also second lowest MSE on test data. Also the training R-squared and MSE are relatively close to the test metrics.\n"
      ]
    }
  ],
  "metadata": {
    "colab": {
      "provenance": []
    },
    "kernelspec": {
      "display_name": "Python 3",
      "name": "python3"
    },
    "language_info": {
      "name": "python"
    }
  },
  "nbformat": 4,
  "nbformat_minor": 0
}
