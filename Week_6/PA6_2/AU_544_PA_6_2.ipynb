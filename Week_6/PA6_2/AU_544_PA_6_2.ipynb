{
  "nbformat": 4,
  "nbformat_minor": 0,
  "metadata": {
    "colab": {
      "provenance": []
    },
    "kernelspec": {
      "name": "python3",
      "display_name": "Python 3"
    },
    "language_info": {
      "name": "python"
    }
  },
  "cells": [
    {
      "cell_type": "markdown",
      "source": [
        "# Palmer Penguins Modeling\n",
        "\n",
        "Import the Palmer Penguins dataset and print out the first few rows.\n",
        "\n",
        "Suppose we want to predict `bill_depth_mm` using the other variables in the dataset.\n",
        "\n",
        "**Dummify** all variables that require this."
      ],
      "metadata": {
        "id": "FdLoheP-mrxn"
      }
    },
    {
      "cell_type": "code",
      "source": [
        "# !pip install palmerpenguins"
      ],
      "metadata": {
        "colab": {
          "base_uri": "https://localhost:8080/"
        },
        "id": "Pi8By7OnR4z4",
        "outputId": "b60c2b97-c7d7-43da-f0fb-899cf5f0cc89"
      },
      "execution_count": null,
      "outputs": [
        {
          "output_type": "stream",
          "name": "stdout",
          "text": [
            "Requirement already satisfied: palmerpenguins in /usr/local/lib/python3.10/dist-packages (0.1.4)\n",
            "Requirement already satisfied: pandas in /usr/local/lib/python3.10/dist-packages (from palmerpenguins) (2.2.2)\n",
            "Requirement already satisfied: numpy in /usr/local/lib/python3.10/dist-packages (from palmerpenguins) (1.26.4)\n",
            "Requirement already satisfied: python-dateutil>=2.8.2 in /usr/local/lib/python3.10/dist-packages (from pandas->palmerpenguins) (2.8.2)\n",
            "Requirement already satisfied: pytz>=2020.1 in /usr/local/lib/python3.10/dist-packages (from pandas->palmerpenguins) (2024.2)\n",
            "Requirement already satisfied: tzdata>=2022.7 in /usr/local/lib/python3.10/dist-packages (from pandas->palmerpenguins) (2024.2)\n",
            "Requirement already satisfied: six>=1.5 in /usr/local/lib/python3.10/dist-packages (from python-dateutil>=2.8.2->pandas->palmerpenguins) (1.16.0)\n"
          ]
        }
      ]
    },
    {
      "cell_type": "code",
      "execution_count": null,
      "metadata": {
        "id": "N5lG475yllju"
      },
      "outputs": [],
      "source": [
        "from palmerpenguins import load_penguins\n",
        "import pandas as pd"
      ]
    },
    {
      "cell_type": "code",
      "source": [
        "penguins = load_penguins()\n",
        "penguins.head()"
      ],
      "metadata": {
        "colab": {
          "base_uri": "https://localhost:8080/",
          "height": 206
        },
        "id": "SWCgJB4uSDTO",
        "outputId": "0575bcdf-4eb9-485f-e522-b18a223fef70"
      },
      "execution_count": null,
      "outputs": [
        {
          "output_type": "execute_result",
          "data": {
            "text/plain": [
              "  species     island  bill_length_mm  bill_depth_mm  flipper_length_mm  \\\n",
              "0  Adelie  Torgersen            39.1           18.7              181.0   \n",
              "1  Adelie  Torgersen            39.5           17.4              186.0   \n",
              "2  Adelie  Torgersen            40.3           18.0              195.0   \n",
              "3  Adelie  Torgersen             NaN            NaN                NaN   \n",
              "4  Adelie  Torgersen            36.7           19.3              193.0   \n",
              "\n",
              "   body_mass_g     sex  year  \n",
              "0       3750.0    male  2007  \n",
              "1       3800.0  female  2007  \n",
              "2       3250.0  female  2007  \n",
              "3          NaN     NaN  2007  \n",
              "4       3450.0  female  2007  "
            ],
            "text/html": [
              "\n",
              "  <div id=\"df-4e83c252-7354-4125-a034-6a735fdf11b1\" class=\"colab-df-container\">\n",
              "    <div>\n",
              "<style scoped>\n",
              "    .dataframe tbody tr th:only-of-type {\n",
              "        vertical-align: middle;\n",
              "    }\n",
              "\n",
              "    .dataframe tbody tr th {\n",
              "        vertical-align: top;\n",
              "    }\n",
              "\n",
              "    .dataframe thead th {\n",
              "        text-align: right;\n",
              "    }\n",
              "</style>\n",
              "<table border=\"1\" class=\"dataframe\">\n",
              "  <thead>\n",
              "    <tr style=\"text-align: right;\">\n",
              "      <th></th>\n",
              "      <th>species</th>\n",
              "      <th>island</th>\n",
              "      <th>bill_length_mm</th>\n",
              "      <th>bill_depth_mm</th>\n",
              "      <th>flipper_length_mm</th>\n",
              "      <th>body_mass_g</th>\n",
              "      <th>sex</th>\n",
              "      <th>year</th>\n",
              "    </tr>\n",
              "  </thead>\n",
              "  <tbody>\n",
              "    <tr>\n",
              "      <th>0</th>\n",
              "      <td>Adelie</td>\n",
              "      <td>Torgersen</td>\n",
              "      <td>39.1</td>\n",
              "      <td>18.7</td>\n",
              "      <td>181.0</td>\n",
              "      <td>3750.0</td>\n",
              "      <td>male</td>\n",
              "      <td>2007</td>\n",
              "    </tr>\n",
              "    <tr>\n",
              "      <th>1</th>\n",
              "      <td>Adelie</td>\n",
              "      <td>Torgersen</td>\n",
              "      <td>39.5</td>\n",
              "      <td>17.4</td>\n",
              "      <td>186.0</td>\n",
              "      <td>3800.0</td>\n",
              "      <td>female</td>\n",
              "      <td>2007</td>\n",
              "    </tr>\n",
              "    <tr>\n",
              "      <th>2</th>\n",
              "      <td>Adelie</td>\n",
              "      <td>Torgersen</td>\n",
              "      <td>40.3</td>\n",
              "      <td>18.0</td>\n",
              "      <td>195.0</td>\n",
              "      <td>3250.0</td>\n",
              "      <td>female</td>\n",
              "      <td>2007</td>\n",
              "    </tr>\n",
              "    <tr>\n",
              "      <th>3</th>\n",
              "      <td>Adelie</td>\n",
              "      <td>Torgersen</td>\n",
              "      <td>NaN</td>\n",
              "      <td>NaN</td>\n",
              "      <td>NaN</td>\n",
              "      <td>NaN</td>\n",
              "      <td>NaN</td>\n",
              "      <td>2007</td>\n",
              "    </tr>\n",
              "    <tr>\n",
              "      <th>4</th>\n",
              "      <td>Adelie</td>\n",
              "      <td>Torgersen</td>\n",
              "      <td>36.7</td>\n",
              "      <td>19.3</td>\n",
              "      <td>193.0</td>\n",
              "      <td>3450.0</td>\n",
              "      <td>female</td>\n",
              "      <td>2007</td>\n",
              "    </tr>\n",
              "  </tbody>\n",
              "</table>\n",
              "</div>\n",
              "    <div class=\"colab-df-buttons\">\n",
              "\n",
              "  <div class=\"colab-df-container\">\n",
              "    <button class=\"colab-df-convert\" onclick=\"convertToInteractive('df-4e83c252-7354-4125-a034-6a735fdf11b1')\"\n",
              "            title=\"Convert this dataframe to an interactive table.\"\n",
              "            style=\"display:none;\">\n",
              "\n",
              "  <svg xmlns=\"http://www.w3.org/2000/svg\" height=\"24px\" viewBox=\"0 -960 960 960\">\n",
              "    <path d=\"M120-120v-720h720v720H120Zm60-500h600v-160H180v160Zm220 220h160v-160H400v160Zm0 220h160v-160H400v160ZM180-400h160v-160H180v160Zm440 0h160v-160H620v160ZM180-180h160v-160H180v160Zm440 0h160v-160H620v160Z\"/>\n",
              "  </svg>\n",
              "    </button>\n",
              "\n",
              "  <style>\n",
              "    .colab-df-container {\n",
              "      display:flex;\n",
              "      gap: 12px;\n",
              "    }\n",
              "\n",
              "    .colab-df-convert {\n",
              "      background-color: #E8F0FE;\n",
              "      border: none;\n",
              "      border-radius: 50%;\n",
              "      cursor: pointer;\n",
              "      display: none;\n",
              "      fill: #1967D2;\n",
              "      height: 32px;\n",
              "      padding: 0 0 0 0;\n",
              "      width: 32px;\n",
              "    }\n",
              "\n",
              "    .colab-df-convert:hover {\n",
              "      background-color: #E2EBFA;\n",
              "      box-shadow: 0px 1px 2px rgba(60, 64, 67, 0.3), 0px 1px 3px 1px rgba(60, 64, 67, 0.15);\n",
              "      fill: #174EA6;\n",
              "    }\n",
              "\n",
              "    .colab-df-buttons div {\n",
              "      margin-bottom: 4px;\n",
              "    }\n",
              "\n",
              "    [theme=dark] .colab-df-convert {\n",
              "      background-color: #3B4455;\n",
              "      fill: #D2E3FC;\n",
              "    }\n",
              "\n",
              "    [theme=dark] .colab-df-convert:hover {\n",
              "      background-color: #434B5C;\n",
              "      box-shadow: 0px 1px 3px 1px rgba(0, 0, 0, 0.15);\n",
              "      filter: drop-shadow(0px 1px 2px rgba(0, 0, 0, 0.3));\n",
              "      fill: #FFFFFF;\n",
              "    }\n",
              "  </style>\n",
              "\n",
              "    <script>\n",
              "      const buttonEl =\n",
              "        document.querySelector('#df-4e83c252-7354-4125-a034-6a735fdf11b1 button.colab-df-convert');\n",
              "      buttonEl.style.display =\n",
              "        google.colab.kernel.accessAllowed ? 'block' : 'none';\n",
              "\n",
              "      async function convertToInteractive(key) {\n",
              "        const element = document.querySelector('#df-4e83c252-7354-4125-a034-6a735fdf11b1');\n",
              "        const dataTable =\n",
              "          await google.colab.kernel.invokeFunction('convertToInteractive',\n",
              "                                                    [key], {});\n",
              "        if (!dataTable) return;\n",
              "\n",
              "        const docLinkHtml = 'Like what you see? Visit the ' +\n",
              "          '<a target=\"_blank\" href=https://colab.research.google.com/notebooks/data_table.ipynb>data table notebook</a>'\n",
              "          + ' to learn more about interactive tables.';\n",
              "        element.innerHTML = '';\n",
              "        dataTable['output_type'] = 'display_data';\n",
              "        await google.colab.output.renderOutput(dataTable, element);\n",
              "        const docLink = document.createElement('div');\n",
              "        docLink.innerHTML = docLinkHtml;\n",
              "        element.appendChild(docLink);\n",
              "      }\n",
              "    </script>\n",
              "  </div>\n",
              "\n",
              "\n",
              "<div id=\"df-4536eaa8-8e9c-4ff6-9020-d70a6ced417d\">\n",
              "  <button class=\"colab-df-quickchart\" onclick=\"quickchart('df-4536eaa8-8e9c-4ff6-9020-d70a6ced417d')\"\n",
              "            title=\"Suggest charts\"\n",
              "            style=\"display:none;\">\n",
              "\n",
              "<svg xmlns=\"http://www.w3.org/2000/svg\" height=\"24px\"viewBox=\"0 0 24 24\"\n",
              "     width=\"24px\">\n",
              "    <g>\n",
              "        <path d=\"M19 3H5c-1.1 0-2 .9-2 2v14c0 1.1.9 2 2 2h14c1.1 0 2-.9 2-2V5c0-1.1-.9-2-2-2zM9 17H7v-7h2v7zm4 0h-2V7h2v10zm4 0h-2v-4h2v4z\"/>\n",
              "    </g>\n",
              "</svg>\n",
              "  </button>\n",
              "\n",
              "<style>\n",
              "  .colab-df-quickchart {\n",
              "      --bg-color: #E8F0FE;\n",
              "      --fill-color: #1967D2;\n",
              "      --hover-bg-color: #E2EBFA;\n",
              "      --hover-fill-color: #174EA6;\n",
              "      --disabled-fill-color: #AAA;\n",
              "      --disabled-bg-color: #DDD;\n",
              "  }\n",
              "\n",
              "  [theme=dark] .colab-df-quickchart {\n",
              "      --bg-color: #3B4455;\n",
              "      --fill-color: #D2E3FC;\n",
              "      --hover-bg-color: #434B5C;\n",
              "      --hover-fill-color: #FFFFFF;\n",
              "      --disabled-bg-color: #3B4455;\n",
              "      --disabled-fill-color: #666;\n",
              "  }\n",
              "\n",
              "  .colab-df-quickchart {\n",
              "    background-color: var(--bg-color);\n",
              "    border: none;\n",
              "    border-radius: 50%;\n",
              "    cursor: pointer;\n",
              "    display: none;\n",
              "    fill: var(--fill-color);\n",
              "    height: 32px;\n",
              "    padding: 0;\n",
              "    width: 32px;\n",
              "  }\n",
              "\n",
              "  .colab-df-quickchart:hover {\n",
              "    background-color: var(--hover-bg-color);\n",
              "    box-shadow: 0 1px 2px rgba(60, 64, 67, 0.3), 0 1px 3px 1px rgba(60, 64, 67, 0.15);\n",
              "    fill: var(--button-hover-fill-color);\n",
              "  }\n",
              "\n",
              "  .colab-df-quickchart-complete:disabled,\n",
              "  .colab-df-quickchart-complete:disabled:hover {\n",
              "    background-color: var(--disabled-bg-color);\n",
              "    fill: var(--disabled-fill-color);\n",
              "    box-shadow: none;\n",
              "  }\n",
              "\n",
              "  .colab-df-spinner {\n",
              "    border: 2px solid var(--fill-color);\n",
              "    border-color: transparent;\n",
              "    border-bottom-color: var(--fill-color);\n",
              "    animation:\n",
              "      spin 1s steps(1) infinite;\n",
              "  }\n",
              "\n",
              "  @keyframes spin {\n",
              "    0% {\n",
              "      border-color: transparent;\n",
              "      border-bottom-color: var(--fill-color);\n",
              "      border-left-color: var(--fill-color);\n",
              "    }\n",
              "    20% {\n",
              "      border-color: transparent;\n",
              "      border-left-color: var(--fill-color);\n",
              "      border-top-color: var(--fill-color);\n",
              "    }\n",
              "    30% {\n",
              "      border-color: transparent;\n",
              "      border-left-color: var(--fill-color);\n",
              "      border-top-color: var(--fill-color);\n",
              "      border-right-color: var(--fill-color);\n",
              "    }\n",
              "    40% {\n",
              "      border-color: transparent;\n",
              "      border-right-color: var(--fill-color);\n",
              "      border-top-color: var(--fill-color);\n",
              "    }\n",
              "    60% {\n",
              "      border-color: transparent;\n",
              "      border-right-color: var(--fill-color);\n",
              "    }\n",
              "    80% {\n",
              "      border-color: transparent;\n",
              "      border-right-color: var(--fill-color);\n",
              "      border-bottom-color: var(--fill-color);\n",
              "    }\n",
              "    90% {\n",
              "      border-color: transparent;\n",
              "      border-bottom-color: var(--fill-color);\n",
              "    }\n",
              "  }\n",
              "</style>\n",
              "\n",
              "  <script>\n",
              "    async function quickchart(key) {\n",
              "      const quickchartButtonEl =\n",
              "        document.querySelector('#' + key + ' button');\n",
              "      quickchartButtonEl.disabled = true;  // To prevent multiple clicks.\n",
              "      quickchartButtonEl.classList.add('colab-df-spinner');\n",
              "      try {\n",
              "        const charts = await google.colab.kernel.invokeFunction(\n",
              "            'suggestCharts', [key], {});\n",
              "      } catch (error) {\n",
              "        console.error('Error during call to suggestCharts:', error);\n",
              "      }\n",
              "      quickchartButtonEl.classList.remove('colab-df-spinner');\n",
              "      quickchartButtonEl.classList.add('colab-df-quickchart-complete');\n",
              "    }\n",
              "    (() => {\n",
              "      let quickchartButtonEl =\n",
              "        document.querySelector('#df-4536eaa8-8e9c-4ff6-9020-d70a6ced417d button');\n",
              "      quickchartButtonEl.style.display =\n",
              "        google.colab.kernel.accessAllowed ? 'block' : 'none';\n",
              "    })();\n",
              "  </script>\n",
              "</div>\n",
              "\n",
              "    </div>\n",
              "  </div>\n"
            ],
            "application/vnd.google.colaboratory.intrinsic+json": {
              "type": "dataframe",
              "variable_name": "penguins",
              "summary": "{\n  \"name\": \"penguins\",\n  \"rows\": 344,\n  \"fields\": [\n    {\n      \"column\": \"species\",\n      \"properties\": {\n        \"dtype\": \"category\",\n        \"num_unique_values\": 3,\n        \"samples\": [\n          \"Adelie\",\n          \"Gentoo\",\n          \"Chinstrap\"\n        ],\n        \"semantic_type\": \"\",\n        \"description\": \"\"\n      }\n    },\n    {\n      \"column\": \"island\",\n      \"properties\": {\n        \"dtype\": \"category\",\n        \"num_unique_values\": 3,\n        \"samples\": [\n          \"Torgersen\",\n          \"Biscoe\",\n          \"Dream\"\n        ],\n        \"semantic_type\": \"\",\n        \"description\": \"\"\n      }\n    },\n    {\n      \"column\": \"bill_length_mm\",\n      \"properties\": {\n        \"dtype\": \"number\",\n        \"std\": 5.4595837139265315,\n        \"min\": 32.1,\n        \"max\": 59.6,\n        \"num_unique_values\": 164,\n        \"samples\": [\n          49.4,\n          43.8,\n          43.4\n        ],\n        \"semantic_type\": \"\",\n        \"description\": \"\"\n      }\n    },\n    {\n      \"column\": \"bill_depth_mm\",\n      \"properties\": {\n        \"dtype\": \"number\",\n        \"std\": 1.9747931568167818,\n        \"min\": 13.1,\n        \"max\": 21.5,\n        \"num_unique_values\": 80,\n        \"samples\": [\n          16.9,\n          18.7,\n          18.6\n        ],\n        \"semantic_type\": \"\",\n        \"description\": \"\"\n      }\n    },\n    {\n      \"column\": \"flipper_length_mm\",\n      \"properties\": {\n        \"dtype\": \"number\",\n        \"std\": 14.061713679356888,\n        \"min\": 172.0,\n        \"max\": 231.0,\n        \"num_unique_values\": 55,\n        \"samples\": [\n          201.0,\n          180.0,\n          211.0\n        ],\n        \"semantic_type\": \"\",\n        \"description\": \"\"\n      }\n    },\n    {\n      \"column\": \"body_mass_g\",\n      \"properties\": {\n        \"dtype\": \"number\",\n        \"std\": 801.9545356980958,\n        \"min\": 2700.0,\n        \"max\": 6300.0,\n        \"num_unique_values\": 94,\n        \"samples\": [\n          4350.0,\n          4150.0,\n          5700.0\n        ],\n        \"semantic_type\": \"\",\n        \"description\": \"\"\n      }\n    },\n    {\n      \"column\": \"sex\",\n      \"properties\": {\n        \"dtype\": \"category\",\n        \"num_unique_values\": 2,\n        \"samples\": [\n          \"female\",\n          \"male\"\n        ],\n        \"semantic_type\": \"\",\n        \"description\": \"\"\n      }\n    },\n    {\n      \"column\": \"year\",\n      \"properties\": {\n        \"dtype\": \"number\",\n        \"std\": 0,\n        \"min\": 2007,\n        \"max\": 2009,\n        \"num_unique_values\": 3,\n        \"samples\": [\n          2007,\n          2008\n        ],\n        \"semantic_type\": \"\",\n        \"description\": \"\"\n      }\n    }\n  ]\n}"
            }
          },
          "metadata": {},
          "execution_count": 3
        }
      ]
    },
    {
      "cell_type": "code",
      "source": [
        "penguins = pd.get_dummies(penguins)"
      ],
      "metadata": {
        "id": "mnIUsXcDSGga"
      },
      "execution_count": null,
      "outputs": []
    },
    {
      "cell_type": "markdown",
      "source": [
        "Let's use the other variables to predict `bill_depth_mm`. Prepare your data and fit the following models on a training dataset subset of the entire dataset:\n",
        "\n",
        "* Four different models, each containing a different set of predictor variables\n",
        "\n",
        "Create a plot like the right plot of Fig 1. in our `Model Validation` chapter with the training and test error plotted for each of your four models.\n",
        "\n",
        "Which of your models was best?"
      ],
      "metadata": {
        "id": "TT1MVgaKm_gX"
      }
    },
    {
      "cell_type": "markdown",
      "source": [
        "## Testing models with different number of parameters"
      ],
      "metadata": {
        "id": "ZYg4XIVNSwfX"
      }
    },
    {
      "cell_type": "code",
      "source": [
        "# Step 1. Import packages and clean the data - dropna\n",
        "import sklearn\n",
        "import numpy as np\n",
        "from sklearn.linear_model import LinearRegression # use LR for now\n",
        "from sklearn.metrics import r2_score, mean_squared_error\n",
        "from sklearn.model_selection import train_test_split"
      ],
      "metadata": {
        "id": "tjuOvH63LQ2b"
      },
      "execution_count": null,
      "outputs": []
    },
    {
      "cell_type": "code",
      "source": [
        "# cleaning the data\n",
        "penguins = penguins.dropna()"
      ],
      "metadata": {
        "id": "4OSc3I8ScW_Z"
      },
      "execution_count": null,
      "outputs": []
    },
    {
      "cell_type": "markdown",
      "source": [
        "## MODELS"
      ],
      "metadata": {
        "id": "YOuFolrETNv-"
      }
    },
    {
      "cell_type": "markdown",
      "source": [
        "## Model 1: *bill_length_mm, body_mass_g*\n",
        "\n",
        "---"
      ],
      "metadata": {
        "id": "tf8U9fQmda6L"
      }
    },
    {
      "cell_type": "code",
      "source": [
        "# defining variables of the model\n",
        "X = penguins[[\"bill_length_mm\", \"body_mass_g\"]]\n",
        "y = penguins[\"bill_depth_mm\"]"
      ],
      "metadata": {
        "id": "BAX3QPkMclbU"
      },
      "execution_count": null,
      "outputs": []
    },
    {
      "cell_type": "code",
      "source": [
        "# shortcut name for the model\n",
        "lr = LinearRegression()"
      ],
      "metadata": {
        "id": "Pawc65WTc3uq"
      },
      "execution_count": null,
      "outputs": []
    },
    {
      "cell_type": "code",
      "source": [
        "# splitting the data into train and test datasets\n",
        "X_train, X_test, y_train, y_test = train_test_split(X, y, test_size=0.25)"
      ],
      "metadata": {
        "id": "NIE0zd9sc-xr"
      },
      "execution_count": null,
      "outputs": []
    },
    {
      "cell_type": "code",
      "source": [
        "# training the model\n",
        "m1 = lr.fit(X_train, y_train)"
      ],
      "metadata": {
        "id": "BJP8x-dhdIAj"
      },
      "execution_count": null,
      "outputs": []
    },
    {
      "cell_type": "code",
      "source": [
        "m1.score(X_train, y_train)"
      ],
      "metadata": {
        "colab": {
          "base_uri": "https://localhost:8080/"
        },
        "id": "up2887p5doDV",
        "outputId": "35dbc6c7-9246-4ac1-e79e-399d397b8eb4"
      },
      "execution_count": null,
      "outputs": [
        {
          "output_type": "execute_result",
          "data": {
            "text/plain": [
              "0.24337455071002922"
            ]
          },
          "metadata": {},
          "execution_count": 11
        }
      ]
    },
    {
      "cell_type": "code",
      "source": [
        "# predicting Y based on training dataset X_train\n",
        "Y_train_pred_m1 = m1.predict(X_train)"
      ],
      "metadata": {
        "id": "IX11AhwCfmCn"
      },
      "execution_count": null,
      "outputs": []
    },
    {
      "cell_type": "code",
      "source": [
        "# R-squared and MSE for Y_train_pred\n",
        "r2_m1_train = r2_score(y_train, Y_train_pred_m1)\n",
        "mse_m1_train = mean_squared_error(y_train, Y_train_pred_m1)"
      ],
      "metadata": {
        "id": "I10M-f0VgCQw"
      },
      "execution_count": null,
      "outputs": []
    },
    {
      "cell_type": "code",
      "source": [
        "# testing the model\n",
        "Y_test_pred_m1 = m1.predict(X_test)"
      ],
      "metadata": {
        "id": "jwQFVvEGd03E"
      },
      "execution_count": null,
      "outputs": []
    },
    {
      "cell_type": "code",
      "source": [
        "# R-squared and MSE for Model 1:\n",
        "r2_m1_test = r2_score(y_test, Y_test_pred_m1)\n",
        "mse_m1_test = mean_squared_error(y_test, Y_test_pred_m1)"
      ],
      "metadata": {
        "id": "TyJzMnwGes2C"
      },
      "execution_count": null,
      "outputs": []
    },
    {
      "cell_type": "code",
      "source": [
        "print(f\"R-squared M1 train: {r2_m1_train}\")\n",
        "print(f\"MSE LR train: {mse_m1_train}\")"
      ],
      "metadata": {
        "colab": {
          "base_uri": "https://localhost:8080/"
        },
        "id": "B8sy6sIFgNc4",
        "outputId": "d07910f0-75c5-4e23-b740-6bed07486552"
      },
      "execution_count": null,
      "outputs": [
        {
          "output_type": "stream",
          "name": "stdout",
          "text": [
            "R-squared M1 train: 0.24337455071002922\n",
            "MSE LR train: 2.8630584160330788\n"
          ]
        }
      ]
    },
    {
      "cell_type": "code",
      "source": [
        "print(f\"R-squared M1 test: {r2_m1_test}\")\n",
        "print(f\"MSE LR test: {mse_m1_test}\")"
      ],
      "metadata": {
        "colab": {
          "base_uri": "https://localhost:8080/"
        },
        "id": "27FOncrBe8bb",
        "outputId": "36164659-dd01-41e9-8b1b-628df0bbef42"
      },
      "execution_count": null,
      "outputs": [
        {
          "output_type": "stream",
          "name": "stdout",
          "text": [
            "R-squared M1 test: 0.1787199341114165\n",
            "MSE LR test: 3.4487155660246365\n"
          ]
        }
      ]
    },
    {
      "cell_type": "markdown",
      "source": [
        "## Model 2: *bill_length_mm, species*\n",
        "\n",
        "---"
      ],
      "metadata": {
        "id": "piJFE0oKVJP3"
      }
    },
    {
      "cell_type": "code",
      "source": [
        "# defining variables of the model\n",
        "X2 = penguins[[\"bill_length_mm\", \"species_Adelie\", \"species_Chinstrap\", \"species_Gentoo\"]]\n",
        "y = penguins[\"bill_depth_mm\"]"
      ],
      "metadata": {
        "id": "o9hRPnZmVJP9"
      },
      "execution_count": null,
      "outputs": []
    },
    {
      "cell_type": "code",
      "source": [
        "# splitting the data into train and test datasets\n",
        "X_train, X_test, y_train, y_test = train_test_split(X2, y, test_size=0.25)"
      ],
      "metadata": {
        "id": "YxcHQn-TVJP9"
      },
      "execution_count": null,
      "outputs": []
    },
    {
      "cell_type": "code",
      "source": [
        "# training the model\n",
        "m2 = lr.fit(X_train, y_train)"
      ],
      "metadata": {
        "id": "NAMfJ27MVJP9"
      },
      "execution_count": null,
      "outputs": []
    },
    {
      "cell_type": "code",
      "source": [
        "m2.score(X_train, y_train)"
      ],
      "metadata": {
        "colab": {
          "base_uri": "https://localhost:8080/"
        },
        "outputId": "1819efb5-0e8c-4bbd-a9de-9e8bfac49e44",
        "id": "UJOdCXRXVJP9"
      },
      "execution_count": null,
      "outputs": [
        {
          "output_type": "execute_result",
          "data": {
            "text/plain": [
              "0.7869869996891681"
            ]
          },
          "metadata": {},
          "execution_count": 21
        }
      ]
    },
    {
      "cell_type": "code",
      "source": [
        "# predicting Y based on training dataset X_train\n",
        "Y_train_pred_m2 = m2.predict(X_train)"
      ],
      "metadata": {
        "id": "cXq8KNF5VJP9"
      },
      "execution_count": null,
      "outputs": []
    },
    {
      "cell_type": "code",
      "source": [
        "# R-squared and MSE for Y_train_pred\n",
        "r2_m2_train = r2_score(y_train, Y_train_pred_m2)\n",
        "mse_m2_train = mean_squared_error(y_train, Y_train_pred_m2)"
      ],
      "metadata": {
        "id": "mPuXz-NQVJP9"
      },
      "execution_count": null,
      "outputs": []
    },
    {
      "cell_type": "code",
      "source": [
        "# testing the model\n",
        "Y_test_pred_m2 = m2.predict(X_test)"
      ],
      "metadata": {
        "id": "aUNJZJziVJP9"
      },
      "execution_count": null,
      "outputs": []
    },
    {
      "cell_type": "code",
      "source": [
        "# R-squared and MSE for Model 2:\n",
        "r2_m2_test = r2_score(y_test, Y_test_pred_m2)\n",
        "mse_m2_test = mean_squared_error(y_test, Y_test_pred_m2)"
      ],
      "metadata": {
        "id": "gE7v7yWzVJP9"
      },
      "execution_count": null,
      "outputs": []
    },
    {
      "cell_type": "code",
      "source": [
        "print(f\"R-squared M2 train: {r2_m2_train}\")\n",
        "print(f\"MSE M2 train: {mse_m2_train}\")"
      ],
      "metadata": {
        "colab": {
          "base_uri": "https://localhost:8080/"
        },
        "outputId": "0ed90c7f-7180-46aa-f1b8-1d40d6c394a8",
        "id": "pwE4tc3oVJP-"
      },
      "execution_count": null,
      "outputs": [
        {
          "output_type": "stream",
          "name": "stdout",
          "text": [
            "R-squared M2 train: 0.7869869996891681\n",
            "MSE M2 train: 0.8122885885881059\n"
          ]
        }
      ]
    },
    {
      "cell_type": "code",
      "source": [
        "print(f\"R-squared M2 test: {r2_m2_test}\")\n",
        "print(f\"MSE M2 test: {mse_m2_test}\")"
      ],
      "metadata": {
        "colab": {
          "base_uri": "https://localhost:8080/"
        },
        "outputId": "efbe1c8a-9d62-451e-fdcb-ab894b34d981",
        "id": "yKy0eXFhVJP-"
      },
      "execution_count": null,
      "outputs": [
        {
          "output_type": "stream",
          "name": "stdout",
          "text": [
            "R-squared M2 test: 0.7165635230871122\n",
            "MSE M2 test: 1.1649346505356488\n"
          ]
        }
      ]
    },
    {
      "cell_type": "markdown",
      "source": [
        "## Model 3: interaction bill_length * flipper length\n",
        "\n",
        "---\n",
        "\n"
      ],
      "metadata": {
        "id": "-atKwAnMW7u6"
      }
    },
    {
      "cell_type": "code",
      "source": [
        "penguins['bl_fl'] = penguins['bill_length_mm'] * penguins['flipper_length_mm']"
      ],
      "metadata": {
        "id": "TDoMFiS_W5r5"
      },
      "execution_count": null,
      "outputs": []
    },
    {
      "cell_type": "code",
      "source": [
        "# defining variables of the model\n",
        "X3 = penguins[[\"bill_length_mm\", \"flipper_length_mm\", \"bl_fl\"]]\n",
        "y = penguins[\"bill_depth_mm\"]"
      ],
      "metadata": {
        "id": "FPU2uGDI1Kae"
      },
      "execution_count": null,
      "outputs": []
    },
    {
      "cell_type": "code",
      "source": [
        "# splitting the data into train and test datasets\n",
        "X_train, X_test, y_train, y_test = train_test_split(X3, y, test_size=0.25)"
      ],
      "metadata": {
        "id": "-SkR5MiY1Kaf"
      },
      "execution_count": null,
      "outputs": []
    },
    {
      "cell_type": "code",
      "source": [
        "# training the model\n",
        "m3 = lr.fit(X_train, y_train)"
      ],
      "metadata": {
        "id": "H6ZvYsnZ1Kaf"
      },
      "execution_count": null,
      "outputs": []
    },
    {
      "cell_type": "code",
      "source": [
        "m3.score(X_train, y_train)"
      ],
      "metadata": {
        "colab": {
          "base_uri": "https://localhost:8080/"
        },
        "outputId": "627dbb58-de08-409e-fa80-fae088c3eff2",
        "id": "fXBAhWzF1Kaf"
      },
      "execution_count": null,
      "outputs": [
        {
          "output_type": "execute_result",
          "data": {
            "text/plain": [
              "0.38463382829887793"
            ]
          },
          "metadata": {},
          "execution_count": 32
        }
      ]
    },
    {
      "cell_type": "code",
      "source": [
        "# predicting Y based on training dataset X_train\n",
        "Y_train_pred_m3 = m3.predict(X_train)"
      ],
      "metadata": {
        "id": "l5rWD-Y91Kaf"
      },
      "execution_count": null,
      "outputs": []
    },
    {
      "cell_type": "code",
      "source": [
        "# R-squared and MSE for Y_train_pred\n",
        "r2_m3_train = r2_score(y_train, Y_train_pred_m3)\n",
        "mse_m3_train = mean_squared_error(y_train, Y_train_pred_m3)"
      ],
      "metadata": {
        "id": "7D2zcPQG1Kaf"
      },
      "execution_count": null,
      "outputs": []
    },
    {
      "cell_type": "code",
      "source": [
        "# testing the model\n",
        "Y_test_pred_m3 = m3.predict(X_test)"
      ],
      "metadata": {
        "id": "_WXIMu541Kaf"
      },
      "execution_count": null,
      "outputs": []
    },
    {
      "cell_type": "code",
      "source": [
        "# R-squared and MSE for Model 2:\n",
        "r2_m3_test = r2_score(y_test, Y_test_pred_m3)\n",
        "mse_m3_test = mean_squared_error(y_test, Y_test_pred_m3)"
      ],
      "metadata": {
        "id": "S_4f6ZXk1Kaf"
      },
      "execution_count": null,
      "outputs": []
    },
    {
      "cell_type": "code",
      "source": [
        "print(f\"R-squared M3 train: {r2_m3_train}\")\n",
        "print(f\"MSE M3 train: {mse_m3_train}\")"
      ],
      "metadata": {
        "colab": {
          "base_uri": "https://localhost:8080/"
        },
        "outputId": "e80d84ef-846e-4358-ce42-f72deacb0f6e",
        "id": "UO2NeU8c1Kaf"
      },
      "execution_count": null,
      "outputs": [
        {
          "output_type": "stream",
          "name": "stdout",
          "text": [
            "R-squared M3 train: 0.38463382829887793\n",
            "MSE M3 train: 2.407079203708867\n"
          ]
        }
      ]
    },
    {
      "cell_type": "code",
      "source": [
        "print(f\"R-squared M3 test: {r2_m3_test}\")\n",
        "print(f\"MSE M3 test: {mse_m3_test}\")"
      ],
      "metadata": {
        "colab": {
          "base_uri": "https://localhost:8080/"
        },
        "outputId": "e2117fb3-8d76-4f8b-936b-4724e9ab2b5b",
        "id": "RcoiSU4I1Kaf"
      },
      "execution_count": null,
      "outputs": [
        {
          "output_type": "stream",
          "name": "stdout",
          "text": [
            "R-squared M3 test: 0.28705161681143665\n",
            "MSE M3 test: 2.4621897981185645\n"
          ]
        }
      ]
    },
    {
      "cell_type": "markdown",
      "source": [
        "## Model 4: more predictors and interaction on dychotomous variable  'body_mass_g', 'flipper_length', 'sex_female', 'sex_female'*'body_mass_g'\n",
        "---\n",
        "\n"
      ],
      "metadata": {
        "id": "olSvrOwh2r6w"
      }
    },
    {
      "cell_type": "code",
      "source": [
        "penguins['sf_bm'] = penguins['sex_female'] * penguins['body_mass_g']"
      ],
      "metadata": {
        "id": "fyMk-26r2l1p"
      },
      "execution_count": null,
      "outputs": []
    },
    {
      "cell_type": "code",
      "source": [
        "# penguins.head()"
      ],
      "metadata": {
        "id": "hM57cN4p2yxi"
      },
      "execution_count": null,
      "outputs": []
    },
    {
      "cell_type": "code",
      "source": [
        "# defining variables of the model\n",
        "X4 = penguins[[\"body_mass_g\", \"flipper_length_mm\", \"sex_female\", \"sf_bm\"]]\n",
        "y = penguins[\"bill_depth_mm\"]"
      ],
      "metadata": {
        "id": "xYob9XLK2l1x"
      },
      "execution_count": null,
      "outputs": []
    },
    {
      "cell_type": "code",
      "source": [
        "# splitting the data into train and test datasets\n",
        "X_train, X_test, y_train, y_test = train_test_split(X4, y, test_size=0.25)"
      ],
      "metadata": {
        "id": "0GbyFNLb2l1x"
      },
      "execution_count": null,
      "outputs": []
    },
    {
      "cell_type": "code",
      "source": [
        "# training the model\n",
        "m4 = lr.fit(X_train, y_train)"
      ],
      "metadata": {
        "id": "_4_32Wdk2l1x"
      },
      "execution_count": null,
      "outputs": []
    },
    {
      "cell_type": "code",
      "source": [
        "m4.score(X_train, y_train)"
      ],
      "metadata": {
        "colab": {
          "base_uri": "https://localhost:8080/"
        },
        "outputId": "5eb4ac0f-4679-4239-d527-6ddd3db2f79f",
        "id": "s7FDyXdV2l1x"
      },
      "execution_count": null,
      "outputs": [
        {
          "output_type": "execute_result",
          "data": {
            "text/plain": [
              "0.62872288269883"
            ]
          },
          "metadata": {},
          "execution_count": 46
        }
      ]
    },
    {
      "cell_type": "code",
      "source": [
        "# predicting Y based on training dataset X_train\n",
        "Y_train_pred_m4 = m4.predict(X_train)"
      ],
      "metadata": {
        "id": "X_O1DRkb2l1x"
      },
      "execution_count": null,
      "outputs": []
    },
    {
      "cell_type": "code",
      "source": [
        "# R-squared and MSE for Y_train_pred\n",
        "r2_m4_train = r2_score(y_train, Y_train_pred_m4)\n",
        "mse_m4_train = mean_squared_error(y_train, Y_train_pred_m4)"
      ],
      "metadata": {
        "id": "1CzJaCL02l1x"
      },
      "execution_count": null,
      "outputs": []
    },
    {
      "cell_type": "code",
      "source": [
        "# testing the model\n",
        "Y_test_pred_m4 = m4.predict(X_test)"
      ],
      "metadata": {
        "id": "78PVWuxB2l1x"
      },
      "execution_count": null,
      "outputs": []
    },
    {
      "cell_type": "code",
      "source": [
        "# R-squared and MSE for Model 2:\n",
        "r2_m4_test = r2_score(y_test, Y_test_pred_m4)\n",
        "mse_m4_test = mean_squared_error(y_test, Y_test_pred_m4)"
      ],
      "metadata": {
        "id": "lq7niClw2l1x"
      },
      "execution_count": null,
      "outputs": []
    },
    {
      "cell_type": "code",
      "source": [
        "print(f\"R-squared M4 train: {r2_m4_train}\")\n",
        "print(f\"MSE M4 train: {mse_m4_train}\")"
      ],
      "metadata": {
        "colab": {
          "base_uri": "https://localhost:8080/"
        },
        "outputId": "0d653792-7d4d-4548-dfa0-8bacc5f4180a",
        "id": "gph2GBiS2l1x"
      },
      "execution_count": null,
      "outputs": [
        {
          "output_type": "stream",
          "name": "stdout",
          "text": [
            "R-squared M4 train: 0.62872288269883\n",
            "MSE M4 train: 1.36233769331737\n"
          ]
        }
      ]
    },
    {
      "cell_type": "code",
      "source": [
        "print(f\"R-squared M4 test: {r2_m4_test}\")\n",
        "print(f\"MSE M4 test: {mse_m4_test}\")"
      ],
      "metadata": {
        "colab": {
          "base_uri": "https://localhost:8080/"
        },
        "outputId": "73e17ea1-1e4b-43f8-a477-6d6ca75cf092",
        "id": "SLdzFgyN2l1x"
      },
      "execution_count": null,
      "outputs": [
        {
          "output_type": "stream",
          "name": "stdout",
          "text": [
            "R-squared M4 test: 0.5911497292474592\n",
            "MSE M4 test: 1.749764176592215\n"
          ]
        }
      ]
    },
    {
      "cell_type": "markdown",
      "source": [
        "Summarizing four models results into dataframes"
      ],
      "metadata": {
        "id": "8bwcONpnFXez"
      }
    },
    {
      "cell_type": "code",
      "source": [
        "r_squared_results = pd.DataFrame({\n",
        "    \"Model\": [\"Model 1\", \"Model 1\", \"Model 2\", \"Model 2\", \"Model 3\", \"Model 3\", \"Model 4\", \"Model 4\"],\n",
        "    \"Dataset\": [\"Train\", \"Test\", \"Train\", \"Test\", \"Train\", \"Test\", \"Train\", \"Test\"],\n",
        "    \"R-squared\": [r2_m1_train, r2_m1_test, r2_m2_train, r2_m2_test, r2_m3_train, r2_m3_test, r2_m4_train, r2_m4_test]\n",
        "})\n",
        "print(r_squared_results)"
      ],
      "metadata": {
        "colab": {
          "base_uri": "https://localhost:8080/"
        },
        "id": "rkL-cNEoAWIV",
        "outputId": "523ebb94-622a-4859-878f-eff78f3f6b71"
      },
      "execution_count": null,
      "outputs": [
        {
          "output_type": "stream",
          "name": "stdout",
          "text": [
            "     Model Dataset  R-squared\n",
            "0  Model 1   Train   0.243375\n",
            "1  Model 1    Test   0.178720\n",
            "2  Model 2   Train   0.786987\n",
            "3  Model 2    Test   0.716564\n",
            "4  Model 3   Train   0.384634\n",
            "5  Model 3    Test   0.287052\n",
            "6  Model 4   Train   0.628723\n",
            "7  Model 4    Test   0.591150\n"
          ]
        }
      ]
    },
    {
      "cell_type": "code",
      "source": [
        "mse_results = pd.DataFrame({\n",
        "    \"Model\": [\"Model 1\", \"Model 1\", \"Model 2\", \"Model 2\", \"Model 3\", \"Model 3\", \"Model 4\", \"Model 4\"],\n",
        "    \"Dataset\": [\"Train\", \"Test\", \"Train\", \"Test\", \"Train\", \"Test\", \"Train\", \"Test\"],\n",
        "    \"MSE\": [mse_m1_train, mse_m1_test, mse_m2_train, mse_m2_test, mse_m3_train, mse_m3_test, mse_m4_train, mse_m4_test]\n",
        "})\n",
        "print(mse_results)"
      ],
      "metadata": {
        "colab": {
          "base_uri": "https://localhost:8080/"
        },
        "id": "4opjWpMT_2Ei",
        "outputId": "caca2a1d-a4e8-4320-865a-a2d0e9ca4820"
      },
      "execution_count": null,
      "outputs": [
        {
          "output_type": "stream",
          "name": "stdout",
          "text": [
            "     Model Dataset       MSE\n",
            "0  Model 1   Train  2.863058\n",
            "1  Model 1    Test  3.448716\n",
            "2  Model 2   Train  0.812289\n",
            "3  Model 2    Test  1.164935\n",
            "4  Model 3   Train  2.407079\n",
            "5  Model 3    Test  2.462190\n",
            "6  Model 4   Train  1.362338\n",
            "7  Model 4    Test  1.749764\n"
          ]
        }
      ]
    },
    {
      "cell_type": "markdown",
      "source": [
        "## Plotting of models results\n",
        "\n",
        "---"
      ],
      "metadata": {
        "id": "zOKBM66x4aTk"
      }
    },
    {
      "cell_type": "code",
      "source": [
        "# Visualziation of the results # assisted with ChatGPT\n",
        "from plotnine import *"
      ],
      "metadata": {
        "id": "ds-qVun8CCN6"
      },
      "execution_count": null,
      "outputs": []
    },
    {
      "cell_type": "code",
      "source": [
        "# Plot of Train & Test R-squared for each Model\n",
        "(ggplot(r_squared_results, aes(x='Model', y='R-squared', color='Dataset', shape='Dataset'))\n",
        "    + geom_point(aes(group='Model'),size=3)\n",
        "    + geom_line(aes(group='Dataset'), size=1)\n",
        "    + labs(title='R-squared by Model, Train vs Test data', x='Model', y='R-squared')\n",
        "    + theme_minimal()\n",
        "    + scale_color_manual(values={'Train': 'blue', 'Test': 'orange'})\n",
        ")"
      ],
      "metadata": {
        "colab": {
          "base_uri": "https://localhost:8080/",
          "height": 497
        },
        "id": "JkvdzHTdG491",
        "outputId": "a976df3e-14c7-4465-f1db-280baf677141"
      },
      "execution_count": null,
      "outputs": [
        {
          "output_type": "display_data",
          "data": {
            "image/png": "[encoded data removed]"
          },
          "metadata": {
            "image/png": {
              "width": 640,
              "height": 480
            }
          }
        }
      ]
    },
    {
      "cell_type": "code",
      "source": [
        "# MSE Plot\n",
        "(ggplot(mse_results, aes(x='Model', y='MSE', color='Dataset', shape='Dataset'))\n",
        "    + geom_point(aes(group='Dataset'),size=3)\n",
        "    + geom_line(aes(group='Dataset'), size=1)\n",
        "    + labs(title='Mean Squared Error by Model, Train vs Test data', x='Model', y='Mean Squared Error')\n",
        "    + theme_minimal()\n",
        "    + scale_color_manual(values={'Train': 'blue', 'Test': 'red'})\n",
        ")\n"
      ],
      "metadata": {
        "colab": {
          "base_uri": "https://localhost:8080/",
          "height": 497
        },
        "id": "o8P4sFCyGMQV",
        "outputId": "97993c37-5763-4c12-eb55-4503509a7b40"
      },
      "execution_count": null,
      "outputs": [
        {
          "output_type": "display_data",
          "data": {
            "image/png": "[encoded data removed]"
          },
          "metadata": {
            "image/png": {
              "width": 640,
              "height": 480
            }
          }
        }
      ]
    },
    {
      "cell_type": "markdown",
      "source": [
        "Answer:\n",
        "---\n",
        "\n",
        "Based on the R-squared and MSE results of the four tested models (also visible on the plots) - Model 2 (*bill_length_mm, species*), appears to be the most efficient and robust in predicting the bill_depth of a penguin from the dataset. This model scores the highest R-squared on both train and (even higher) on test data, while has the lowest MSE on both data samples. Model 4 is a runner-up with slightly worse results on both metrics and data samples. While Model 1 and 3 performed the lowest on according to these metrics."
      ],
      "metadata": {
        "id": "qZGQODKgM2Sh"
      }
    }
  ]
}