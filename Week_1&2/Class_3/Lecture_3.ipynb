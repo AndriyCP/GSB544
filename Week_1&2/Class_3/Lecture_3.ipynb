{
 "cells": [
  {
   "cell_type": "markdown",
   "metadata": {},
   "source": [
    "Lecture 3\n",
    "# Data Visualization in Python - plotnine\n",
    "# https://ds-ml-with-python.github.io/Course-Textbook/02-plotnine.html"
   ]
  },
  {
   "cell_type": "code",
   "execution_count": null,
   "metadata": {},
   "outputs": [],
   "source": [
    "pip install pandas"
   ]
  },
  {
   "cell_type": "code",
   "execution_count": null,
   "metadata": {},
   "outputs": [],
   "source": []
  },
  {
   "cell_type": "code",
   "execution_count": null,
   "metadata": {},
   "outputs": [],
   "source": [
    "import pandas as pd\n",
    "\n",
    "# option 1 to import plotnine and alias, then to have to use alias every time to call a function\n",
    "import plotnine as p9\n",
    "\n",
    "# option 2 - specify functions that you want to import from package to further call without alias\n",
    "from plotnine import ggplot, geop,_point, aes, geom_boxplot\n",
    "\n",
    "# option 3 - import all from plotnine, risk of importing & overwriting same name functions from other packages\n",
    "from plotnine import *\n"
   ]
  },
  {
   "cell_type": "code",
   "execution_count": null,
   "metadata": {},
   "outputs": [],
   "source": [
    "# geom_* to call any plot function\n",
    "# scales x and y axes: + scale_reverse_y()\n",
    "# colors: themes (fill outside of function = \"specific color\" overwrites fill inside the function)"
   ]
  }
 ],
 "metadata": {
  "language_info": {
   "name": "python"
  }
 },
 "nbformat": 4,
 "nbformat_minor": 2
}
