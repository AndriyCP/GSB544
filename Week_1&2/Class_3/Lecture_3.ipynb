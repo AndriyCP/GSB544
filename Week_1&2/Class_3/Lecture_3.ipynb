{
 "cells": [
  {
   "cell_type": "markdown",
   "metadata": {},
   "source": [
    "Lecture 3\n",
    "# Data Visualization in Python - plotnine\n",
    "### https://ds-ml-with-python.github.io/Course-Textbook/02-plotnine.html"
   ]
  },
  {
   "cell_type": "code",
   "execution_count": 1,
   "metadata": {},
   "outputs": [
    {
     "ename": "ImportError",
     "evalue": "cannot import name 'geop' from 'plotnine' (/Library/Frameworks/Python.framework/Versions/3.12/lib/python3.12/site-packages/plotnine/__init__.py)",
     "output_type": "error",
     "traceback": [
      "\u001b[0;31m---------------------------------------------------------------------------\u001b[0m\n",
      "\u001b[0;31mImportError\u001b[0m                               Traceback (most recent call last)\n",
      "Cell \u001b[0;32mIn[1], line 7\u001b[0m\n",
      "\u001b[1;32m      4\u001b[0m \u001b[38;5;28;01mimport\u001b[39;00m \u001b[38;5;21;01mplotnine\u001b[39;00m \u001b[38;5;28;01mas\u001b[39;00m \u001b[38;5;21;01mp9\u001b[39;00m\n",
      "\u001b[1;32m      6\u001b[0m \u001b[38;5;66;03m# option 2 - specify functions that you want to import from package to further call without alias\u001b[39;00m\n",
      "\u001b[0;32m----> 7\u001b[0m \u001b[38;5;28;01mfrom\u001b[39;00m \u001b[38;5;21;01mplotnine\u001b[39;00m \u001b[38;5;28;01mimport\u001b[39;00m ggplot, geop,_point, aes, geom_boxplot\n",
      "\u001b[1;32m      9\u001b[0m \u001b[38;5;66;03m# option 3 - import all from plotnine, risk of importing & overwriting same name functions from other packages\u001b[39;00m\n",
      "\u001b[1;32m     10\u001b[0m \u001b[38;5;28;01mfrom\u001b[39;00m \u001b[38;5;21;01mplotnine\u001b[39;00m \u001b[38;5;28;01mimport\u001b[39;00m \u001b[38;5;241m*\u001b[39m\n",
      "\n",
      "\u001b[0;31mImportError\u001b[0m: cannot import name 'geop' from 'plotnine' (/Library/Frameworks/Python.framework/Versions/3.12/lib/python3.12/site-packages/plotnine/__init__.py)"
     ]
    }
   ],
   "source": [
    "import pandas as pd\n",
    "\n",
    "# option 1 to import plotnine and alias, then to have to use alias every time to call a function\n",
    "import plotnine as p9\n",
    "\n",
    "# option 2 - specify functions that you want to import from package to further call without alias\n",
    "from plotnine import ggplot, geop,_point, aes, geom_boxplot\n",
    "\n",
    "# option 3 - import all from plotnine, risk of importing & overwriting same name functions from other packages\n",
    "from plotnine import *\n"
   ]
  },
  {
   "cell_type": "code",
   "execution_count": null,
   "metadata": {},
   "outputs": [],
   "source": [
    "# geom_* to call any plot function\n",
    "# scales x and y axes: + scale_reverse_y()\n",
    "# colors: themes (fill outside of function = \"specific color\" overwrites fill inside the function)"
   ]
  }
 ],
 "metadata": {
  "language_info": {
   "name": "python"
  }
 },
 "nbformat": 4,
 "nbformat_minor": 2
}
